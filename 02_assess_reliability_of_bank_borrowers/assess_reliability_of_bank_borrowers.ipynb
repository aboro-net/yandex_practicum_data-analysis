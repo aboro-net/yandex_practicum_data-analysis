{
  "cells": [
    {
      "cell_type": "markdown",
      "id": "386f2ae7",
      "metadata": {
        "deletable": false,
        "editable": false,
        "id": "386f2ae7"
      },
      "source": [
        "# Исследование надежности заемщиков\n"
      ]
    },
    {
      "cell_type": "markdown",
      "id": "ffe86f65",
      "metadata": {
        "deletable": false,
        "editable": false,
        "id": "ffe86f65"
      },
      "source": [
        "Во второй части проекта вы выполните шаги 3 и 4. Их вручную проверит ревьюер.\n",
        "Чтобы вам не пришлось писать код заново для шагов 1 и 2, мы добавили авторские решения в ячейки с кодом.\n",
        "\n"
      ]
    },
    {
      "cell_type": "markdown",
      "id": "26613308",
      "metadata": {
        "deletable": false,
        "editable": false,
        "id": "26613308"
      },
      "source": [
        "## Откройте таблицу и изучите общую информацию о данных"
      ]
    },
    {
      "cell_type": "markdown",
      "id": "3c9f838e",
      "metadata": {
        "deletable": false,
        "editable": false,
        "id": "3c9f838e"
      },
      "source": [
        "**Задание 1. Импортируйте библиотеку pandas. Считайте данные из csv-файла в датафрейм и сохраните в переменную `data`. Путь к файлу:**\n",
        "\n",
        "`/datasets/data.csv`"
      ]
    },
    {
      "cell_type": "code",
      "execution_count": null,
      "id": "77a68a90",
      "metadata": {
        "deletable": false,
        "id": "77a68a90"
      },
      "outputs": [],
      "source": [
        "import seaborn as sb # импортируем библиотеку seaborn\n",
        "import pandas as pd # импортируем библиотеку pandas\n",
        "\n",
        "try:\n",
        "    data = pd.read_csv('/datasets/data.csv')\n",
        "except:\n",
        "    data = pd.read_csv('https://code.s3.yandex.net/datasets/data.csv')"
      ]
    },
    {
      "cell_type": "markdown",
      "id": "45365635",
      "metadata": {
        "deletable": false,
        "editable": false,
        "id": "45365635"
      },
      "source": [
        "**Задание 2. Выведите первые 20 строчек датафрейма `data` на экран.**"
      ]
    },
    {
      "cell_type": "code",
      "execution_count": null,
      "id": "b0451a9a",
      "metadata": {
        "colab": {
          "base_uri": "https://localhost:8080/",
          "height": 677
        },
        "deletable": false,
        "id": "b0451a9a",
        "outputId": "9e76612e-fd5a-4df0-e89c-7afbbffd5220"
      },
      "outputs": [
        {
          "data": {
            "text/html": [
              "<div>\n",
              "<style scoped>\n",
              "    .dataframe tbody tr th:only-of-type {\n",
              "        vertical-align: middle;\n",
              "    }\n",
              "\n",
              "    .dataframe tbody tr th {\n",
              "        vertical-align: top;\n",
              "    }\n",
              "\n",
              "    .dataframe thead th {\n",
              "        text-align: right;\n",
              "    }\n",
              "</style>\n",
              "<table border=\"1\" class=\"dataframe\">\n",
              "  <thead>\n",
              "    <tr style=\"text-align: right;\">\n",
              "      <th></th>\n",
              "      <th>children</th>\n",
              "      <th>days_employed</th>\n",
              "      <th>dob_years</th>\n",
              "      <th>education</th>\n",
              "      <th>education_id</th>\n",
              "      <th>family_status</th>\n",
              "      <th>family_status_id</th>\n",
              "      <th>gender</th>\n",
              "      <th>income_type</th>\n",
              "      <th>debt</th>\n",
              "      <th>total_income</th>\n",
              "      <th>purpose</th>\n",
              "    </tr>\n",
              "  </thead>\n",
              "  <tbody>\n",
              "    <tr>\n",
              "      <th>0</th>\n",
              "      <td>1</td>\n",
              "      <td>-8437.673028</td>\n",
              "      <td>42</td>\n",
              "      <td>высшее</td>\n",
              "      <td>0</td>\n",
              "      <td>женат / замужем</td>\n",
              "      <td>0</td>\n",
              "      <td>F</td>\n",
              "      <td>сотрудник</td>\n",
              "      <td>0</td>\n",
              "      <td>253875.639453</td>\n",
              "      <td>покупка жилья</td>\n",
              "    </tr>\n",
              "    <tr>\n",
              "      <th>1</th>\n",
              "      <td>1</td>\n",
              "      <td>-4024.803754</td>\n",
              "      <td>36</td>\n",
              "      <td>среднее</td>\n",
              "      <td>1</td>\n",
              "      <td>женат / замужем</td>\n",
              "      <td>0</td>\n",
              "      <td>F</td>\n",
              "      <td>сотрудник</td>\n",
              "      <td>0</td>\n",
              "      <td>112080.014102</td>\n",
              "      <td>приобретение автомобиля</td>\n",
              "    </tr>\n",
              "    <tr>\n",
              "      <th>2</th>\n",
              "      <td>0</td>\n",
              "      <td>-5623.422610</td>\n",
              "      <td>33</td>\n",
              "      <td>Среднее</td>\n",
              "      <td>1</td>\n",
              "      <td>женат / замужем</td>\n",
              "      <td>0</td>\n",
              "      <td>M</td>\n",
              "      <td>сотрудник</td>\n",
              "      <td>0</td>\n",
              "      <td>145885.952297</td>\n",
              "      <td>покупка жилья</td>\n",
              "    </tr>\n",
              "    <tr>\n",
              "      <th>3</th>\n",
              "      <td>3</td>\n",
              "      <td>-4124.747207</td>\n",
              "      <td>32</td>\n",
              "      <td>среднее</td>\n",
              "      <td>1</td>\n",
              "      <td>женат / замужем</td>\n",
              "      <td>0</td>\n",
              "      <td>M</td>\n",
              "      <td>сотрудник</td>\n",
              "      <td>0</td>\n",
              "      <td>267628.550329</td>\n",
              "      <td>дополнительное образование</td>\n",
              "    </tr>\n",
              "    <tr>\n",
              "      <th>4</th>\n",
              "      <td>0</td>\n",
              "      <td>340266.072047</td>\n",
              "      <td>53</td>\n",
              "      <td>среднее</td>\n",
              "      <td>1</td>\n",
              "      <td>гражданский брак</td>\n",
              "      <td>1</td>\n",
              "      <td>F</td>\n",
              "      <td>пенсионер</td>\n",
              "      <td>0</td>\n",
              "      <td>158616.077870</td>\n",
              "      <td>сыграть свадьбу</td>\n",
              "    </tr>\n",
              "    <tr>\n",
              "      <th>5</th>\n",
              "      <td>0</td>\n",
              "      <td>-926.185831</td>\n",
              "      <td>27</td>\n",
              "      <td>высшее</td>\n",
              "      <td>0</td>\n",
              "      <td>гражданский брак</td>\n",
              "      <td>1</td>\n",
              "      <td>M</td>\n",
              "      <td>компаньон</td>\n",
              "      <td>0</td>\n",
              "      <td>255763.565419</td>\n",
              "      <td>покупка жилья</td>\n",
              "    </tr>\n",
              "    <tr>\n",
              "      <th>6</th>\n",
              "      <td>0</td>\n",
              "      <td>-2879.202052</td>\n",
              "      <td>43</td>\n",
              "      <td>высшее</td>\n",
              "      <td>0</td>\n",
              "      <td>женат / замужем</td>\n",
              "      <td>0</td>\n",
              "      <td>F</td>\n",
              "      <td>компаньон</td>\n",
              "      <td>0</td>\n",
              "      <td>240525.971920</td>\n",
              "      <td>операции с жильем</td>\n",
              "    </tr>\n",
              "    <tr>\n",
              "      <th>7</th>\n",
              "      <td>0</td>\n",
              "      <td>-152.779569</td>\n",
              "      <td>50</td>\n",
              "      <td>СРЕДНЕЕ</td>\n",
              "      <td>1</td>\n",
              "      <td>женат / замужем</td>\n",
              "      <td>0</td>\n",
              "      <td>M</td>\n",
              "      <td>сотрудник</td>\n",
              "      <td>0</td>\n",
              "      <td>135823.934197</td>\n",
              "      <td>образование</td>\n",
              "    </tr>\n",
              "    <tr>\n",
              "      <th>8</th>\n",
              "      <td>2</td>\n",
              "      <td>-6929.865299</td>\n",
              "      <td>35</td>\n",
              "      <td>ВЫСШЕЕ</td>\n",
              "      <td>0</td>\n",
              "      <td>гражданский брак</td>\n",
              "      <td>1</td>\n",
              "      <td>F</td>\n",
              "      <td>сотрудник</td>\n",
              "      <td>0</td>\n",
              "      <td>95856.832424</td>\n",
              "      <td>на проведение свадьбы</td>\n",
              "    </tr>\n",
              "    <tr>\n",
              "      <th>9</th>\n",
              "      <td>0</td>\n",
              "      <td>-2188.756445</td>\n",
              "      <td>41</td>\n",
              "      <td>среднее</td>\n",
              "      <td>1</td>\n",
              "      <td>женат / замужем</td>\n",
              "      <td>0</td>\n",
              "      <td>M</td>\n",
              "      <td>сотрудник</td>\n",
              "      <td>0</td>\n",
              "      <td>144425.938277</td>\n",
              "      <td>покупка жилья для семьи</td>\n",
              "    </tr>\n",
              "    <tr>\n",
              "      <th>10</th>\n",
              "      <td>2</td>\n",
              "      <td>-4171.483647</td>\n",
              "      <td>36</td>\n",
              "      <td>высшее</td>\n",
              "      <td>0</td>\n",
              "      <td>женат / замужем</td>\n",
              "      <td>0</td>\n",
              "      <td>M</td>\n",
              "      <td>компаньон</td>\n",
              "      <td>0</td>\n",
              "      <td>113943.491460</td>\n",
              "      <td>покупка недвижимости</td>\n",
              "    </tr>\n",
              "    <tr>\n",
              "      <th>11</th>\n",
              "      <td>0</td>\n",
              "      <td>-792.701887</td>\n",
              "      <td>40</td>\n",
              "      <td>среднее</td>\n",
              "      <td>1</td>\n",
              "      <td>женат / замужем</td>\n",
              "      <td>0</td>\n",
              "      <td>F</td>\n",
              "      <td>сотрудник</td>\n",
              "      <td>0</td>\n",
              "      <td>77069.234271</td>\n",
              "      <td>покупка коммерческой недвижимости</td>\n",
              "    </tr>\n",
              "    <tr>\n",
              "      <th>12</th>\n",
              "      <td>0</td>\n",
              "      <td>NaN</td>\n",
              "      <td>65</td>\n",
              "      <td>среднее</td>\n",
              "      <td>1</td>\n",
              "      <td>гражданский брак</td>\n",
              "      <td>1</td>\n",
              "      <td>M</td>\n",
              "      <td>пенсионер</td>\n",
              "      <td>0</td>\n",
              "      <td>NaN</td>\n",
              "      <td>сыграть свадьбу</td>\n",
              "    </tr>\n",
              "    <tr>\n",
              "      <th>13</th>\n",
              "      <td>0</td>\n",
              "      <td>-1846.641941</td>\n",
              "      <td>54</td>\n",
              "      <td>неоконченное высшее</td>\n",
              "      <td>2</td>\n",
              "      <td>женат / замужем</td>\n",
              "      <td>0</td>\n",
              "      <td>F</td>\n",
              "      <td>сотрудник</td>\n",
              "      <td>0</td>\n",
              "      <td>130458.228857</td>\n",
              "      <td>приобретение автомобиля</td>\n",
              "    </tr>\n",
              "    <tr>\n",
              "      <th>14</th>\n",
              "      <td>0</td>\n",
              "      <td>-1844.956182</td>\n",
              "      <td>56</td>\n",
              "      <td>высшее</td>\n",
              "      <td>0</td>\n",
              "      <td>гражданский брак</td>\n",
              "      <td>1</td>\n",
              "      <td>F</td>\n",
              "      <td>компаньон</td>\n",
              "      <td>1</td>\n",
              "      <td>165127.911772</td>\n",
              "      <td>покупка жилой недвижимости</td>\n",
              "    </tr>\n",
              "    <tr>\n",
              "      <th>15</th>\n",
              "      <td>1</td>\n",
              "      <td>-972.364419</td>\n",
              "      <td>26</td>\n",
              "      <td>среднее</td>\n",
              "      <td>1</td>\n",
              "      <td>женат / замужем</td>\n",
              "      <td>0</td>\n",
              "      <td>F</td>\n",
              "      <td>сотрудник</td>\n",
              "      <td>0</td>\n",
              "      <td>116820.904450</td>\n",
              "      <td>строительство собственной недвижимости</td>\n",
              "    </tr>\n",
              "    <tr>\n",
              "      <th>16</th>\n",
              "      <td>0</td>\n",
              "      <td>-1719.934226</td>\n",
              "      <td>35</td>\n",
              "      <td>среднее</td>\n",
              "      <td>1</td>\n",
              "      <td>женат / замужем</td>\n",
              "      <td>0</td>\n",
              "      <td>F</td>\n",
              "      <td>сотрудник</td>\n",
              "      <td>0</td>\n",
              "      <td>289202.704229</td>\n",
              "      <td>недвижимость</td>\n",
              "    </tr>\n",
              "    <tr>\n",
              "      <th>17</th>\n",
              "      <td>0</td>\n",
              "      <td>-2369.999720</td>\n",
              "      <td>33</td>\n",
              "      <td>высшее</td>\n",
              "      <td>0</td>\n",
              "      <td>гражданский брак</td>\n",
              "      <td>1</td>\n",
              "      <td>M</td>\n",
              "      <td>сотрудник</td>\n",
              "      <td>0</td>\n",
              "      <td>90410.586745</td>\n",
              "      <td>строительство недвижимости</td>\n",
              "    </tr>\n",
              "    <tr>\n",
              "      <th>18</th>\n",
              "      <td>0</td>\n",
              "      <td>400281.136913</td>\n",
              "      <td>53</td>\n",
              "      <td>среднее</td>\n",
              "      <td>1</td>\n",
              "      <td>вдовец / вдова</td>\n",
              "      <td>2</td>\n",
              "      <td>F</td>\n",
              "      <td>пенсионер</td>\n",
              "      <td>0</td>\n",
              "      <td>56823.777243</td>\n",
              "      <td>на покупку подержанного автомобиля</td>\n",
              "    </tr>\n",
              "    <tr>\n",
              "      <th>19</th>\n",
              "      <td>0</td>\n",
              "      <td>-10038.818549</td>\n",
              "      <td>48</td>\n",
              "      <td>СРЕДНЕЕ</td>\n",
              "      <td>1</td>\n",
              "      <td>в разводе</td>\n",
              "      <td>3</td>\n",
              "      <td>F</td>\n",
              "      <td>сотрудник</td>\n",
              "      <td>0</td>\n",
              "      <td>242831.107982</td>\n",
              "      <td>на покупку своего автомобиля</td>\n",
              "    </tr>\n",
              "  </tbody>\n",
              "</table>\n",
              "</div>"
            ],
            "text/plain": [
              "    children  days_employed  dob_years            education  education_id  \\\n",
              "0          1   -8437.673028         42               высшее             0   \n",
              "1          1   -4024.803754         36              среднее             1   \n",
              "2          0   -5623.422610         33              Среднее             1   \n",
              "3          3   -4124.747207         32              среднее             1   \n",
              "4          0  340266.072047         53              среднее             1   \n",
              "5          0    -926.185831         27               высшее             0   \n",
              "6          0   -2879.202052         43               высшее             0   \n",
              "7          0    -152.779569         50              СРЕДНЕЕ             1   \n",
              "8          2   -6929.865299         35               ВЫСШЕЕ             0   \n",
              "9          0   -2188.756445         41              среднее             1   \n",
              "10         2   -4171.483647         36               высшее             0   \n",
              "11         0    -792.701887         40              среднее             1   \n",
              "12         0            NaN         65              среднее             1   \n",
              "13         0   -1846.641941         54  неоконченное высшее             2   \n",
              "14         0   -1844.956182         56               высшее             0   \n",
              "15         1    -972.364419         26              среднее             1   \n",
              "16         0   -1719.934226         35              среднее             1   \n",
              "17         0   -2369.999720         33               высшее             0   \n",
              "18         0  400281.136913         53              среднее             1   \n",
              "19         0  -10038.818549         48              СРЕДНЕЕ             1   \n",
              "\n",
              "       family_status  family_status_id gender income_type  debt  \\\n",
              "0    женат / замужем                 0      F   сотрудник     0   \n",
              "1    женат / замужем                 0      F   сотрудник     0   \n",
              "2    женат / замужем                 0      M   сотрудник     0   \n",
              "3    женат / замужем                 0      M   сотрудник     0   \n",
              "4   гражданский брак                 1      F   пенсионер     0   \n",
              "5   гражданский брак                 1      M   компаньон     0   \n",
              "6    женат / замужем                 0      F   компаньон     0   \n",
              "7    женат / замужем                 0      M   сотрудник     0   \n",
              "8   гражданский брак                 1      F   сотрудник     0   \n",
              "9    женат / замужем                 0      M   сотрудник     0   \n",
              "10   женат / замужем                 0      M   компаньон     0   \n",
              "11   женат / замужем                 0      F   сотрудник     0   \n",
              "12  гражданский брак                 1      M   пенсионер     0   \n",
              "13   женат / замужем                 0      F   сотрудник     0   \n",
              "14  гражданский брак                 1      F   компаньон     1   \n",
              "15   женат / замужем                 0      F   сотрудник     0   \n",
              "16   женат / замужем                 0      F   сотрудник     0   \n",
              "17  гражданский брак                 1      M   сотрудник     0   \n",
              "18    вдовец / вдова                 2      F   пенсионер     0   \n",
              "19         в разводе                 3      F   сотрудник     0   \n",
              "\n",
              "     total_income                                 purpose  \n",
              "0   253875.639453                           покупка жилья  \n",
              "1   112080.014102                 приобретение автомобиля  \n",
              "2   145885.952297                           покупка жилья  \n",
              "3   267628.550329              дополнительное образование  \n",
              "4   158616.077870                         сыграть свадьбу  \n",
              "5   255763.565419                           покупка жилья  \n",
              "6   240525.971920                       операции с жильем  \n",
              "7   135823.934197                             образование  \n",
              "8    95856.832424                   на проведение свадьбы  \n",
              "9   144425.938277                 покупка жилья для семьи  \n",
              "10  113943.491460                    покупка недвижимости  \n",
              "11   77069.234271       покупка коммерческой недвижимости  \n",
              "12            NaN                         сыграть свадьбу  \n",
              "13  130458.228857                 приобретение автомобиля  \n",
              "14  165127.911772              покупка жилой недвижимости  \n",
              "15  116820.904450  строительство собственной недвижимости  \n",
              "16  289202.704229                            недвижимость  \n",
              "17   90410.586745              строительство недвижимости  \n",
              "18   56823.777243      на покупку подержанного автомобиля  \n",
              "19  242831.107982            на покупку своего автомобиля  "
            ]
          },
          "execution_count": 3,
          "metadata": {},
          "output_type": "execute_result"
        }
      ],
      "source": [
        "data.head(20)"
      ]
    },
    {
      "cell_type": "markdown",
      "id": "0ed8f27f",
      "metadata": {
        "deletable": false,
        "editable": false,
        "id": "0ed8f27f"
      },
      "source": [
        "**Задание 3. Выведите основную информацию о датафрейме с помощью метода `info()`.**"
      ]
    },
    {
      "cell_type": "code",
      "execution_count": null,
      "id": "ab3f863b",
      "metadata": {
        "colab": {
          "base_uri": "https://localhost:8080/"
        },
        "deletable": false,
        "id": "ab3f863b",
        "outputId": "5e8f9eed-148c-4228-e9eb-7559bce90e94"
      },
      "outputs": [
        {
          "name": "stdout",
          "output_type": "stream",
          "text": [
            "<class 'pandas.core.frame.DataFrame'>\n",
            "RangeIndex: 21525 entries, 0 to 21524\n",
            "Data columns (total 12 columns):\n",
            " #   Column            Non-Null Count  Dtype  \n",
            "---  ------            --------------  -----  \n",
            " 0   children          21525 non-null  int64  \n",
            " 1   days_employed     19351 non-null  float64\n",
            " 2   dob_years         21525 non-null  int64  \n",
            " 3   education         21525 non-null  object \n",
            " 4   education_id      21525 non-null  int64  \n",
            " 5   family_status     21525 non-null  object \n",
            " 6   family_status_id  21525 non-null  int64  \n",
            " 7   gender            21525 non-null  object \n",
            " 8   income_type       21525 non-null  object \n",
            " 9   debt              21525 non-null  int64  \n",
            " 10  total_income      19351 non-null  float64\n",
            " 11  purpose           21525 non-null  object \n",
            "dtypes: float64(2), int64(5), object(5)\n",
            "memory usage: 2.0+ MB\n"
          ]
        }
      ],
      "source": [
        "data.info()"
      ]
    },
    {
      "cell_type": "markdown",
      "id": "60e3e22d",
      "metadata": {
        "deletable": false,
        "editable": false,
        "id": "60e3e22d"
      },
      "source": [
        "## Предобработка данных"
      ]
    },
    {
      "cell_type": "markdown",
      "id": "03dc170c",
      "metadata": {
        "deletable": false,
        "editable": false,
        "id": "03dc170c"
      },
      "source": [
        "### Удаление пропусков"
      ]
    },
    {
      "cell_type": "markdown",
      "id": "a4f54eef",
      "metadata": {
        "deletable": false,
        "editable": false,
        "id": "a4f54eef"
      },
      "source": [
        "**Задание 4. Выведите количество пропущенных значений для каждого столбца. Используйте комбинацию двух методов.**"
      ]
    },
    {
      "cell_type": "code",
      "execution_count": null,
      "id": "2dc372b2",
      "metadata": {
        "colab": {
          "base_uri": "https://localhost:8080/"
        },
        "deletable": false,
        "id": "2dc372b2",
        "outputId": "e09f6f97-d00f-4396-e6be-d49de3185395"
      },
      "outputs": [
        {
          "data": {
            "text/plain": [
              "children               0\n",
              "days_employed       2174\n",
              "dob_years              0\n",
              "education              0\n",
              "education_id           0\n",
              "family_status          0\n",
              "family_status_id       0\n",
              "gender                 0\n",
              "income_type            0\n",
              "debt                   0\n",
              "total_income        2174\n",
              "purpose                0\n",
              "dtype: int64"
            ]
          },
          "execution_count": 5,
          "metadata": {},
          "output_type": "execute_result"
        }
      ],
      "source": [
        "data.isna().sum()"
      ]
    },
    {
      "cell_type": "markdown",
      "id": "14f011b1",
      "metadata": {
        "deletable": false,
        "editable": false,
        "id": "14f011b1"
      },
      "source": [
        "**Задание 5. В двух столбцах есть пропущенные значения. Один из них — `days_employed`. Пропуски в этом столбце вы обработаете на следующем этапе. Другой столбец с пропущенными значениями — `total_income` — хранит данные о доходах. На сумму дохода сильнее всего влияет тип занятости, поэтому заполнить пропуски в этом столбце нужно медианным значением по каждому типу из столбца `income_type`. Например, у человека с типом занятости `сотрудник` пропуск в столбце `total_income` должен быть заполнен медианным доходом среди всех записей с тем же типом.**"
      ]
    },
    {
      "cell_type": "code",
      "execution_count": null,
      "id": "bdabfb6e",
      "metadata": {
        "deletable": false,
        "id": "bdabfb6e"
      },
      "outputs": [],
      "source": [
        "for t in data['income_type'].unique():\n",
        "    data.loc[(data['income_type'] == t) & (data['total_income'].isna()), 'total_income'] = \\\n",
        "    data.loc[(data['income_type'] == t), 'total_income'].median()"
      ]
    },
    {
      "cell_type": "markdown",
      "id": "5be34059",
      "metadata": {
        "deletable": false,
        "editable": false,
        "id": "5be34059"
      },
      "source": [
        "### Обработка аномальных значений"
      ]
    },
    {
      "cell_type": "markdown",
      "id": "a87606cb",
      "metadata": {
        "deletable": false,
        "editable": false,
        "id": "a87606cb"
      },
      "source": [
        "**Задание 6. В данных могут встречаться артефакты (аномалии) — значения, которые не отражают действительность и появились по какой-то ошибке. таким артефактом будет отрицательное количество дней трудового стажа в столбце `days_employed`. Для реальных данных это нормально. Обработайте значения в этом столбце: замените все отрицательные значения положительными с помощью метода `abs()`.**"
      ]
    },
    {
      "cell_type": "code",
      "execution_count": null,
      "id": "020c46cc",
      "metadata": {
        "deletable": false,
        "id": "020c46cc"
      },
      "outputs": [],
      "source": [
        "data['days_employed'] = data['days_employed'].abs()"
      ]
    },
    {
      "cell_type": "markdown",
      "id": "45538a3a",
      "metadata": {
        "deletable": false,
        "editable": false,
        "id": "45538a3a"
      },
      "source": [
        "**Задание 7. Для каждого типа занятости выведите медианное значение трудового стажа `days_employed` в днях.**"
      ]
    },
    {
      "cell_type": "code",
      "execution_count": null,
      "id": "cd3e6328",
      "metadata": {
        "colab": {
          "base_uri": "https://localhost:8080/"
        },
        "deletable": false,
        "id": "cd3e6328",
        "outputId": "07c8236d-4a0e-41b9-b549-3d0c81071c66"
      },
      "outputs": [
        {
          "data": {
            "text/plain": [
              "income_type\n",
              "безработный        366413.652744\n",
              "в декрете            3296.759962\n",
              "госслужащий          2689.368353\n",
              "компаньон            1547.382223\n",
              "пенсионер          365213.306266\n",
              "предприниматель       520.848083\n",
              "сотрудник            1574.202821\n",
              "студент               578.751554\n",
              "Name: days_employed, dtype: float64"
            ]
          },
          "execution_count": 8,
          "metadata": {},
          "output_type": "execute_result"
        }
      ],
      "source": [
        "data.groupby('income_type')['days_employed'].agg('median')"
      ]
    },
    {
      "cell_type": "markdown",
      "id": "90c5f058",
      "metadata": {
        "deletable": false,
        "editable": false,
        "id": "90c5f058"
      },
      "source": [
        "У двух типов (безработные и пенсионеры) получатся аномально большие значения. Исправить такие значения сложно, поэтому оставьте их как есть."
      ]
    },
    {
      "cell_type": "markdown",
      "id": "9652e50d",
      "metadata": {
        "deletable": false,
        "editable": false,
        "id": "9652e50d"
      },
      "source": [
        "**Задание 8. Выведите перечень уникальных значений столбца `children`.**"
      ]
    },
    {
      "cell_type": "code",
      "execution_count": null,
      "id": "dbb37b8e",
      "metadata": {
        "colab": {
          "base_uri": "https://localhost:8080/"
        },
        "deletable": false,
        "id": "dbb37b8e",
        "outputId": "fc15b861-fc96-4150-a441-da50b3cf6d10"
      },
      "outputs": [
        {
          "data": {
            "text/plain": [
              "array([ 1,  0,  3,  2, -1,  4, 20,  5])"
            ]
          },
          "execution_count": 9,
          "metadata": {},
          "output_type": "execute_result"
        }
      ],
      "source": [
        "data['children'].unique()"
      ]
    },
    {
      "cell_type": "markdown",
      "id": "2b8b0715",
      "metadata": {
        "deletable": false,
        "editable": false,
        "id": "2b8b0715"
      },
      "source": [
        "**Задание 9. В столбце `children` есть два аномальных значения. Удалите строки, в которых встречаются такие аномальные значения из датафрейма `data`.**"
      ]
    },
    {
      "cell_type": "code",
      "execution_count": null,
      "id": "20009df8",
      "metadata": {
        "deletable": false,
        "id": "20009df8"
      },
      "outputs": [],
      "source": [
        "data = data[(data['children'] != -1) & (data['children'] != 20)]"
      ]
    },
    {
      "cell_type": "markdown",
      "id": "8c6ac9f1",
      "metadata": {
        "deletable": false,
        "editable": false,
        "id": "8c6ac9f1"
      },
      "source": [
        "**Задание 10. Ещё раз выведите перечень уникальных значений столбца `children`, чтобы убедиться, что артефакты удалены.**"
      ]
    },
    {
      "cell_type": "code",
      "execution_count": null,
      "id": "07337b81",
      "metadata": {
        "colab": {
          "base_uri": "https://localhost:8080/"
        },
        "deletable": false,
        "id": "07337b81",
        "outputId": "ffca7884-d597-43cb-b90a-263c10d00a35"
      },
      "outputs": [
        {
          "data": {
            "text/plain": [
              "array([1, 0, 3, 2, 4, 5])"
            ]
          },
          "execution_count": 11,
          "metadata": {},
          "output_type": "execute_result"
        }
      ],
      "source": [
        "data['children'].unique()"
      ]
    },
    {
      "cell_type": "markdown",
      "id": "ee3f52d4",
      "metadata": {
        "deletable": false,
        "editable": false,
        "id": "ee3f52d4"
      },
      "source": [
        "### Удаление пропусков (продолжение)"
      ]
    },
    {
      "cell_type": "markdown",
      "id": "a700b0e4",
      "metadata": {
        "deletable": false,
        "editable": false,
        "id": "a700b0e4"
      },
      "source": [
        "**Задание 11. Заполните пропуски в столбце `days_employed` медианными значениями по каждого типа занятости `income_type`.**"
      ]
    },
    {
      "cell_type": "code",
      "execution_count": null,
      "id": "61946b83",
      "metadata": {
        "deletable": false,
        "id": "61946b83"
      },
      "outputs": [],
      "source": [
        "for t in data['income_type'].unique():\n",
        "    data.loc[(data['income_type'] == t) & (data['days_employed'].isna()), 'days_employed'] = \\\n",
        "    data.loc[(data['income_type'] == t), 'days_employed'].median()"
      ]
    },
    {
      "cell_type": "markdown",
      "id": "550dcd9b",
      "metadata": {
        "deletable": false,
        "editable": false,
        "id": "550dcd9b"
      },
      "source": [
        "**Задание 12. Убедитесь, что все пропуски заполнены. Проверьте себя и ещё раз выведите количество пропущенных значений для каждого столбца с помощью двух методов.**"
      ]
    },
    {
      "cell_type": "code",
      "execution_count": null,
      "id": "937c7014",
      "metadata": {
        "colab": {
          "base_uri": "https://localhost:8080/"
        },
        "deletable": false,
        "id": "937c7014",
        "outputId": "114d64bd-51d4-4480-e222-77670a85fe02"
      },
      "outputs": [
        {
          "data": {
            "text/plain": [
              "children            0\n",
              "days_employed       0\n",
              "dob_years           0\n",
              "education           0\n",
              "education_id        0\n",
              "family_status       0\n",
              "family_status_id    0\n",
              "gender              0\n",
              "income_type         0\n",
              "debt                0\n",
              "total_income        0\n",
              "purpose             0\n",
              "dtype: int64"
            ]
          },
          "execution_count": 13,
          "metadata": {},
          "output_type": "execute_result"
        }
      ],
      "source": [
        "data.isna().sum()"
      ]
    },
    {
      "cell_type": "markdown",
      "id": "d522e295",
      "metadata": {
        "deletable": false,
        "editable": false,
        "id": "d522e295"
      },
      "source": [
        "### Изменение типов данных"
      ]
    },
    {
      "cell_type": "markdown",
      "id": "c229c581",
      "metadata": {
        "deletable": false,
        "editable": false,
        "id": "c229c581"
      },
      "source": [
        "**Задание 13. Замените вещественный тип данных в столбце `total_income` на целочисленный с помощью метода `astype()`.**"
      ]
    },
    {
      "cell_type": "code",
      "execution_count": null,
      "id": "31036462",
      "metadata": {
        "deletable": false,
        "id": "31036462"
      },
      "outputs": [],
      "source": [
        "data['total_income'] = data['total_income'].astype(int)"
      ]
    },
    {
      "cell_type": "markdown",
      "id": "b8e3d1d9",
      "metadata": {
        "deletable": false,
        "editable": false,
        "id": "b8e3d1d9"
      },
      "source": [
        "### Обработка дубликатов"
      ]
    },
    {
      "cell_type": "markdown",
      "id": "9be53c49",
      "metadata": {
        "deletable": false,
        "editable": false,
        "id": "9be53c49"
      },
      "source": [
        "**Задание 14. Обработайте неявные дубликаты в столбце `education`. В этом столбце есть одни и те же значения, но записанные по-разному: с использованием заглавных и строчных букв. Приведите их к нижнему регистру.**"
      ]
    },
    {
      "cell_type": "code",
      "execution_count": null,
      "id": "d89e73e1",
      "metadata": {
        "deletable": false,
        "id": "d89e73e1"
      },
      "outputs": [],
      "source": [
        "data['education'] = data['education'].str.lower()"
      ]
    },
    {
      "cell_type": "markdown",
      "id": "01d4500e",
      "metadata": {
        "deletable": false,
        "editable": false,
        "id": "01d4500e"
      },
      "source": [
        "**Задание 15. Выведите на экран количество строк-дубликатов в данных. Если такие строки присутствуют, удалите их.**"
      ]
    },
    {
      "cell_type": "code",
      "execution_count": null,
      "id": "e10efb23",
      "metadata": {
        "colab": {
          "base_uri": "https://localhost:8080/"
        },
        "deletable": false,
        "id": "e10efb23",
        "outputId": "bd2e78c1-9270-4003-a86d-97a5238f91dc"
      },
      "outputs": [
        {
          "data": {
            "text/plain": [
              "71"
            ]
          },
          "execution_count": 16,
          "metadata": {},
          "output_type": "execute_result"
        }
      ],
      "source": [
        "data.duplicated().sum()"
      ]
    },
    {
      "cell_type": "code",
      "execution_count": null,
      "id": "df853f20",
      "metadata": {
        "deletable": false,
        "id": "df853f20"
      },
      "outputs": [],
      "source": [
        "data = data.drop_duplicates()"
      ]
    },
    {
      "cell_type": "markdown",
      "id": "627be38f",
      "metadata": {
        "deletable": false,
        "editable": false,
        "id": "627be38f"
      },
      "source": [
        "### Категоризация данных"
      ]
    },
    {
      "cell_type": "markdown",
      "id": "4684c3e0",
      "metadata": {
        "deletable": false,
        "editable": false,
        "id": "4684c3e0"
      },
      "source": [
        "**Задание 16. На основании диапазонов, указанных ниже, создайте в датафрейме `data` столбец `total_income_category` с категориями:**\n",
        "\n",
        "- 0–30000 — `'E'`;\n",
        "- 30001–50000 — `'D'`;\n",
        "- 50001–200000 — `'C'`;\n",
        "- 200001–1000000 — `'B'`;\n",
        "- 1000001 и выше — `'A'`.\n",
        "\n",
        "\n",
        "**Например, кредитополучателю с доходом 25000 нужно назначить категорию `'E'`, а клиенту, получающему 235000, — `'B'`. Используйте собственную функцию с именем `categorize_income()` и метод `apply()`.**"
      ]
    },
    {
      "cell_type": "code",
      "execution_count": null,
      "id": "78965238",
      "metadata": {
        "deletable": false,
        "id": "78965238"
      },
      "outputs": [],
      "source": [
        "def categorize_income(income):\n",
        "    try:\n",
        "        if 0 <= income <= 30000:\n",
        "            return 'E'\n",
        "        elif 30001 <= income <= 50000:\n",
        "            return 'D'\n",
        "        elif 50001 <= income <= 200000:\n",
        "            return 'C'\n",
        "        elif 200001 <= income <= 1000000:\n",
        "            return 'B'\n",
        "        elif income >= 1000001:\n",
        "            return 'A'\n",
        "    except:\n",
        "        pass"
      ]
    },
    {
      "cell_type": "code",
      "execution_count": null,
      "id": "0980ada1",
      "metadata": {
        "deletable": false,
        "id": "0980ada1"
      },
      "outputs": [],
      "source": [
        "data['total_income_category'] = data['total_income'].apply(categorize_income)"
      ]
    },
    {
      "cell_type": "markdown",
      "id": "9917bba0",
      "metadata": {
        "deletable": false,
        "editable": false,
        "id": "9917bba0"
      },
      "source": [
        "**Задание 17. Выведите на экран перечень уникальных целей взятия кредита из столбца `purpose`.**"
      ]
    },
    {
      "cell_type": "code",
      "execution_count": null,
      "id": "ee07b65e",
      "metadata": {
        "colab": {
          "base_uri": "https://localhost:8080/"
        },
        "deletable": false,
        "id": "ee07b65e",
        "outputId": "830fa023-fd55-46d0-b53b-936da9d009c2"
      },
      "outputs": [
        {
          "data": {
            "text/plain": [
              "array(['покупка жилья', 'приобретение автомобиля',\n",
              "       'дополнительное образование', 'сыграть свадьбу',\n",
              "       'операции с жильем', 'образование', 'на проведение свадьбы',\n",
              "       'покупка жилья для семьи', 'покупка недвижимости',\n",
              "       'покупка коммерческой недвижимости', 'покупка жилой недвижимости',\n",
              "       'строительство собственной недвижимости', 'недвижимость',\n",
              "       'строительство недвижимости', 'на покупку подержанного автомобиля',\n",
              "       'на покупку своего автомобиля',\n",
              "       'операции с коммерческой недвижимостью',\n",
              "       'строительство жилой недвижимости', 'жилье',\n",
              "       'операции со своей недвижимостью', 'автомобили',\n",
              "       'заняться образованием', 'сделка с подержанным автомобилем',\n",
              "       'получение образования', 'автомобиль', 'свадьба',\n",
              "       'получение дополнительного образования', 'покупка своего жилья',\n",
              "       'операции с недвижимостью', 'получение высшего образования',\n",
              "       'свой автомобиль', 'сделка с автомобилем',\n",
              "       'профильное образование', 'высшее образование',\n",
              "       'покупка жилья для сдачи', 'на покупку автомобиля', 'ремонт жилью',\n",
              "       'заняться высшим образованием'], dtype=object)"
            ]
          },
          "execution_count": 20,
          "metadata": {},
          "output_type": "execute_result"
        }
      ],
      "source": [
        "data['purpose'].unique()"
      ]
    },
    {
      "cell_type": "markdown",
      "id": "52b79d56",
      "metadata": {
        "deletable": false,
        "editable": false,
        "id": "52b79d56"
      },
      "source": [
        "**Задание 18. Создайте функцию, которая на основании данных из столбца `purpose` сформирует новый столбец `purpose_category`, в который войдут следующие категории:**\n",
        "\n",
        "- `'операции с автомобилем'`,\n",
        "- `'операции с недвижимостью'`,\n",
        "- `'проведение свадьбы'`,\n",
        "- `'получение образования'`.\n",
        "\n",
        "**Например, если в столбце `purpose` находится подстрока `'на покупку автомобиля'`, то в столбце `purpose_category` должна появиться строка `'операции с автомобилем'`.**\n",
        "\n",
        "**Используйте собственную функцию с именем `categorize_purpose()` и метод `apply()`. Изучите данные в столбце `purpose` и определите, какие подстроки помогут вам правильно определить категорию.**"
      ]
    },
    {
      "cell_type": "code",
      "execution_count": null,
      "id": "be41da5d",
      "metadata": {
        "deletable": false,
        "id": "be41da5d"
      },
      "outputs": [],
      "source": [
        "def categorize_purpose(row):\n",
        "    try:\n",
        "        if 'автом' in row:\n",
        "            return 'операции с автомобилем'\n",
        "        elif 'жил' in row or 'недвиж' in row:\n",
        "            return 'операции с недвижимостью'\n",
        "        elif 'свад' in row:\n",
        "            return 'проведение свадьбы'\n",
        "        elif 'образов' in row:\n",
        "            return 'получение образования'\n",
        "    except:\n",
        "        return 'нет категории'"
      ]
    },
    {
      "cell_type": "code",
      "execution_count": null,
      "id": "94c4a19a",
      "metadata": {
        "deletable": false,
        "id": "94c4a19a"
      },
      "outputs": [],
      "source": [
        "data['purpose_category'] = data['purpose'].apply(categorize_purpose)"
      ]
    },
    {
      "cell_type": "markdown",
      "id": "3d596c34",
      "metadata": {
        "deletable": false,
        "editable": false,
        "id": "3d596c34"
      },
      "source": [
        "### Шаг 3. Исследуйте данные и ответьте на вопросы"
      ]
    },
    {
      "cell_type": "markdown",
      "id": "648db036",
      "metadata": {
        "deletable": false,
        "editable": false,
        "id": "648db036"
      },
      "source": [
        "#### 3.1 Есть ли зависимость между количеством детей и возвратом кредита в срок?"
      ]
    },
    {
      "cell_type": "code",
      "execution_count": null,
      "id": "7fcff25e",
      "metadata": {
        "colab": {
          "base_uri": "https://localhost:8080/",
          "height": 605
        },
        "deletable": false,
        "id": "7fcff25e",
        "outputId": "24ff4f06-8c2b-4908-98fe-a2e632273362"
      },
      "outputs": [
        {
          "name": "stdout",
          "output_type": "stream",
          "text": [
            "          children_debt_count  children_debt_sum  children_debt_result\n",
            "children                                                              \n",
            "0                       14091               1063                  7.54\n",
            "1                        4808                444                  9.23\n",
            "2                        2052                194                  9.45\n",
            "3                         330                 27                  8.18\n",
            "4                          41                  4                  9.76\n",
            "5                           9                  0                  0.00\n"
          ]
        },
        {
          "data": {
            "text/html": [
              "<div>\n",
              "<style scoped>\n",
              "    .dataframe tbody tr th:only-of-type {\n",
              "        vertical-align: middle;\n",
              "    }\n",
              "\n",
              "    .dataframe tbody tr th {\n",
              "        vertical-align: top;\n",
              "    }\n",
              "\n",
              "    .dataframe thead th {\n",
              "        text-align: right;\n",
              "    }\n",
              "</style>\n",
              "<table border=\"1\" class=\"dataframe\">\n",
              "  <thead>\n",
              "    <tr style=\"text-align: right;\">\n",
              "      <th></th>\n",
              "      <th>children_debt_count</th>\n",
              "      <th>children_debt_sum</th>\n",
              "      <th>children_debt_result</th>\n",
              "    </tr>\n",
              "    <tr>\n",
              "      <th>children</th>\n",
              "      <th></th>\n",
              "      <th></th>\n",
              "      <th></th>\n",
              "    </tr>\n",
              "  </thead>\n",
              "  <tbody>\n",
              "    <tr>\n",
              "      <th>0</th>\n",
              "      <td>14091</td>\n",
              "      <td>1063</td>\n",
              "      <td>7.54</td>\n",
              "    </tr>\n",
              "    <tr>\n",
              "      <th>1</th>\n",
              "      <td>4808</td>\n",
              "      <td>444</td>\n",
              "      <td>9.23</td>\n",
              "    </tr>\n",
              "    <tr>\n",
              "      <th>2</th>\n",
              "      <td>2052</td>\n",
              "      <td>194</td>\n",
              "      <td>9.45</td>\n",
              "    </tr>\n",
              "    <tr>\n",
              "      <th>3</th>\n",
              "      <td>330</td>\n",
              "      <td>27</td>\n",
              "      <td>8.18</td>\n",
              "    </tr>\n",
              "    <tr>\n",
              "      <th>4</th>\n",
              "      <td>41</td>\n",
              "      <td>4</td>\n",
              "      <td>9.76</td>\n",
              "    </tr>\n",
              "    <tr>\n",
              "      <th>5</th>\n",
              "      <td>9</td>\n",
              "      <td>0</td>\n",
              "      <td>0.00</td>\n",
              "    </tr>\n",
              "  </tbody>\n",
              "</table>\n",
              "</div>"
            ],
            "text/plain": [
              "          children_debt_count  children_debt_sum  children_debt_result\n",
              "children                                                              \n",
              "0                       14091               1063                  7.54\n",
              "1                        4808                444                  9.23\n",
              "2                        2052                194                  9.45\n",
              "3                         330                 27                  8.18\n",
              "4                          41                  4                  9.76\n",
              "5                           9                  0                  0.00"
            ]
          },
          "metadata": {},
          "output_type": "display_data"
        },
        {
          "data": {
            "text/plain": [
              "Text(0, 0.5, 'коэф. задолженности')"
            ]
          },
          "execution_count": 23,
          "metadata": {},
          "output_type": "execute_result"
        },
        {
          "data": {
            "image/png": "[encoded data removed]",
            "text/plain": [
              "<Figure size 432x288 with 1 Axes>"
            ]
          },
          "metadata": {
            "needs_background": "light"
          },
          "output_type": "display_data"
        }
      ],
      "source": [
        "# создадим отдельный датафрейм для проверки зависимости\n",
        "children_debt = pd.DataFrame()\n",
        "# children_debt_count - общее количество заемщиков сгруппированное по количеству детей в семье\n",
        "children_debt['children_debt_count'] = data.groupby('children')['debt'].count()\n",
        "# children_debt_sum - общее количество заемщиков имевших задолженность по возврату кредитов\n",
        "# сгруппированное по количеству детей в семье\n",
        "children_debt['children_debt_sum'] = data.groupby('children')['debt'].sum()\n",
        "# children_debt_result - процентное соотношение количества заемщиков имевших задолженность к\n",
        "# общему кол-ву взятых кредитов сгруппированное по количеству детей в семье\n",
        "children_debt['children_debt_result'] = round((children_debt['children_debt_sum'] /\n",
        "                                               children_debt['children_debt_count'] * 100) , 2)\n",
        "# выводим датафрейм\n",
        "print(children_debt)\n",
        "display(children_debt)\n",
        "# график для наглядности\n",
        "graph = sb.barplot(x=children_debt.index, y=children_debt['children_debt_result'])\n",
        "graph.set_xlabel('кол-во детей')\n",
        "graph.set_ylabel('коэф. задолженности')\n"
      ]
    },
    {
      "cell_type": "markdown",
      "id": "2eb9088e",
      "metadata": {
        "deletable": false,
        "id": "2eb9088e"
      },
      "source": [
        "**Выводы:**\n",
        "   \n",
        "*   Наличие детей в целом увеличивает вероятность возникновения задолженностей по кредитам по отношению к бездетным заемщикам.\n",
        "*   Разница вероятностей между заемщиками с 2-мя и 3-мя детьми незначительна.\n",
        "*   Заемщики с 3-мя детьми считаются многодетными и вероятно наличие государственной соц.помощи у этой категории снижает вероятность возникновения задолженостей, но появления 4-го ребенка увеличивает вероятность до максимальной.\n",
        "*   Количество данных в предоставленной выборке о заемщиках с 5-ю и больше детьми недостаточно и, соответственно эта группа репрезентативна.\n",
        "*   Количество бездетных заемщиков превышает количество всех заемщиков с детьми (суммарно, вне зависимости от количества детей) более чем в 2 раза.\n",
        "\n"
      ]
    },
    {
      "cell_type": "markdown",
      "id": "74c9b3a7",
      "metadata": {
        "deletable": false,
        "editable": false,
        "id": "74c9b3a7"
      },
      "source": [
        "#### 3.2 Есть ли зависимость между семейным положением и возвратом кредита в срок?"
      ]
    },
    {
      "cell_type": "code",
      "execution_count": null,
      "id": "RH3UcwdEcbgl",
      "metadata": {
        "colab": {
          "base_uri": "https://localhost:8080/",
          "height": 727
        },
        "id": "RH3UcwdEcbgl",
        "outputId": "f0f30e4b-a63f-4093-a047-c065e7472938"
      },
      "outputs": [
        {
          "data": {
            "text/html": [
              "<div>\n",
              "<style scoped>\n",
              "    .dataframe tbody tr th:only-of-type {\n",
              "        vertical-align: middle;\n",
              "    }\n",
              "\n",
              "    .dataframe tbody tr th {\n",
              "        vertical-align: top;\n",
              "    }\n",
              "\n",
              "    .dataframe thead th {\n",
              "        text-align: right;\n",
              "    }\n",
              "</style>\n",
              "<table border=\"1\" class=\"dataframe\">\n",
              "  <thead>\n",
              "    <tr style=\"text-align: right;\">\n",
              "      <th></th>\n",
              "      <th>family_status_count</th>\n",
              "      <th>family_status_sum</th>\n",
              "      <th>family_status_result</th>\n",
              "    </tr>\n",
              "    <tr>\n",
              "      <th>family_status</th>\n",
              "      <th></th>\n",
              "      <th></th>\n",
              "      <th></th>\n",
              "    </tr>\n",
              "  </thead>\n",
              "  <tbody>\n",
              "    <tr>\n",
              "      <th>Не женат / не замужем</th>\n",
              "      <td>2796</td>\n",
              "      <td>273</td>\n",
              "      <td>9.76</td>\n",
              "    </tr>\n",
              "    <tr>\n",
              "      <th>гражданский брак</th>\n",
              "      <td>4134</td>\n",
              "      <td>385</td>\n",
              "      <td>9.31</td>\n",
              "    </tr>\n",
              "    <tr>\n",
              "      <th>женат / замужем</th>\n",
              "      <td>12261</td>\n",
              "      <td>927</td>\n",
              "      <td>7.56</td>\n",
              "    </tr>\n",
              "    <tr>\n",
              "      <th>в разводе</th>\n",
              "      <td>1189</td>\n",
              "      <td>84</td>\n",
              "      <td>7.06</td>\n",
              "    </tr>\n",
              "    <tr>\n",
              "      <th>вдовец / вдова</th>\n",
              "      <td>951</td>\n",
              "      <td>63</td>\n",
              "      <td>6.62</td>\n",
              "    </tr>\n",
              "  </tbody>\n",
              "</table>\n",
              "</div>"
            ],
            "text/plain": [
              "                       family_status_count  family_status_sum  \\\n",
              "family_status                                                   \n",
              "Не женат / не замужем                 2796                273   \n",
              "гражданский брак                      4134                385   \n",
              "женат / замужем                      12261                927   \n",
              "в разводе                             1189                 84   \n",
              "вдовец / вдова                         951                 63   \n",
              "\n",
              "                       family_status_result  \n",
              "family_status                                \n",
              "Не женат / не замужем                  9.76  \n",
              "гражданский брак                       9.31  \n",
              "женат / замужем                        7.56  \n",
              "в разводе                              7.06  \n",
              "вдовец / вдова                         6.62  "
            ]
          },
          "metadata": {},
          "output_type": "display_data"
        },
        {
          "data": {
            "text/plain": [
              "Text(0.5, 0, 'коэф. задолженности')"
            ]
          },
          "execution_count": 24,
          "metadata": {},
          "output_type": "execute_result"
        },
        {
          "data": {
            "image/png": "[encoded data removed]",
            "text/plain": [
              "<Figure size 432x288 with 1 Axes>"
            ]
          },
          "metadata": {
            "needs_background": "light"
          },
          "output_type": "display_data"
        }
      ],
      "source": [
        "# ToDo: категории в столбцах 'family_status' и 'family_status_ID' дублируются,\n",
        "#       поэтому целесообразно сделать декомпозицию таблицы и вывести название семейных\n",
        "#       статусов из столбца 'family_status' в отдельную таблицу или отдельный словарь\n",
        "\n",
        "\n",
        "# создадим отдельный датафрейм для проверки зависимости\n",
        "family_status_debt = pd.DataFrame()\n",
        "# family_status_sum - общее количество заемщиков сгруппированное по семейным статусам\n",
        "family_status_debt['family_status_count'] = data.groupby('family_status')['debt'].count()\n",
        "# family_status_count - общее кол-во заемщиков имевшие кредитные задолженности сгруппированное по семейным статусам\n",
        "family_status_debt['family_status_sum'] = data.groupby('family_status')['debt'].sum()\n",
        "# family_status_result - процентное соотношение кол-ва заемщиков имевших задолженность к\n",
        "# общему кол-ву взятых кредитов сгруппированное по семейным статусам\n",
        "family_status_debt['family_status_result'] = round(family_status_debt['family_status_sum'] /\n",
        "                                                   family_status_debt['family_status_count'] * 100, 2 )\n",
        "# сортируем датафрейм по процентному соотношению\n",
        "family_status_debt = family_status_debt.sort_values('family_status_result', ascending = False)\n",
        "# выводим результат\n",
        "#print(family_status_debt)\n",
        "display(family_status_debt)\n",
        "# график для наглядности\n",
        "graph = sb.barplot(x=family_status_debt['family_status_result'], y=family_status_debt.index)\n",
        "graph.set_ylabel('семейный статус')\n",
        "graph.set_xlabel('коэф. задолженности')"
      ]
    },
    {
      "cell_type": "markdown",
      "id": "c389ca63",
      "metadata": {
        "deletable": false,
        "id": "c389ca63"
      },
      "source": [
        "**Вывод:**\n",
        "\n",
        "\n",
        "*   Заемщики не в браке и не регистрирующие свои семейные отношения имеют максимальные показатели вероятности возникновения задолженностей (около 9.5%).\n",
        "*   У заемщиков находящихся или бывшие в браке в целом эти показатели вероятности ниже. Минимальные показания вероятности у вдовцов, т.е вероятно у людей пожилых (имеет смысл провести проверку категориям возраста)\n",
        "*   Максимальное количество заемщиков находятся в статусе брака, с вероятностью возникновения задолженности 7.56%  \n",
        "\n"
      ]
    },
    {
      "cell_type": "markdown",
      "id": "9529de68",
      "metadata": {
        "deletable": false,
        "editable": false,
        "id": "9529de68"
      },
      "source": [
        "#### 3.3 Есть ли зависимость между уровнем дохода и возвратом кредита в срок?"
      ]
    },
    {
      "cell_type": "code",
      "execution_count": null,
      "id": "8787f44a",
      "metadata": {
        "colab": {
          "base_uri": "https://localhost:8080/",
          "height": 727
        },
        "deletable": false,
        "id": "8787f44a",
        "outputId": "1b8536ef-40cd-4aed-973e-1b39b64b5e70"
      },
      "outputs": [
        {
          "data": {
            "text/html": [
              "<div>\n",
              "<style scoped>\n",
              "    .dataframe tbody tr th:only-of-type {\n",
              "        vertical-align: middle;\n",
              "    }\n",
              "\n",
              "    .dataframe tbody tr th {\n",
              "        vertical-align: top;\n",
              "    }\n",
              "\n",
              "    .dataframe thead th {\n",
              "        text-align: right;\n",
              "    }\n",
              "</style>\n",
              "<table border=\"1\" class=\"dataframe\">\n",
              "  <thead>\n",
              "    <tr style=\"text-align: right;\">\n",
              "      <th></th>\n",
              "      <th>total_income_category_count</th>\n",
              "      <th>total_income_category_sum</th>\n",
              "      <th>total_income_category_result</th>\n",
              "    </tr>\n",
              "    <tr>\n",
              "      <th>total_income_category</th>\n",
              "      <th></th>\n",
              "      <th></th>\n",
              "      <th></th>\n",
              "    </tr>\n",
              "  </thead>\n",
              "  <tbody>\n",
              "    <tr>\n",
              "      <th>A</th>\n",
              "      <td>25</td>\n",
              "      <td>2</td>\n",
              "      <td>8.00</td>\n",
              "    </tr>\n",
              "    <tr>\n",
              "      <th>B</th>\n",
              "      <td>5014</td>\n",
              "      <td>354</td>\n",
              "      <td>7.06</td>\n",
              "    </tr>\n",
              "    <tr>\n",
              "      <th>C</th>\n",
              "      <td>15921</td>\n",
              "      <td>1353</td>\n",
              "      <td>8.50</td>\n",
              "    </tr>\n",
              "    <tr>\n",
              "      <th>D</th>\n",
              "      <td>349</td>\n",
              "      <td>21</td>\n",
              "      <td>6.02</td>\n",
              "    </tr>\n",
              "    <tr>\n",
              "      <th>E</th>\n",
              "      <td>22</td>\n",
              "      <td>2</td>\n",
              "      <td>9.09</td>\n",
              "    </tr>\n",
              "  </tbody>\n",
              "</table>\n",
              "</div>"
            ],
            "text/plain": [
              "                       total_income_category_count  total_income_category_sum  \\\n",
              "total_income_category                                                           \n",
              "A                                               25                          2   \n",
              "B                                             5014                        354   \n",
              "C                                            15921                       1353   \n",
              "D                                              349                         21   \n",
              "E                                               22                          2   \n",
              "\n",
              "                       total_income_category_result  \n",
              "total_income_category                                \n",
              "A                                              8.00  \n",
              "B                                              7.06  \n",
              "C                                              8.50  \n",
              "D                                              6.02  \n",
              "E                                              9.09  "
            ]
          },
          "metadata": {},
          "output_type": "display_data"
        },
        {
          "data": {
            "text/plain": [
              "Text(0.5, 0, 'коэф. задолженности')"
            ]
          },
          "execution_count": 25,
          "metadata": {},
          "output_type": "execute_result"
        },
        {
          "data": {
            "image/png": "[encoded data removed]",
            "text/plain": [
              "<Figure size 432x288 with 1 Axes>"
            ]
          },
          "metadata": {
            "needs_background": "light"
          },
          "output_type": "display_data"
        }
      ],
      "source": [
        "# Используем ранее созданную категорию уровня дохода\n",
        "#   'A' - 1000001 и выше\n",
        "#   'B' - 200001–1000000\n",
        "#   'C' - 50001–200000\n",
        "#   'D' - 30001–50000\n",
        "#   'E' - 0–30000\n",
        "\n",
        "# создадим отдельный датафрейм для проверки зависимости\n",
        "income_category_debt = pd.DataFrame()\n",
        "# total_income_category_count - общее количество заемщиков сгруппированное по категориям дохода\n",
        "income_category_debt['total_income_category_count'] = data.groupby('total_income_category')['debt'].count()\n",
        "# total_income_category_sum - общее количество заемщиков имевшие кредитные задолженности\n",
        "# сгруппированное по категориям дохода\n",
        "income_category_debt['total_income_category_sum'] = data.groupby('total_income_category')['debt'].sum()\n",
        "# total_income_category_result - процентное соотношение количества заемщиков имевших задолженность к\n",
        "# общему кол-ву взятых кредитов сгруппированное по категориям дохода\n",
        "income_category_debt['total_income_category_result'] = round(data.groupby('total_income_category')['debt'].sum() /\n",
        "                                                             data.groupby('total_income_category')['debt'].count() * 100, 2)\n",
        "# Выводим результат\n",
        "display(income_category_debt)\n",
        "# график\n",
        "graph = sb.barplot(x=income_category_debt['total_income_category_result'], y=income_category_debt.index)\n",
        "graph.set_ylabel('категории уровня дохода')\n",
        "graph.set_xlabel('коэф. задолженности')"
      ]
    },
    {
      "cell_type": "markdown",
      "id": "6dd14b57",
      "metadata": {
        "deletable": false,
        "id": "6dd14b57"
      },
      "source": [
        "**Вывод:**\n",
        "\n",
        "\n",
        "*   Суммарно подавляющее вольшинство заемщиков (98.5%) находятся в категориях B и С. Максимальное количество заемщиков из категории 'С' (75% от общего кол-ва) имею доход 50001–200000 руб. Вторая группа по численности заемщиков - категория B (около 23.6%), с доходом 200001–1000000 руб. Остальные группы составляют 1.5% от всего количества заемщиков\n",
        "*   Заемщики из категории с доходом 50001–200000 имеют на 1.5 % больший показатель вероятности задолженности относительно заемщиков с доходом 200001–1000000 руб. (8.5% и 7% соответственно)\n",
        "\n"
      ]
    },
    {
      "cell_type": "code",
      "execution_count": null,
      "id": "6a163fe3",
      "metadata": {
        "id": "6a163fe3",
        "outputId": "27004646-9dd5-4b26-d21c-6d02bc85606d"
      },
      "outputs": [
        {
          "data": {
            "text/html": [
              "<div>\n",
              "<style scoped>\n",
              "    .dataframe tbody tr th:only-of-type {\n",
              "        vertical-align: middle;\n",
              "    }\n",
              "\n",
              "    .dataframe tbody tr th {\n",
              "        vertical-align: top;\n",
              "    }\n",
              "\n",
              "    .dataframe thead th {\n",
              "        text-align: right;\n",
              "    }\n",
              "</style>\n",
              "<table border=\"1\" class=\"dataframe\">\n",
              "  <thead>\n",
              "    <tr style=\"text-align: right;\">\n",
              "      <th></th>\n",
              "      <th>total_income_category_count</th>\n",
              "      <th>total_income_category_sum</th>\n",
              "      <th>total_income_category_result</th>\n",
              "    </tr>\n",
              "    <tr>\n",
              "      <th>total_income_category_qcut</th>\n",
              "      <th></th>\n",
              "      <th></th>\n",
              "      <th></th>\n",
              "    </tr>\n",
              "  </thead>\n",
              "  <tbody>\n",
              "    <tr>\n",
              "      <th>E</th>\n",
              "      <td>4267</td>\n",
              "      <td>344</td>\n",
              "      <td>8.06</td>\n",
              "    </tr>\n",
              "    <tr>\n",
              "      <th>D</th>\n",
              "      <td>4266</td>\n",
              "      <td>358</td>\n",
              "      <td>8.39</td>\n",
              "    </tr>\n",
              "    <tr>\n",
              "      <th>C</th>\n",
              "      <td>4266</td>\n",
              "      <td>373</td>\n",
              "      <td>8.74</td>\n",
              "    </tr>\n",
              "    <tr>\n",
              "      <th>B</th>\n",
              "      <td>4266</td>\n",
              "      <td>358</td>\n",
              "      <td>8.39</td>\n",
              "    </tr>\n",
              "    <tr>\n",
              "      <th>A</th>\n",
              "      <td>4266</td>\n",
              "      <td>299</td>\n",
              "      <td>7.01</td>\n",
              "    </tr>\n",
              "  </tbody>\n",
              "</table>\n",
              "</div>"
            ],
            "text/plain": [
              "                            total_income_category_count  \\\n",
              "total_income_category_qcut                                \n",
              "E                                                  4267   \n",
              "D                                                  4266   \n",
              "C                                                  4266   \n",
              "B                                                  4266   \n",
              "A                                                  4266   \n",
              "\n",
              "                            total_income_category_sum  \\\n",
              "total_income_category_qcut                              \n",
              "E                                                 344   \n",
              "D                                                 358   \n",
              "C                                                 373   \n",
              "B                                                 358   \n",
              "A                                                 299   \n",
              "\n",
              "                            total_income_category_result  \n",
              "total_income_category_qcut                                \n",
              "E                                                   8.06  \n",
              "D                                                   8.39  \n",
              "C                                                   8.74  \n",
              "B                                                   8.39  \n",
              "A                                                   7.01  "
            ]
          },
          "metadata": {},
          "output_type": "display_data"
        },
        {
          "data": {
            "text/plain": [
              "Text(0.5, 0, 'коэф. задолженности')"
            ]
          },
          "execution_count": 51,
          "metadata": {},
          "output_type": "execute_result"
        },
        {
          "data": {
            "image/png": "[encoded data removed]",
            "text/plain": [
              "<Figure size 432x288 with 1 Axes>"
            ]
          },
          "metadata": {
            "needs_background": "light"
          },
          "output_type": "display_data"
        }
      ],
      "source": [
        "# разбиваем общий доход на 5 равных диапазонов\n",
        "#print(pd.qcut(data['total_income'], 5))\n",
        "# получились следующие категории с диапазонами общего дохода:\n",
        "# E - (20666.999, 98514.0]\n",
        "# D - (98514.0, 132113.0]\n",
        "# C - (132113.0, 161380.0]\n",
        "# B - (161380.0, 214604.0]\n",
        "# A - (214604.0, 2265604.0]\n",
        "\n",
        "# присваиваем в столбце total_income_category_qcut значениям в новые категории\n",
        "data['total_income_category_qcut'] = pd.qcut(data['total_income'], 5, labels=['E', 'D', 'C', 'B', 'A'])\n",
        "# создадим новую сводную таблицу\n",
        "income_category_qcut = pd.DataFrame()\n",
        "# total_income_category_count - общее количество заемщиков сгруппированное по категориям дохода\n",
        "income_category_qcut['total_income_category_count'] = data.groupby('total_income_category_qcut')['debt'].count()\n",
        "# total_income_category_sum - общее количество заемщиков имевшие кредитные задолженности\n",
        "# сгруппированное по категориям дохода\n",
        "income_category_qcut['total_income_category_sum'] = data.groupby('total_income_category_qcut')['debt'].sum()\n",
        "# total_income_category_result - процентное соотношение количества заемщиков имевших задолженность к\n",
        "# общему кол-ву взятых кредитов сгруппированное по категориям дохода\n",
        "income_category_qcut['total_income_category_result'] = round(data.groupby('total_income_category_qcut')['debt'].sum() /\n",
        "                                                             data.groupby('total_income_category_qcut')['debt'].count() *\n",
        "                                                             100, 2)\n",
        "# Выводим результат\n",
        "display(income_category_qcut)\n",
        "# график\n",
        "graph = sb.barplot(x=income_category_qcut['total_income_category_result'], y=income_category_qcut.index)\n",
        "graph.set_ylabel('категории уровня дохода')\n",
        "graph.set_xlabel('коэф. задолженности')"
      ]
    },
    {
      "cell_type": "markdown",
      "id": "1dcc9b12",
      "metadata": {
        "deletable": false,
        "editable": false,
        "id": "1dcc9b12"
      },
      "source": [
        "#### 3.4 Как разные цели кредита влияют на его возврат в срок?"
      ]
    },
    {
      "cell_type": "code",
      "execution_count": null,
      "id": "c602bc8b",
      "metadata": {
        "colab": {
          "base_uri": "https://localhost:8080/",
          "height": 692
        },
        "deletable": false,
        "id": "c602bc8b",
        "outputId": "88225bd7-4e6d-48ca-a26c-b8e5d9c5100e"
      },
      "outputs": [
        {
          "name": "stdout",
          "output_type": "stream",
          "text": [
            "                          purpose_category_sum  purpose_category_count  \\\n",
            "purpose_category                                                         \n",
            "операции с автомобилем                     400                    4279   \n",
            "получение образования                      369                    3988   \n",
            "проведение свадьбы                         183                    2313   \n",
            "операции с недвижимостью                   780                   10751   \n",
            "\n",
            "                          purpose_category_result  \n",
            "purpose_category                                   \n",
            "операции с автомобилем                       9.35  \n",
            "получение образования                        9.25  \n",
            "проведение свадьбы                           7.91  \n",
            "операции с недвижимостью                     7.26  \n"
          ]
        },
        {
          "data": {
            "text/plain": [
              "Text(0.5, 0, 'коэф. задолженности')"
            ]
          },
          "execution_count": 25,
          "metadata": {},
          "output_type": "execute_result"
        },
        {
          "data": {
            "image/png": "[encoded data removed]",
            "text/plain": [
              "<Figure size 432x288 with 1 Axes>"
            ]
          },
          "metadata": {
            "needs_background": "light"
          },
          "output_type": "display_data"
        }
      ],
      "source": [
        "# создадим датафрейм\n",
        "purpose_category_debt = pd.DataFrame()\n",
        "# purpose_category_sum - общее количество заемщиков сгруппированное по целям кредита\n",
        "purpose_category_debt['purpose_category_sum'] = data.groupby('purpose_category')['debt'].sum()\n",
        "# purpose_category_count - общее количество заемщиков имевшие кредитные задолженности сгруппированное по целям кредита\n",
        "purpose_category_debt['purpose_category_count'] = data.groupby('purpose_category')['debt'].count()\n",
        "# purpose_category_result - процентное соотношение количества заемщиков имевших задолженность к общему кол-ву взятых кредитов сгруппированное по целям кредита\n",
        "purpose_category_debt['purpose_category_result'] = round(purpose_category_debt['purpose_category_sum'] / purpose_category_debt['purpose_category_count'] * 100 ,2)\n",
        "purpose_category_debt = purpose_category_debt.sort_values('purpose_category_result', ascending = False)\n",
        "print(purpose_category_debt)\n",
        "# график\n",
        "graph = sb.barplot(x=purpose_category_debt['purpose_category_result'], y=purpose_category_debt.index)\n",
        "graph.set_ylabel('цель кредита')\n",
        "graph.set_xlabel('коэф. задолженности')"
      ]
    },
    {
      "cell_type": "markdown",
      "id": "cf05ed63",
      "metadata": {
        "deletable": false,
        "id": "cf05ed63"
      },
      "source": [
        "**Вывод:**\n",
        "\n",
        "\n",
        "*   Половина кредитов берется с целью оцераций с недвижимостью. Эта же цель имеет минимальный процент вероятности задолженности - 7.26%\n",
        "*   Вторая группа по количеству взятия кредитов - операции с автомобилем (20,1%) имеет максимальную вероятность возникновения задолженности - 9.35%\n",
        "*   И почти такую же вероятность имеет цель - получение образования - 9.25%\n"
      ]
    },
    {
      "cell_type": "markdown",
      "id": "46c1f10b",
      "metadata": {
        "deletable": false,
        "editable": false,
        "id": "46c1f10b"
      },
      "source": [
        "#### 3.5 Приведите возможные причины появления пропусков в исходных данных."
      ]
    },
    {
      "cell_type": "markdown",
      "id": "7SJEGNO3xJfa",
      "metadata": {
        "id": "7SJEGNO3xJfa"
      },
      "source": [
        "В задаче 4 наличие пропусков было выявлено в двух колонках - 'days_employed' и 'total_income'. Причем количество пропусков одинаково - 2174.\n",
        "Проверим совпадают ли наличие пропусков в этих двух ячейках одновременно."
      ]
    },
    {
      "cell_type": "code",
      "execution_count": null,
      "id": "_AD9nv4Klt3C",
      "metadata": {
        "colab": {
          "base_uri": "https://localhost:8080/"
        },
        "id": "_AD9nv4Klt3C",
        "outputId": "d7fd9fcb-97f9-47c4-eea7-ceffa25453f8"
      },
      "outputs": [
        {
          "name": "stdout",
          "output_type": "stream",
          "text": [
            "2174\n"
          ]
        }
      ],
      "source": [
        "try:\n",
        "    data_nan = pd.read_csv('/datasets/data.csv')\n",
        "except:\n",
        "    data_nan = pd.read_csv('https://code.s3.yandex.net/datasets/data.csv')\n",
        "\n",
        "print(len(data_nan.loc[data_nan['days_employed'].isnull() & data_nan['total_income'].isnull()]))"
      ]
    },
    {
      "cell_type": "markdown",
      "id": "3697d2a9",
      "metadata": {
        "deletable": false,
        "id": "3697d2a9"
      },
      "source": [
        "Да, отсутствие данных в этих колонках совпадает - 2174.\n",
        "Других закономерностей в наличии пропусков не обнаружено.\n",
        "Скорее всего пропуски возникли вследствии технической ошибки при получении данных."
      ]
    },
    {
      "cell_type": "markdown",
      "id": "3137d257",
      "metadata": {
        "deletable": false,
        "editable": false,
        "id": "3137d257"
      },
      "source": [
        "#### 3.6 Объясните, почему заполнить пропуски медианным значением — лучшее решение для количественных переменных."
      ]
    },
    {
      "cell_type": "markdown",
      "id": "cf40012a",
      "metadata": {
        "deletable": false,
        "id": "cf40012a"
      },
      "source": [
        "Данные об общем трудовом стаже в днях (колонка 'days_employed') и ежемесячном  доходе (колонка 'total_income') это количественные переменные. Пропуски в таких переменных заполняют значениями характеризующими состояние выборки. Чтобы заполнить пропуски типичными значениями выборки используют среднее арифметическое или медиана. Причем медиана предпочтительней, так как она исключит сильно выделяющиеся значения в выборке, которые могут влиять на результат."
      ]
    },
    {
      "cell_type": "markdown",
      "id": "57bc304e",
      "metadata": {
        "deletable": false,
        "editable": false,
        "id": "57bc304e"
      },
      "source": [
        "### Шаг 4: общий вывод."
      ]
    },
    {
      "cell_type": "markdown",
      "id": "1ab75d1c",
      "metadata": {
        "deletable": false,
        "id": "1ab75d1c"
      },
      "source": [
        "Общие выводы\n",
        "\n",
        "*   Наличие и количество детей повышает вероятность возникновений задолженностей\n",
        "*   У заемщиков находящихся или бывших в браке в целом показатели вероятности ниже.\n",
        "*   Уровень дохода незначительно влияет на возникновений задолженностей\n",
        "*   Максимальная погашаемость кредитных займов у заемщиков берущие их для операций с недвижимостью.\n",
        "В итоге, портрет максимально надежного заемщика - семьи без детей, берущие кредит на операции с недвижимостью."
      ]
    }
  ],
  "metadata": {
    "ExecuteTimeLog": [
      {
        "duration": 1311,
        "start_time": "2023-04-27T17:27:03.247Z"
      },
      {
        "duration": 22,
        "start_time": "2023-04-27T17:27:04.560Z"
      },
      {
        "duration": 16,
        "start_time": "2023-04-27T17:27:04.583Z"
      },
      {
        "duration": 37,
        "start_time": "2023-04-27T17:27:04.600Z"
      },
      {
        "duration": 50,
        "start_time": "2023-04-27T17:27:04.639Z"
      },
      {
        "duration": 18,
        "start_time": "2023-04-27T17:27:04.691Z"
      },
      {
        "duration": 28,
        "start_time": "2023-04-27T17:27:04.711Z"
      },
      {
        "duration": 7,
        "start_time": "2023-04-27T17:27:04.741Z"
      },
      {
        "duration": 32,
        "start_time": "2023-04-27T17:27:04.750Z"
      },
      {
        "duration": 40,
        "start_time": "2023-04-27T17:27:04.784Z"
      },
      {
        "duration": 56,
        "start_time": "2023-04-27T17:27:04.826Z"
      },
      {
        "duration": 9,
        "start_time": "2023-04-27T17:27:04.884Z"
      },
      {
        "duration": 35,
        "start_time": "2023-04-27T17:27:04.894Z"
      },
      {
        "duration": 11,
        "start_time": "2023-04-27T17:27:04.931Z"
      },
      {
        "duration": 33,
        "start_time": "2023-04-27T17:27:04.944Z"
      },
      {
        "duration": 16,
        "start_time": "2023-04-27T17:27:04.978Z"
      },
      {
        "duration": 28,
        "start_time": "2023-04-27T17:27:04.995Z"
      },
      {
        "duration": 22,
        "start_time": "2023-04-27T17:27:05.024Z"
      },
      {
        "duration": 7,
        "start_time": "2023-04-27T17:27:05.048Z"
      },
      {
        "duration": 10,
        "start_time": "2023-04-27T17:27:05.056Z"
      },
      {
        "duration": 29,
        "start_time": "2023-04-27T17:27:05.068Z"
      },
      {
        "duration": 143,
        "start_time": "2023-04-27T17:27:05.099Z"
      },
      {
        "duration": 142,
        "start_time": "2023-04-27T17:27:05.244Z"
      },
      {
        "duration": 137,
        "start_time": "2023-04-27T17:27:05.388Z"
      },
      {
        "duration": 135,
        "start_time": "2023-04-27T17:27:05.526Z"
      },
      {
        "duration": 70,
        "start_time": "2023-04-27T17:27:05.663Z"
      },
      {
        "duration": 59,
        "start_time": "2023-04-28T06:18:17.445Z"
      },
      {
        "duration": 1622,
        "start_time": "2023-04-28T06:18:28.856Z"
      },
      {
        "duration": 20,
        "start_time": "2023-04-28T06:18:30.481Z"
      },
      {
        "duration": 16,
        "start_time": "2023-04-28T06:18:31.348Z"
      },
      {
        "duration": 11,
        "start_time": "2023-04-28T06:18:33.301Z"
      },
      {
        "duration": 39,
        "start_time": "2023-04-28T06:18:34.221Z"
      },
      {
        "duration": 4,
        "start_time": "2023-04-28T06:18:35.558Z"
      },
      {
        "duration": 9,
        "start_time": "2023-04-28T06:18:36.486Z"
      },
      {
        "duration": 6,
        "start_time": "2023-04-28T06:18:37.958Z"
      },
      {
        "duration": 9,
        "start_time": "2023-04-28T06:18:38.904Z"
      },
      {
        "duration": 5,
        "start_time": "2023-04-28T06:18:39.870Z"
      },
      {
        "duration": 40,
        "start_time": "2023-04-28T06:18:41.670Z"
      },
      {
        "duration": 11,
        "start_time": "2023-04-28T06:18:42.702Z"
      },
      {
        "duration": 4,
        "start_time": "2023-04-28T06:18:45.047Z"
      },
      {
        "duration": 11,
        "start_time": "2023-04-28T06:18:46.175Z"
      },
      {
        "duration": 18,
        "start_time": "2023-04-28T06:18:47.015Z"
      },
      {
        "duration": 29,
        "start_time": "2023-04-28T06:18:47.650Z"
      },
      {
        "duration": 5,
        "start_time": "2023-04-28T06:18:50.759Z"
      },
      {
        "duration": 12,
        "start_time": "2023-04-28T06:18:51.335Z"
      },
      {
        "duration": 8,
        "start_time": "2023-04-28T06:18:52.761Z"
      },
      {
        "duration": 3,
        "start_time": "2023-04-28T06:18:54.001Z"
      },
      {
        "duration": 8,
        "start_time": "2023-04-28T06:18:54.768Z"
      },
      {
        "duration": 138,
        "start_time": "2023-04-28T06:18:58.063Z"
      },
      {
        "duration": 208,
        "start_time": "2023-04-28T06:24:56.925Z"
      },
      {
        "duration": 175,
        "start_time": "2023-04-28T06:30:45.680Z"
      },
      {
        "duration": 84,
        "start_time": "2023-04-28T06:43:47.578Z"
      },
      {
        "duration": 83,
        "start_time": "2023-04-28T06:44:01.321Z"
      },
      {
        "duration": 26,
        "start_time": "2023-04-28T06:44:36.614Z"
      },
      {
        "duration": 16,
        "start_time": "2023-04-28T06:47:49.301Z"
      },
      {
        "duration": 85,
        "start_time": "2023-04-28T06:48:24.896Z"
      },
      {
        "duration": 18,
        "start_time": "2023-04-28T06:48:47.561Z"
      },
      {
        "duration": 18,
        "start_time": "2023-04-28T06:48:58.981Z"
      },
      {
        "duration": 20,
        "start_time": "2023-04-28T06:52:27.691Z"
      },
      {
        "duration": 24,
        "start_time": "2023-04-28T06:53:36.991Z"
      },
      {
        "duration": 4,
        "start_time": "2023-04-28T07:31:25.317Z"
      },
      {
        "duration": 15,
        "start_time": "2023-04-28T07:31:38.052Z"
      },
      {
        "duration": 24,
        "start_time": "2023-04-28T07:31:54.865Z"
      },
      {
        "duration": 29,
        "start_time": "2023-04-28T07:35:13.951Z"
      },
      {
        "duration": 51,
        "start_time": "2023-04-28T07:43:47.466Z"
      },
      {
        "duration": 38,
        "start_time": "2023-04-28T07:48:12.563Z"
      },
      {
        "duration": 22,
        "start_time": "2023-04-28T07:48:31.310Z"
      },
      {
        "duration": 23,
        "start_time": "2023-04-28T07:48:44.416Z"
      },
      {
        "duration": 35,
        "start_time": "2023-04-28T07:50:52.506Z"
      },
      {
        "duration": 30,
        "start_time": "2023-04-28T07:57:45.213Z"
      },
      {
        "duration": 159,
        "start_time": "2023-04-28T08:01:05.013Z"
      },
      {
        "duration": 177,
        "start_time": "2023-04-28T08:04:57.602Z"
      },
      {
        "duration": 166,
        "start_time": "2023-04-28T08:13:26.830Z"
      },
      {
        "duration": 176,
        "start_time": "2023-04-28T08:13:37.509Z"
      },
      {
        "duration": 201,
        "start_time": "2023-04-28T08:13:53.235Z"
      },
      {
        "duration": 362,
        "start_time": "2023-04-28T08:14:01.163Z"
      },
      {
        "duration": 170,
        "start_time": "2023-04-28T08:14:14.366Z"
      }
    ],
    "colab": {
      "provenance": []
    },
    "kernelspec": {
      "display_name": "Python 3 (ipykernel)",
      "language": "python",
      "name": "python3"
    },
    "language_info": {
      "codemirror_mode": {
        "name": "ipython",
        "version": 3
      },
      "file_extension": ".py",
      "mimetype": "text/x-python",
      "name": "python",
      "nbconvert_exporter": "python",
      "pygments_lexer": "ipython3",
      "version": "3.9.5"
    },
    "toc": {
      "base_numbering": 1,
      "nav_menu": {},
      "number_sections": true,
      "sideBar": true,
      "skip_h1_title": true,
      "title_cell": "Table of Contents",
      "title_sidebar": "Contents",
      "toc_cell": false,
      "toc_position": {},
      "toc_section_display": true,
      "toc_window_display": true
    }
  },
  "nbformat": 4,
  "nbformat_minor": 5
}