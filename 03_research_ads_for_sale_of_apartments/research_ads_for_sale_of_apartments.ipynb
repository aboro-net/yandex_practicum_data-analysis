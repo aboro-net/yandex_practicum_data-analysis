{
  "cells": [
    {
      "cell_type": "markdown",
      "metadata": {
        "id": "Q-iWhMQ5I-dB"
      },
      "source": [
        "# Исследование объявлений о продаже квартир\n",
        "\n",
        "В вашем распоряжении данные сервиса Яндекс.Недвижимость — архив объявлений о продаже квартир в Санкт-Петербурге и соседних населённых пунктов за несколько лет. Нужно научиться определять рыночную стоимость объектов недвижимости. Ваша задача — установить параметры. Это позволит построить автоматизированную систему: она отследит аномалии и мошенническую деятельность.\n",
        "\n",
        "По каждой квартире на продажу доступны два вида данных. Первые вписаны пользователем, вторые — получены автоматически на основе картографических данных. Например, расстояние до центра, аэропорта, ближайшего парка и водоёма."
      ]
    },
    {
      "cell_type": "markdown",
      "metadata": {
        "id": "z9OrTUBqI-dD"
      },
      "source": [
        "### Откройте файл с данными и изучите общую информацию."
      ]
    },
    {
      "cell_type": "code",
      "execution_count": null,
      "metadata": {
        "id": "VFwbpHCmI-dE"
      },
      "outputs": [],
      "source": [
        "import pandas as pd\n",
        "import matplotlib.pyplot as plt\n",
        "\n",
        "# загружаем датасет\n",
        "try:\n",
        "    df = pd.read_csv('/datasets/real_estate_data.csv', sep='\\t')\n",
        "except:\n",
        "    df = pd.read_csv('https://code.s3.yandex.net/datasets/real_estate_data.csv', sep='\\t')"
      ]
    },
    {
      "cell_type": "code",
      "execution_count": null,
      "metadata": {
        "colab": {
          "base_uri": "https://localhost:8080/"
        },
        "id": "_aEzlsrKNXmf",
        "outputId": "6e3aceb5-a595-4096-8cbf-dc623a8ff429"
      },
      "outputs": [
        {
          "name": "stdout",
          "output_type": "stream",
          "text": [
            "<class 'pandas.core.frame.DataFrame'>\n",
            "RangeIndex: 23699 entries, 0 to 23698\n",
            "Data columns (total 22 columns):\n",
            " #   Column                Non-Null Count  Dtype  \n",
            "---  ------                --------------  -----  \n",
            " 0   total_images          23699 non-null  int64  \n",
            " 1   last_price            23699 non-null  float64\n",
            " 2   total_area            23699 non-null  float64\n",
            " 3   first_day_exposition  23699 non-null  object \n",
            " 4   rooms                 23699 non-null  int64  \n",
            " 5   ceiling_height        14504 non-null  float64\n",
            " 6   floors_total          23613 non-null  float64\n",
            " 7   living_area           21796 non-null  float64\n",
            " 8   floor                 23699 non-null  int64  \n",
            " 9   is_apartment          2775 non-null   object \n",
            " 10  studio                23699 non-null  bool   \n",
            " 11  open_plan             23699 non-null  bool   \n",
            " 12  kitchen_area          21421 non-null  float64\n",
            " 13  balcony               12180 non-null  float64\n",
            " 14  locality_name         23650 non-null  object \n",
            " 15  airports_nearest      18157 non-null  float64\n",
            " 16  cityCenters_nearest   18180 non-null  float64\n",
            " 17  parks_around3000      18181 non-null  float64\n",
            " 18  parks_nearest         8079 non-null   float64\n",
            " 19  ponds_around3000      18181 non-null  float64\n",
            " 20  ponds_nearest         9110 non-null   float64\n",
            " 21  days_exposition       20518 non-null  float64\n",
            "dtypes: bool(2), float64(14), int64(3), object(3)\n",
            "memory usage: 3.7+ MB\n"
          ]
        }
      ],
      "source": [
        "# получаем общую информацию о датасете\n",
        "df.info()"
      ]
    },
    {
      "cell_type": "markdown",
      "metadata": {
        "id": "gWaRvp7wRRK8"
      },
      "source": [
        "Название столбцов из описание данных:\n",
        "*   *total_images* — число фотографий квартиры в объявлении\n",
        "*   *last_price* — цена на момент снятия с публикации\n",
        "*   *total_area* — общая площадь квартиры в квадратных метрах (м²)\n",
        "*   *first_day_exposition* — дата публикации\n",
        "*   *rooms* — число комнат\n",
        "*   *ceiling_height* — высота потолков (м)\n",
        "*   *floors_total* — всего этажей в доме\n",
        "*   *living_area* — жилая площадь в квадратных метрах (м²)\n",
        "*   *floor* — этаж\n",
        "*   *is_apartment* — апартаменты (булев тип)\n",
        "*   *studio* — квартира-студия (булев тип)\n",
        "*   *open_plan* — свободная планировка (булев тип)\n",
        "*   *kitchen_area* — площадь кухни в квадратных метрах (м²)\n",
        "*   *balcony* — число балконов\n",
        "*   *locality_name* — название населённого пункта\n",
        "*   *airports_nearest* — расстояние до ближайшего аэропорта в метрах (м)\n",
        "*   *cityCenters_nearest* — расстояние до центра города (м)\n",
        "*   *parks_around3000* — число парков в радиусе 3 км\n",
        "*   *parks_nearest* — расстояние до ближайшего парка (м)\n",
        "*   *ponds_around3000* — число водоёмов в радиусе 3 км\n",
        "*   *ponds_nearest* — расстояние до ближайшего водоёма (м)\n",
        "*   days_exposition — сколько дней было размещено объявление (от публикации до снятия)\n",
        "\n",
        "\n",
        "\n",
        "\n",
        "\n",
        "\n",
        "\n",
        "\n",
        "\n",
        "\n",
        "\n",
        "\n",
        "\n"
      ]
    },
    {
      "cell_type": "code",
      "execution_count": null,
      "metadata": {
        "colab": {
          "base_uri": "https://localhost:8080/",
          "height": 364
        },
        "id": "Xu3BTDe4j-IH",
        "outputId": "1afdf352-3728-411c-f58d-71f490e8ec83"
      },
      "outputs": [
        {
          "data": {
            "text/html": [
              "<div>\n",
              "<style scoped>\n",
              "    .dataframe tbody tr th:only-of-type {\n",
              "        vertical-align: middle;\n",
              "    }\n",
              "\n",
              "    .dataframe tbody tr th {\n",
              "        vertical-align: top;\n",
              "    }\n",
              "\n",
              "    .dataframe thead th {\n",
              "        text-align: right;\n",
              "    }\n",
              "</style>\n",
              "<table border=\"1\" class=\"dataframe\">\n",
              "  <thead>\n",
              "    <tr style=\"text-align: right;\">\n",
              "      <th></th>\n",
              "      <th>total_images</th>\n",
              "      <th>last_price</th>\n",
              "      <th>total_area</th>\n",
              "      <th>rooms</th>\n",
              "      <th>ceiling_height</th>\n",
              "      <th>floors_total</th>\n",
              "      <th>living_area</th>\n",
              "      <th>floor</th>\n",
              "      <th>kitchen_area</th>\n",
              "      <th>balcony</th>\n",
              "      <th>airports_nearest</th>\n",
              "      <th>cityCenters_nearest</th>\n",
              "      <th>parks_around3000</th>\n",
              "      <th>parks_nearest</th>\n",
              "      <th>ponds_around3000</th>\n",
              "      <th>ponds_nearest</th>\n",
              "      <th>days_exposition</th>\n",
              "    </tr>\n",
              "  </thead>\n",
              "  <tbody>\n",
              "    <tr>\n",
              "      <th>count</th>\n",
              "      <td>23699.000000</td>\n",
              "      <td>2.369900e+04</td>\n",
              "      <td>23699.000000</td>\n",
              "      <td>23699.000000</td>\n",
              "      <td>14504.000000</td>\n",
              "      <td>23613.000000</td>\n",
              "      <td>21796.000000</td>\n",
              "      <td>23699.000000</td>\n",
              "      <td>21421.000000</td>\n",
              "      <td>12180.000000</td>\n",
              "      <td>18157.000000</td>\n",
              "      <td>18180.000000</td>\n",
              "      <td>18181.000000</td>\n",
              "      <td>8079.000000</td>\n",
              "      <td>18181.000000</td>\n",
              "      <td>9110.000000</td>\n",
              "      <td>20518.000000</td>\n",
              "    </tr>\n",
              "    <tr>\n",
              "      <th>mean</th>\n",
              "      <td>9.858475</td>\n",
              "      <td>6.541549e+06</td>\n",
              "      <td>60.348651</td>\n",
              "      <td>2.070636</td>\n",
              "      <td>2.771499</td>\n",
              "      <td>10.673824</td>\n",
              "      <td>34.457852</td>\n",
              "      <td>5.892358</td>\n",
              "      <td>10.569807</td>\n",
              "      <td>1.150082</td>\n",
              "      <td>28793.672193</td>\n",
              "      <td>14191.277833</td>\n",
              "      <td>0.611408</td>\n",
              "      <td>490.804555</td>\n",
              "      <td>0.770255</td>\n",
              "      <td>517.980900</td>\n",
              "      <td>180.888634</td>\n",
              "    </tr>\n",
              "    <tr>\n",
              "      <th>std</th>\n",
              "      <td>5.682529</td>\n",
              "      <td>1.088701e+07</td>\n",
              "      <td>35.654083</td>\n",
              "      <td>1.078405</td>\n",
              "      <td>1.261056</td>\n",
              "      <td>6.597173</td>\n",
              "      <td>22.030445</td>\n",
              "      <td>4.885249</td>\n",
              "      <td>5.905438</td>\n",
              "      <td>1.071300</td>\n",
              "      <td>12630.880622</td>\n",
              "      <td>8608.386210</td>\n",
              "      <td>0.802074</td>\n",
              "      <td>342.317995</td>\n",
              "      <td>0.938346</td>\n",
              "      <td>277.720643</td>\n",
              "      <td>219.727988</td>\n",
              "    </tr>\n",
              "    <tr>\n",
              "      <th>min</th>\n",
              "      <td>0.000000</td>\n",
              "      <td>1.219000e+04</td>\n",
              "      <td>12.000000</td>\n",
              "      <td>0.000000</td>\n",
              "      <td>1.000000</td>\n",
              "      <td>1.000000</td>\n",
              "      <td>2.000000</td>\n",
              "      <td>1.000000</td>\n",
              "      <td>1.300000</td>\n",
              "      <td>0.000000</td>\n",
              "      <td>0.000000</td>\n",
              "      <td>181.000000</td>\n",
              "      <td>0.000000</td>\n",
              "      <td>1.000000</td>\n",
              "      <td>0.000000</td>\n",
              "      <td>13.000000</td>\n",
              "      <td>1.000000</td>\n",
              "    </tr>\n",
              "    <tr>\n",
              "      <th>25%</th>\n",
              "      <td>6.000000</td>\n",
              "      <td>3.400000e+06</td>\n",
              "      <td>40.000000</td>\n",
              "      <td>1.000000</td>\n",
              "      <td>2.520000</td>\n",
              "      <td>5.000000</td>\n",
              "      <td>18.600000</td>\n",
              "      <td>2.000000</td>\n",
              "      <td>7.000000</td>\n",
              "      <td>0.000000</td>\n",
              "      <td>18585.000000</td>\n",
              "      <td>9238.000000</td>\n",
              "      <td>0.000000</td>\n",
              "      <td>288.000000</td>\n",
              "      <td>0.000000</td>\n",
              "      <td>294.000000</td>\n",
              "      <td>45.000000</td>\n",
              "    </tr>\n",
              "    <tr>\n",
              "      <th>50%</th>\n",
              "      <td>9.000000</td>\n",
              "      <td>4.650000e+06</td>\n",
              "      <td>52.000000</td>\n",
              "      <td>2.000000</td>\n",
              "      <td>2.650000</td>\n",
              "      <td>9.000000</td>\n",
              "      <td>30.000000</td>\n",
              "      <td>4.000000</td>\n",
              "      <td>9.100000</td>\n",
              "      <td>1.000000</td>\n",
              "      <td>26726.000000</td>\n",
              "      <td>13098.500000</td>\n",
              "      <td>0.000000</td>\n",
              "      <td>455.000000</td>\n",
              "      <td>1.000000</td>\n",
              "      <td>502.000000</td>\n",
              "      <td>95.000000</td>\n",
              "    </tr>\n",
              "    <tr>\n",
              "      <th>75%</th>\n",
              "      <td>14.000000</td>\n",
              "      <td>6.800000e+06</td>\n",
              "      <td>69.900000</td>\n",
              "      <td>3.000000</td>\n",
              "      <td>2.800000</td>\n",
              "      <td>16.000000</td>\n",
              "      <td>42.300000</td>\n",
              "      <td>8.000000</td>\n",
              "      <td>12.000000</td>\n",
              "      <td>2.000000</td>\n",
              "      <td>37273.000000</td>\n",
              "      <td>16293.000000</td>\n",
              "      <td>1.000000</td>\n",
              "      <td>612.000000</td>\n",
              "      <td>1.000000</td>\n",
              "      <td>729.000000</td>\n",
              "      <td>232.000000</td>\n",
              "    </tr>\n",
              "    <tr>\n",
              "      <th>max</th>\n",
              "      <td>50.000000</td>\n",
              "      <td>7.630000e+08</td>\n",
              "      <td>900.000000</td>\n",
              "      <td>19.000000</td>\n",
              "      <td>100.000000</td>\n",
              "      <td>60.000000</td>\n",
              "      <td>409.700000</td>\n",
              "      <td>33.000000</td>\n",
              "      <td>112.000000</td>\n",
              "      <td>5.000000</td>\n",
              "      <td>84869.000000</td>\n",
              "      <td>65968.000000</td>\n",
              "      <td>3.000000</td>\n",
              "      <td>3190.000000</td>\n",
              "      <td>3.000000</td>\n",
              "      <td>1344.000000</td>\n",
              "      <td>1580.000000</td>\n",
              "    </tr>\n",
              "  </tbody>\n",
              "</table>\n",
              "</div>"
            ],
            "text/plain": [
              "       total_images    last_price    total_area         rooms  ceiling_height  \\\n",
              "count  23699.000000  2.369900e+04  23699.000000  23699.000000    14504.000000   \n",
              "mean       9.858475  6.541549e+06     60.348651      2.070636        2.771499   \n",
              "std        5.682529  1.088701e+07     35.654083      1.078405        1.261056   \n",
              "min        0.000000  1.219000e+04     12.000000      0.000000        1.000000   \n",
              "25%        6.000000  3.400000e+06     40.000000      1.000000        2.520000   \n",
              "50%        9.000000  4.650000e+06     52.000000      2.000000        2.650000   \n",
              "75%       14.000000  6.800000e+06     69.900000      3.000000        2.800000   \n",
              "max       50.000000  7.630000e+08    900.000000     19.000000      100.000000   \n",
              "\n",
              "       floors_total   living_area         floor  kitchen_area       balcony  \\\n",
              "count  23613.000000  21796.000000  23699.000000  21421.000000  12180.000000   \n",
              "mean      10.673824     34.457852      5.892358     10.569807      1.150082   \n",
              "std        6.597173     22.030445      4.885249      5.905438      1.071300   \n",
              "min        1.000000      2.000000      1.000000      1.300000      0.000000   \n",
              "25%        5.000000     18.600000      2.000000      7.000000      0.000000   \n",
              "50%        9.000000     30.000000      4.000000      9.100000      1.000000   \n",
              "75%       16.000000     42.300000      8.000000     12.000000      2.000000   \n",
              "max       60.000000    409.700000     33.000000    112.000000      5.000000   \n",
              "\n",
              "       airports_nearest  cityCenters_nearest  parks_around3000  parks_nearest  \\\n",
              "count      18157.000000         18180.000000      18181.000000    8079.000000   \n",
              "mean       28793.672193         14191.277833          0.611408     490.804555   \n",
              "std        12630.880622          8608.386210          0.802074     342.317995   \n",
              "min            0.000000           181.000000          0.000000       1.000000   \n",
              "25%        18585.000000          9238.000000          0.000000     288.000000   \n",
              "50%        26726.000000         13098.500000          0.000000     455.000000   \n",
              "75%        37273.000000         16293.000000          1.000000     612.000000   \n",
              "max        84869.000000         65968.000000          3.000000    3190.000000   \n",
              "\n",
              "       ponds_around3000  ponds_nearest  days_exposition  \n",
              "count      18181.000000    9110.000000     20518.000000  \n",
              "mean           0.770255     517.980900       180.888634  \n",
              "std            0.938346     277.720643       219.727988  \n",
              "min            0.000000      13.000000         1.000000  \n",
              "25%            0.000000     294.000000        45.000000  \n",
              "50%            1.000000     502.000000        95.000000  \n",
              "75%            1.000000     729.000000       232.000000  \n",
              "max            3.000000    1344.000000      1580.000000  "
            ]
          },
          "execution_count": 3,
          "metadata": {},
          "output_type": "execute_result"
        }
      ],
      "source": [
        "# получим общую информацию о данных\n",
        "df.describe()"
      ]
    },
    {
      "cell_type": "code",
      "execution_count": null,
      "metadata": {
        "colab": {
          "base_uri": "https://localhost:8080/"
        },
        "id": "2l1RgRXq-Y4C",
        "outputId": "97e29758-ddc3-4ae9-f66e-34e4d961fb80"
      },
      "outputs": [
        {
          "name": "stdout",
          "output_type": "stream",
          "text": [
            "Количество явных дубликатов во всем датасете: 0\n"
          ]
        }
      ],
      "source": [
        "# Проверим записи на наличие дубликатов\n",
        "print('Количество явных дубликатов во всем датасете:', df.duplicated().sum())"
      ]
    },
    {
      "cell_type": "code",
      "execution_count": null,
      "metadata": {
        "colab": {
          "base_uri": "https://localhost:8080/",
          "height": 757
        },
        "id": "2CoUOTlINipF",
        "outputId": "a31dd423-e84e-4c32-93e7-8e55e45f47a4"
      },
      "outputs": [
        {
          "data": {
            "text/html": [
              "<div>\n",
              "<style scoped>\n",
              "    .dataframe tbody tr th:only-of-type {\n",
              "        vertical-align: middle;\n",
              "    }\n",
              "\n",
              "    .dataframe tbody tr th {\n",
              "        vertical-align: top;\n",
              "    }\n",
              "\n",
              "    .dataframe thead th {\n",
              "        text-align: right;\n",
              "    }\n",
              "</style>\n",
              "<table border=\"1\" class=\"dataframe\">\n",
              "  <thead>\n",
              "    <tr style=\"text-align: right;\">\n",
              "      <th></th>\n",
              "      <th>total_images</th>\n",
              "      <th>last_price</th>\n",
              "      <th>total_area</th>\n",
              "      <th>first_day_exposition</th>\n",
              "      <th>rooms</th>\n",
              "      <th>ceiling_height</th>\n",
              "      <th>floors_total</th>\n",
              "      <th>living_area</th>\n",
              "      <th>floor</th>\n",
              "      <th>is_apartment</th>\n",
              "      <th>...</th>\n",
              "      <th>kitchen_area</th>\n",
              "      <th>balcony</th>\n",
              "      <th>locality_name</th>\n",
              "      <th>airports_nearest</th>\n",
              "      <th>cityCenters_nearest</th>\n",
              "      <th>parks_around3000</th>\n",
              "      <th>parks_nearest</th>\n",
              "      <th>ponds_around3000</th>\n",
              "      <th>ponds_nearest</th>\n",
              "      <th>days_exposition</th>\n",
              "    </tr>\n",
              "  </thead>\n",
              "  <tbody>\n",
              "    <tr>\n",
              "      <th>10453</th>\n",
              "      <td>18</td>\n",
              "      <td>3299000.0</td>\n",
              "      <td>38.00</td>\n",
              "      <td>2017-05-10T00:00:00</td>\n",
              "      <td>1</td>\n",
              "      <td>2.55</td>\n",
              "      <td>5.0</td>\n",
              "      <td>30.00</td>\n",
              "      <td>4</td>\n",
              "      <td>NaN</td>\n",
              "      <td>...</td>\n",
              "      <td>7.78</td>\n",
              "      <td>0.0</td>\n",
              "      <td>Санкт-Петербург</td>\n",
              "      <td>10541.0</td>\n",
              "      <td>12637.0</td>\n",
              "      <td>0.0</td>\n",
              "      <td>NaN</td>\n",
              "      <td>1.0</td>\n",
              "      <td>670.0</td>\n",
              "      <td>88.0</td>\n",
              "    </tr>\n",
              "    <tr>\n",
              "      <th>21979</th>\n",
              "      <td>18</td>\n",
              "      <td>3099000.0</td>\n",
              "      <td>50.50</td>\n",
              "      <td>2018-09-19T00:00:00</td>\n",
              "      <td>2</td>\n",
              "      <td>NaN</td>\n",
              "      <td>5.0</td>\n",
              "      <td>27.00</td>\n",
              "      <td>4</td>\n",
              "      <td>NaN</td>\n",
              "      <td>...</td>\n",
              "      <td>9.60</td>\n",
              "      <td>NaN</td>\n",
              "      <td>деревня Лупполово</td>\n",
              "      <td>NaN</td>\n",
              "      <td>NaN</td>\n",
              "      <td>NaN</td>\n",
              "      <td>NaN</td>\n",
              "      <td>NaN</td>\n",
              "      <td>NaN</td>\n",
              "      <td>60.0</td>\n",
              "    </tr>\n",
              "    <tr>\n",
              "      <th>9303</th>\n",
              "      <td>8</td>\n",
              "      <td>1090000.0</td>\n",
              "      <td>31.00</td>\n",
              "      <td>2018-06-18T00:00:00</td>\n",
              "      <td>1</td>\n",
              "      <td>NaN</td>\n",
              "      <td>5.0</td>\n",
              "      <td>NaN</td>\n",
              "      <td>4</td>\n",
              "      <td>NaN</td>\n",
              "      <td>...</td>\n",
              "      <td>NaN</td>\n",
              "      <td>NaN</td>\n",
              "      <td>деревня Старые Бегуницы</td>\n",
              "      <td>NaN</td>\n",
              "      <td>NaN</td>\n",
              "      <td>NaN</td>\n",
              "      <td>NaN</td>\n",
              "      <td>NaN</td>\n",
              "      <td>NaN</td>\n",
              "      <td>45.0</td>\n",
              "    </tr>\n",
              "    <tr>\n",
              "      <th>13651</th>\n",
              "      <td>5</td>\n",
              "      <td>3390000.0</td>\n",
              "      <td>44.08</td>\n",
              "      <td>2018-09-17T00:00:00</td>\n",
              "      <td>1</td>\n",
              "      <td>NaN</td>\n",
              "      <td>3.0</td>\n",
              "      <td>12.18</td>\n",
              "      <td>2</td>\n",
              "      <td>NaN</td>\n",
              "      <td>...</td>\n",
              "      <td>16.80</td>\n",
              "      <td>NaN</td>\n",
              "      <td>Красное Село</td>\n",
              "      <td>26236.0</td>\n",
              "      <td>29661.0</td>\n",
              "      <td>3.0</td>\n",
              "      <td>95.0</td>\n",
              "      <td>2.0</td>\n",
              "      <td>319.0</td>\n",
              "      <td>45.0</td>\n",
              "    </tr>\n",
              "    <tr>\n",
              "      <th>17677</th>\n",
              "      <td>9</td>\n",
              "      <td>4400000.0</td>\n",
              "      <td>61.70</td>\n",
              "      <td>2017-08-10T00:00:00</td>\n",
              "      <td>3</td>\n",
              "      <td>2.50</td>\n",
              "      <td>5.0</td>\n",
              "      <td>48.25</td>\n",
              "      <td>5</td>\n",
              "      <td>NaN</td>\n",
              "      <td>...</td>\n",
              "      <td>5.20</td>\n",
              "      <td>4.0</td>\n",
              "      <td>Гатчина</td>\n",
              "      <td>NaN</td>\n",
              "      <td>NaN</td>\n",
              "      <td>NaN</td>\n",
              "      <td>NaN</td>\n",
              "      <td>NaN</td>\n",
              "      <td>NaN</td>\n",
              "      <td>NaN</td>\n",
              "    </tr>\n",
              "    <tr>\n",
              "      <th>4261</th>\n",
              "      <td>6</td>\n",
              "      <td>4300000.0</td>\n",
              "      <td>47.10</td>\n",
              "      <td>2017-05-05T00:00:00</td>\n",
              "      <td>2</td>\n",
              "      <td>NaN</td>\n",
              "      <td>4.0</td>\n",
              "      <td>32.00</td>\n",
              "      <td>2</td>\n",
              "      <td>False</td>\n",
              "      <td>...</td>\n",
              "      <td>6.00</td>\n",
              "      <td>0.0</td>\n",
              "      <td>Санкт-Петербург</td>\n",
              "      <td>21462.0</td>\n",
              "      <td>3797.0</td>\n",
              "      <td>0.0</td>\n",
              "      <td>NaN</td>\n",
              "      <td>2.0</td>\n",
              "      <td>280.0</td>\n",
              "      <td>69.0</td>\n",
              "    </tr>\n",
              "    <tr>\n",
              "      <th>16981</th>\n",
              "      <td>20</td>\n",
              "      <td>21000000.0</td>\n",
              "      <td>122.00</td>\n",
              "      <td>2018-01-15T00:00:00</td>\n",
              "      <td>3</td>\n",
              "      <td>2.70</td>\n",
              "      <td>25.0</td>\n",
              "      <td>70.00</td>\n",
              "      <td>16</td>\n",
              "      <td>NaN</td>\n",
              "      <td>...</td>\n",
              "      <td>14.00</td>\n",
              "      <td>2.0</td>\n",
              "      <td>Санкт-Петербург</td>\n",
              "      <td>36827.0</td>\n",
              "      <td>12348.0</td>\n",
              "      <td>1.0</td>\n",
              "      <td>485.0</td>\n",
              "      <td>1.0</td>\n",
              "      <td>474.0</td>\n",
              "      <td>182.0</td>\n",
              "    </tr>\n",
              "    <tr>\n",
              "      <th>3254</th>\n",
              "      <td>16</td>\n",
              "      <td>8800000.0</td>\n",
              "      <td>80.00</td>\n",
              "      <td>2019-05-03T00:00:00</td>\n",
              "      <td>3</td>\n",
              "      <td>2.80</td>\n",
              "      <td>17.0</td>\n",
              "      <td>31.00</td>\n",
              "      <td>15</td>\n",
              "      <td>NaN</td>\n",
              "      <td>...</td>\n",
              "      <td>27.00</td>\n",
              "      <td>2.0</td>\n",
              "      <td>Кудрово</td>\n",
              "      <td>NaN</td>\n",
              "      <td>NaN</td>\n",
              "      <td>NaN</td>\n",
              "      <td>NaN</td>\n",
              "      <td>NaN</td>\n",
              "      <td>NaN</td>\n",
              "      <td>NaN</td>\n",
              "    </tr>\n",
              "    <tr>\n",
              "      <th>22832</th>\n",
              "      <td>5</td>\n",
              "      <td>2600000.0</td>\n",
              "      <td>28.00</td>\n",
              "      <td>2018-12-14T00:00:00</td>\n",
              "      <td>0</td>\n",
              "      <td>2.60</td>\n",
              "      <td>16.0</td>\n",
              "      <td>16.80</td>\n",
              "      <td>9</td>\n",
              "      <td>NaN</td>\n",
              "      <td>...</td>\n",
              "      <td>NaN</td>\n",
              "      <td>NaN</td>\n",
              "      <td>Санкт-Петербург</td>\n",
              "      <td>19372.0</td>\n",
              "      <td>22796.0</td>\n",
              "      <td>0.0</td>\n",
              "      <td>NaN</td>\n",
              "      <td>1.0</td>\n",
              "      <td>406.0</td>\n",
              "      <td>NaN</td>\n",
              "    </tr>\n",
              "    <tr>\n",
              "      <th>3359</th>\n",
              "      <td>20</td>\n",
              "      <td>6900000.0</td>\n",
              "      <td>60.00</td>\n",
              "      <td>2017-02-16T00:00:00</td>\n",
              "      <td>3</td>\n",
              "      <td>NaN</td>\n",
              "      <td>5.0</td>\n",
              "      <td>NaN</td>\n",
              "      <td>2</td>\n",
              "      <td>False</td>\n",
              "      <td>...</td>\n",
              "      <td>NaN</td>\n",
              "      <td>1.0</td>\n",
              "      <td>Санкт-Петербург</td>\n",
              "      <td>15168.0</td>\n",
              "      <td>10080.0</td>\n",
              "      <td>0.0</td>\n",
              "      <td>NaN</td>\n",
              "      <td>1.0</td>\n",
              "      <td>466.0</td>\n",
              "      <td>60.0</td>\n",
              "    </tr>\n",
              "    <tr>\n",
              "      <th>3725</th>\n",
              "      <td>16</td>\n",
              "      <td>28000000.0</td>\n",
              "      <td>188.00</td>\n",
              "      <td>2015-06-09T00:00:00</td>\n",
              "      <td>5</td>\n",
              "      <td>3.40</td>\n",
              "      <td>6.0</td>\n",
              "      <td>139.00</td>\n",
              "      <td>5</td>\n",
              "      <td>NaN</td>\n",
              "      <td>...</td>\n",
              "      <td>NaN</td>\n",
              "      <td>NaN</td>\n",
              "      <td>Санкт-Петербург</td>\n",
              "      <td>25069.0</td>\n",
              "      <td>3771.0</td>\n",
              "      <td>1.0</td>\n",
              "      <td>135.0</td>\n",
              "      <td>1.0</td>\n",
              "      <td>618.0</td>\n",
              "      <td>1395.0</td>\n",
              "    </tr>\n",
              "    <tr>\n",
              "      <th>1341</th>\n",
              "      <td>9</td>\n",
              "      <td>6300000.0</td>\n",
              "      <td>70.00</td>\n",
              "      <td>2016-04-25T00:00:00</td>\n",
              "      <td>3</td>\n",
              "      <td>2.70</td>\n",
              "      <td>14.0</td>\n",
              "      <td>42.00</td>\n",
              "      <td>6</td>\n",
              "      <td>NaN</td>\n",
              "      <td>...</td>\n",
              "      <td>12.00</td>\n",
              "      <td>0.0</td>\n",
              "      <td>Санкт-Петербург</td>\n",
              "      <td>36223.0</td>\n",
              "      <td>16525.0</td>\n",
              "      <td>0.0</td>\n",
              "      <td>NaN</td>\n",
              "      <td>2.0</td>\n",
              "      <td>555.0</td>\n",
              "      <td>109.0</td>\n",
              "    </tr>\n",
              "    <tr>\n",
              "      <th>10468</th>\n",
              "      <td>6</td>\n",
              "      <td>1850000.0</td>\n",
              "      <td>51.00</td>\n",
              "      <td>2018-07-08T00:00:00</td>\n",
              "      <td>3</td>\n",
              "      <td>NaN</td>\n",
              "      <td>5.0</td>\n",
              "      <td>36.00</td>\n",
              "      <td>2</td>\n",
              "      <td>NaN</td>\n",
              "      <td>...</td>\n",
              "      <td>6.00</td>\n",
              "      <td>1.0</td>\n",
              "      <td>посёлок Мельниково</td>\n",
              "      <td>NaN</td>\n",
              "      <td>NaN</td>\n",
              "      <td>NaN</td>\n",
              "      <td>NaN</td>\n",
              "      <td>NaN</td>\n",
              "      <td>NaN</td>\n",
              "      <td>161.0</td>\n",
              "    </tr>\n",
              "    <tr>\n",
              "      <th>13023</th>\n",
              "      <td>8</td>\n",
              "      <td>11000000.0</td>\n",
              "      <td>127.30</td>\n",
              "      <td>2018-09-09T00:00:00</td>\n",
              "      <td>1</td>\n",
              "      <td>3.10</td>\n",
              "      <td>5.0</td>\n",
              "      <td>55.50</td>\n",
              "      <td>4</td>\n",
              "      <td>NaN</td>\n",
              "      <td>...</td>\n",
              "      <td>14.80</td>\n",
              "      <td>NaN</td>\n",
              "      <td>Санкт-Петербург</td>\n",
              "      <td>20750.0</td>\n",
              "      <td>2045.0</td>\n",
              "      <td>2.0</td>\n",
              "      <td>284.0</td>\n",
              "      <td>3.0</td>\n",
              "      <td>175.0</td>\n",
              "      <td>4.0</td>\n",
              "    </tr>\n",
              "    <tr>\n",
              "      <th>13142</th>\n",
              "      <td>2</td>\n",
              "      <td>35000000.0</td>\n",
              "      <td>244.00</td>\n",
              "      <td>2016-10-10T00:00:00</td>\n",
              "      <td>6</td>\n",
              "      <td>3.40</td>\n",
              "      <td>5.0</td>\n",
              "      <td>139.80</td>\n",
              "      <td>2</td>\n",
              "      <td>NaN</td>\n",
              "      <td>...</td>\n",
              "      <td>34.00</td>\n",
              "      <td>NaN</td>\n",
              "      <td>Санкт-Петербург</td>\n",
              "      <td>25497.0</td>\n",
              "      <td>4199.0</td>\n",
              "      <td>3.0</td>\n",
              "      <td>482.0</td>\n",
              "      <td>0.0</td>\n",
              "      <td>NaN</td>\n",
              "      <td>505.0</td>\n",
              "    </tr>\n",
              "  </tbody>\n",
              "</table>\n",
              "<p>15 rows × 22 columns</p>\n",
              "</div>"
            ],
            "text/plain": [
              "       total_images  last_price  total_area first_day_exposition  rooms  \\\n",
              "10453            18   3299000.0       38.00  2017-05-10T00:00:00      1   \n",
              "21979            18   3099000.0       50.50  2018-09-19T00:00:00      2   \n",
              "9303              8   1090000.0       31.00  2018-06-18T00:00:00      1   \n",
              "13651             5   3390000.0       44.08  2018-09-17T00:00:00      1   \n",
              "17677             9   4400000.0       61.70  2017-08-10T00:00:00      3   \n",
              "4261              6   4300000.0       47.10  2017-05-05T00:00:00      2   \n",
              "16981            20  21000000.0      122.00  2018-01-15T00:00:00      3   \n",
              "3254             16   8800000.0       80.00  2019-05-03T00:00:00      3   \n",
              "22832             5   2600000.0       28.00  2018-12-14T00:00:00      0   \n",
              "3359             20   6900000.0       60.00  2017-02-16T00:00:00      3   \n",
              "3725             16  28000000.0      188.00  2015-06-09T00:00:00      5   \n",
              "1341              9   6300000.0       70.00  2016-04-25T00:00:00      3   \n",
              "10468             6   1850000.0       51.00  2018-07-08T00:00:00      3   \n",
              "13023             8  11000000.0      127.30  2018-09-09T00:00:00      1   \n",
              "13142             2  35000000.0      244.00  2016-10-10T00:00:00      6   \n",
              "\n",
              "       ceiling_height  floors_total  living_area  floor is_apartment  ...  \\\n",
              "10453            2.55           5.0        30.00      4          NaN  ...   \n",
              "21979             NaN           5.0        27.00      4          NaN  ...   \n",
              "9303              NaN           5.0          NaN      4          NaN  ...   \n",
              "13651             NaN           3.0        12.18      2          NaN  ...   \n",
              "17677            2.50           5.0        48.25      5          NaN  ...   \n",
              "4261              NaN           4.0        32.00      2        False  ...   \n",
              "16981            2.70          25.0        70.00     16          NaN  ...   \n",
              "3254             2.80          17.0        31.00     15          NaN  ...   \n",
              "22832            2.60          16.0        16.80      9          NaN  ...   \n",
              "3359              NaN           5.0          NaN      2        False  ...   \n",
              "3725             3.40           6.0       139.00      5          NaN  ...   \n",
              "1341             2.70          14.0        42.00      6          NaN  ...   \n",
              "10468             NaN           5.0        36.00      2          NaN  ...   \n",
              "13023            3.10           5.0        55.50      4          NaN  ...   \n",
              "13142            3.40           5.0       139.80      2          NaN  ...   \n",
              "\n",
              "       kitchen_area  balcony            locality_name  airports_nearest  \\\n",
              "10453          7.78      0.0          Санкт-Петербург           10541.0   \n",
              "21979          9.60      NaN        деревня Лупполово               NaN   \n",
              "9303            NaN      NaN  деревня Старые Бегуницы               NaN   \n",
              "13651         16.80      NaN             Красное Село           26236.0   \n",
              "17677          5.20      4.0                  Гатчина               NaN   \n",
              "4261           6.00      0.0          Санкт-Петербург           21462.0   \n",
              "16981         14.00      2.0          Санкт-Петербург           36827.0   \n",
              "3254          27.00      2.0                  Кудрово               NaN   \n",
              "22832           NaN      NaN          Санкт-Петербург           19372.0   \n",
              "3359            NaN      1.0          Санкт-Петербург           15168.0   \n",
              "3725            NaN      NaN          Санкт-Петербург           25069.0   \n",
              "1341          12.00      0.0          Санкт-Петербург           36223.0   \n",
              "10468          6.00      1.0       посёлок Мельниково               NaN   \n",
              "13023         14.80      NaN          Санкт-Петербург           20750.0   \n",
              "13142         34.00      NaN          Санкт-Петербург           25497.0   \n",
              "\n",
              "      cityCenters_nearest  parks_around3000  parks_nearest  ponds_around3000  \\\n",
              "10453             12637.0               0.0            NaN               1.0   \n",
              "21979                 NaN               NaN            NaN               NaN   \n",
              "9303                  NaN               NaN            NaN               NaN   \n",
              "13651             29661.0               3.0           95.0               2.0   \n",
              "17677                 NaN               NaN            NaN               NaN   \n",
              "4261               3797.0               0.0            NaN               2.0   \n",
              "16981             12348.0               1.0          485.0               1.0   \n",
              "3254                  NaN               NaN            NaN               NaN   \n",
              "22832             22796.0               0.0            NaN               1.0   \n",
              "3359              10080.0               0.0            NaN               1.0   \n",
              "3725               3771.0               1.0          135.0               1.0   \n",
              "1341              16525.0               0.0            NaN               2.0   \n",
              "10468                 NaN               NaN            NaN               NaN   \n",
              "13023              2045.0               2.0          284.0               3.0   \n",
              "13142              4199.0               3.0          482.0               0.0   \n",
              "\n",
              "       ponds_nearest  days_exposition  \n",
              "10453          670.0             88.0  \n",
              "21979            NaN             60.0  \n",
              "9303             NaN             45.0  \n",
              "13651          319.0             45.0  \n",
              "17677            NaN              NaN  \n",
              "4261           280.0             69.0  \n",
              "16981          474.0            182.0  \n",
              "3254             NaN              NaN  \n",
              "22832          406.0              NaN  \n",
              "3359           466.0             60.0  \n",
              "3725           618.0           1395.0  \n",
              "1341           555.0            109.0  \n",
              "10468            NaN            161.0  \n",
              "13023          175.0              4.0  \n",
              "13142            NaN            505.0  \n",
              "\n",
              "[15 rows x 22 columns]"
            ]
          },
          "execution_count": 5,
          "metadata": {},
          "output_type": "execute_result"
        }
      ],
      "source": [
        "# для удобства отобразим все колонки таблицы\n",
        "#pd.set_option('display.max_columns', None)\n",
        "# посмотрим рандомную выборку данных\n",
        "df.sample(15)"
      ]
    },
    {
      "cell_type": "code",
      "execution_count": null,
      "metadata": {
        "id": "zCKvEokDofvu"
      },
      "outputs": [],
      "source": [
        "#df.hist(figsize=(15, 15))"
      ]
    },
    {
      "cell_type": "markdown",
      "metadata": {
        "id": "DhNm5BJJlkeQ"
      },
      "source": [
        "## Выводы предварительного анализа общей информации\n",
        "\n",
        "*   Присутствуют столбцы с некорректными типами данных: *is_apartment* заявлен как булевый тип, а в датасете 'object', *first_day_exposition* - 'object' вместо 'datetime', и т.д.\n",
        "*   В данных множество пропусков\n",
        "*   Очевидно присутствуют вылеты в данных и аномальные значения: высота потолков (ceiling_height) = 100м.; расстояние до ближайшего аэропорта (airports_nearest) = 0м. и т.д.\n",
        "*   В целом данные читаются и готовы для предобработки\n",
        "\n",
        "\n"
      ]
    },
    {
      "cell_type": "markdown",
      "metadata": {
        "id": "CDxSSAxWI-dE"
      },
      "source": [
        "# Предобработка данных"
      ]
    },
    {
      "cell_type": "code",
      "execution_count": null,
      "metadata": {
        "id": "gTYkjLsLqeLz"
      },
      "outputs": [],
      "source": [
        "# приведем названия столбцов к \"змеиному\" стилю\n",
        "df = df.rename(columns={'parks_around3000':'parks_around_3000',\n",
        "                        'ponds_around3000':'ponds_around_3000',\n",
        "                        'cityCenters_nearest':'city_centers_nearest'})"
      ]
    },
    {
      "cell_type": "markdown",
      "metadata": {
        "id": "Vpqi-UqiW6yJ"
      },
      "source": [
        "## Работа с пропусками в данных\n",
        "\n",
        "\n",
        "\n",
        "\n"
      ]
    },
    {
      "cell_type": "code",
      "execution_count": null,
      "metadata": {
        "colab": {
          "base_uri": "https://localhost:8080/"
        },
        "id": "T1E48MvBwC3v",
        "outputId": "9a13909c-e8a8-4bab-85c0-d72df2b2cb7d"
      },
      "outputs": [
        {
          "data": {
            "text/plain": [
              "is_apartment            88.3\n",
              "parks_nearest           65.9\n",
              "ponds_nearest           61.6\n",
              "balcony                 48.6\n",
              "ceiling_height          38.8\n",
              "airports_nearest        23.4\n",
              "city_centers_nearest    23.3\n",
              "ponds_around_3000       23.3\n",
              "parks_around_3000       23.3\n",
              "days_exposition         13.4\n",
              "kitchen_area             9.6\n",
              "living_area              8.0\n",
              "floors_total             0.4\n",
              "locality_name            0.2\n",
              "total_images             0.0\n",
              "last_price               0.0\n",
              "studio                   0.0\n",
              "floor                    0.0\n",
              "rooms                    0.0\n",
              "first_day_exposition     0.0\n",
              "total_area               0.0\n",
              "open_plan                0.0\n",
              "dtype: float64"
            ]
          },
          "execution_count": 8,
          "metadata": {},
          "output_type": "execute_result"
        }
      ],
      "source": [
        "# посчитаем процентное количество пропусков в каждом столбце\n",
        "(df.isnull().mean() * 100).sort_values(ascending=False).round(1)"
      ]
    },
    {
      "cell_type": "markdown",
      "metadata": {
        "id": "RZJzlovR0RDg"
      },
      "source": [
        "**is_apartment** - наибольшее количество пропусков в этом столбце. Произойти это могло из-за того, что не все размещающие обьявления имеют представление о разнице квартир и апартаментов, а так же этот параметр мог не указываться умышленно (для ввода в заблуждение из-за той же разницы между квартирами и апартаментами). Так как параметр логического типа и отсутствуют более 88% значений, заполнение пропусков на основе имеющихся данных не корректно. Здесь и далее для удобства дальнейших расчетов и визуализаций промаркируем пропуски в данных например значением '-1' и попробуем привести к целочисленному типу данных\n",
        "\n",
        "**parks_nearest** и **ponds_nearest** как и **parks_around_3000** и **ponds_around_3000** не самые важные параметры. Могли не указываться в связи с отсутствием поблизости парков и водоемов либо неизвестностью о наличии таких. Смущает почти одинаковый процент пропусков в паре 'parks_around_3000',  'ponds_around_3000', '**airports_nearest**' и '**city_centers_nearest**'. Проверим.\n",
        "\n",
        "**balcony** - можно предположить что отсутствующее значение тождественно отсутствующему балкону\n",
        "\n",
        "**ceiling_height** - достаточно характерный параметр и заменять его медианным значением (2.77м) которое выглядит вполне адекватно для жилых помещений некорректно. Так же отметим что выборке явно присутствую аномальные значения (1м, 100м).\n",
        "\n",
        "**days_exposition** - вероятно часть пропусков возникли из-за того, что объявление еще находилось в состоянии публикации на момент выгрузки данных. Высчитаем разницу между датой публикации и последней датой записей (будем считать ее датой выгрузки датасета), и заполним пустые значения.\n",
        "\n",
        "**kitchen_area** и **living_area** - вероятно параметры могли не указываться в случаях когда тяжело разделить жилую площадь от кухни. Например: квартиры-студии.\n",
        "\n",
        "**floors_total** - не самый важный параметр, количество пропусков незначительно.\n",
        "Пустые значения заменим нулями\n",
        "\n",
        "**locality_name** - Важный параметр но заполнить эти отсутствующие данные на основе имеющихся не получится, процентное соотношение пропусков в этих данных около 0.2% - резонно эти записи удалить\n",
        "\n",
        "\n",
        "\n"
      ]
    },
    {
      "cell_type": "code",
      "execution_count": null,
      "metadata": {
        "colab": {
          "base_uri": "https://localhost:8080/"
        },
        "id": "FeHLMcXWwwde",
        "outputId": "982cabd0-3a27-4297-c181-c10c5e309168"
      },
      "outputs": [
        {
          "name": "stdout",
          "output_type": "stream",
          "text": [
            "Количество пустых значений в balcony: 0\n"
          ]
        }
      ],
      "source": [
        "# заполним нулями отсутствующие значения в количестве балконов\n",
        "df['balcony'] = df['balcony'].fillna(0)\n",
        "print('Количество пустых значений в balcony:', df['balcony'].isnull().sum())"
      ]
    },
    {
      "cell_type": "code",
      "execution_count": null,
      "metadata": {
        "colab": {
          "base_uri": "https://localhost:8080/"
        },
        "id": "PmQ8nI-XP0jz",
        "outputId": "d76ee3b7-4285-4a0f-90c5-62607efd449c"
      },
      "outputs": [
        {
          "name": "stdout",
          "output_type": "stream",
          "text": [
            "Количество пустых значений в days_exposition: 0\n"
          ]
        }
      ],
      "source": [
        "# переводим данные столбец first_day_exposition в формат datetime\n",
        "df['first_day_exposition'] = pd.to_datetime(df['first_day_exposition'], format = '%Y-%m-%d')\n",
        "# из крайней даты в first_day_exposition (дата выгрузки датасета) вычтем дату\n",
        "#   публикации first_day_exposition\n",
        "df['days_exposition_final'] = df['first_day_exposition'].max() - df['first_day_exposition']\n",
        "# заполним отсутствующие значения в days_exposition разницей с даты\n",
        "#   публикации до даты выгрузки датасета\n",
        "df['days_exposition'] = df['days_exposition'].fillna(df['days_exposition_final'].dt.days)\n",
        "# остальные значения заполним нулями\n",
        "df['days_exposition'] = df['days_exposition'].fillna(0)\n",
        "print('Количество пустых значений в days_exposition:', df['days_exposition'].isnull().sum())"
      ]
    },
    {
      "cell_type": "code",
      "execution_count": null,
      "metadata": {
        "colab": {
          "base_uri": "https://localhost:8080/"
        },
        "id": "UfxmRBhxDYGG",
        "outputId": "172e3cf4-3d8d-4c14-cbc0-ba4dccc0606e"
      },
      "outputs": [
        {
          "name": "stdout",
          "output_type": "stream",
          "text": [
            "Количество пропусков в parks_around_3000: 5518\n",
            "Количество пропусков в ponds_around_3000: 5518\n",
            "Количество пропусков в airports_nearest: 5542\n",
            "Количество пропусков в city_centers_nearest: 5519\n",
            "Количество совпадающих пропусков в parks_around_3000, ponds_around_3000, airports_nearest, city_centers_nearest: 5518\n",
            "Количество пропусков в parks_nearest: 15620\n",
            "Количество пропусков в ponds_nearest: 14589\n",
            "Количество совпадающих пропусков в parks_nearest, ponds_nearest: 11334\n"
          ]
        }
      ],
      "source": [
        "# проверим идентичность пропусков в parks_around3000,\n",
        "#   ponds_around3000, airports_nearest, cityCenters_nearest\n",
        "print('Количество пропусков в parks_around_3000:', df['parks_around_3000'].isnull().sum())\n",
        "print('Количество пропусков в ponds_around_3000:', df['ponds_around_3000'].isnull().sum())\n",
        "print('Количество пропусков в airports_nearest:', df['airports_nearest'].isnull().sum())\n",
        "print('Количество пропусков в city_centers_nearest:', df['city_centers_nearest'].isnull().sum())\n",
        "print('Количество совпадающих пропусков в parks_around_3000, ponds_around_3000, airports_nearest, city_centers_nearest:',\n",
        "      df[(df['parks_around_3000'].isnull()) & \\\n",
        "       (df['ponds_around_3000'].isnull()) & \\\n",
        "        (df['airports_nearest'].isnull()) & \\\n",
        "         (df['city_centers_nearest'].isnull())].shape[0])\n",
        "# проверим идентичность пропусков в parks_nearest и ponds_nearest\n",
        "print('Количество пропусков в parks_nearest:', df['parks_nearest'].isnull().sum())\n",
        "print('Количество пропусков в ponds_nearest:', df['ponds_nearest'].isnull().sum())\n",
        "print('Количество совпадающих пропусков в parks_nearest, ponds_nearest:', df[(df['parks_nearest'].isnull()) \\\n",
        "                                                                             & (df['ponds_nearest'].isnull())].shape[0])"
      ]
    },
    {
      "cell_type": "markdown",
      "metadata": {
        "id": "nuig0czQF84i"
      },
      "source": [
        "Очевидное пересечение пустых значений в 'parks_around_3000',  'ponds_around_3000', 'airports_nearest' и 'city_centers_nearest' может говорить о технической ошибке в получении данных"
      ]
    },
    {
      "cell_type": "code",
      "execution_count": null,
      "metadata": {
        "colab": {
          "base_uri": "https://localhost:8080/"
        },
        "id": "bE016if_TiGL",
        "outputId": "4fe79945-971e-4468-bd11-69c2fab600ae"
      },
      "outputs": [
        {
          "name": "stdout",
          "output_type": "stream",
          "text": [
            "Количество пропусков:\n",
            "is_apartment            0\n",
            "ceiling_height          0\n",
            "parks_around_3000       0\n",
            "ponds_around_3000       0\n",
            "airports_nearest        0\n",
            "city_centers_nearest    0\n",
            "parks_nearest           0\n",
            "ponds_nearest           0\n",
            "kitchen_area            0\n",
            "living_area             0\n",
            "floors_total            0\n",
            "dtype: int64\n"
          ]
        }
      ],
      "source": [
        "# промаркируем отсутствующие значения как -1\n",
        "column_list = ['is_apartment',\n",
        "               'ceiling_height',\n",
        "               'parks_around_3000',\n",
        "               'ponds_around_3000',\n",
        "               'airports_nearest',\n",
        "               'city_centers_nearest',\n",
        "               'parks_nearest',\n",
        "               'ponds_nearest',\n",
        "               'kitchen_area',\n",
        "               'living_area',\n",
        "               'floors_total']\n",
        "df[column_list] = df[column_list].fillna(-1)\n",
        "# проверка\n",
        "print('Количество пропусков:')\n",
        "print(df[column_list].isnull().sum())"
      ]
    },
    {
      "cell_type": "code",
      "execution_count": null,
      "metadata": {
        "colab": {
          "base_uri": "https://localhost:8080/"
        },
        "id": "mSJRMmmqCyj_",
        "outputId": "3575282c-763a-436a-a651-c5f7c0227ba1"
      },
      "outputs": [
        {
          "name": "stdout",
          "output_type": "stream",
          "text": [
            "Количество пропусков в locality_name: 0\n"
          ]
        }
      ],
      "source": [
        "# удаляем строки с пропусками в locality_name\n",
        "df.dropna(subset=['locality_name'], inplace=True)\n",
        "print('Количество пропусков в locality_name:', df['locality_name'].isnull().sum())"
      ]
    },
    {
      "cell_type": "markdown",
      "metadata": {
        "id": "CGbWV_TKoTlP"
      },
      "source": [
        "## Изменение типов данных"
      ]
    },
    {
      "cell_type": "code",
      "execution_count": null,
      "metadata": {
        "id": "ItEvw6Ry9jP1"
      },
      "outputs": [],
      "source": [
        "# тип данных first_day_exposition в формат datetime перевели выше\n",
        "\n",
        "column_list = ['is_apartment',\n",
        "               'last_price',\n",
        "               'balcony',\n",
        "               'last_price',\n",
        "               'floors_total',\n",
        "               'days_exposition',\n",
        "               'parks_around_3000',\n",
        "               'ponds_around_3000',\n",
        "               'airports_nearest',\n",
        "               'city_centers_nearest',\n",
        "               'parks_nearest',\n",
        "               'ponds_nearest']\n",
        "# изменим тип данных на целочисленный\n",
        "for column in column_list:\n",
        "    df[column] = df[df[column].notnull()][column].astype('int')\n"
      ]
    },
    {
      "cell_type": "markdown",
      "metadata": {
        "id": "vMGPcOSUdLw8"
      },
      "source": [
        "## Поиск неявных дубликатов"
      ]
    },
    {
      "cell_type": "code",
      "execution_count": null,
      "metadata": {
        "colab": {
          "base_uri": "https://localhost:8080/"
        },
        "id": "XSNnTBa_XVIn",
        "outputId": "fdb3116a-84c1-4613-ced9-993a9ec0d305"
      },
      "outputs": [
        {
          "name": "stdout",
          "output_type": "stream",
          "text": [
            "Список уникальных наименований населенных пунктов: 364\n",
            "Санкт-Петербург                        15721\n",
            "посёлок Мурино                           522\n",
            "посёлок Шушары                           440\n",
            "Всеволожск                               398\n",
            "Пушкин                                   369\n",
            "                                       ...  \n",
            "посёлок Сумино                             1\n",
            "деревня Сижно                              1\n",
            "поселок городского типа Кондратьево        1\n",
            "поселок Коробицыно                         1\n",
            "посёлок Алексеевка                         1\n",
            "Name: locality_name, Length: 364, dtype: int64\n"
          ]
        }
      ],
      "source": [
        "# оценим записи в locality_name\n",
        "print('Список уникальных наименований населенных пунктов:', len(df['locality_name'].unique()))\n",
        "print(df['locality_name'].value_counts())"
      ]
    },
    {
      "cell_type": "markdown",
      "metadata": {
        "id": "ugmMrgwlXYOB"
      },
      "source": [
        "На всякий случай сохраним оригинальные данные и для поиска неявных дубликатов создадим новую ячейку 'locality_name_modify'"
      ]
    },
    {
      "cell_type": "code",
      "execution_count": null,
      "metadata": {
        "colab": {
          "base_uri": "https://localhost:8080/"
        },
        "id": "vNqJ6UwWeKUL",
        "outputId": "fce3066f-ea42-475b-f184-f567562fdf61"
      },
      "outputs": [
        {
          "name": "stdout",
          "output_type": "stream",
          "text": [
            "Список уникальных наименований населенных пунктов после поиска дубликатов: 321\n"
          ]
        }
      ],
      "source": [
        "# переведем названия в нижний регистр\n",
        "df['locality_name_modify'] = df['locality_name'].str.lower()\n",
        "# заменим все 'ё' на 'е'\n",
        "df['locality_name_modify'] = df['locality_name_modify'].str.replace('ё', 'е')\n",
        "df['locality_name_modify'] = df['locality_name_modify'].str.replace('поселок городского типа', 'поселок')\n",
        "df['locality_name_modify'] = df['locality_name_modify'].str.replace('коттеджный поселок', 'поселок')\n",
        "df['locality_name_modify'] = df['locality_name_modify'].str.replace('городской поселок', 'поселок')\n",
        "\n",
        "# проверка\n",
        "print('Список уникальных наименований населенных пунктов после поиска дубликатов:', \\\n",
        "      len(df['locality_name_modify'].unique()))"
      ]
    },
    {
      "cell_type": "markdown",
      "metadata": {
        "id": "cTuIe2jHRYyP"
      },
      "source": [
        "## Поиск и исправление аномалий в данных"
      ]
    },
    {
      "cell_type": "code",
      "execution_count": null,
      "metadata": {
        "colab": {
          "base_uri": "https://localhost:8080/"
        },
        "id": "PW7vhZzwltcs",
        "outputId": "7eab0acc-5774-458e-c236-8289cd092593"
      },
      "outputs": [
        {
          "data": {
            "text/plain": [
              "count    14490.000000\n",
              "mean         2.771287\n",
              "std          1.261593\n",
              "min          1.000000\n",
              "25%          2.520000\n",
              "50%          2.650000\n",
              "75%          2.800000\n",
              "max        100.000000\n",
              "Name: ceiling_height, dtype: float64"
            ]
          },
          "execution_count": 17,
          "metadata": {},
          "output_type": "execute_result"
        }
      ],
      "source": [
        "# изучим 'ceiling_height' исключив значения с '-1'\n",
        "df[df['ceiling_height'] > 0]['ceiling_height'].describe()"
      ]
    },
    {
      "cell_type": "code",
      "execution_count": null,
      "metadata": {
        "colab": {
          "base_uri": "https://localhost:8080/",
          "height": 293
        },
        "id": "cO32hPgZmc_N",
        "outputId": "7580369b-6f63-4fb3-fc10-66fd98c48729"
      },
      "outputs": [
        {
          "data": {
            "image/png": "[encoded data removed]",
            "text/plain": [
              "<Figure size 720x72 with 1 Axes>"
            ]
          },
          "metadata": {
            "needs_background": "light"
          },
          "output_type": "display_data"
        },
        {
          "data": {
            "text/plain": [
              "count    14468.000000\n",
              "mean         2.726971\n",
              "std          0.277803\n",
              "min          2.200000\n",
              "25%          2.517500\n",
              "50%          2.650000\n",
              "75%          2.800000\n",
              "max          6.000000\n",
              "Name: ceiling_height, dtype: float64"
            ]
          },
          "execution_count": 18,
          "metadata": {},
          "output_type": "execute_result"
        }
      ],
      "source": [
        "# допустим что указанные данные свыше 20-ти метров ошибочно указали точку\n",
        "df.loc[(df['ceiling_height'] > 20),'ceiling_height'] = df['ceiling_height'] / 10\n",
        "\n",
        "# выведим из диапазона явно некорректные данные, т.е потолки ниже\n",
        "#   2 м. (включительно) и больше например 7 м\n",
        "df.loc[(df['ceiling_height'] > 0) & \\\n",
        " (df['ceiling_height'] <= 2) | (df['ceiling_height'] > 7),'ceiling_height'] = -1\n",
        "\n",
        "#\n",
        "graf = df[df['ceiling_height'] > 0].boxplot('ceiling_height', vert = False, figsize = (10,1))\n",
        "graf.set_yticklabels(['высота потолка'])\n",
        "plt.show()\n",
        "df[df['ceiling_height'] > 0]['ceiling_height'].describe()"
      ]
    },
    {
      "cell_type": "markdown",
      "metadata": {
        "id": "sRnOQuiOtDk0"
      },
      "source": [
        "В итоге у нас осталась выборка данных в диапазоне от 2 м до 7 м (возможно здесь указывалась высота для 2-уровневых квартир)"
      ]
    },
    {
      "cell_type": "markdown",
      "metadata": {
        "id": "WxlW7r1IzbGQ"
      },
      "source": [
        "Выведим из изучаемого диапазона квартиры c жилой площадью меньше 8 кв.м."
      ]
    },
    {
      "cell_type": "code",
      "execution_count": null,
      "metadata": {
        "id": "swOfCv-4xDDs"
      },
      "outputs": [],
      "source": [
        "df.loc[(df['living_area'] > 0) & (df['living_area'] < 8),'living_area'] = -1"
      ]
    },
    {
      "cell_type": "markdown",
      "metadata": {
        "id": "QdY5BVrOqDa2"
      },
      "source": [
        "## Проверка предобработки данных"
      ]
    },
    {
      "cell_type": "code",
      "execution_count": null,
      "metadata": {
        "colab": {
          "base_uri": "https://localhost:8080/"
        },
        "id": "pNP6wzOBxuef",
        "outputId": "0f3f261b-c34f-472f-fb44-a178827b3d4e"
      },
      "outputs": [
        {
          "data": {
            "text/plain": [
              "total_images             0.0\n",
              "last_price               0.0\n",
              "days_exposition_final    0.0\n",
              "days_exposition          0.0\n",
              "ponds_nearest            0.0\n",
              "ponds_around_3000        0.0\n",
              "parks_nearest            0.0\n",
              "parks_around_3000        0.0\n",
              "city_centers_nearest     0.0\n",
              "airports_nearest         0.0\n",
              "locality_name            0.0\n",
              "balcony                  0.0\n",
              "kitchen_area             0.0\n",
              "open_plan                0.0\n",
              "studio                   0.0\n",
              "is_apartment             0.0\n",
              "floor                    0.0\n",
              "living_area              0.0\n",
              "floors_total             0.0\n",
              "ceiling_height           0.0\n",
              "rooms                    0.0\n",
              "first_day_exposition     0.0\n",
              "total_area               0.0\n",
              "locality_name_modify     0.0\n",
              "dtype: float64"
            ]
          },
          "execution_count": 20,
          "metadata": {},
          "output_type": "execute_result"
        }
      ],
      "source": [
        "# проверка наличие пропусков\n",
        "(df.isnull().sum()/len(df)*100).sort_values(ascending=False).round(1)"
      ]
    },
    {
      "cell_type": "code",
      "execution_count": null,
      "metadata": {
        "colab": {
          "base_uri": "https://localhost:8080/"
        },
        "id": "r3_yeIfJqBt9",
        "outputId": "2ef94b7c-6e1a-4e95-91bc-3cc6c578c425"
      },
      "outputs": [
        {
          "name": "stdout",
          "output_type": "stream",
          "text": [
            "<class 'pandas.core.frame.DataFrame'>\n",
            "Int64Index: 23650 entries, 0 to 23698\n",
            "Data columns (total 24 columns):\n",
            " #   Column                 Non-Null Count  Dtype          \n",
            "---  ------                 --------------  -----          \n",
            " 0   total_images           23650 non-null  int64          \n",
            " 1   last_price             23650 non-null  int64          \n",
            " 2   total_area             23650 non-null  float64        \n",
            " 3   first_day_exposition   23650 non-null  datetime64[ns] \n",
            " 4   rooms                  23650 non-null  int64          \n",
            " 5   ceiling_height         23650 non-null  float64        \n",
            " 6   floors_total           23650 non-null  int64          \n",
            " 7   living_area            23650 non-null  float64        \n",
            " 8   floor                  23650 non-null  int64          \n",
            " 9   is_apartment           23650 non-null  int64          \n",
            " 10  studio                 23650 non-null  bool           \n",
            " 11  open_plan              23650 non-null  bool           \n",
            " 12  kitchen_area           23650 non-null  float64        \n",
            " 13  balcony                23650 non-null  int64          \n",
            " 14  locality_name          23650 non-null  object         \n",
            " 15  airports_nearest       23650 non-null  int64          \n",
            " 16  city_centers_nearest   23650 non-null  int64          \n",
            " 17  parks_around_3000      23650 non-null  int64          \n",
            " 18  parks_nearest          23650 non-null  int64          \n",
            " 19  ponds_around_3000      23650 non-null  int64          \n",
            " 20  ponds_nearest          23650 non-null  int64          \n",
            " 21  days_exposition        23650 non-null  int64          \n",
            " 22  days_exposition_final  23650 non-null  timedelta64[ns]\n",
            " 23  locality_name_modify   23650 non-null  object         \n",
            "dtypes: bool(2), datetime64[ns](1), float64(4), int64(14), object(2), timedelta64[ns](1)\n",
            "memory usage: 4.7+ MB\n"
          ]
        }
      ],
      "source": [
        "# проверка типов данных\n",
        "df.info()"
      ]
    },
    {
      "cell_type": "code",
      "execution_count": null,
      "metadata": {
        "colab": {
          "base_uri": "https://localhost:8080/",
          "height": 1000
        },
        "id": "U8QykwakxoHN",
        "outputId": "2938d17e-5415-4657-9da9-d76aa8da949c"
      },
      "outputs": [
        {
          "data": {
            "text/plain": [
              "array([[<AxesSubplot:title={'center':'total_images'}>,\n",
              "        <AxesSubplot:title={'center':'last_price'}>,\n",
              "        <AxesSubplot:title={'center':'total_area'}>,\n",
              "        <AxesSubplot:title={'center':'first_day_exposition'}>],\n",
              "       [<AxesSubplot:title={'center':'rooms'}>,\n",
              "        <AxesSubplot:title={'center':'ceiling_height'}>,\n",
              "        <AxesSubplot:title={'center':'floors_total'}>,\n",
              "        <AxesSubplot:title={'center':'living_area'}>],\n",
              "       [<AxesSubplot:title={'center':'floor'}>,\n",
              "        <AxesSubplot:title={'center':'is_apartment'}>,\n",
              "        <AxesSubplot:title={'center':'kitchen_area'}>,\n",
              "        <AxesSubplot:title={'center':'balcony'}>],\n",
              "       [<AxesSubplot:title={'center':'airports_nearest'}>,\n",
              "        <AxesSubplot:title={'center':'city_centers_nearest'}>,\n",
              "        <AxesSubplot:title={'center':'parks_around_3000'}>,\n",
              "        <AxesSubplot:title={'center':'parks_nearest'}>],\n",
              "       [<AxesSubplot:title={'center':'ponds_around_3000'}>,\n",
              "        <AxesSubplot:title={'center':'ponds_nearest'}>,\n",
              "        <AxesSubplot:title={'center':'days_exposition'}>, <AxesSubplot:>]],\n",
              "      dtype=object)"
            ]
          },
          "execution_count": 22,
          "metadata": {},
          "output_type": "execute_result"
        },
        {
          "data": {
            "image/png": "[encoded data removed]",
            "text/plain": [
              "<Figure size 1080x1080 with 20 Axes>"
            ]
          },
          "metadata": {
            "needs_background": "light"
          },
          "output_type": "display_data"
        }
      ],
      "source": [
        "df.hist(figsize=(15, 15))"
      ]
    },
    {
      "cell_type": "code",
      "execution_count": null,
      "metadata": {
        "id": "J74UDz44Njik",
        "outputId": "3ef84826-80fe-420b-ddf0-972a0f2690e8"
      },
      "outputs": [
        {
          "name": "stdout",
          "output_type": "stream",
          "text": [
            "процент удаленных вылетов:  0.97\n"
          ]
        },
        {
          "data": {
            "image/png": "[encoded data removed]",
            "text/plain": [
              "<Figure size 720x72 with 1 Axes>"
            ]
          },
          "metadata": {
            "needs_background": "light"
          },
          "output_type": "display_data"
        },
        {
          "data": {
            "text/plain": [
              "<AxesSubplot:>"
            ]
          },
          "execution_count": 23,
          "metadata": {},
          "output_type": "execute_result"
        },
        {
          "data": {
            "image/png": "[encoded data removed]",
            "text/plain": [
              "<Figure size 504x216 with 1 Axes>"
            ]
          },
          "metadata": {
            "needs_background": "light"
          },
          "output_type": "display_data"
        }
      ],
      "source": [
        "# приведем стоимость к миллионам\n",
        "df['last_price'] = df['last_price'] / 1000000\n",
        "# ограничим выборку объявлениями стоимостью до 20 млн.\n",
        "last_price_percent = round(len(df.query('last_price < 20')) / len(df['last_price']), 2 )\n",
        "print('процент удаленных вылетов: ', last_price_percent)\n",
        "# проверим доля удаляемых значений не превысила 10%\n",
        "if last_price_percent > 0.9:\n",
        "  df = df[df['last_price'] < 20]\n",
        "else:\n",
        "  print('процент вылетов больше 10%')\n",
        "\n",
        "graf = df.boxplot('last_price', vert = False, figsize = (10,1))\n",
        "plt.show()\n",
        "df['last_price'].hist(figsize=(7, 3))"
      ]
    },
    {
      "cell_type": "code",
      "execution_count": null,
      "metadata": {
        "id": "p_48KK31Njil",
        "outputId": "3a38a2cd-6c15-459a-a6bc-6a35d62779bf"
      },
      "outputs": [
        {
          "name": "stdout",
          "output_type": "stream",
          "text": [
            "процент удаленных вылетов:  0.98\n"
          ]
        },
        {
          "data": {
            "text/plain": [
              "<AxesSubplot:>"
            ]
          },
          "execution_count": 24,
          "metadata": {},
          "output_type": "execute_result"
        },
        {
          "data": {
            "image/png": "[encoded data removed]",
            "text/plain": [
              "<Figure size 216x216 with 1 Axes>"
            ]
          },
          "metadata": {
            "needs_background": "light"
          },
          "output_type": "display_data"
        }
      ],
      "source": [
        "# ограничим выборку квартирами до 4-х комнат\n",
        "rooms_percent = round(len(df.query('rooms > 0 and rooms < 5')) / len(df['rooms']), 2 )\n",
        "print('процент удаленных вылетов: ', rooms_percent)\n",
        "# проверим доля удаляемых значений не превысила 10%\n",
        "if rooms_percent > 0.9:\n",
        "  df = df[(df['rooms'] > 0) & (df['rooms'] < 5)]\n",
        "else:\n",
        "  print('процент вылетов больше 10%')\n",
        "\n",
        "df['rooms'].hist(figsize=(3, 3), grid = False, bins = 10)"
      ]
    },
    {
      "cell_type": "code",
      "execution_count": null,
      "metadata": {
        "id": "MWhTTviGNjim",
        "outputId": "7dd08d76-19b3-4f9d-d04c-13788d20e57c"
      },
      "outputs": [
        {
          "name": "stdout",
          "output_type": "stream",
          "text": [
            "процент удаленных вылетов:  1.0\n"
          ]
        },
        {
          "data": {
            "text/plain": [
              "<AxesSubplot:>"
            ]
          },
          "execution_count": 25,
          "metadata": {},
          "output_type": "execute_result"
        },
        {
          "data": {
            "image/png": "[encoded data removed]",
            "text/plain": [
              "<Figure size 504x216 with 1 Axes>"
            ]
          },
          "metadata": {
            "needs_background": "light"
          },
          "output_type": "display_data"
        }
      ],
      "source": [
        "# ограничим выборку квартирами с площадью  от 8-ми до 150 кв.м.\n",
        "area_percent = round(len(df.query('total_area > 8 and total_area < 150')) / len(df['total_area']), 2 )\n",
        "print('процент удаленных вылетов: ', area_percent)\n",
        "# проверим доля удаляемых значений не превысила 10%\n",
        "if area_percent > 0.9:\n",
        "  df = df[(df['total_area'] > 8) & (df['total_area'] < 150)]\n",
        "else:\n",
        "  print('процент вылетов больше 10%')\n",
        "\n",
        "df['total_area'].hist(figsize=(7, 3), bins = 100)"
      ]
    },
    {
      "cell_type": "markdown",
      "metadata": {
        "id": "VD4CugedI-dF"
      },
      "source": [
        "# Посчитайте и добавьте в таблицу новые столбцы"
      ]
    },
    {
      "cell_type": "markdown",
      "metadata": {
        "id": "2QSxU1UY60MK"
      },
      "source": [
        "## Стоимость квадратного метра"
      ]
    },
    {
      "cell_type": "code",
      "execution_count": null,
      "metadata": {
        "colab": {
          "base_uri": "https://localhost:8080/",
          "height": 424
        },
        "id": "4qJYUBXDI-dF",
        "outputId": "aefafb61-39f6-48be-d7ce-3829b3d39ccc"
      },
      "outputs": [
        {
          "data": {
            "text/html": [
              "<div>\n",
              "<style scoped>\n",
              "    .dataframe tbody tr th:only-of-type {\n",
              "        vertical-align: middle;\n",
              "    }\n",
              "\n",
              "    .dataframe tbody tr th {\n",
              "        vertical-align: top;\n",
              "    }\n",
              "\n",
              "    .dataframe thead th {\n",
              "        text-align: right;\n",
              "    }\n",
              "</style>\n",
              "<table border=\"1\" class=\"dataframe\">\n",
              "  <thead>\n",
              "    <tr style=\"text-align: right;\">\n",
              "      <th></th>\n",
              "      <th>last_price</th>\n",
              "      <th>total_area</th>\n",
              "      <th>price_square_meter</th>\n",
              "    </tr>\n",
              "  </thead>\n",
              "  <tbody>\n",
              "    <tr>\n",
              "      <th>0</th>\n",
              "      <td>13.000</td>\n",
              "      <td>108.00</td>\n",
              "      <td>120370</td>\n",
              "    </tr>\n",
              "    <tr>\n",
              "      <th>1</th>\n",
              "      <td>3.350</td>\n",
              "      <td>40.40</td>\n",
              "      <td>82920</td>\n",
              "    </tr>\n",
              "    <tr>\n",
              "      <th>2</th>\n",
              "      <td>5.196</td>\n",
              "      <td>56.00</td>\n",
              "      <td>92785</td>\n",
              "    </tr>\n",
              "    <tr>\n",
              "      <th>4</th>\n",
              "      <td>10.000</td>\n",
              "      <td>100.00</td>\n",
              "      <td>100000</td>\n",
              "    </tr>\n",
              "    <tr>\n",
              "      <th>5</th>\n",
              "      <td>2.890</td>\n",
              "      <td>30.40</td>\n",
              "      <td>95065</td>\n",
              "    </tr>\n",
              "    <tr>\n",
              "      <th>...</th>\n",
              "      <td>...</td>\n",
              "      <td>...</td>\n",
              "      <td>...</td>\n",
              "    </tr>\n",
              "    <tr>\n",
              "      <th>23694</th>\n",
              "      <td>9.700</td>\n",
              "      <td>133.81</td>\n",
              "      <td>72490</td>\n",
              "    </tr>\n",
              "    <tr>\n",
              "      <th>23695</th>\n",
              "      <td>3.100</td>\n",
              "      <td>59.00</td>\n",
              "      <td>52542</td>\n",
              "    </tr>\n",
              "    <tr>\n",
              "      <th>23696</th>\n",
              "      <td>2.500</td>\n",
              "      <td>56.70</td>\n",
              "      <td>44091</td>\n",
              "    </tr>\n",
              "    <tr>\n",
              "      <th>23697</th>\n",
              "      <td>11.475</td>\n",
              "      <td>76.75</td>\n",
              "      <td>149511</td>\n",
              "    </tr>\n",
              "    <tr>\n",
              "      <th>23698</th>\n",
              "      <td>1.350</td>\n",
              "      <td>32.30</td>\n",
              "      <td>41795</td>\n",
              "    </tr>\n",
              "  </tbody>\n",
              "</table>\n",
              "<p>22338 rows × 3 columns</p>\n",
              "</div>"
            ],
            "text/plain": [
              "       last_price  total_area  price_square_meter\n",
              "0          13.000      108.00              120370\n",
              "1           3.350       40.40               82920\n",
              "2           5.196       56.00               92785\n",
              "4          10.000      100.00              100000\n",
              "5           2.890       30.40               95065\n",
              "...           ...         ...                 ...\n",
              "23694       9.700      133.81               72490\n",
              "23695       3.100       59.00               52542\n",
              "23696       2.500       56.70               44091\n",
              "23697      11.475       76.75              149511\n",
              "23698       1.350       32.30               41795\n",
              "\n",
              "[22338 rows x 3 columns]"
            ]
          },
          "metadata": {},
          "output_type": "display_data"
        }
      ],
      "source": [
        "# расчитаем стоимость квадратного метра\n",
        "df['price_square_meter'] = (df['last_price'] / df['total_area'] * 1000000).astype('int')\n",
        "display(df[['last_price', 'total_area', 'price_square_meter']])"
      ]
    },
    {
      "cell_type": "markdown",
      "metadata": {
        "id": "rR-sQ3m48dQW"
      },
      "source": [
        "## День, месяц и год публикации объявления"
      ]
    },
    {
      "cell_type": "code",
      "execution_count": null,
      "metadata": {
        "colab": {
          "base_uri": "https://localhost:8080/",
          "height": 424
        },
        "id": "xKHHK0Nw7YTL",
        "outputId": "ef246eb1-b8df-47e8-cf2c-207617f42e85"
      },
      "outputs": [
        {
          "data": {
            "text/html": [
              "<div>\n",
              "<style scoped>\n",
              "    .dataframe tbody tr th:only-of-type {\n",
              "        vertical-align: middle;\n",
              "    }\n",
              "\n",
              "    .dataframe tbody tr th {\n",
              "        vertical-align: top;\n",
              "    }\n",
              "\n",
              "    .dataframe thead th {\n",
              "        text-align: right;\n",
              "    }\n",
              "</style>\n",
              "<table border=\"1\" class=\"dataframe\">\n",
              "  <thead>\n",
              "    <tr style=\"text-align: right;\">\n",
              "      <th></th>\n",
              "      <th>first_day_exposition</th>\n",
              "      <th>exposition_weekday</th>\n",
              "      <th>exposition_month</th>\n",
              "      <th>exposition_year</th>\n",
              "    </tr>\n",
              "  </thead>\n",
              "  <tbody>\n",
              "    <tr>\n",
              "      <th>0</th>\n",
              "      <td>2019-03-07</td>\n",
              "      <td>3</td>\n",
              "      <td>3</td>\n",
              "      <td>2019</td>\n",
              "    </tr>\n",
              "    <tr>\n",
              "      <th>1</th>\n",
              "      <td>2018-12-04</td>\n",
              "      <td>1</td>\n",
              "      <td>12</td>\n",
              "      <td>2018</td>\n",
              "    </tr>\n",
              "    <tr>\n",
              "      <th>2</th>\n",
              "      <td>2015-08-20</td>\n",
              "      <td>3</td>\n",
              "      <td>8</td>\n",
              "      <td>2015</td>\n",
              "    </tr>\n",
              "    <tr>\n",
              "      <th>4</th>\n",
              "      <td>2018-06-19</td>\n",
              "      <td>1</td>\n",
              "      <td>6</td>\n",
              "      <td>2018</td>\n",
              "    </tr>\n",
              "    <tr>\n",
              "      <th>5</th>\n",
              "      <td>2018-09-10</td>\n",
              "      <td>0</td>\n",
              "      <td>9</td>\n",
              "      <td>2018</td>\n",
              "    </tr>\n",
              "    <tr>\n",
              "      <th>...</th>\n",
              "      <td>...</td>\n",
              "      <td>...</td>\n",
              "      <td>...</td>\n",
              "      <td>...</td>\n",
              "    </tr>\n",
              "    <tr>\n",
              "      <th>23694</th>\n",
              "      <td>2017-03-21</td>\n",
              "      <td>1</td>\n",
              "      <td>3</td>\n",
              "      <td>2017</td>\n",
              "    </tr>\n",
              "    <tr>\n",
              "      <th>23695</th>\n",
              "      <td>2018-01-15</td>\n",
              "      <td>0</td>\n",
              "      <td>1</td>\n",
              "      <td>2018</td>\n",
              "    </tr>\n",
              "    <tr>\n",
              "      <th>23696</th>\n",
              "      <td>2018-02-11</td>\n",
              "      <td>6</td>\n",
              "      <td>2</td>\n",
              "      <td>2018</td>\n",
              "    </tr>\n",
              "    <tr>\n",
              "      <th>23697</th>\n",
              "      <td>2017-03-28</td>\n",
              "      <td>1</td>\n",
              "      <td>3</td>\n",
              "      <td>2017</td>\n",
              "    </tr>\n",
              "    <tr>\n",
              "      <th>23698</th>\n",
              "      <td>2017-07-21</td>\n",
              "      <td>4</td>\n",
              "      <td>7</td>\n",
              "      <td>2017</td>\n",
              "    </tr>\n",
              "  </tbody>\n",
              "</table>\n",
              "<p>22338 rows × 4 columns</p>\n",
              "</div>"
            ],
            "text/plain": [
              "      first_day_exposition  exposition_weekday  exposition_month  \\\n",
              "0               2019-03-07                   3                 3   \n",
              "1               2018-12-04                   1                12   \n",
              "2               2015-08-20                   3                 8   \n",
              "4               2018-06-19                   1                 6   \n",
              "5               2018-09-10                   0                 9   \n",
              "...                    ...                 ...               ...   \n",
              "23694           2017-03-21                   1                 3   \n",
              "23695           2018-01-15                   0                 1   \n",
              "23696           2018-02-11                   6                 2   \n",
              "23697           2017-03-28                   1                 3   \n",
              "23698           2017-07-21                   4                 7   \n",
              "\n",
              "       exposition_year  \n",
              "0                 2019  \n",
              "1                 2018  \n",
              "2                 2015  \n",
              "4                 2018  \n",
              "5                 2018  \n",
              "...                ...  \n",
              "23694             2017  \n",
              "23695             2018  \n",
              "23696             2018  \n",
              "23697             2017  \n",
              "23698             2017  \n",
              "\n",
              "[22338 rows x 4 columns]"
            ]
          },
          "metadata": {},
          "output_type": "display_data"
        }
      ],
      "source": [
        "# день недели публикации объявления\n",
        "df['exposition_weekday'] = df['first_day_exposition'].dt.weekday\n",
        "\n",
        "# месяц публикации\n",
        "df['exposition_month'] = df['first_day_exposition'].dt.month\n",
        "\n",
        "# год публикации\n",
        "df['exposition_year'] = df['first_day_exposition'].dt.year\n",
        "\n",
        "# проверка\n",
        "display(df[['first_day_exposition','exposition_weekday','exposition_month','exposition_year']])"
      ]
    },
    {
      "cell_type": "markdown",
      "metadata": {
        "id": "cNMKPkk687m6"
      },
      "source": [
        "## Тип этажа квартиры"
      ]
    },
    {
      "cell_type": "code",
      "execution_count": null,
      "metadata": {
        "colab": {
          "base_uri": "https://localhost:8080/",
          "height": 589
        },
        "id": "7y7oC9Jr-lzI",
        "outputId": "970833bc-ad64-4e72-95dd-ee9099cc610c"
      },
      "outputs": [
        {
          "data": {
            "text/html": [
              "<div>\n",
              "<style scoped>\n",
              "    .dataframe tbody tr th:only-of-type {\n",
              "        vertical-align: middle;\n",
              "    }\n",
              "\n",
              "    .dataframe tbody tr th {\n",
              "        vertical-align: top;\n",
              "    }\n",
              "\n",
              "    .dataframe thead th {\n",
              "        text-align: right;\n",
              "    }\n",
              "</style>\n",
              "<table border=\"1\" class=\"dataframe\">\n",
              "  <thead>\n",
              "    <tr style=\"text-align: right;\">\n",
              "      <th></th>\n",
              "      <th>floor</th>\n",
              "      <th>floors_total</th>\n",
              "      <th>floor_category</th>\n",
              "    </tr>\n",
              "  </thead>\n",
              "  <tbody>\n",
              "    <tr>\n",
              "      <th>21688</th>\n",
              "      <td>21</td>\n",
              "      <td>24</td>\n",
              "      <td>другой</td>\n",
              "    </tr>\n",
              "    <tr>\n",
              "      <th>19433</th>\n",
              "      <td>1</td>\n",
              "      <td>5</td>\n",
              "      <td>первый</td>\n",
              "    </tr>\n",
              "    <tr>\n",
              "      <th>20166</th>\n",
              "      <td>2</td>\n",
              "      <td>5</td>\n",
              "      <td>другой</td>\n",
              "    </tr>\n",
              "    <tr>\n",
              "      <th>20339</th>\n",
              "      <td>1</td>\n",
              "      <td>5</td>\n",
              "      <td>первый</td>\n",
              "    </tr>\n",
              "    <tr>\n",
              "      <th>15162</th>\n",
              "      <td>16</td>\n",
              "      <td>16</td>\n",
              "      <td>последний</td>\n",
              "    </tr>\n",
              "    <tr>\n",
              "      <th>3867</th>\n",
              "      <td>11</td>\n",
              "      <td>24</td>\n",
              "      <td>другой</td>\n",
              "    </tr>\n",
              "    <tr>\n",
              "      <th>6013</th>\n",
              "      <td>3</td>\n",
              "      <td>5</td>\n",
              "      <td>другой</td>\n",
              "    </tr>\n",
              "    <tr>\n",
              "      <th>22202</th>\n",
              "      <td>2</td>\n",
              "      <td>16</td>\n",
              "      <td>другой</td>\n",
              "    </tr>\n",
              "    <tr>\n",
              "      <th>21738</th>\n",
              "      <td>2</td>\n",
              "      <td>5</td>\n",
              "      <td>другой</td>\n",
              "    </tr>\n",
              "    <tr>\n",
              "      <th>8175</th>\n",
              "      <td>4</td>\n",
              "      <td>5</td>\n",
              "      <td>другой</td>\n",
              "    </tr>\n",
              "    <tr>\n",
              "      <th>15427</th>\n",
              "      <td>7</td>\n",
              "      <td>9</td>\n",
              "      <td>другой</td>\n",
              "    </tr>\n",
              "    <tr>\n",
              "      <th>4072</th>\n",
              "      <td>2</td>\n",
              "      <td>5</td>\n",
              "      <td>другой</td>\n",
              "    </tr>\n",
              "    <tr>\n",
              "      <th>18200</th>\n",
              "      <td>4</td>\n",
              "      <td>5</td>\n",
              "      <td>другой</td>\n",
              "    </tr>\n",
              "    <tr>\n",
              "      <th>2847</th>\n",
              "      <td>2</td>\n",
              "      <td>3</td>\n",
              "      <td>другой</td>\n",
              "    </tr>\n",
              "    <tr>\n",
              "      <th>9804</th>\n",
              "      <td>8</td>\n",
              "      <td>16</td>\n",
              "      <td>другой</td>\n",
              "    </tr>\n",
              "  </tbody>\n",
              "</table>\n",
              "</div>"
            ],
            "text/plain": [
              "       floor  floors_total floor_category\n",
              "21688     21            24         другой\n",
              "19433      1             5         первый\n",
              "20166      2             5         другой\n",
              "20339      1             5         первый\n",
              "15162     16            16      последний\n",
              "3867      11            24         другой\n",
              "6013       3             5         другой\n",
              "22202      2            16         другой\n",
              "21738      2             5         другой\n",
              "8175       4             5         другой\n",
              "15427      7             9         другой\n",
              "4072       2             5         другой\n",
              "18200      4             5         другой\n",
              "2847       2             3         другой\n",
              "9804       8            16         другой"
            ]
          },
          "metadata": {},
          "output_type": "display_data"
        },
        {
          "name": "stdout",
          "output_type": "stream",
          "text": [
            "другой       16447\n",
            "последний     3095\n",
            "первый        2796\n",
            "Name: floor_category, dtype: int64\n"
          ]
        }
      ],
      "source": [
        "# Категоризация этажей\n",
        "def floor_category(row):\n",
        "    if row['floor'] == 1:\n",
        "        return 'первый'\n",
        "    if row['floor'] == row['floors_total']:\n",
        "        return 'последний'\n",
        "    else:\n",
        "        return 'другой'\n",
        "\n",
        "df['floor_category'] = df.apply(floor_category, axis=1)\n",
        "\n",
        "# проверка\n",
        "display(df[['floor', 'floors_total', 'floor_category']].sample(15))\n",
        "print(df['floor_category'].value_counts())"
      ]
    },
    {
      "cell_type": "markdown",
      "metadata": {
        "id": "okRWIfjp9Lxi"
      },
      "source": [
        "## Расстояние до центра города в километрах"
      ]
    },
    {
      "cell_type": "code",
      "execution_count": null,
      "metadata": {
        "colab": {
          "base_uri": "https://localhost:8080/",
          "height": 520
        },
        "id": "x7X6DpidECpp",
        "outputId": "00ede1fd-ff94-4afe-a1c4-56d7ef85e7c1"
      },
      "outputs": [
        {
          "data": {
            "text/html": [
              "<div>\n",
              "<style scoped>\n",
              "    .dataframe tbody tr th:only-of-type {\n",
              "        vertical-align: middle;\n",
              "    }\n",
              "\n",
              "    .dataframe tbody tr th {\n",
              "        vertical-align: top;\n",
              "    }\n",
              "\n",
              "    .dataframe thead th {\n",
              "        text-align: right;\n",
              "    }\n",
              "</style>\n",
              "<table border=\"1\" class=\"dataframe\">\n",
              "  <thead>\n",
              "    <tr style=\"text-align: right;\">\n",
              "      <th></th>\n",
              "      <th>city_centers_nearest</th>\n",
              "      <th>city_centers_nearest_km</th>\n",
              "    </tr>\n",
              "  </thead>\n",
              "  <tbody>\n",
              "    <tr>\n",
              "      <th>19032</th>\n",
              "      <td>1117</td>\n",
              "      <td>1.0</td>\n",
              "    </tr>\n",
              "    <tr>\n",
              "      <th>21067</th>\n",
              "      <td>31036</td>\n",
              "      <td>31.0</td>\n",
              "    </tr>\n",
              "    <tr>\n",
              "      <th>4122</th>\n",
              "      <td>23384</td>\n",
              "      <td>23.0</td>\n",
              "    </tr>\n",
              "    <tr>\n",
              "      <th>6312</th>\n",
              "      <td>8460</td>\n",
              "      <td>8.0</td>\n",
              "    </tr>\n",
              "    <tr>\n",
              "      <th>16388</th>\n",
              "      <td>12082</td>\n",
              "      <td>12.0</td>\n",
              "    </tr>\n",
              "    <tr>\n",
              "      <th>11417</th>\n",
              "      <td>8476</td>\n",
              "      <td>8.0</td>\n",
              "    </tr>\n",
              "    <tr>\n",
              "      <th>7429</th>\n",
              "      <td>-1</td>\n",
              "      <td>-0.0</td>\n",
              "    </tr>\n",
              "    <tr>\n",
              "      <th>4192</th>\n",
              "      <td>-1</td>\n",
              "      <td>-0.0</td>\n",
              "    </tr>\n",
              "    <tr>\n",
              "      <th>1748</th>\n",
              "      <td>10364</td>\n",
              "      <td>10.0</td>\n",
              "    </tr>\n",
              "    <tr>\n",
              "      <th>20006</th>\n",
              "      <td>12635</td>\n",
              "      <td>13.0</td>\n",
              "    </tr>\n",
              "    <tr>\n",
              "      <th>8473</th>\n",
              "      <td>17793</td>\n",
              "      <td>18.0</td>\n",
              "    </tr>\n",
              "    <tr>\n",
              "      <th>12669</th>\n",
              "      <td>13892</td>\n",
              "      <td>14.0</td>\n",
              "    </tr>\n",
              "    <tr>\n",
              "      <th>10638</th>\n",
              "      <td>18791</td>\n",
              "      <td>19.0</td>\n",
              "    </tr>\n",
              "    <tr>\n",
              "      <th>1368</th>\n",
              "      <td>15261</td>\n",
              "      <td>15.0</td>\n",
              "    </tr>\n",
              "    <tr>\n",
              "      <th>8374</th>\n",
              "      <td>-1</td>\n",
              "      <td>-0.0</td>\n",
              "    </tr>\n",
              "  </tbody>\n",
              "</table>\n",
              "</div>"
            ],
            "text/plain": [
              "       city_centers_nearest  city_centers_nearest_km\n",
              "19032                  1117                      1.0\n",
              "21067                 31036                     31.0\n",
              "4122                  23384                     23.0\n",
              "6312                   8460                      8.0\n",
              "16388                 12082                     12.0\n",
              "11417                  8476                      8.0\n",
              "7429                     -1                     -0.0\n",
              "4192                     -1                     -0.0\n",
              "1748                  10364                     10.0\n",
              "20006                 12635                     13.0\n",
              "8473                  17793                     18.0\n",
              "12669                 13892                     14.0\n",
              "10638                 18791                     19.0\n",
              "1368                  15261                     15.0\n",
              "8374                     -1                     -0.0"
            ]
          },
          "metadata": {},
          "output_type": "display_data"
        }
      ],
      "source": [
        "# добавим новую ячейку city_centers_nearest_km\n",
        "df['city_centers_nearest_km'] = round(df['city_centers_nearest'] / 1000)\n",
        "\n",
        "# проверяем\n",
        "display(df[['city_centers_nearest', 'city_centers_nearest_km']].sample(15))"
      ]
    },
    {
      "cell_type": "markdown",
      "metadata": {
        "id": "734bYOpTI-dF"
      },
      "source": [
        "# Проведите исследовательский анализ данных"
      ]
    },
    {
      "cell_type": "markdown",
      "metadata": {
        "id": "nNrxlkhtV3Sw"
      },
      "source": [
        "## 1. Изучаем основные параметры\n",
        "*   общая площадь\n",
        "*   жилая площадь\n",
        "*   площадь кухни\n",
        "*   цена объекта\n",
        "*   количество комнат\n",
        "*   высота потолков\n",
        "*   этаж квартиры\n",
        "*   тип этажа квартиры («первый», «последний», «другой»)\n",
        "*   общее количество этажей в доме\n",
        "*   расстояние до центра города в метрах\n",
        "*   расстояние до ближайшего аэропорта\n",
        "*   расстояние до ближайшего парка\n",
        "*   день и месяц публикации объявления"
      ]
    },
    {
      "cell_type": "markdown",
      "metadata": {
        "id": "VdG32VjiXt-j"
      },
      "source": [
        "### Общая площадь, жилая площадь, площадь кухни и количество комнат"
      ]
    },
    {
      "cell_type": "code",
      "execution_count": null,
      "metadata": {
        "colab": {
          "base_uri": "https://localhost:8080/",
          "height": 333
        },
        "id": "AxzH51aNI-dG",
        "outputId": "d1381eff-74f3-447b-a20a-c3c934594523"
      },
      "outputs": [
        {
          "data": {
            "image/png": "[encoded data removed]",
            "text/plain": [
              "<Figure size 504x216 with 1 Axes>"
            ]
          },
          "metadata": {
            "needs_background": "light"
          },
          "output_type": "display_data"
        }
      ],
      "source": [
        "# отобразим распределение общей площади квартир\n",
        "df.plot(y = 'total_area', kind = 'hist', grid = True, \\\n",
        "        figsize = (7,3), bins = 120, range=(8,200))\n",
        "plt.title('Площадь квартир')\n",
        "plt.xlabel('Квадратные метры')\n",
        "plt.ylabel('Количество квартир')\n",
        "plt.show()"
      ]
    },
    {
      "cell_type": "code",
      "execution_count": null,
      "metadata": {
        "id": "62ToTu7m_nXV"
      },
      "outputs": [],
      "source": [
        "#print('Наибольшие по площади варианты:')\n",
        "#print(df['total_area'].sort_values(ascending=False).head(10))"
      ]
    },
    {
      "cell_type": "code",
      "execution_count": null,
      "metadata": {
        "colab": {
          "base_uri": "https://localhost:8080/",
          "height": 333
        },
        "id": "SIyHibNgBiTe",
        "outputId": "79991680-4d5e-4bab-8828-311d7484b978"
      },
      "outputs": [
        {
          "data": {
            "image/png": "[encoded data removed]",
            "text/plain": [
              "<Figure size 504x216 with 1 Axes>"
            ]
          },
          "metadata": {
            "needs_background": "light"
          },
          "output_type": "display_data"
        }
      ],
      "source": [
        "# отобразим распределение жилой площади\n",
        "df.plot(y = 'living_area', kind = 'hist', grid = True, \\\n",
        "        figsize = (7,3), bins = 120, range=(0,110))\n",
        "plt.title('Жилая площадь')\n",
        "plt.xlabel('Квадратные метры')\n",
        "plt.ylabel('Количество квартир')\n",
        "plt.show()"
      ]
    },
    {
      "cell_type": "code",
      "execution_count": null,
      "metadata": {
        "colab": {
          "base_uri": "https://localhost:8080/",
          "height": 333
        },
        "id": "y1V29hawENLm",
        "outputId": "c1b2a4b7-3e04-4a60-d16b-0bf68da732b5"
      },
      "outputs": [
        {
          "data": {
            "image/png": "[encoded data removed]",
            "text/plain": [
              "<Figure size 504x216 with 1 Axes>"
            ]
          },
          "metadata": {
            "needs_background": "light"
          },
          "output_type": "display_data"
        }
      ],
      "source": [
        "# отобразим распределение площади кухни\n",
        "df.plot(y = 'kitchen_area', grid = True, kind = 'hist', figsize = (7,3),\n",
        "         bins = 100, range=(0,40))\n",
        "plt.title('Площадь кухни')\n",
        "plt.xlabel('Квадратные метры')\n",
        "plt.ylabel('Количество квартир')\n",
        "plt.show()"
      ]
    },
    {
      "cell_type": "code",
      "execution_count": null,
      "metadata": {
        "colab": {
          "base_uri": "https://localhost:8080/",
          "height": 333
        },
        "id": "7QwxUPxGVbVc",
        "outputId": "e4e51d71-0e1c-467b-9636-8ecb1c9360b7"
      },
      "outputs": [
        {
          "data": {
            "image/png": "[encoded data removed]",
            "text/plain": [
              "<Figure size 288x216 with 1 Axes>"
            ]
          },
          "metadata": {
            "needs_background": "light"
          },
          "output_type": "display_data"
        }
      ],
      "source": [
        "df.plot(y = 'rooms', kind = 'hist', grid=True, figsize = (4,3),\n",
        "        bins = 10)\n",
        "plt.title('Количество комнат')\n",
        "plt.xlabel('комнаты')\n",
        "plt.ylabel('Количество квартир')\n",
        "plt.show()"
      ]
    },
    {
      "cell_type": "code",
      "execution_count": null,
      "metadata": {
        "colab": {
          "base_uri": "https://localhost:8080/",
          "height": 300
        },
        "id": "6ouj0tnVQYgx",
        "outputId": "c3e7a37e-1686-4d2e-b1f2-9aba6751852d"
      },
      "outputs": [
        {
          "data": {
            "text/html": [
              "<div>\n",
              "<style scoped>\n",
              "    .dataframe tbody tr th:only-of-type {\n",
              "        vertical-align: middle;\n",
              "    }\n",
              "\n",
              "    .dataframe tbody tr th {\n",
              "        vertical-align: top;\n",
              "    }\n",
              "\n",
              "    .dataframe thead th {\n",
              "        text-align: right;\n",
              "    }\n",
              "</style>\n",
              "<table border=\"1\" class=\"dataframe\">\n",
              "  <thead>\n",
              "    <tr style=\"text-align: right;\">\n",
              "      <th></th>\n",
              "      <th>total_area</th>\n",
              "      <th>living_area</th>\n",
              "      <th>kitchen_area</th>\n",
              "      <th>rooms</th>\n",
              "    </tr>\n",
              "  </thead>\n",
              "  <tbody>\n",
              "    <tr>\n",
              "      <th>count</th>\n",
              "      <td>19986.000000</td>\n",
              "      <td>19986.000000</td>\n",
              "      <td>19986.000000</td>\n",
              "      <td>19986.000000</td>\n",
              "    </tr>\n",
              "    <tr>\n",
              "      <th>mean</th>\n",
              "      <td>55.533669</td>\n",
              "      <td>31.663352</td>\n",
              "      <td>9.956784</td>\n",
              "      <td>1.983939</td>\n",
              "    </tr>\n",
              "    <tr>\n",
              "      <th>std</th>\n",
              "      <td>20.688994</td>\n",
              "      <td>14.158127</td>\n",
              "      <td>4.489629</td>\n",
              "      <td>0.880610</td>\n",
              "    </tr>\n",
              "    <tr>\n",
              "      <th>min</th>\n",
              "      <td>14.000000</td>\n",
              "      <td>8.000000</td>\n",
              "      <td>1.300000</td>\n",
              "      <td>1.000000</td>\n",
              "    </tr>\n",
              "    <tr>\n",
              "      <th>25%</th>\n",
              "      <td>40.000000</td>\n",
              "      <td>18.500000</td>\n",
              "      <td>7.000000</td>\n",
              "      <td>1.000000</td>\n",
              "    </tr>\n",
              "    <tr>\n",
              "      <th>50%</th>\n",
              "      <td>51.000000</td>\n",
              "      <td>30.000000</td>\n",
              "      <td>9.000000</td>\n",
              "      <td>2.000000</td>\n",
              "    </tr>\n",
              "    <tr>\n",
              "      <th>75%</th>\n",
              "      <td>66.300000</td>\n",
              "      <td>41.000000</td>\n",
              "      <td>11.300000</td>\n",
              "      <td>3.000000</td>\n",
              "    </tr>\n",
              "    <tr>\n",
              "      <th>max</th>\n",
              "      <td>149.000000</td>\n",
              "      <td>128.000000</td>\n",
              "      <td>64.000000</td>\n",
              "      <td>4.000000</td>\n",
              "    </tr>\n",
              "  </tbody>\n",
              "</table>\n",
              "</div>"
            ],
            "text/plain": [
              "         total_area   living_area  kitchen_area         rooms\n",
              "count  19986.000000  19986.000000  19986.000000  19986.000000\n",
              "mean      55.533669     31.663352      9.956784      1.983939\n",
              "std       20.688994     14.158127      4.489629      0.880610\n",
              "min       14.000000      8.000000      1.300000      1.000000\n",
              "25%       40.000000     18.500000      7.000000      1.000000\n",
              "50%       51.000000     30.000000      9.000000      2.000000\n",
              "75%       66.300000     41.000000     11.300000      3.000000\n",
              "max      149.000000    128.000000     64.000000      4.000000"
            ]
          },
          "execution_count": 35,
          "metadata": {},
          "output_type": "execute_result"
        }
      ],
      "source": [
        "df.loc[(df['living_area'] > 0) &\n",
        "       (df['kitchen_area'] > 0)][['total_area', 'living_area', 'kitchen_area', 'rooms']].describe()"
      ]
    },
    {
      "cell_type": "markdown",
      "metadata": {
        "id": "LVybTAvcNucE"
      },
      "source": [
        "*   Диапазон общей площади квартир в выборке от 14 до 900 кв. метров. Характерная форма распределения Пуассона с медианой 51.2 кв.м. и средним 56.3 кв.м.\n",
        "*   На графике заметны пики в районе 40, 60 и 75, что вероятно соответствует количествам комнат в квартире\n",
        "*   Так же форма распределения Пуассона характерны и для распределений жилой площади и площади кухни\n",
        "*   Так же заметны пики в распределении жилой площади соответствующие однокомнатным, двухкомнатным и трехкомнатным квартирам\n",
        "*   В основной массе объявлений продаются однокомнатные и двухкомнатные кваритиры, на претьем месте - трехкомнатные\n",
        "\n",
        "\n"
      ]
    },
    {
      "cell_type": "markdown",
      "metadata": {
        "id": "PTFZ5hoS2tHC"
      },
      "source": [
        "### Цена объекта"
      ]
    },
    {
      "cell_type": "code",
      "execution_count": null,
      "metadata": {
        "colab": {
          "base_uri": "https://localhost:8080/",
          "height": 489
        },
        "id": "v4V2uvM02r7v",
        "outputId": "bb69d677-c75e-404f-af03-e92ea16fcec2"
      },
      "outputs": [
        {
          "data": {
            "image/png": "[encoded data removed]",
            "text/plain": [
              "<Figure size 504x216 with 1 Axes>"
            ]
          },
          "metadata": {
            "needs_background": "light"
          },
          "output_type": "display_data"
        },
        {
          "data": {
            "text/plain": [
              "count    22338.000000\n",
              "mean         5.300918\n",
              "std          3.020297\n",
              "min          0.012190\n",
              "25%          3.400000\n",
              "50%          4.500000\n",
              "75%          6.390000\n",
              "max         19.999000\n",
              "Name: last_price, dtype: float64"
            ]
          },
          "execution_count": 36,
          "metadata": {},
          "output_type": "execute_result"
        }
      ],
      "source": [
        "df.plot(y = 'last_price', kind = 'hist', grid=True, figsize = (7,3),\n",
        "        bins = 100 )\n",
        "plt.title('Цена объекта')\n",
        "plt.xlabel('Цена')\n",
        "plt.ylabel('Количество квартир')\n",
        "plt.show()\n",
        "df['last_price'].describe()"
      ]
    },
    {
      "cell_type": "markdown",
      "metadata": {
        "id": "kX-zc50QeUIo"
      },
      "source": [
        "\n",
        "\n",
        "*   Форма распределение цен на недвижимость имеет нормальное распределение (Гаусса). Среднее значение в 6,5 млн руб., медиана 4,6 млн руб.\n",
        "\n"
      ]
    },
    {
      "cell_type": "markdown",
      "metadata": {
        "id": "YDtv3MBxIZ3X"
      },
      "source": [
        "### Высота потолков"
      ]
    },
    {
      "cell_type": "code",
      "execution_count": null,
      "metadata": {
        "colab": {
          "base_uri": "https://localhost:8080/",
          "height": 489
        },
        "id": "0F7D0gZpIjKp",
        "outputId": "bbddc631-59f3-4836-a417-dd56fa121a13"
      },
      "outputs": [
        {
          "data": {
            "image/png": "[encoded data removed]",
            "text/plain": [
              "<Figure size 504x216 with 1 Axes>"
            ]
          },
          "metadata": {
            "needs_background": "light"
          },
          "output_type": "display_data"
        },
        {
          "data": {
            "text/plain": [
              "count    13631.000000\n",
              "mean         2.701963\n",
              "std          0.244990\n",
              "min          2.200000\n",
              "25%          2.500000\n",
              "50%          2.640000\n",
              "75%          2.780000\n",
              "max          5.300000\n",
              "Name: ceiling_height, dtype: float64"
            ]
          },
          "execution_count": 37,
          "metadata": {},
          "output_type": "execute_result"
        }
      ],
      "source": [
        "df.plot(y = 'ceiling_height', kind = 'hist', grid=True, figsize = (7,3),\n",
        "        bins = 50, range = (2.2,5))\n",
        "plt.title('Высота потолков')\n",
        "plt.xlabel('Высота')\n",
        "plt.ylabel('Количество квартир')\n",
        "plt.show()\n",
        "df[(df['ceiling_height'] > 2)]['ceiling_height'].describe()"
      ]
    },
    {
      "cell_type": "markdown",
      "metadata": {
        "id": "P9l72fmccPiG"
      },
      "source": [
        "*   Высота потолков в среднем составляет 2,7 м, медиана 2,65 м.\n",
        "*   Так же есть квартиры с 3-хметровыми потолками и выше предположительно принадлежащие квартирам в историческом центре и внеплановой застройки\n",
        "\n"
      ]
    },
    {
      "cell_type": "markdown",
      "metadata": {
        "id": "dQ_quAokJsj1"
      },
      "source": [
        "### Этаж квартиры, общее количество этажей в доме и тип этажа квартиры"
      ]
    },
    {
      "cell_type": "code",
      "execution_count": null,
      "metadata": {
        "colab": {
          "base_uri": "https://localhost:8080/",
          "height": 489
        },
        "id": "4SwC7IKTAXv9",
        "outputId": "38222072-53b4-4927-8b80-6b6bc764fb53"
      },
      "outputs": [
        {
          "data": {
            "image/png": "[encoded data removed]",
            "text/plain": [
              "<Figure size 504x216 with 1 Axes>"
            ]
          },
          "metadata": {
            "needs_background": "light"
          },
          "output_type": "display_data"
        },
        {
          "data": {
            "text/plain": [
              "count    22338.000000\n",
              "mean         5.900439\n",
              "std          4.892380\n",
              "min          1.000000\n",
              "25%          2.000000\n",
              "50%          4.000000\n",
              "75%          8.000000\n",
              "max         33.000000\n",
              "Name: floor, dtype: float64"
            ]
          },
          "execution_count": 38,
          "metadata": {},
          "output_type": "execute_result"
        }
      ],
      "source": [
        "df.plot(y = 'floor', kind = 'hist', grid=True, figsize = (7,3),\n",
        "        bins = 50, range = (0,35))\n",
        "plt.title('Этаж')\n",
        "plt.xlabel('Этаж')\n",
        "plt.ylabel('Количество квартир')\n",
        "plt.show()\n",
        "df[(df['floor'] > 0)]['floor'].describe()"
      ]
    },
    {
      "cell_type": "code",
      "execution_count": null,
      "metadata": {
        "colab": {
          "base_uri": "https://localhost:8080/",
          "height": 489
        },
        "id": "fsx7Q5jekbLG",
        "outputId": "f084e54a-78f1-4f3c-99a7-7add0625f468"
      },
      "outputs": [
        {
          "data": {
            "image/png": "[encoded data removed]",
            "text/plain": [
              "<Figure size 504x216 with 1 Axes>"
            ]
          },
          "metadata": {
            "needs_background": "light"
          },
          "output_type": "display_data"
        },
        {
          "data": {
            "text/plain": [
              "count    22260.000000\n",
              "mean        10.749102\n",
              "std          6.612532\n",
              "min          1.000000\n",
              "25%          5.000000\n",
              "50%          9.000000\n",
              "75%         16.000000\n",
              "max         60.000000\n",
              "Name: floors_total, dtype: float64"
            ]
          },
          "execution_count": 39,
          "metadata": {},
          "output_type": "execute_result"
        }
      ],
      "source": [
        "df.plot(y = 'floors_total', kind = 'hist', grid=True, figsize = (7,3),\n",
        "        bins = 30, range = (1,20))\n",
        "plt.title('Этажность строения')\n",
        "plt.xlabel('общее количество этажей')\n",
        "plt.ylabel('Количество квартир')\n",
        "plt.show()\n",
        "df[(df['floors_total'] > 0)]['floors_total'].describe()"
      ]
    },
    {
      "cell_type": "code",
      "execution_count": null,
      "metadata": {
        "colab": {
          "base_uri": "https://localhost:8080/",
          "height": 414
        },
        "id": "5OLzuceHltTU",
        "outputId": "1c3076fd-2a34-49a2-e00a-1f79bab66189"
      },
      "outputs": [
        {
          "data": {
            "image/png": "[encoded data removed]",
            "text/plain": [
              "<Figure size 432x144 with 1 Axes>"
            ]
          },
          "metadata": {
            "needs_background": "light"
          },
          "output_type": "display_data"
        },
        {
          "data": {
            "text/html": [
              "<div>\n",
              "<style scoped>\n",
              "    .dataframe tbody tr th:only-of-type {\n",
              "        vertical-align: middle;\n",
              "    }\n",
              "\n",
              "    .dataframe tbody tr th {\n",
              "        vertical-align: top;\n",
              "    }\n",
              "\n",
              "    .dataframe thead th {\n",
              "        text-align: right;\n",
              "    }\n",
              "</style>\n",
              "<table border=\"1\" class=\"dataframe\">\n",
              "  <thead>\n",
              "    <tr style=\"text-align: right;\">\n",
              "      <th></th>\n",
              "      <th>floor_category_count</th>\n",
              "    </tr>\n",
              "    <tr>\n",
              "      <th>floor_category</th>\n",
              "      <th></th>\n",
              "    </tr>\n",
              "  </thead>\n",
              "  <tbody>\n",
              "    <tr>\n",
              "      <th>первый</th>\n",
              "      <td>2796</td>\n",
              "    </tr>\n",
              "    <tr>\n",
              "      <th>другой</th>\n",
              "      <td>16447</td>\n",
              "    </tr>\n",
              "    <tr>\n",
              "      <th>последний</th>\n",
              "      <td>3095</td>\n",
              "    </tr>\n",
              "  </tbody>\n",
              "</table>\n",
              "</div>"
            ],
            "text/plain": [
              "                floor_category_count\n",
              "floor_category                      \n",
              "первый                          2796\n",
              "другой                         16447\n",
              "последний                       3095"
            ]
          },
          "metadata": {},
          "output_type": "display_data"
        }
      ],
      "source": [
        "floor_category_graf = pd.DataFrame()\n",
        "floor_category_graf['floor_category_count'] = df.groupby('floor_category')['floor_category'].count()\n",
        "floor_category_graf = floor_category_graf.reindex(['первый', 'другой', 'последний'])\n",
        "\n",
        "ax = floor_category_graf.plot.barh(figsize = (6,2))\n",
        "plt.title('Тип этажа квартиры')\n",
        "plt.xlabel('Тип этажа квартиры')\n",
        "plt.ylabel('количество квартир')\n",
        "plt.show()\n",
        "display(floor_category_graf)"
      ]
    },
    {
      "cell_type": "markdown",
      "metadata": {
        "id": "0bl84tk5sJJO"
      },
      "source": [
        "Выводы\n",
        "*   Этаж квартиры и общее количество этажей имеют распределение Гаусса со средним 6 и медианной 4.\n",
        "*   На графике этажности строений заметны пики характерных значений этажности типовой застройки - 5 этажей и 9 этажей\n",
        "*   Ожидаемо количество квартир в категории \"другой\" больше чем первый и последний. Интересно что в категории \"первый\" квартир меньше чев в \"последний\". Возможно из-за того что на перых этажах часто распологаются магазины, бытовые и социальные учреждения.\n"
      ]
    },
    {
      "cell_type": "markdown",
      "metadata": {
        "id": "KzU_XqWo1Wv6"
      },
      "source": [
        "### Расстояния до центра города, ближайшего аэропорта и парка"
      ]
    },
    {
      "cell_type": "code",
      "execution_count": null,
      "metadata": {
        "colab": {
          "base_uri": "https://localhost:8080/",
          "height": 1000
        },
        "id": "XK3ONUju3NgK",
        "outputId": "cf70e72c-1405-4c73-cf25-ef945c420a04"
      },
      "outputs": [
        {
          "data": {
            "image/png": "[encoded data removed]",
            "text/plain": [
              "<Figure size 504x216 with 1 Axes>"
            ]
          },
          "metadata": {
            "needs_background": "light"
          },
          "output_type": "display_data"
        },
        {
          "data": {
            "image/png": "[encoded data removed]",
            "text/plain": [
              "<Figure size 504x216 with 1 Axes>"
            ]
          },
          "metadata": {
            "needs_background": "light"
          },
          "output_type": "display_data"
        },
        {
          "data": {
            "image/png": "[encoded data removed]",
            "text/plain": [
              "<Figure size 504x216 with 1 Axes>"
            ]
          },
          "metadata": {
            "needs_background": "light"
          },
          "output_type": "display_data"
        },
        {
          "data": {
            "text/html": [
              "<div>\n",
              "<style scoped>\n",
              "    .dataframe tbody tr th:only-of-type {\n",
              "        vertical-align: middle;\n",
              "    }\n",
              "\n",
              "    .dataframe tbody tr th {\n",
              "        vertical-align: top;\n",
              "    }\n",
              "\n",
              "    .dataframe thead th {\n",
              "        text-align: right;\n",
              "    }\n",
              "</style>\n",
              "<table border=\"1\" class=\"dataframe\">\n",
              "  <thead>\n",
              "    <tr style=\"text-align: right;\">\n",
              "      <th></th>\n",
              "      <th>city_centers_nearest</th>\n",
              "      <th>airports_nearest</th>\n",
              "      <th>parks_nearest</th>\n",
              "    </tr>\n",
              "  </thead>\n",
              "  <tbody>\n",
              "    <tr>\n",
              "      <th>count</th>\n",
              "      <td>7280.000000</td>\n",
              "      <td>7280.000000</td>\n",
              "      <td>7280.000000</td>\n",
              "    </tr>\n",
              "    <tr>\n",
              "      <th>mean</th>\n",
              "      <td>13002.974451</td>\n",
              "      <td>28784.322527</td>\n",
              "      <td>495.546978</td>\n",
              "    </tr>\n",
              "    <tr>\n",
              "      <th>std</th>\n",
              "      <td>8747.143152</td>\n",
              "      <td>12249.551670</td>\n",
              "      <td>343.917685</td>\n",
              "    </tr>\n",
              "    <tr>\n",
              "      <th>min</th>\n",
              "      <td>208.000000</td>\n",
              "      <td>6914.000000</td>\n",
              "      <td>1.000000</td>\n",
              "    </tr>\n",
              "    <tr>\n",
              "      <th>25%</th>\n",
              "      <td>7775.250000</td>\n",
              "      <td>19375.000000</td>\n",
              "      <td>291.000000</td>\n",
              "    </tr>\n",
              "    <tr>\n",
              "      <th>50%</th>\n",
              "      <td>11738.000000</td>\n",
              "      <td>27102.000000</td>\n",
              "      <td>458.000000</td>\n",
              "    </tr>\n",
              "    <tr>\n",
              "      <th>75%</th>\n",
              "      <td>14985.000000</td>\n",
              "      <td>37364.000000</td>\n",
              "      <td>616.000000</td>\n",
              "    </tr>\n",
              "    <tr>\n",
              "      <th>max</th>\n",
              "      <td>61495.000000</td>\n",
              "      <td>73391.000000</td>\n",
              "      <td>3190.000000</td>\n",
              "    </tr>\n",
              "  </tbody>\n",
              "</table>\n",
              "</div>"
            ],
            "text/plain": [
              "       city_centers_nearest  airports_nearest  parks_nearest\n",
              "count           7280.000000       7280.000000    7280.000000\n",
              "mean           13002.974451      28784.322527     495.546978\n",
              "std             8747.143152      12249.551670     343.917685\n",
              "min              208.000000       6914.000000       1.000000\n",
              "25%             7775.250000      19375.000000     291.000000\n",
              "50%            11738.000000      27102.000000     458.000000\n",
              "75%            14985.000000      37364.000000     616.000000\n",
              "max            61495.000000      73391.000000    3190.000000"
            ]
          },
          "execution_count": 41,
          "metadata": {},
          "output_type": "execute_result"
        }
      ],
      "source": [
        "df.plot(y = 'city_centers_nearest', kind = 'hist', grid = True, figsize = (7,3),\n",
        "        bins = 100, range = (1,60000))\n",
        "plt.title('Расстояние до центра города')\n",
        "plt.xlabel('расстояние')\n",
        "plt.ylabel('Количество квартир')\n",
        "plt.show()\n",
        "\n",
        "df.plot(y = 'airports_nearest', kind = 'hist', grid = True, figsize = (7,3),\n",
        "        bins = 100, range = (1,60000))\n",
        "plt.title('Расстояния до ближайшего аэропорта')\n",
        "plt.xlabel('расстояние')\n",
        "plt.ylabel('Количество квартир')\n",
        "plt.show()\n",
        "\n",
        "df.plot(y = 'parks_nearest', kind = 'hist', grid = True, figsize = (7,3),\n",
        "        bins = 100, range = (1,2500))\n",
        "plt.title('Расстояния до парка')\n",
        "plt.xlabel('расстояние')\n",
        "plt.ylabel('Количество квартир')\n",
        "plt.show()\n",
        "\n",
        "df.loc[(df['city_centers_nearest'] > 0) & (df['airports_nearest'] > 0) &\n",
        "       (df['parks_nearest'] > 0)][['city_centers_nearest', 'airports_nearest', 'parks_nearest']].describe()\n"
      ]
    },
    {
      "cell_type": "markdown",
      "metadata": {
        "id": "0F1Y3qqI7Hu5"
      },
      "source": [
        "*   Интересные пики на графике распределения расстояний до центра. Возможно они отражают границы разных агломераций построек: исторический центр от новых районов с многоквартирными домами\n",
        "*   На графике явно видно отсутствие предложений ближе 7км от аэропорта\n",
        "*   В подавляющем большинстве на расстоянии около полукилометра находится парк"
      ]
    },
    {
      "cell_type": "markdown",
      "metadata": {
        "id": "h9rqMfnCEaR3"
      },
      "source": [
        "### День и месяц публикации объявления"
      ]
    },
    {
      "cell_type": "code",
      "execution_count": null,
      "metadata": {
        "colab": {
          "base_uri": "https://localhost:8080/",
          "height": 649
        },
        "id": "AxvzaFRlEw-t",
        "outputId": "37cb7579-026f-4cb1-874b-74190b18b33d"
      },
      "outputs": [
        {
          "data": {
            "image/png": "[encoded data removed]",
            "text/plain": [
              "<Figure size 504x216 with 1 Axes>"
            ]
          },
          "metadata": {
            "needs_background": "light"
          },
          "output_type": "display_data"
        },
        {
          "data": {
            "image/png": "[encoded data removed]",
            "text/plain": [
              "<Figure size 504x216 with 1 Axes>"
            ]
          },
          "metadata": {
            "needs_background": "light"
          },
          "output_type": "display_data"
        }
      ],
      "source": [
        "df.plot(y = 'exposition_weekday', kind = 'hist', grid=True, figsize = (7,3),\n",
        "        bins = 13)\n",
        "plt.title('День публикации объявления')\n",
        "plt.xlabel('День недели начиная с 0 (понедельник)')\n",
        "plt.ylabel('Количество квартир')\n",
        "plt.show()\n",
        "\n",
        "df.plot(y = 'exposition_month', kind = 'hist', grid=True, figsize = (7,3),\n",
        "        bins = 23)\n",
        "plt.title('Месяц публикации объявления')\n",
        "plt.xlabel('Месяц')\n",
        "plt.ylabel('Количество квартир')\n",
        "plt.show()"
      ]
    },
    {
      "cell_type": "markdown",
      "metadata": {
        "id": "7E7feE_aHELv"
      },
      "source": [
        "Выводы\n",
        "*   На графике \"День публикации объявления\" явно видно двукратное уменьшение количества подачи объявлений в выходные дни (на графике: 5 суббота, 6 - воскресенье)\n",
        "*   А на графике \"Месяц публикации объявления\" заметно максимальное количество подачи объявлений в феврале, марте и апреле затем минимальный уровень в мае с достаточно плавным возрастанием вплоть до ноября. В декабре и январе так же количество объявлений сильно падает.   \n",
        "\n"
      ]
    },
    {
      "cell_type": "markdown",
      "metadata": {
        "id": "UkFNxsiTJ4Ol"
      },
      "source": [
        "## Изучение скорости продажи квартир"
      ]
    },
    {
      "cell_type": "code",
      "execution_count": null,
      "metadata": {
        "colab": {
          "base_uri": "https://localhost:8080/",
          "height": 805
        },
        "id": "oSigdzVNKfzk",
        "outputId": "26ee45e7-91d6-441c-8ff5-d2a9f3e3497f"
      },
      "outputs": [
        {
          "data": {
            "image/png": "[encoded data removed]",
            "text/plain": [
              "<Figure size 504x216 with 1 Axes>"
            ]
          },
          "metadata": {
            "needs_background": "light"
          },
          "output_type": "display_data"
        },
        {
          "data": {
            "image/png": "[encoded data removed]",
            "text/plain": [
              "<Figure size 504x216 with 1 Axes>"
            ]
          },
          "metadata": {
            "needs_background": "light"
          },
          "output_type": "display_data"
        },
        {
          "data": {
            "text/plain": [
              "count    22318.000000\n",
              "mean       179.817188\n",
              "std        225.472037\n",
              "min          1.000000\n",
              "25%         42.000000\n",
              "50%         92.000000\n",
              "75%        228.000000\n",
              "max       1618.000000\n",
              "Name: days_exposition, dtype: float64"
            ]
          },
          "execution_count": 43,
          "metadata": {},
          "output_type": "execute_result"
        }
      ],
      "source": [
        "df[(df['days_exposition'] > 0)].plot(y = 'days_exposition', kind = 'hist', grid=True,\n",
        "                                     figsize = (7,3), bins = 100, range = (1,1000))\n",
        "plt.title('Срок актуальности объявлений')\n",
        "plt.xlabel('дни')\n",
        "plt.ylabel('количество квартир')\n",
        "plt.show()\n",
        "\n",
        "df[(df['days_exposition'] > 0)].plot(y = 'days_exposition', kind = 'hist', grid=True,\n",
        "                                     figsize = (7,3), bins = 100, range = (10,100))\n",
        "plt.title('Сроки подачи обьявлений в периоде от 10-ти до 100 дней')\n",
        "plt.xlabel('дни')\n",
        "plt.ylabel('количество квартир')\n",
        "plt.show()\n",
        "\n",
        "df[(df['days_exposition'] > 0)]['days_exposition'].describe()"
      ]
    },
    {
      "cell_type": "markdown",
      "metadata": {
        "id": "LDGuAX9vM-jl"
      },
      "source": [
        "*   Распределение по времени продажи имеет форму распределение Пуассона. Среднее время продажи квартиры составляет почти ровно полгода - 186 дней, медианное - 94 дня. Больше всего квартир (до 75%) продаётся в срок до 240 дней.\n",
        "*   На графике видны пики в районе 45-го, 60-го и 90-го дня с момента публикации. Можно предположить что это связано с механикой публикации объявлений на площадке Яндекс.Недвижимость."
      ]
    },
    {
      "cell_type": "markdown",
      "metadata": {
        "id": "BMQQyvwHZjUF"
      },
      "source": [
        "## Изучение факторов больше всего влияющие на общую стоимость объекта."
      ]
    },
    {
      "cell_type": "markdown",
      "metadata": {
        "id": "YvBQEvXDcHAQ"
      },
      "source": [
        "Изучим какие факторы больше всего влияют на стоимость квартиры: площадь, число комнат, этаж (первый или последний), удалённость от центра, а так же дата размещения объявления. Для этого определим степень корреляции и построим графики."
      ]
    },
    {
      "cell_type": "markdown",
      "metadata": {
        "id": "7iiv_hH7PacM"
      },
      "source": [
        "Что бы исключить специфические предложения с выпадами в параметрах цены и площади, ограничим выборку квартирами площадью до 200 кв. м. и стоимостью до 20 млн. руб."
      ]
    },
    {
      "cell_type": "code",
      "execution_count": null,
      "metadata": {
        "colab": {
          "base_uri": "https://localhost:8080/",
          "height": 489
        },
        "id": "keL-Bf2rcJ3Z",
        "outputId": "6038761c-a8da-4e91-d11f-114624f82b24",
        "scrolled": true
      },
      "outputs": [
        {
          "data": {
            "image/png": "[encoded data removed]",
            "text/plain": [
              "<Figure size 432x288 with 1 Axes>"
            ]
          },
          "metadata": {
            "needs_background": "light"
          },
          "output_type": "display_data"
        },
        {
          "name": "stdout",
          "output_type": "stream",
          "text": [
            "Корреляция цены квартиры и общей площади: 0.76\n"
          ]
        }
      ],
      "source": [
        "price_area = df[['total_area', 'last_price']]\n",
        "price_area.plot(x='total_area', y='last_price', kind='scatter', alpha=0.1)\n",
        "plt.title('Зависимость цены от площади квартиры')\n",
        "plt.xlabel('Площадь, м²')\n",
        "plt.ylabel('Цена, млн руб.')\n",
        "plt.show()\n",
        "print('Корреляция цены квартиры и общей площади:', price_area['last_price'].corr(price_area['total_area']).round(2))"
      ]
    },
    {
      "cell_type": "code",
      "execution_count": null,
      "metadata": {
        "colab": {
          "base_uri": "https://localhost:8080/",
          "height": 350
        },
        "id": "InfzYnlbjybi",
        "outputId": "466a1f70-f0fc-43e9-a219-2d7e727bbfbe"
      },
      "outputs": [
        {
          "data": {
            "image/png": "[encoded data removed]",
            "text/plain": [
              "<Figure size 504x216 with 1 Axes>"
            ]
          },
          "metadata": {
            "needs_background": "light"
          },
          "output_type": "display_data"
        },
        {
          "name": "stdout",
          "output_type": "stream",
          "text": [
            "Корреляция цены квартиры и числа комнат: 0.45\n"
          ]
        }
      ],
      "source": [
        "price_room = df[['rooms', 'last_price']]\n",
        "price_room = price_room.pivot_table(index = 'rooms', values = 'last_price')\n",
        "price_room.plot(y = 'last_price', style='o-', figsize = (7,3), grid = True )\n",
        "plt.title('Корреляция количества комнат и цены')\n",
        "plt.xlabel('Количество комнат')\n",
        "plt.ylabel('Цена, млн руб.')\n",
        "plt.show()\n",
        "print('Корреляция цены квартиры и числа комнат:', df['rooms'].corr(df['last_price']).round(2))"
      ]
    },
    {
      "cell_type": "code",
      "execution_count": null,
      "metadata": {
        "colab": {
          "base_uri": "https://localhost:8080/",
          "height": 333
        },
        "id": "zuuoM-LOl_bg",
        "outputId": "35a70b6a-27f0-419c-f3fd-8df643dfb0a8"
      },
      "outputs": [
        {
          "data": {
            "image/png": "[encoded data removed]",
            "text/plain": [
              "<Figure size 504x216 with 1 Axes>"
            ]
          },
          "metadata": {
            "needs_background": "light"
          },
          "output_type": "display_data"
        }
      ],
      "source": [
        "price_floor = df.pivot_table(index = 'floor_category', values = 'last_price', aggfunc = 'mean')\n",
        "price_floor = price_floor.reindex(['первый', 'другой', 'последний'])\n",
        "price_floor.plot(y = 'last_price', kind='barh', figsize = (7,3), grid = True )\n",
        "plt.title('Корреляция цены и типа этажа')\n",
        "plt.xlabel('Цена, млн руб.')\n",
        "plt.ylabel('Тип этажа')\n",
        "plt.show()"
      ]
    },
    {
      "cell_type": "code",
      "execution_count": null,
      "metadata": {
        "colab": {
          "base_uri": "https://localhost:8080/",
          "height": 504
        },
        "id": "Fe-TRDjko7_K",
        "outputId": "d6e6e96b-2d19-4997-809a-7f8216c56cfd"
      },
      "outputs": [
        {
          "data": {
            "image/png": "[encoded data removed]",
            "text/plain": [
              "<Figure size 504x360 with 1 Axes>"
            ]
          },
          "metadata": {
            "needs_background": "light"
          },
          "output_type": "display_data"
        },
        {
          "name": "stdout",
          "output_type": "stream",
          "text": [
            "Корреляция удалённости от центра и цены квартиры -0.35\n"
          ]
        }
      ],
      "source": [
        "price_city_center = df[(df['city_centers_nearest'] > 0)]\n",
        "price_city_center.plot(y = 'last_price', x = 'city_centers_nearest', kind = 'scatter',\n",
        "        figsize = (7,5), grid = True, alpha = 0.3)\n",
        "plt.title('Корреляция удалённости от центра и цены')\n",
        "plt.xlabel('Удалённость от центра')\n",
        "plt.ylabel('Цена, млн руб.')\n",
        "plt.show()\n",
        "print('Корреляция удалённости от центра и цены квартиры',\n",
        "      price_city_center['city_centers_nearest'].corr(price_city_center['last_price']).round(2))\n"
      ]
    },
    {
      "cell_type": "code",
      "execution_count": null,
      "metadata": {
        "colab": {
          "base_uri": "https://localhost:8080/",
          "height": 268
        },
        "id": "pXsF7BCgnoap",
        "outputId": "42da9dd3-5764-4431-a2f2-2ce9d66ab474"
      },
      "outputs": [
        {
          "data": {
            "image/png": "[encoded data removed]",
            "text/plain": [
              "<Figure size 504x144 with 1 Axes>"
            ]
          },
          "metadata": {
            "needs_background": "light"
          },
          "output_type": "display_data"
        },
        {
          "name": "stdout",
          "output_type": "stream",
          "text": [
            "Корреляция дня недели подачи объявления и цены квартиры -0.02\n"
          ]
        }
      ],
      "source": [
        "price_day = df.pivot_table(index = 'exposition_weekday', values = 'last_price', aggfunc = 'mean')\n",
        "price_day.plot(y = 'last_price', kind='bar', figsize = (7,2), grid = True )\n",
        "plt.title('Корреляция дня недели подачи объявления и цены')\n",
        "plt.xlabel('День недели')\n",
        "plt.ylabel('Цена, млн руб.')\n",
        "plt.legend(loc='lower left')\n",
        "plt.show()\n",
        "print('Корреляция дня недели подачи объявления и цены квартиры',\n",
        "      df['last_price'].corr(df['exposition_weekday']).round(2))"
      ]
    },
    {
      "cell_type": "code",
      "execution_count": null,
      "metadata": {
        "colab": {
          "base_uri": "https://localhost:8080/",
          "height": 277
        },
        "id": "qtvS2butnqtK",
        "outputId": "56d47a3b-6922-406b-a95d-69c2cdeb19df"
      },
      "outputs": [
        {
          "data": {
            "image/png": "[encoded data removed]",
            "text/plain": [
              "<Figure size 504x144 with 1 Axes>"
            ]
          },
          "metadata": {
            "needs_background": "light"
          },
          "output_type": "display_data"
        },
        {
          "name": "stdout",
          "output_type": "stream",
          "text": [
            "Корреляция месяца подачи объявления и цены квартиры 0.01\n"
          ]
        }
      ],
      "source": [
        "price_month = df.pivot_table(index = 'exposition_month', values = 'last_price', aggfunc = 'mean')\n",
        "price_month.plot(y = 'last_price', kind='bar', figsize = (7,2), grid = True )\n",
        "plt.title('Корреляция месяца подачи объявления и цены')\n",
        "plt.xlabel('Месяц')\n",
        "plt.ylabel('Цена, млн руб.')\n",
        "plt.legend(loc='lower left')\n",
        "plt.show()\n",
        "print('Корреляция месяца подачи объявления и цены квартиры',\n",
        "      df['last_price'].corr(df['exposition_month']).round(2))"
      ]
    },
    {
      "cell_type": "code",
      "execution_count": null,
      "metadata": {
        "colab": {
          "base_uri": "https://localhost:8080/",
          "height": 372
        },
        "id": "uaQDbReintHr",
        "outputId": "c7f3b5ae-7f3b-466c-efe3-48670a0d7f16"
      },
      "outputs": [
        {
          "data": {
            "image/png": "[encoded data removed]",
            "text/plain": [
              "<Figure size 504x216 with 1 Axes>"
            ]
          },
          "metadata": {
            "needs_background": "light"
          },
          "output_type": "display_data"
        },
        {
          "name": "stdout",
          "output_type": "stream",
          "text": [
            "Корреляция года объявления и цены квартиры -0.01788151008164454\n"
          ]
        }
      ],
      "source": [
        "price_year = df.pivot_table(index = 'exposition_year', values = 'last_price', aggfunc = 'mean')\n",
        "price_year.plot(y = 'last_price', kind='bar', figsize = (7,3), grid = True )\n",
        "plt.title('Корреляция года подачи объявления и цены')\n",
        "plt.xlabel('Год')\n",
        "plt.ylabel('Цена, x10 млн руб.')\n",
        "plt.show()\n",
        "print('Корреляция года объявления и цены квартиры',\n",
        "      df['last_price'].corr(df['exposition_year']))"
      ]
    },
    {
      "cell_type": "markdown",
      "metadata": {
        "id": "a9Y6dx5smKiU"
      },
      "source": [
        "\n",
        "Выводы\n",
        "\n",
        "*   Больше всего на цену квартиры влияет площадь квартиры, **чем больше площадь, тем больше цена**,\n",
        "*   Аналогично с ценой квартиры хорошо коррелируется с числом комнат, **чем больше комнат тем больше цена**, что естественно - бельше комнат больше площадь.\n",
        "*   Корреляция цены с расстоянием от центра обратная, то есть - **чем дальше от  центра, тем дешевле квартира**.\n",
        "*   **Цена квартиры** очевидно **растет с типом этажа**: квартиры   на первом этаже ощутимо дешевле квартир на последнем этаже.\n",
        "*   **Цены квартир** опубликованные в **разные дни недели**, **и в разные месяцы практически не коррелируются**\n",
        "*   **С 2014 до 2018 года цены на квартиры по объявлениям снижаются. В 2019 году наблюдается небольшой рост**"
      ]
    },
    {
      "cell_type": "markdown",
      "metadata": {
        "id": "8GAz1kt6Z3d5"
      },
      "source": [
        "## Расчет средней цены одного квадратного метра в 10 населённых пунктах с наибольшим числом объявлений."
      ]
    },
    {
      "cell_type": "code",
      "execution_count": null,
      "metadata": {
        "colab": {
          "base_uri": "https://localhost:8080/",
          "height": 412
        },
        "id": "vd8S6ZHGxv20",
        "outputId": "4143452d-7cf1-4714-9f09-61e3f4677b7f"
      },
      "outputs": [
        {
          "name": "stdout",
          "output_type": "stream",
          "text": [
            "Список 10-ти населенных пунктов по количеству объявлений :\n"
          ]
        },
        {
          "data": {
            "image/png": "[encoded data removed]",
            "text/plain": [
              "<Figure size 504x360 with 1 Axes>"
            ]
          },
          "metadata": {
            "needs_background": "light"
          },
          "output_type": "display_data"
        },
        {
          "data": {
            "text/html": [
              "<div>\n",
              "<style scoped>\n",
              "    .dataframe tbody tr th:only-of-type {\n",
              "        vertical-align: middle;\n",
              "    }\n",
              "\n",
              "    .dataframe tbody tr th {\n",
              "        vertical-align: top;\n",
              "    }\n",
              "\n",
              "    .dataframe thead th {\n",
              "        text-align: right;\n",
              "    }\n",
              "</style>\n",
              "<table border=\"1\" class=\"dataframe\">\n",
              "  <thead>\n",
              "    <tr style=\"text-align: right;\">\n",
              "      <th></th>\n",
              "      <th>total_price_mean</th>\n",
              "      <th>count_notice</th>\n",
              "      <th>price_meter_mean</th>\n",
              "    </tr>\n",
              "    <tr>\n",
              "      <th>locality_name</th>\n",
              "      <th></th>\n",
              "      <th></th>\n",
              "      <th></th>\n",
              "    </tr>\n",
              "  </thead>\n",
              "  <tbody>\n",
              "    <tr>\n",
              "      <th>Санкт-Петербург</th>\n",
              "      <td>6.289989</td>\n",
              "      <td>14569.0</td>\n",
              "      <td>108889.868488</td>\n",
              "    </tr>\n",
              "    <tr>\n",
              "      <th>Пушкин</th>\n",
              "      <td>5.762924</td>\n",
              "      <td>354.0</td>\n",
              "      <td>101955.898305</td>\n",
              "    </tr>\n",
              "    <tr>\n",
              "      <th>деревня Кудрово</th>\n",
              "      <td>4.334467</td>\n",
              "      <td>283.0</td>\n",
              "      <td>92296.731449</td>\n",
              "    </tr>\n",
              "    <tr>\n",
              "      <th>посёлок Парголово</th>\n",
              "      <td>4.503557</td>\n",
              "      <td>322.0</td>\n",
              "      <td>90447.987578</td>\n",
              "    </tr>\n",
              "    <tr>\n",
              "      <th>посёлок Мурино</th>\n",
              "      <td>3.734949</td>\n",
              "      <td>493.0</td>\n",
              "      <td>85120.012170</td>\n",
              "    </tr>\n",
              "    <tr>\n",
              "      <th>посёлок Шушары</th>\n",
              "      <td>4.105820</td>\n",
              "      <td>434.0</td>\n",
              "      <td>78438.135945</td>\n",
              "    </tr>\n",
              "    <tr>\n",
              "      <th>Колпино</th>\n",
              "      <td>3.848237</td>\n",
              "      <td>335.0</td>\n",
              "      <td>75420.295522</td>\n",
              "    </tr>\n",
              "    <tr>\n",
              "      <th>Гатчина</th>\n",
              "      <td>3.474152</td>\n",
              "      <td>306.0</td>\n",
              "      <td>68797.238562</td>\n",
              "    </tr>\n",
              "    <tr>\n",
              "      <th>Всеволожск</th>\n",
              "      <td>3.756634</td>\n",
              "      <td>390.0</td>\n",
              "      <td>67200.797436</td>\n",
              "    </tr>\n",
              "    <tr>\n",
              "      <th>Выборг</th>\n",
              "      <td>3.168774</td>\n",
              "      <td>234.0</td>\n",
              "      <td>58142.559829</td>\n",
              "    </tr>\n",
              "  </tbody>\n",
              "</table>\n",
              "</div>"
            ],
            "text/plain": [
              "                   total_price_mean  count_notice  price_meter_mean\n",
              "locality_name                                                      \n",
              "Санкт-Петербург            6.289989       14569.0     108889.868488\n",
              "Пушкин                     5.762924         354.0     101955.898305\n",
              "деревня Кудрово            4.334467         283.0      92296.731449\n",
              "посёлок Парголово          4.503557         322.0      90447.987578\n",
              "посёлок Мурино             3.734949         493.0      85120.012170\n",
              "посёлок Шушары             4.105820         434.0      78438.135945\n",
              "Колпино                    3.848237         335.0      75420.295522\n",
              "Гатчина                    3.474152         306.0      68797.238562\n",
              "Всеволожск                 3.756634         390.0      67200.797436\n",
              "Выборг                     3.168774         234.0      58142.559829"
            ]
          },
          "execution_count": 51,
          "metadata": {},
          "output_type": "execute_result"
        }
      ],
      "source": [
        "# Создаем сводную таблицу\n",
        "locality_top = df.pivot_table(index = 'locality_name', values = ['last_price', 'price_square_meter'],\n",
        "    aggfunc = {'last_price': 'mean', 'price_square_meter': ['count', 'mean']})\n",
        "# переименуем столбцы\n",
        "locality_top.columns = ['total_price_mean', 'count_notice', 'price_meter_mean']\n",
        "# Отсортируем 10 паселённых пунктов по количеству объявлений\n",
        "locality_top = locality_top.sort_values(by='count_notice', ascending = False).head(10)\n",
        "# Отсортируем по цене за кв. м.\n",
        "locality_top = locality_top.sort_values(by='price_meter_mean', ascending = True)\n",
        "print('Список 10-ти населенных пунктов по количеству объявлений :')\n",
        "locality_top.plot(y = 'price_meter_mean', kind='barh', figsize = (7,5), grid = True )\n",
        "plt.title('Средняя цена одного квадратного метра')\n",
        "plt.xlabel('Цена за м²')\n",
        "plt.show()\n",
        "locality_top = locality_top.sort_values(by='price_meter_mean', ascending = False)\n",
        "locality_top"
      ]
    },
    {
      "cell_type": "markdown",
      "metadata": {
        "id": "0T4lr76lyxom"
      },
      "source": [
        "*   Ожидаемо, самая высокая средняя стоимость квадратного метра жилья в Санкт-Петербурге\n",
        "*   Следом идет город Пушкин. Замыкает десятку город Выборг."
      ]
    },
    {
      "cell_type": "markdown",
      "metadata": {
        "id": "ujfaUNKCaRNz"
      },
      "source": [
        "## Расчет стоимости квадратного метра относительно удаленности от центра в г.Санкт-Петербурге"
      ]
    },
    {
      "cell_type": "code",
      "execution_count": null,
      "metadata": {
        "colab": {
          "base_uri": "https://localhost:8080/",
          "height": 504
        },
        "id": "UYj2Lp9zy6q6",
        "outputId": "ce9f814a-d908-4429-8ec1-48f4dd522861"
      },
      "outputs": [
        {
          "data": {
            "image/png": "[encoded data removed]",
            "text/plain": [
              "<Figure size 504x360 with 1 Axes>"
            ]
          },
          "metadata": {
            "needs_background": "light"
          },
          "output_type": "display_data"
        },
        {
          "name": "stdout",
          "output_type": "stream",
          "text": [
            "Корреляция стоимости квадратного метра и удаленности от центра 0.57\n"
          ]
        }
      ],
      "source": [
        "estate_piter = df.query('locality_name == \"Санкт-Петербург\" and city_centers_nearest >= 0')\n",
        "estate_piter = estate_piter.pivot_table(index = 'city_centers_nearest_km', values = 'price_square_meter')\n",
        "estate_piter.plot(y = 'price_square_meter', grid = True, figsize = (7,5))\n",
        "plt.title('Корреляция стоимости квадратного метра относительно удаленности от центра в г.Санкт-Петербурге')\n",
        "plt.xlabel('Удаленность от центра, км')\n",
        "plt.ylabel('Цена за м²')\n",
        "plt.show()\n",
        "print('Корреляция стоимости квадратного метра и удаленности от центра',\n",
        "      (df['city_centers_nearest'] > 0).corr(df['price_square_meter']).round(2))"
      ]
    },
    {
      "cell_type": "markdown",
      "metadata": {
        "id": "ENqCOdcsrRo9"
      },
      "source": [
        "Вывод\n",
        "*   Расчеты показали что стоимость квадратного метра в Санкт-Петербурге заметно коррелирует с удаленностью от центра города: в среднем, чем дальше от центра, тем ниже стоимость квадратного метра\n",
        "\n"
      ]
    },
    {
      "cell_type": "markdown",
      "metadata": {
        "id": "ptFRKQZ0I-dG"
      },
      "source": [
        "# Общий вывод"
      ]
    },
    {
      "cell_type": "markdown",
      "metadata": {
        "id": "Zgb9x5hZI-dG"
      },
      "source": [
        "После проведения исследовательского анализа над предоставленными данными можно сделать следующие выводы:\n",
        "*   Сильнее  всего на стоимость квартиры влияет площадь квартиры и число комнат соответственно.\n",
        "*   Стоимость кадратного метра в Санкт Петербурге зависит от удаления от центра города\n",
        "*   Цена квартиры очевидно растет с типом этажа: квартиры на первом этаже ощутимо дешевле квартир на последнем этаже.\n",
        "*   В выходные дни наблюдается двукратное уменьшение количества подачи объявлений.\n",
        "*   По месяцам: заметно максимальное количество подачи объявлений в феврале, марте и апреле затем минимальный уровень в мае с достаточно плавным возрастанием вплоть до ноября. В декабре и январе так же количество объявлений сильно падает.\n",
        "*   Цены на квартиры снижаются с 2014 по 2018 год, с 2019 года начинается незначительный рост.\n",
        "*   Самая высокая средняя стоимость квадратного метра жилья в Санкт-Петербурге\n",
        "Следом идет город Пушкин. Замыкает десятку город Выборг.\n"
      ]
    }
  ],
  "metadata": {
    "ExecuteTimeLog": [
      {
        "duration": 1692,
        "start_time": "2023-05-16T09:48:28.512Z"
      },
      {
        "duration": 18,
        "start_time": "2023-05-16T09:48:30.210Z"
      },
      {
        "duration": 59,
        "start_time": "2023-05-16T09:48:30.230Z"
      },
      {
        "duration": 33,
        "start_time": "2023-05-16T09:48:30.291Z"
      },
      {
        "duration": 36,
        "start_time": "2023-05-16T09:48:30.327Z"
      },
      {
        "duration": 21,
        "start_time": "2023-05-16T09:48:30.366Z"
      },
      {
        "duration": 66,
        "start_time": "2023-05-16T09:48:30.390Z"
      },
      {
        "duration": 70,
        "start_time": "2023-05-16T09:48:30.458Z"
      },
      {
        "duration": 1799,
        "start_time": "2023-05-16T09:48:30.530Z"
      },
      {
        "duration": 0,
        "start_time": "2023-05-16T09:48:32.332Z"
      },
      {
        "duration": 0,
        "start_time": "2023-05-16T09:48:32.334Z"
      },
      {
        "duration": 0,
        "start_time": "2023-05-16T09:48:32.335Z"
      },
      {
        "duration": 0,
        "start_time": "2023-05-16T09:48:32.337Z"
      },
      {
        "duration": 0,
        "start_time": "2023-05-16T09:48:32.338Z"
      },
      {
        "duration": 0,
        "start_time": "2023-05-16T09:48:32.339Z"
      },
      {
        "duration": 0,
        "start_time": "2023-05-16T09:48:32.340Z"
      },
      {
        "duration": 0,
        "start_time": "2023-05-16T09:48:32.341Z"
      },
      {
        "duration": 0,
        "start_time": "2023-05-16T09:48:32.342Z"
      },
      {
        "duration": 0,
        "start_time": "2023-05-16T09:48:32.344Z"
      },
      {
        "duration": 0,
        "start_time": "2023-05-16T09:48:32.345Z"
      },
      {
        "duration": 0,
        "start_time": "2023-05-16T09:48:32.346Z"
      },
      {
        "duration": 0,
        "start_time": "2023-05-16T09:48:32.347Z"
      },
      {
        "duration": 0,
        "start_time": "2023-05-16T09:48:32.349Z"
      },
      {
        "duration": 0,
        "start_time": "2023-05-16T09:48:32.350Z"
      },
      {
        "duration": 0,
        "start_time": "2023-05-16T09:48:32.351Z"
      },
      {
        "duration": 0,
        "start_time": "2023-05-16T09:48:32.352Z"
      },
      {
        "duration": 0,
        "start_time": "2023-05-16T09:48:32.353Z"
      },
      {
        "duration": 0,
        "start_time": "2023-05-16T09:48:32.354Z"
      },
      {
        "duration": 0,
        "start_time": "2023-05-16T09:48:32.356Z"
      },
      {
        "duration": 0,
        "start_time": "2023-05-16T09:48:32.357Z"
      },
      {
        "duration": 0,
        "start_time": "2023-05-16T09:48:32.358Z"
      },
      {
        "duration": 0,
        "start_time": "2023-05-16T09:48:32.359Z"
      },
      {
        "duration": 0,
        "start_time": "2023-05-16T09:48:32.361Z"
      },
      {
        "duration": 0,
        "start_time": "2023-05-16T09:48:32.362Z"
      },
      {
        "duration": 0,
        "start_time": "2023-05-16T09:48:32.363Z"
      },
      {
        "duration": 0,
        "start_time": "2023-05-16T09:48:32.364Z"
      },
      {
        "duration": 0,
        "start_time": "2023-05-16T09:48:32.365Z"
      },
      {
        "duration": 0,
        "start_time": "2023-05-16T09:48:32.366Z"
      },
      {
        "duration": 0,
        "start_time": "2023-05-16T09:48:32.368Z"
      },
      {
        "duration": 0,
        "start_time": "2023-05-16T09:48:32.399Z"
      },
      {
        "duration": 0,
        "start_time": "2023-05-16T09:48:32.403Z"
      },
      {
        "duration": 0,
        "start_time": "2023-05-16T09:48:32.405Z"
      },
      {
        "duration": 0,
        "start_time": "2023-05-16T09:48:32.407Z"
      },
      {
        "duration": 0,
        "start_time": "2023-05-16T09:48:32.409Z"
      },
      {
        "duration": 0,
        "start_time": "2023-05-16T09:48:32.411Z"
      },
      {
        "duration": 0,
        "start_time": "2023-05-16T09:48:32.412Z"
      },
      {
        "duration": 1,
        "start_time": "2023-05-16T09:48:32.413Z"
      },
      {
        "duration": 0,
        "start_time": "2023-05-16T09:48:32.415Z"
      },
      {
        "duration": 0,
        "start_time": "2023-05-16T09:48:32.417Z"
      },
      {
        "duration": 1760,
        "start_time": "2023-05-16T09:59:34.789Z"
      },
      {
        "duration": 15,
        "start_time": "2023-05-16T09:59:43.098Z"
      },
      {
        "duration": 96,
        "start_time": "2023-05-16T09:59:48.986Z"
      },
      {
        "duration": 25,
        "start_time": "2023-05-16T09:59:51.287Z"
      },
      {
        "duration": 55,
        "start_time": "2023-05-16T10:00:37.351Z"
      },
      {
        "duration": 2,
        "start_time": "2023-05-16T10:00:43.407Z"
      },
      {
        "duration": 4,
        "start_time": "2023-05-16T10:00:46.105Z"
      },
      {
        "duration": 11,
        "start_time": "2023-05-16T10:00:48.686Z"
      },
      {
        "duration": 6,
        "start_time": "2023-05-16T10:00:50.988Z"
      },
      {
        "duration": 12,
        "start_time": "2023-05-16T10:00:52.194Z"
      },
      {
        "duration": 21,
        "start_time": "2023-05-16T10:00:53.992Z"
      },
      {
        "duration": 22,
        "start_time": "2023-05-16T10:00:55.506Z"
      },
      {
        "duration": 10,
        "start_time": "2023-05-16T10:00:56.202Z"
      },
      {
        "duration": 57,
        "start_time": "2023-05-16T10:00:57.662Z"
      },
      {
        "duration": 10,
        "start_time": "2023-05-16T10:00:59.113Z"
      },
      {
        "duration": 62,
        "start_time": "2023-05-16T10:01:00.593Z"
      },
      {
        "duration": 24,
        "start_time": "2023-05-16T10:01:02.155Z"
      },
      {
        "duration": 154,
        "start_time": "2023-05-16T10:01:02.885Z"
      },
      {
        "duration": 5,
        "start_time": "2023-05-16T10:01:05.446Z"
      },
      {
        "duration": 14,
        "start_time": "2023-05-16T10:01:07.114Z"
      },
      {
        "duration": 19,
        "start_time": "2023-05-16T10:01:08.018Z"
      },
      {
        "duration": 2532,
        "start_time": "2023-05-16T10:01:08.907Z"
      },
      {
        "duration": 17,
        "start_time": "2023-05-16T10:01:16.115Z"
      },
      {
        "duration": 29,
        "start_time": "2023-05-16T10:01:19.776Z"
      },
      {
        "duration": 462,
        "start_time": "2023-05-16T10:01:22.380Z"
      },
      {
        "duration": 12,
        "start_time": "2023-05-16T10:01:25.686Z"
      },
      {
        "duration": 365,
        "start_time": "2023-05-16T10:01:29.284Z"
      },
      {
        "duration": 3,
        "start_time": "2023-05-16T10:01:30.606Z"
      },
      {
        "duration": 480,
        "start_time": "2023-05-16T10:01:31.548Z"
      },
      {
        "duration": 303,
        "start_time": "2023-05-16T10:01:32.348Z"
      },
      {
        "duration": 173,
        "start_time": "2023-05-16T10:01:33.553Z"
      },
      {
        "duration": 28,
        "start_time": "2023-05-16T10:01:34.583Z"
      },
      {
        "duration": 359,
        "start_time": "2023-05-16T10:01:37.891Z"
      },
      {
        "duration": 240,
        "start_time": "2023-05-16T10:01:41.189Z"
      },
      {
        "duration": 310,
        "start_time": "2023-05-16T10:01:44.290Z"
      },
      {
        "duration": 236,
        "start_time": "2023-05-16T10:01:45.495Z"
      },
      {
        "duration": 260,
        "start_time": "2023-05-16T10:01:46.702Z"
      },
      {
        "duration": 1054,
        "start_time": "2023-05-16T10:01:50.496Z"
      },
      {
        "duration": 403,
        "start_time": "2023-05-16T10:01:55.652Z"
      },
      {
        "duration": 987,
        "start_time": "2023-05-16T10:02:03.448Z"
      },
      {
        "duration": 250,
        "start_time": "2023-05-16T10:02:09.991Z"
      },
      {
        "duration": 197,
        "start_time": "2023-05-16T10:02:12.892Z"
      },
      {
        "duration": 210,
        "start_time": "2023-05-16T10:02:14.044Z"
      },
      {
        "duration": 236,
        "start_time": "2023-05-16T10:02:15.184Z"
      },
      {
        "duration": 149,
        "start_time": "2023-05-16T10:02:16.289Z"
      },
      {
        "duration": 224,
        "start_time": "2023-05-16T10:02:17.360Z"
      },
      {
        "duration": 201,
        "start_time": "2023-05-16T10:02:18.496Z"
      },
      {
        "duration": 51,
        "start_time": "2023-05-16T10:02:22.656Z"
      },
      {
        "duration": 317,
        "start_time": "2023-05-16T10:02:26.308Z"
      },
      {
        "duration": 1496,
        "start_time": "2023-05-16T14:18:38.405Z"
      },
      {
        "duration": 12,
        "start_time": "2023-05-16T14:18:39.903Z"
      },
      {
        "duration": 32,
        "start_time": "2023-05-16T14:18:39.916Z"
      },
      {
        "duration": 41,
        "start_time": "2023-05-16T14:18:39.950Z"
      },
      {
        "duration": 9,
        "start_time": "2023-05-16T14:18:39.993Z"
      },
      {
        "duration": 5,
        "start_time": "2023-05-16T14:18:40.004Z"
      },
      {
        "duration": 16,
        "start_time": "2023-05-16T14:18:40.011Z"
      },
      {
        "duration": 13,
        "start_time": "2023-05-16T14:18:40.029Z"
      },
      {
        "duration": 3545,
        "start_time": "2023-05-16T14:18:40.043Z"
      },
      {
        "duration": 0,
        "start_time": "2023-05-16T14:18:43.590Z"
      },
      {
        "duration": 0,
        "start_time": "2023-05-16T14:18:43.592Z"
      },
      {
        "duration": 0,
        "start_time": "2023-05-16T14:18:43.593Z"
      },
      {
        "duration": 0,
        "start_time": "2023-05-16T14:18:43.594Z"
      },
      {
        "duration": 0,
        "start_time": "2023-05-16T14:18:43.595Z"
      },
      {
        "duration": 0,
        "start_time": "2023-05-16T14:18:43.596Z"
      },
      {
        "duration": 0,
        "start_time": "2023-05-16T14:18:43.597Z"
      },
      {
        "duration": 0,
        "start_time": "2023-05-16T14:18:43.599Z"
      },
      {
        "duration": 0,
        "start_time": "2023-05-16T14:18:43.600Z"
      },
      {
        "duration": 0,
        "start_time": "2023-05-16T14:18:43.601Z"
      },
      {
        "duration": 0,
        "start_time": "2023-05-16T14:18:43.602Z"
      },
      {
        "duration": 0,
        "start_time": "2023-05-16T14:18:43.603Z"
      },
      {
        "duration": 0,
        "start_time": "2023-05-16T14:18:43.605Z"
      },
      {
        "duration": 0,
        "start_time": "2023-05-16T14:18:43.606Z"
      },
      {
        "duration": 0,
        "start_time": "2023-05-16T14:18:43.607Z"
      },
      {
        "duration": 0,
        "start_time": "2023-05-16T14:18:43.609Z"
      },
      {
        "duration": 0,
        "start_time": "2023-05-16T14:18:43.611Z"
      },
      {
        "duration": 0,
        "start_time": "2023-05-16T14:18:43.613Z"
      },
      {
        "duration": 0,
        "start_time": "2023-05-16T14:18:43.614Z"
      },
      {
        "duration": 0,
        "start_time": "2023-05-16T14:18:43.615Z"
      },
      {
        "duration": 0,
        "start_time": "2023-05-16T14:18:43.616Z"
      },
      {
        "duration": 0,
        "start_time": "2023-05-16T14:18:43.617Z"
      },
      {
        "duration": 0,
        "start_time": "2023-05-16T14:18:43.619Z"
      },
      {
        "duration": 0,
        "start_time": "2023-05-16T14:18:43.620Z"
      },
      {
        "duration": 0,
        "start_time": "2023-05-16T14:18:43.621Z"
      },
      {
        "duration": 0,
        "start_time": "2023-05-16T14:18:43.622Z"
      },
      {
        "duration": 0,
        "start_time": "2023-05-16T14:18:43.625Z"
      },
      {
        "duration": 0,
        "start_time": "2023-05-16T14:18:43.626Z"
      },
      {
        "duration": 0,
        "start_time": "2023-05-16T14:18:43.628Z"
      },
      {
        "duration": 0,
        "start_time": "2023-05-16T14:18:43.685Z"
      },
      {
        "duration": 0,
        "start_time": "2023-05-16T14:18:43.687Z"
      },
      {
        "duration": 0,
        "start_time": "2023-05-16T14:18:43.689Z"
      },
      {
        "duration": 0,
        "start_time": "2023-05-16T14:18:43.690Z"
      },
      {
        "duration": 0,
        "start_time": "2023-05-16T14:18:43.691Z"
      },
      {
        "duration": 0,
        "start_time": "2023-05-16T14:18:43.693Z"
      },
      {
        "duration": 0,
        "start_time": "2023-05-16T14:18:43.693Z"
      },
      {
        "duration": 0,
        "start_time": "2023-05-16T14:18:43.695Z"
      },
      {
        "duration": 0,
        "start_time": "2023-05-16T14:18:43.696Z"
      },
      {
        "duration": 0,
        "start_time": "2023-05-16T14:18:43.697Z"
      },
      {
        "duration": 0,
        "start_time": "2023-05-16T14:18:43.699Z"
      },
      {
        "duration": 3425,
        "start_time": "2023-05-16T14:18:55.366Z"
      },
      {
        "duration": 12,
        "start_time": "2023-05-16T14:18:58.793Z"
      },
      {
        "duration": 103,
        "start_time": "2023-05-16T14:18:58.807Z"
      },
      {
        "duration": 102,
        "start_time": "2023-05-16T14:18:58.987Z"
      },
      {
        "duration": 9,
        "start_time": "2023-05-16T14:18:59.091Z"
      },
      {
        "duration": 4,
        "start_time": "2023-05-16T14:18:59.102Z"
      },
      {
        "duration": 86,
        "start_time": "2023-05-16T14:18:59.107Z"
      },
      {
        "duration": 11,
        "start_time": "2023-05-16T14:18:59.195Z"
      },
      {
        "duration": 3065,
        "start_time": "2023-05-16T14:18:59.208Z"
      },
      {
        "duration": 0,
        "start_time": "2023-05-16T14:19:02.285Z"
      },
      {
        "duration": 0,
        "start_time": "2023-05-16T14:19:02.287Z"
      },
      {
        "duration": 0,
        "start_time": "2023-05-16T14:19:02.288Z"
      },
      {
        "duration": 0,
        "start_time": "2023-05-16T14:19:02.290Z"
      },
      {
        "duration": 0,
        "start_time": "2023-05-16T14:19:02.291Z"
      },
      {
        "duration": 0,
        "start_time": "2023-05-16T14:19:02.293Z"
      },
      {
        "duration": 0,
        "start_time": "2023-05-16T14:19:02.294Z"
      },
      {
        "duration": 0,
        "start_time": "2023-05-16T14:19:02.296Z"
      },
      {
        "duration": 0,
        "start_time": "2023-05-16T14:19:02.297Z"
      },
      {
        "duration": 0,
        "start_time": "2023-05-16T14:19:02.299Z"
      },
      {
        "duration": 0,
        "start_time": "2023-05-16T14:19:02.300Z"
      },
      {
        "duration": 0,
        "start_time": "2023-05-16T14:19:02.301Z"
      },
      {
        "duration": 1,
        "start_time": "2023-05-16T14:19:02.302Z"
      },
      {
        "duration": 0,
        "start_time": "2023-05-16T14:19:02.303Z"
      },
      {
        "duration": 0,
        "start_time": "2023-05-16T14:19:02.305Z"
      },
      {
        "duration": 0,
        "start_time": "2023-05-16T14:19:02.307Z"
      },
      {
        "duration": 0,
        "start_time": "2023-05-16T14:19:02.308Z"
      },
      {
        "duration": 0,
        "start_time": "2023-05-16T14:19:02.309Z"
      },
      {
        "duration": 0,
        "start_time": "2023-05-16T14:19:02.311Z"
      },
      {
        "duration": 0,
        "start_time": "2023-05-16T14:19:02.313Z"
      },
      {
        "duration": 0,
        "start_time": "2023-05-16T14:19:02.384Z"
      },
      {
        "duration": 0,
        "start_time": "2023-05-16T14:19:02.385Z"
      },
      {
        "duration": 0,
        "start_time": "2023-05-16T14:19:02.387Z"
      },
      {
        "duration": 0,
        "start_time": "2023-05-16T14:19:02.388Z"
      },
      {
        "duration": 0,
        "start_time": "2023-05-16T14:19:02.389Z"
      },
      {
        "duration": 0,
        "start_time": "2023-05-16T14:19:02.390Z"
      },
      {
        "duration": 0,
        "start_time": "2023-05-16T14:19:02.392Z"
      },
      {
        "duration": 0,
        "start_time": "2023-05-16T14:19:02.394Z"
      },
      {
        "duration": 0,
        "start_time": "2023-05-16T14:19:02.395Z"
      },
      {
        "duration": 0,
        "start_time": "2023-05-16T14:19:02.397Z"
      },
      {
        "duration": 0,
        "start_time": "2023-05-16T14:19:02.398Z"
      },
      {
        "duration": 0,
        "start_time": "2023-05-16T14:19:02.400Z"
      },
      {
        "duration": 0,
        "start_time": "2023-05-16T14:19:02.400Z"
      },
      {
        "duration": 0,
        "start_time": "2023-05-16T14:19:02.402Z"
      },
      {
        "duration": 0,
        "start_time": "2023-05-16T14:19:02.403Z"
      },
      {
        "duration": 0,
        "start_time": "2023-05-16T14:19:02.405Z"
      },
      {
        "duration": 0,
        "start_time": "2023-05-16T14:19:02.407Z"
      },
      {
        "duration": 0,
        "start_time": "2023-05-16T14:19:02.407Z"
      },
      {
        "duration": 0,
        "start_time": "2023-05-16T14:19:02.410Z"
      },
      {
        "duration": 1,
        "start_time": "2023-05-16T14:19:02.484Z"
      },
      {
        "duration": 1803,
        "start_time": "2023-05-16T14:34:07.542Z"
      },
      {
        "duration": 18,
        "start_time": "2023-05-16T14:34:09.642Z"
      },
      {
        "duration": 1492,
        "start_time": "2023-05-16T14:35:18.798Z"
      },
      {
        "duration": 16,
        "start_time": "2023-05-16T14:35:20.292Z"
      },
      {
        "duration": 109,
        "start_time": "2023-05-16T14:35:20.310Z"
      },
      {
        "duration": 30,
        "start_time": "2023-05-16T14:35:20.421Z"
      },
      {
        "duration": 38,
        "start_time": "2023-05-16T14:35:20.454Z"
      },
      {
        "duration": 3,
        "start_time": "2023-05-16T14:35:20.493Z"
      },
      {
        "duration": 50,
        "start_time": "2023-05-16T14:35:20.498Z"
      },
      {
        "duration": 32,
        "start_time": "2023-05-16T14:35:20.551Z"
      },
      {
        "duration": 34,
        "start_time": "2023-05-16T14:35:20.586Z"
      },
      {
        "duration": 43,
        "start_time": "2023-05-16T14:35:20.622Z"
      },
      {
        "duration": 82,
        "start_time": "2023-05-16T14:35:20.667Z"
      },
      {
        "duration": 78,
        "start_time": "2023-05-16T14:35:20.751Z"
      },
      {
        "duration": 47,
        "start_time": "2023-05-16T14:35:20.831Z"
      },
      {
        "duration": 96,
        "start_time": "2023-05-16T14:35:20.882Z"
      },
      {
        "duration": 13,
        "start_time": "2023-05-16T14:35:20.982Z"
      },
      {
        "duration": 155,
        "start_time": "2023-05-16T14:35:20.997Z"
      },
      {
        "duration": 15,
        "start_time": "2023-05-16T14:35:21.154Z"
      },
      {
        "duration": 192,
        "start_time": "2023-05-16T14:35:21.171Z"
      },
      {
        "duration": 12,
        "start_time": "2023-05-16T14:35:21.365Z"
      },
      {
        "duration": 30,
        "start_time": "2023-05-16T14:35:21.379Z"
      },
      {
        "duration": 79,
        "start_time": "2023-05-16T14:35:21.411Z"
      },
      {
        "duration": 2210,
        "start_time": "2023-05-16T14:35:21.491Z"
      },
      {
        "duration": 17,
        "start_time": "2023-05-16T14:35:23.703Z"
      },
      {
        "duration": 89,
        "start_time": "2023-05-16T14:35:23.722Z"
      },
      {
        "duration": 530,
        "start_time": "2023-05-16T14:35:23.813Z"
      },
      {
        "duration": 12,
        "start_time": "2023-05-16T14:35:24.345Z"
      },
      {
        "duration": 421,
        "start_time": "2023-05-16T14:35:24.359Z"
      },
      {
        "duration": 5,
        "start_time": "2023-05-16T14:35:24.782Z"
      },
      {
        "duration": 590,
        "start_time": "2023-05-16T14:35:24.789Z"
      },
      {
        "duration": 327,
        "start_time": "2023-05-16T14:35:25.381Z"
      },
      {
        "duration": 157,
        "start_time": "2023-05-16T14:35:25.710Z"
      },
      {
        "duration": 28,
        "start_time": "2023-05-16T14:35:25.868Z"
      },
      {
        "duration": 339,
        "start_time": "2023-05-16T14:35:25.898Z"
      },
      {
        "duration": 264,
        "start_time": "2023-05-16T14:35:26.243Z"
      },
      {
        "duration": 272,
        "start_time": "2023-05-16T14:35:26.508Z"
      },
      {
        "duration": 214,
        "start_time": "2023-05-16T14:35:26.782Z"
      },
      {
        "duration": 276,
        "start_time": "2023-05-16T14:35:26.998Z"
      },
      {
        "duration": 1027,
        "start_time": "2023-05-16T14:35:27.277Z"
      },
      {
        "duration": 388,
        "start_time": "2023-05-16T14:35:28.306Z"
      },
      {
        "duration": 786,
        "start_time": "2023-05-16T14:35:28.696Z"
      },
      {
        "duration": 255,
        "start_time": "2023-05-16T14:35:29.485Z"
      },
      {
        "duration": 174,
        "start_time": "2023-05-16T14:35:29.743Z"
      },
      {
        "duration": 158,
        "start_time": "2023-05-16T14:35:29.918Z"
      },
      {
        "duration": 224,
        "start_time": "2023-05-16T14:35:30.078Z"
      },
      {
        "duration": 157,
        "start_time": "2023-05-16T14:35:30.304Z"
      },
      {
        "duration": 193,
        "start_time": "2023-05-16T14:35:30.464Z"
      },
      {
        "duration": 182,
        "start_time": "2023-05-16T14:35:30.659Z"
      },
      {
        "duration": 33,
        "start_time": "2023-05-16T14:35:30.843Z"
      },
      {
        "duration": 412,
        "start_time": "2023-05-16T14:35:30.877Z"
      },
      {
        "duration": 223,
        "start_time": "2023-05-16T14:37:24.949Z"
      },
      {
        "duration": 1816,
        "start_time": "2023-05-16T14:42:51.314Z"
      },
      {
        "duration": 17,
        "start_time": "2023-05-16T14:42:53.144Z"
      },
      {
        "duration": 96,
        "start_time": "2023-05-16T14:42:53.163Z"
      },
      {
        "duration": 29,
        "start_time": "2023-05-16T14:42:53.260Z"
      },
      {
        "duration": 59,
        "start_time": "2023-05-16T14:42:53.292Z"
      },
      {
        "duration": 3,
        "start_time": "2023-05-16T14:42:53.353Z"
      },
      {
        "duration": 20,
        "start_time": "2023-05-16T14:42:53.358Z"
      },
      {
        "duration": 17,
        "start_time": "2023-05-16T14:42:53.380Z"
      },
      {
        "duration": 5,
        "start_time": "2023-05-16T14:42:53.399Z"
      },
      {
        "duration": 33,
        "start_time": "2023-05-16T14:42:53.406Z"
      },
      {
        "duration": 30,
        "start_time": "2023-05-16T14:42:53.444Z"
      },
      {
        "duration": 24,
        "start_time": "2023-05-16T14:42:53.476Z"
      },
      {
        "duration": 10,
        "start_time": "2023-05-16T14:42:53.502Z"
      },
      {
        "duration": 54,
        "start_time": "2023-05-16T14:42:53.526Z"
      },
      {
        "duration": 10,
        "start_time": "2023-05-16T14:42:53.582Z"
      },
      {
        "duration": 88,
        "start_time": "2023-05-16T14:42:53.594Z"
      },
      {
        "duration": 13,
        "start_time": "2023-05-16T14:42:53.684Z"
      },
      {
        "duration": 169,
        "start_time": "2023-05-16T14:42:53.699Z"
      },
      {
        "duration": 4,
        "start_time": "2023-05-16T14:42:53.870Z"
      },
      {
        "duration": 14,
        "start_time": "2023-05-16T14:42:53.876Z"
      },
      {
        "duration": 39,
        "start_time": "2023-05-16T14:42:53.892Z"
      },
      {
        "duration": 2253,
        "start_time": "2023-05-16T14:42:53.933Z"
      },
      {
        "duration": 16,
        "start_time": "2023-05-16T14:42:56.187Z"
      },
      {
        "duration": 31,
        "start_time": "2023-05-16T14:42:56.205Z"
      },
      {
        "duration": 446,
        "start_time": "2023-05-16T14:42:56.239Z"
      },
      {
        "duration": 10,
        "start_time": "2023-05-16T14:42:56.687Z"
      },
      {
        "duration": 357,
        "start_time": "2023-05-16T14:42:56.699Z"
      },
      {
        "duration": 4,
        "start_time": "2023-05-16T14:42:57.058Z"
      },
      {
        "duration": 454,
        "start_time": "2023-05-16T14:42:57.063Z"
      },
      {
        "duration": 313,
        "start_time": "2023-05-16T14:42:57.519Z"
      },
      {
        "duration": 155,
        "start_time": "2023-05-16T14:42:57.836Z"
      },
      {
        "duration": 49,
        "start_time": "2023-05-16T14:42:57.992Z"
      },
      {
        "duration": 325,
        "start_time": "2023-05-16T14:42:58.043Z"
      },
      {
        "duration": 265,
        "start_time": "2023-05-16T14:42:58.370Z"
      },
      {
        "duration": 247,
        "start_time": "2023-05-16T14:42:58.637Z"
      },
      {
        "duration": 231,
        "start_time": "2023-05-16T14:42:58.885Z"
      },
      {
        "duration": 145,
        "start_time": "2023-05-16T14:42:59.117Z"
      },
      {
        "duration": 1115,
        "start_time": "2023-05-16T14:42:59.264Z"
      },
      {
        "duration": 381,
        "start_time": "2023-05-16T14:43:00.381Z"
      },
      {
        "duration": 825,
        "start_time": "2023-05-16T14:43:00.763Z"
      },
      {
        "duration": 255,
        "start_time": "2023-05-16T14:43:01.593Z"
      },
      {
        "duration": 196,
        "start_time": "2023-05-16T14:43:01.850Z"
      },
      {
        "duration": 154,
        "start_time": "2023-05-16T14:43:02.047Z"
      },
      {
        "duration": 240,
        "start_time": "2023-05-16T14:43:02.202Z"
      },
      {
        "duration": 153,
        "start_time": "2023-05-16T14:43:02.444Z"
      },
      {
        "duration": 193,
        "start_time": "2023-05-16T14:43:02.599Z"
      },
      {
        "duration": 176,
        "start_time": "2023-05-16T14:43:02.794Z"
      },
      {
        "duration": 32,
        "start_time": "2023-05-16T14:43:02.972Z"
      },
      {
        "duration": 212,
        "start_time": "2023-05-16T14:43:03.025Z"
      },
      {
        "duration": 1433,
        "start_time": "2023-05-16T15:27:03.909Z"
      },
      {
        "duration": 11,
        "start_time": "2023-05-16T15:27:05.344Z"
      },
      {
        "duration": 37,
        "start_time": "2023-05-16T15:27:05.357Z"
      },
      {
        "duration": 24,
        "start_time": "2023-05-16T15:27:05.395Z"
      },
      {
        "duration": 8,
        "start_time": "2023-05-16T15:27:05.421Z"
      },
      {
        "duration": 4,
        "start_time": "2023-05-16T15:27:05.431Z"
      },
      {
        "duration": 8,
        "start_time": "2023-05-16T15:27:05.436Z"
      },
      {
        "duration": 18,
        "start_time": "2023-05-16T15:27:05.446Z"
      },
      {
        "duration": 3421,
        "start_time": "2023-05-16T15:27:05.485Z"
      },
      {
        "duration": 0,
        "start_time": "2023-05-16T15:27:08.909Z"
      },
      {
        "duration": 0,
        "start_time": "2023-05-16T15:27:08.911Z"
      },
      {
        "duration": 0,
        "start_time": "2023-05-16T15:27:08.912Z"
      },
      {
        "duration": 0,
        "start_time": "2023-05-16T15:27:08.913Z"
      },
      {
        "duration": 0,
        "start_time": "2023-05-16T15:27:08.915Z"
      },
      {
        "duration": 0,
        "start_time": "2023-05-16T15:27:08.916Z"
      },
      {
        "duration": 0,
        "start_time": "2023-05-16T15:27:08.917Z"
      },
      {
        "duration": 0,
        "start_time": "2023-05-16T15:27:08.918Z"
      },
      {
        "duration": 0,
        "start_time": "2023-05-16T15:27:08.919Z"
      },
      {
        "duration": 0,
        "start_time": "2023-05-16T15:27:08.920Z"
      },
      {
        "duration": 0,
        "start_time": "2023-05-16T15:27:08.921Z"
      },
      {
        "duration": 0,
        "start_time": "2023-05-16T15:27:08.922Z"
      },
      {
        "duration": 0,
        "start_time": "2023-05-16T15:27:08.923Z"
      },
      {
        "duration": 0,
        "start_time": "2023-05-16T15:27:08.924Z"
      },
      {
        "duration": 0,
        "start_time": "2023-05-16T15:27:08.926Z"
      },
      {
        "duration": 1,
        "start_time": "2023-05-16T15:27:08.926Z"
      },
      {
        "duration": 0,
        "start_time": "2023-05-16T15:27:08.927Z"
      },
      {
        "duration": 0,
        "start_time": "2023-05-16T15:27:08.928Z"
      },
      {
        "duration": 0,
        "start_time": "2023-05-16T15:27:08.929Z"
      },
      {
        "duration": 0,
        "start_time": "2023-05-16T15:27:08.930Z"
      },
      {
        "duration": 0,
        "start_time": "2023-05-16T15:27:08.931Z"
      },
      {
        "duration": 0,
        "start_time": "2023-05-16T15:27:08.932Z"
      },
      {
        "duration": 0,
        "start_time": "2023-05-16T15:27:08.932Z"
      },
      {
        "duration": 0,
        "start_time": "2023-05-16T15:27:08.933Z"
      },
      {
        "duration": 0,
        "start_time": "2023-05-16T15:27:08.934Z"
      },
      {
        "duration": 0,
        "start_time": "2023-05-16T15:27:08.935Z"
      },
      {
        "duration": 0,
        "start_time": "2023-05-16T15:27:08.936Z"
      },
      {
        "duration": 1,
        "start_time": "2023-05-16T15:27:08.937Z"
      },
      {
        "duration": 0,
        "start_time": "2023-05-16T15:27:08.939Z"
      },
      {
        "duration": 0,
        "start_time": "2023-05-16T15:27:08.940Z"
      },
      {
        "duration": 0,
        "start_time": "2023-05-16T15:27:08.941Z"
      },
      {
        "duration": 0,
        "start_time": "2023-05-16T15:27:08.941Z"
      },
      {
        "duration": 0,
        "start_time": "2023-05-16T15:27:08.943Z"
      },
      {
        "duration": 0,
        "start_time": "2023-05-16T15:27:08.943Z"
      },
      {
        "duration": 0,
        "start_time": "2023-05-16T15:27:08.944Z"
      },
      {
        "duration": 0,
        "start_time": "2023-05-16T15:27:08.946Z"
      },
      {
        "duration": 0,
        "start_time": "2023-05-16T15:27:08.985Z"
      },
      {
        "duration": 0,
        "start_time": "2023-05-16T15:27:08.985Z"
      },
      {
        "duration": 0,
        "start_time": "2023-05-16T15:27:08.987Z"
      },
      {
        "duration": 0,
        "start_time": "2023-05-16T15:27:08.988Z"
      },
      {
        "duration": 1299,
        "start_time": "2023-05-16T16:48:16.240Z"
      },
      {
        "duration": 28,
        "start_time": "2023-05-16T16:48:35.317Z"
      },
      {
        "duration": 1211,
        "start_time": "2023-05-16T16:49:42.524Z"
      },
      {
        "duration": 19,
        "start_time": "2023-05-16T16:49:43.745Z"
      },
      {
        "duration": 99,
        "start_time": "2023-05-16T16:49:43.766Z"
      },
      {
        "duration": 42,
        "start_time": "2023-05-16T16:49:43.866Z"
      },
      {
        "duration": 57,
        "start_time": "2023-05-16T16:49:43.911Z"
      },
      {
        "duration": 3,
        "start_time": "2023-05-16T16:49:43.971Z"
      },
      {
        "duration": 6,
        "start_time": "2023-05-16T16:49:43.976Z"
      },
      {
        "duration": 20,
        "start_time": "2023-05-16T16:49:43.995Z"
      },
      {
        "duration": 14,
        "start_time": "2023-05-16T16:49:44.019Z"
      },
      {
        "duration": 25,
        "start_time": "2023-05-16T16:49:44.035Z"
      },
      {
        "duration": 16,
        "start_time": "2023-05-16T16:49:44.063Z"
      },
      {
        "duration": 71,
        "start_time": "2023-05-16T16:49:44.081Z"
      },
      {
        "duration": 11,
        "start_time": "2023-05-16T16:49:44.153Z"
      },
      {
        "duration": 65,
        "start_time": "2023-05-16T16:49:44.169Z"
      },
      {
        "duration": 13,
        "start_time": "2023-05-16T16:49:44.236Z"
      },
      {
        "duration": 110,
        "start_time": "2023-05-16T16:49:44.256Z"
      },
      {
        "duration": 15,
        "start_time": "2023-05-16T16:49:44.368Z"
      },
      {
        "duration": 184,
        "start_time": "2023-05-16T16:49:44.391Z"
      },
      {
        "duration": 33,
        "start_time": "2023-05-16T16:49:44.577Z"
      },
      {
        "duration": 42,
        "start_time": "2023-05-16T16:49:44.618Z"
      },
      {
        "duration": 18,
        "start_time": "2023-05-16T16:49:44.663Z"
      },
      {
        "duration": 3081,
        "start_time": "2023-05-16T16:49:44.683Z"
      },
      {
        "duration": 19,
        "start_time": "2023-05-16T16:49:47.766Z"
      },
      {
        "duration": 44,
        "start_time": "2023-05-16T16:49:47.786Z"
      },
      {
        "duration": 796,
        "start_time": "2023-05-16T16:49:47.832Z"
      },
      {
        "duration": 22,
        "start_time": "2023-05-16T16:49:48.639Z"
      },
      {
        "duration": 498,
        "start_time": "2023-05-16T16:49:48.663Z"
      },
      {
        "duration": 3,
        "start_time": "2023-05-16T16:49:49.163Z"
      },
      {
        "duration": 480,
        "start_time": "2023-05-16T16:49:49.168Z"
      },
      {
        "duration": 403,
        "start_time": "2023-05-16T16:49:49.654Z"
      },
      {
        "duration": 248,
        "start_time": "2023-05-16T16:49:50.064Z"
      },
      {
        "duration": 47,
        "start_time": "2023-05-16T16:49:50.326Z"
      },
      {
        "duration": 452,
        "start_time": "2023-05-16T16:49:50.376Z"
      },
      {
        "duration": 531,
        "start_time": "2023-05-16T16:49:50.834Z"
      },
      {
        "duration": 414,
        "start_time": "2023-05-16T16:49:51.367Z"
      },
      {
        "duration": 297,
        "start_time": "2023-05-16T16:49:51.783Z"
      },
      {
        "duration": 193,
        "start_time": "2023-05-16T16:49:52.094Z"
      },
      {
        "duration": 1432,
        "start_time": "2023-05-16T16:49:52.291Z"
      },
      {
        "duration": 453,
        "start_time": "2023-05-16T16:49:53.730Z"
      },
      {
        "duration": 791,
        "start_time": "2023-05-16T16:49:54.188Z"
      },
      {
        "duration": 340,
        "start_time": "2023-05-16T16:49:54.987Z"
      },
      {
        "duration": 217,
        "start_time": "2023-05-16T16:49:55.330Z"
      },
      {
        "duration": 208,
        "start_time": "2023-05-16T16:49:55.549Z"
      },
      {
        "duration": 250,
        "start_time": "2023-05-16T16:49:55.759Z"
      },
      {
        "duration": 239,
        "start_time": "2023-05-16T16:49:56.011Z"
      },
      {
        "duration": 358,
        "start_time": "2023-05-16T16:49:56.256Z"
      },
      {
        "duration": 230,
        "start_time": "2023-05-16T16:49:56.624Z"
      },
      {
        "duration": 65,
        "start_time": "2023-05-16T16:49:56.856Z"
      },
      {
        "duration": 245,
        "start_time": "2023-05-16T16:49:56.923Z"
      },
      {
        "duration": 756,
        "start_time": "2023-05-17T09:34:50.096Z"
      },
      {
        "duration": 19,
        "start_time": "2023-05-17T09:34:50.854Z"
      },
      {
        "duration": 59,
        "start_time": "2023-05-17T09:34:50.998Z"
      },
      {
        "duration": 3,
        "start_time": "2023-05-17T09:34:51.058Z"
      },
      {
        "duration": 29,
        "start_time": "2023-05-17T09:34:51.063Z"
      },
      {
        "duration": 14,
        "start_time": "2023-05-17T09:34:51.093Z"
      },
      {
        "duration": 5,
        "start_time": "2023-05-17T09:34:51.109Z"
      },
      {
        "duration": 57,
        "start_time": "2023-05-17T09:34:51.117Z"
      },
      {
        "duration": 30,
        "start_time": "2023-05-17T09:34:51.176Z"
      },
      {
        "duration": 40,
        "start_time": "2023-05-17T09:34:51.209Z"
      },
      {
        "duration": 60,
        "start_time": "2023-05-17T09:34:51.250Z"
      },
      {
        "duration": 63,
        "start_time": "2023-05-17T09:34:51.312Z"
      },
      {
        "duration": 9,
        "start_time": "2023-05-17T09:34:51.376Z"
      },
      {
        "duration": 79,
        "start_time": "2023-05-17T09:34:51.386Z"
      },
      {
        "duration": 17,
        "start_time": "2023-05-17T09:34:51.467Z"
      },
      {
        "duration": 156,
        "start_time": "2023-05-17T09:34:51.486Z"
      },
      {
        "duration": 13,
        "start_time": "2023-05-17T09:34:51.644Z"
      },
      {
        "duration": 12,
        "start_time": "2023-05-17T09:34:51.659Z"
      },
      {
        "duration": 22,
        "start_time": "2023-05-17T09:34:51.672Z"
      },
      {
        "duration": 2249,
        "start_time": "2023-05-17T09:34:51.696Z"
      },
      {
        "duration": 16,
        "start_time": "2023-05-17T09:34:53.948Z"
      },
      {
        "duration": 56,
        "start_time": "2023-05-17T09:34:53.966Z"
      },
      {
        "duration": 533,
        "start_time": "2023-05-17T09:34:54.024Z"
      },
      {
        "duration": 12,
        "start_time": "2023-05-17T09:34:54.559Z"
      },
      {
        "duration": 363,
        "start_time": "2023-05-17T09:34:54.573Z"
      },
      {
        "duration": 2,
        "start_time": "2023-05-17T09:34:54.939Z"
      },
      {
        "duration": 359,
        "start_time": "2023-05-17T09:34:54.943Z"
      },
      {
        "duration": 312,
        "start_time": "2023-05-17T09:34:55.304Z"
      },
      {
        "duration": 161,
        "start_time": "2023-05-17T09:34:55.618Z"
      },
      {
        "duration": 29,
        "start_time": "2023-05-17T09:34:55.781Z"
      },
      {
        "duration": 323,
        "start_time": "2023-05-17T09:34:55.812Z"
      },
      {
        "duration": 348,
        "start_time": "2023-05-17T09:34:56.136Z"
      },
      {
        "duration": 239,
        "start_time": "2023-05-17T09:34:56.486Z"
      },
      {
        "duration": 211,
        "start_time": "2023-05-17T09:34:56.726Z"
      },
      {
        "duration": 150,
        "start_time": "2023-05-17T09:34:56.939Z"
      },
      {
        "duration": 1033,
        "start_time": "2023-05-17T09:34:57.091Z"
      },
      {
        "duration": 395,
        "start_time": "2023-05-17T09:34:58.126Z"
      },
      {
        "duration": 694,
        "start_time": "2023-05-17T09:34:58.523Z"
      },
      {
        "duration": 239,
        "start_time": "2023-05-17T09:34:59.219Z"
      },
      {
        "duration": 153,
        "start_time": "2023-05-17T09:34:59.460Z"
      },
      {
        "duration": 157,
        "start_time": "2023-05-17T09:34:59.615Z"
      },
      {
        "duration": 203,
        "start_time": "2023-05-17T09:34:59.774Z"
      },
      {
        "duration": 155,
        "start_time": "2023-05-17T09:34:59.978Z"
      },
      {
        "duration": 296,
        "start_time": "2023-05-17T09:35:00.135Z"
      },
      {
        "duration": 158,
        "start_time": "2023-05-17T09:35:00.432Z"
      },
      {
        "duration": 32,
        "start_time": "2023-05-17T09:35:00.591Z"
      },
      {
        "duration": 231,
        "start_time": "2023-05-17T09:35:00.625Z"
      },
      {
        "duration": 15,
        "start_time": "2023-05-17T09:39:35.354Z"
      },
      {
        "duration": 88,
        "start_time": "2023-05-17T09:39:39.777Z"
      },
      {
        "duration": 8,
        "start_time": "2023-05-17T09:39:56.053Z"
      },
      {
        "duration": 59,
        "start_time": "2023-05-17T10:32:51.588Z"
      },
      {
        "duration": 1272,
        "start_time": "2023-05-17T10:33:12.910Z"
      },
      {
        "duration": 26,
        "start_time": "2023-05-17T10:33:14.184Z"
      },
      {
        "duration": 119,
        "start_time": "2023-05-17T10:33:14.215Z"
      },
      {
        "duration": 38,
        "start_time": "2023-05-17T10:33:14.337Z"
      },
      {
        "duration": 78,
        "start_time": "2023-05-17T10:33:14.378Z"
      },
      {
        "duration": 4,
        "start_time": "2023-05-17T10:33:14.458Z"
      },
      {
        "duration": 44,
        "start_time": "2023-05-17T10:33:14.464Z"
      },
      {
        "duration": 31,
        "start_time": "2023-05-17T10:33:14.515Z"
      },
      {
        "duration": 13,
        "start_time": "2023-05-17T10:33:14.549Z"
      },
      {
        "duration": 59,
        "start_time": "2023-05-17T10:33:14.565Z"
      },
      {
        "duration": 45,
        "start_time": "2023-05-17T10:33:14.627Z"
      },
      {
        "duration": 55,
        "start_time": "2023-05-17T10:33:14.675Z"
      },
      {
        "duration": 45,
        "start_time": "2023-05-17T10:33:14.733Z"
      },
      {
        "duration": 77,
        "start_time": "2023-05-17T10:33:14.780Z"
      },
      {
        "duration": 43,
        "start_time": "2023-05-17T10:33:14.859Z"
      },
      {
        "duration": 138,
        "start_time": "2023-05-17T10:33:14.904Z"
      },
      {
        "duration": 31,
        "start_time": "2023-05-17T10:33:15.045Z"
      },
      {
        "duration": 228,
        "start_time": "2023-05-17T10:33:15.078Z"
      },
      {
        "duration": 8,
        "start_time": "2023-05-17T10:33:15.311Z"
      },
      {
        "duration": 21,
        "start_time": "2023-05-17T10:33:15.321Z"
      },
      {
        "duration": 22,
        "start_time": "2023-05-17T10:33:15.344Z"
      },
      {
        "duration": 2433,
        "start_time": "2023-05-17T10:33:15.369Z"
      },
      {
        "duration": 2516,
        "start_time": "2023-05-17T10:33:17.803Z"
      },
      {
        "duration": 0,
        "start_time": "2023-05-17T10:33:20.322Z"
      },
      {
        "duration": 0,
        "start_time": "2023-05-17T10:33:20.324Z"
      },
      {
        "duration": 0,
        "start_time": "2023-05-17T10:33:20.326Z"
      },
      {
        "duration": 0,
        "start_time": "2023-05-17T10:33:20.327Z"
      },
      {
        "duration": 0,
        "start_time": "2023-05-17T10:33:20.329Z"
      },
      {
        "duration": 0,
        "start_time": "2023-05-17T10:33:20.330Z"
      },
      {
        "duration": 0,
        "start_time": "2023-05-17T10:33:20.331Z"
      },
      {
        "duration": 0,
        "start_time": "2023-05-17T10:33:20.336Z"
      },
      {
        "duration": 0,
        "start_time": "2023-05-17T10:33:20.337Z"
      },
      {
        "duration": 0,
        "start_time": "2023-05-17T10:33:20.338Z"
      },
      {
        "duration": 0,
        "start_time": "2023-05-17T10:33:20.339Z"
      },
      {
        "duration": 0,
        "start_time": "2023-05-17T10:33:20.341Z"
      },
      {
        "duration": 0,
        "start_time": "2023-05-17T10:33:20.342Z"
      },
      {
        "duration": 0,
        "start_time": "2023-05-17T10:33:20.343Z"
      },
      {
        "duration": 0,
        "start_time": "2023-05-17T10:33:20.344Z"
      },
      {
        "duration": 0,
        "start_time": "2023-05-17T10:33:20.345Z"
      },
      {
        "duration": 0,
        "start_time": "2023-05-17T10:33:20.345Z"
      },
      {
        "duration": 0,
        "start_time": "2023-05-17T10:33:20.346Z"
      },
      {
        "duration": 0,
        "start_time": "2023-05-17T10:33:20.348Z"
      },
      {
        "duration": 0,
        "start_time": "2023-05-17T10:33:20.349Z"
      },
      {
        "duration": 0,
        "start_time": "2023-05-17T10:33:20.350Z"
      },
      {
        "duration": 0,
        "start_time": "2023-05-17T10:33:20.351Z"
      },
      {
        "duration": 0,
        "start_time": "2023-05-17T10:33:20.352Z"
      },
      {
        "duration": 0,
        "start_time": "2023-05-17T10:33:20.354Z"
      },
      {
        "duration": 0,
        "start_time": "2023-05-17T10:33:20.357Z"
      },
      {
        "duration": 0,
        "start_time": "2023-05-17T10:33:20.358Z"
      },
      {
        "duration": 0,
        "start_time": "2023-05-17T10:33:20.359Z"
      },
      {
        "duration": 1230,
        "start_time": "2023-05-17T10:33:37.134Z"
      },
      {
        "duration": 159,
        "start_time": "2023-05-17T10:34:02.050Z"
      },
      {
        "duration": 61,
        "start_time": "2023-05-17T10:36:26.619Z"
      },
      {
        "duration": 187,
        "start_time": "2023-05-17T10:36:39.922Z"
      },
      {
        "duration": 1153,
        "start_time": "2023-05-17T10:44:57.723Z"
      },
      {
        "duration": 170,
        "start_time": "2023-05-17T10:45:40.577Z"
      },
      {
        "duration": 139,
        "start_time": "2023-05-17T10:46:32.913Z"
      },
      {
        "duration": 261,
        "start_time": "2023-05-17T10:47:45.949Z"
      },
      {
        "duration": 133,
        "start_time": "2023-05-17T10:48:13.538Z"
      },
      {
        "duration": 8,
        "start_time": "2023-05-17T10:51:26.523Z"
      },
      {
        "duration": 165,
        "start_time": "2023-05-17T10:51:33.274Z"
      },
      {
        "duration": 194,
        "start_time": "2023-05-17T10:52:12.976Z"
      },
      {
        "duration": 153,
        "start_time": "2023-05-17T10:53:49.122Z"
      },
      {
        "duration": 143,
        "start_time": "2023-05-17T10:55:55.250Z"
      },
      {
        "duration": 98,
        "start_time": "2023-05-17T10:56:27.669Z"
      },
      {
        "duration": 757,
        "start_time": "2023-05-17T10:57:24.070Z"
      },
      {
        "duration": 19,
        "start_time": "2023-05-17T10:57:24.829Z"
      },
      {
        "duration": 91,
        "start_time": "2023-05-17T10:57:24.850Z"
      },
      {
        "duration": 28,
        "start_time": "2023-05-17T10:57:24.943Z"
      },
      {
        "duration": 54,
        "start_time": "2023-05-17T10:57:24.973Z"
      },
      {
        "duration": 3,
        "start_time": "2023-05-17T10:57:25.029Z"
      },
      {
        "duration": 24,
        "start_time": "2023-05-17T10:57:25.033Z"
      },
      {
        "duration": 28,
        "start_time": "2023-05-17T10:57:25.058Z"
      },
      {
        "duration": 5,
        "start_time": "2023-05-17T10:57:25.088Z"
      },
      {
        "duration": 36,
        "start_time": "2023-05-17T10:57:25.098Z"
      },
      {
        "duration": 25,
        "start_time": "2023-05-17T10:57:25.136Z"
      },
      {
        "duration": 24,
        "start_time": "2023-05-17T10:57:25.163Z"
      },
      {
        "duration": 15,
        "start_time": "2023-05-17T10:57:25.189Z"
      },
      {
        "duration": 60,
        "start_time": "2023-05-17T10:57:25.207Z"
      },
      {
        "duration": 9,
        "start_time": "2023-05-17T10:57:25.268Z"
      },
      {
        "duration": 70,
        "start_time": "2023-05-17T10:57:25.279Z"
      },
      {
        "duration": 12,
        "start_time": "2023-05-17T10:57:25.351Z"
      },
      {
        "duration": 178,
        "start_time": "2023-05-17T10:57:25.365Z"
      },
      {
        "duration": 5,
        "start_time": "2023-05-17T10:57:25.546Z"
      },
      {
        "duration": 18,
        "start_time": "2023-05-17T10:57:25.552Z"
      },
      {
        "duration": 36,
        "start_time": "2023-05-17T10:57:25.572Z"
      },
      {
        "duration": 2205,
        "start_time": "2023-05-17T10:57:25.615Z"
      },
      {
        "duration": 156,
        "start_time": "2023-05-17T10:57:27.822Z"
      },
      {
        "duration": 30,
        "start_time": "2023-05-17T10:57:27.980Z"
      },
      {
        "duration": 32,
        "start_time": "2023-05-17T10:57:28.012Z"
      },
      {
        "duration": 603,
        "start_time": "2023-05-17T10:57:28.046Z"
      },
      {
        "duration": 10,
        "start_time": "2023-05-17T10:57:28.651Z"
      },
      {
        "duration": 382,
        "start_time": "2023-05-17T10:57:28.663Z"
      },
      {
        "duration": 3,
        "start_time": "2023-05-17T10:57:29.047Z"
      },
      {
        "duration": 327,
        "start_time": "2023-05-17T10:57:29.051Z"
      },
      {
        "duration": 349,
        "start_time": "2023-05-17T10:57:29.380Z"
      },
      {
        "duration": 160,
        "start_time": "2023-05-17T10:57:29.732Z"
      },
      {
        "duration": 36,
        "start_time": "2023-05-17T10:57:29.894Z"
      },
      {
        "duration": 427,
        "start_time": "2023-05-17T10:57:29.933Z"
      },
      {
        "duration": 270,
        "start_time": "2023-05-17T10:57:30.362Z"
      },
      {
        "duration": 254,
        "start_time": "2023-05-17T10:57:30.633Z"
      },
      {
        "duration": 226,
        "start_time": "2023-05-17T10:57:30.888Z"
      },
      {
        "duration": 137,
        "start_time": "2023-05-17T10:57:31.119Z"
      },
      {
        "duration": 1110,
        "start_time": "2023-05-17T10:57:31.258Z"
      },
      {
        "duration": 356,
        "start_time": "2023-05-17T10:57:32.369Z"
      },
      {
        "duration": 624,
        "start_time": "2023-05-17T10:57:32.729Z"
      },
      {
        "duration": 218,
        "start_time": "2023-05-17T10:57:33.354Z"
      },
      {
        "duration": 175,
        "start_time": "2023-05-17T10:57:33.574Z"
      },
      {
        "duration": 177,
        "start_time": "2023-05-17T10:57:33.751Z"
      },
      {
        "duration": 348,
        "start_time": "2023-05-17T10:57:33.931Z"
      },
      {
        "duration": 185,
        "start_time": "2023-05-17T10:57:34.280Z"
      },
      {
        "duration": 187,
        "start_time": "2023-05-17T10:57:34.467Z"
      },
      {
        "duration": 194,
        "start_time": "2023-05-17T10:57:34.657Z"
      },
      {
        "duration": 24,
        "start_time": "2023-05-17T10:57:34.853Z"
      },
      {
        "duration": 188,
        "start_time": "2023-05-17T10:57:34.879Z"
      },
      {
        "duration": 140,
        "start_time": "2023-05-17T10:59:20.620Z"
      },
      {
        "duration": 975,
        "start_time": "2023-05-17T10:59:45.067Z"
      },
      {
        "duration": 17,
        "start_time": "2023-05-17T10:59:46.044Z"
      },
      {
        "duration": 90,
        "start_time": "2023-05-17T10:59:46.064Z"
      },
      {
        "duration": 45,
        "start_time": "2023-05-17T10:59:46.157Z"
      },
      {
        "duration": 42,
        "start_time": "2023-05-17T10:59:46.204Z"
      },
      {
        "duration": 41,
        "start_time": "2023-05-17T10:59:46.248Z"
      },
      {
        "duration": 30,
        "start_time": "2023-05-17T10:59:46.291Z"
      },
      {
        "duration": 44,
        "start_time": "2023-05-17T10:59:46.323Z"
      },
      {
        "duration": 16,
        "start_time": "2023-05-17T10:59:46.369Z"
      },
      {
        "duration": 41,
        "start_time": "2023-05-17T10:59:46.389Z"
      },
      {
        "duration": 33,
        "start_time": "2023-05-17T10:59:46.432Z"
      },
      {
        "duration": 46,
        "start_time": "2023-05-17T10:59:46.467Z"
      },
      {
        "duration": 62,
        "start_time": "2023-05-17T10:59:46.515Z"
      },
      {
        "duration": 107,
        "start_time": "2023-05-17T10:59:46.580Z"
      },
      {
        "duration": 13,
        "start_time": "2023-05-17T10:59:46.688Z"
      },
      {
        "duration": 81,
        "start_time": "2023-05-17T10:59:46.702Z"
      },
      {
        "duration": 19,
        "start_time": "2023-05-17T10:59:46.785Z"
      },
      {
        "duration": 158,
        "start_time": "2023-05-17T10:59:46.812Z"
      },
      {
        "duration": 6,
        "start_time": "2023-05-17T10:59:46.972Z"
      },
      {
        "duration": 48,
        "start_time": "2023-05-17T10:59:46.980Z"
      },
      {
        "duration": 15,
        "start_time": "2023-05-17T10:59:47.030Z"
      },
      {
        "duration": 2355,
        "start_time": "2023-05-17T10:59:47.047Z"
      },
      {
        "duration": 136,
        "start_time": "2023-05-17T10:59:49.403Z"
      },
      {
        "duration": 19,
        "start_time": "2023-05-17T10:59:49.541Z"
      },
      {
        "duration": 50,
        "start_time": "2023-05-17T10:59:49.562Z"
      },
      {
        "duration": 556,
        "start_time": "2023-05-17T10:59:49.615Z"
      },
      {
        "duration": 27,
        "start_time": "2023-05-17T10:59:50.173Z"
      },
      {
        "duration": 344,
        "start_time": "2023-05-17T10:59:50.203Z"
      },
      {
        "duration": 3,
        "start_time": "2023-05-17T10:59:50.548Z"
      },
      {
        "duration": 320,
        "start_time": "2023-05-17T10:59:50.553Z"
      },
      {
        "duration": 291,
        "start_time": "2023-05-17T10:59:50.875Z"
      },
      {
        "duration": 157,
        "start_time": "2023-05-17T10:59:51.167Z"
      },
      {
        "duration": 27,
        "start_time": "2023-05-17T10:59:51.325Z"
      },
      {
        "duration": 394,
        "start_time": "2023-05-17T10:59:51.354Z"
      },
      {
        "duration": 246,
        "start_time": "2023-05-17T10:59:51.750Z"
      },
      {
        "duration": 246,
        "start_time": "2023-05-17T10:59:51.997Z"
      },
      {
        "duration": 214,
        "start_time": "2023-05-17T10:59:52.245Z"
      },
      {
        "duration": 161,
        "start_time": "2023-05-17T10:59:52.461Z"
      },
      {
        "duration": 1058,
        "start_time": "2023-05-17T10:59:52.624Z"
      },
      {
        "duration": 371,
        "start_time": "2023-05-17T10:59:53.684Z"
      },
      {
        "duration": 608,
        "start_time": "2023-05-17T10:59:54.057Z"
      },
      {
        "duration": 241,
        "start_time": "2023-05-17T10:59:54.667Z"
      },
      {
        "duration": 206,
        "start_time": "2023-05-17T10:59:54.910Z"
      },
      {
        "duration": 147,
        "start_time": "2023-05-17T10:59:55.119Z"
      },
      {
        "duration": 343,
        "start_time": "2023-05-17T10:59:55.268Z"
      },
      {
        "duration": 146,
        "start_time": "2023-05-17T10:59:55.615Z"
      },
      {
        "duration": 184,
        "start_time": "2023-05-17T10:59:55.763Z"
      },
      {
        "duration": 171,
        "start_time": "2023-05-17T10:59:55.949Z"
      },
      {
        "duration": 40,
        "start_time": "2023-05-17T10:59:56.122Z"
      },
      {
        "duration": 205,
        "start_time": "2023-05-17T10:59:56.164Z"
      },
      {
        "duration": 156,
        "start_time": "2023-05-17T11:00:36.269Z"
      },
      {
        "duration": 80,
        "start_time": "2023-05-17T11:00:56.255Z"
      },
      {
        "duration": 12,
        "start_time": "2023-05-17T11:02:24.481Z"
      },
      {
        "duration": 12,
        "start_time": "2023-05-17T11:02:48.341Z"
      },
      {
        "duration": 769,
        "start_time": "2023-05-17T11:03:01.157Z"
      },
      {
        "duration": 22,
        "start_time": "2023-05-17T11:03:01.928Z"
      },
      {
        "duration": 116,
        "start_time": "2023-05-17T11:03:01.952Z"
      },
      {
        "duration": 28,
        "start_time": "2023-05-17T11:03:02.071Z"
      },
      {
        "duration": 51,
        "start_time": "2023-05-17T11:03:02.105Z"
      },
      {
        "duration": 16,
        "start_time": "2023-05-17T11:03:02.158Z"
      },
      {
        "duration": 12,
        "start_time": "2023-05-17T11:03:02.176Z"
      },
      {
        "duration": 60,
        "start_time": "2023-05-17T11:03:02.190Z"
      },
      {
        "duration": 23,
        "start_time": "2023-05-17T11:03:02.252Z"
      },
      {
        "duration": 13,
        "start_time": "2023-05-17T11:03:02.277Z"
      },
      {
        "duration": 58,
        "start_time": "2023-05-17T11:03:02.292Z"
      },
      {
        "duration": 27,
        "start_time": "2023-05-17T11:03:02.352Z"
      },
      {
        "duration": 10,
        "start_time": "2023-05-17T11:03:02.380Z"
      },
      {
        "duration": 79,
        "start_time": "2023-05-17T11:03:02.392Z"
      },
      {
        "duration": 7,
        "start_time": "2023-05-17T11:03:02.473Z"
      },
      {
        "duration": 135,
        "start_time": "2023-05-17T11:03:02.482Z"
      },
      {
        "duration": 13,
        "start_time": "2023-05-17T11:03:02.619Z"
      },
      {
        "duration": 157,
        "start_time": "2023-05-17T11:03:02.633Z"
      },
      {
        "duration": 6,
        "start_time": "2023-05-17T11:03:02.798Z"
      },
      {
        "duration": 29,
        "start_time": "2023-05-17T11:03:02.806Z"
      },
      {
        "duration": 19,
        "start_time": "2023-05-17T11:03:02.839Z"
      },
      {
        "duration": 2348,
        "start_time": "2023-05-17T11:03:02.860Z"
      },
      {
        "duration": 161,
        "start_time": "2023-05-17T11:03:05.210Z"
      },
      {
        "duration": 15,
        "start_time": "2023-05-17T11:03:05.373Z"
      },
      {
        "duration": 41,
        "start_time": "2023-05-17T11:03:05.396Z"
      },
      {
        "duration": 606,
        "start_time": "2023-05-17T11:03:05.440Z"
      },
      {
        "duration": 10,
        "start_time": "2023-05-17T11:03:06.048Z"
      },
      {
        "duration": 380,
        "start_time": "2023-05-17T11:03:06.061Z"
      },
      {
        "duration": 2,
        "start_time": "2023-05-17T11:03:06.444Z"
      },
      {
        "duration": 353,
        "start_time": "2023-05-17T11:03:06.448Z"
      },
      {
        "duration": 322,
        "start_time": "2023-05-17T11:03:06.806Z"
      },
      {
        "duration": 163,
        "start_time": "2023-05-17T11:03:07.130Z"
      },
      {
        "duration": 35,
        "start_time": "2023-05-17T11:03:07.297Z"
      },
      {
        "duration": 420,
        "start_time": "2023-05-17T11:03:07.334Z"
      },
      {
        "duration": 284,
        "start_time": "2023-05-17T11:03:07.755Z"
      },
      {
        "duration": 232,
        "start_time": "2023-05-17T11:03:08.041Z"
      },
      {
        "duration": 341,
        "start_time": "2023-05-17T11:03:08.275Z"
      },
      {
        "duration": 142,
        "start_time": "2023-05-17T11:03:08.620Z"
      },
      {
        "duration": 1051,
        "start_time": "2023-05-17T11:03:08.763Z"
      },
      {
        "duration": 351,
        "start_time": "2023-05-17T11:03:09.816Z"
      },
      {
        "duration": 670,
        "start_time": "2023-05-17T11:03:10.168Z"
      },
      {
        "duration": 213,
        "start_time": "2023-05-17T11:03:10.840Z"
      },
      {
        "duration": 169,
        "start_time": "2023-05-17T11:03:11.055Z"
      },
      {
        "duration": 196,
        "start_time": "2023-05-17T11:03:11.226Z"
      },
      {
        "duration": 331,
        "start_time": "2023-05-17T11:03:11.424Z"
      },
      {
        "duration": 170,
        "start_time": "2023-05-17T11:03:11.756Z"
      },
      {
        "duration": 184,
        "start_time": "2023-05-17T11:03:11.927Z"
      },
      {
        "duration": 175,
        "start_time": "2023-05-17T11:03:12.113Z"
      },
      {
        "duration": 35,
        "start_time": "2023-05-17T11:03:12.290Z"
      },
      {
        "duration": 203,
        "start_time": "2023-05-17T11:03:12.327Z"
      },
      {
        "duration": 127,
        "start_time": "2023-05-17T11:03:46.293Z"
      },
      {
        "duration": 82,
        "start_time": "2023-05-17T11:04:40.386Z"
      },
      {
        "duration": 796,
        "start_time": "2023-05-17T11:05:18.486Z"
      },
      {
        "duration": 17,
        "start_time": "2023-05-17T11:05:19.284Z"
      },
      {
        "duration": 80,
        "start_time": "2023-05-17T11:05:19.861Z"
      },
      {
        "duration": 26,
        "start_time": "2023-05-17T11:05:20.505Z"
      },
      {
        "duration": 55,
        "start_time": "2023-05-17T11:05:20.919Z"
      },
      {
        "duration": 3,
        "start_time": "2023-05-17T11:05:21.669Z"
      },
      {
        "duration": 5,
        "start_time": "2023-05-17T11:05:23.367Z"
      },
      {
        "duration": 18,
        "start_time": "2023-05-17T11:05:24.461Z"
      },
      {
        "duration": 8,
        "start_time": "2023-05-17T11:05:25.603Z"
      },
      {
        "duration": 15,
        "start_time": "2023-05-17T11:05:26.478Z"
      },
      {
        "duration": 16,
        "start_time": "2023-05-17T11:05:27.423Z"
      },
      {
        "duration": 23,
        "start_time": "2023-05-17T11:05:28.816Z"
      },
      {
        "duration": 11,
        "start_time": "2023-05-17T11:05:30.223Z"
      },
      {
        "duration": 50,
        "start_time": "2023-05-17T11:05:31.679Z"
      },
      {
        "duration": 15,
        "start_time": "2023-05-17T11:05:33.095Z"
      },
      {
        "duration": 81,
        "start_time": "2023-05-17T11:05:35.785Z"
      },
      {
        "duration": 12,
        "start_time": "2023-05-17T11:05:37.144Z"
      },
      {
        "duration": 131,
        "start_time": "2023-05-17T11:05:37.857Z"
      },
      {
        "duration": 10,
        "start_time": "2023-05-17T11:05:42.404Z"
      },
      {
        "duration": 12,
        "start_time": "2023-05-17T11:05:44.256Z"
      },
      {
        "duration": 25,
        "start_time": "2023-05-17T11:05:44.777Z"
      },
      {
        "duration": 2307,
        "start_time": "2023-05-17T11:05:45.785Z"
      },
      {
        "duration": 167,
        "start_time": "2023-05-17T11:05:50.403Z"
      },
      {
        "duration": 45,
        "start_time": "2023-05-17T11:06:24.315Z"
      },
      {
        "duration": 16,
        "start_time": "2023-05-17T11:06:44.908Z"
      },
      {
        "duration": 2580,
        "start_time": "2023-05-17T11:07:09.163Z"
      },
      {
        "duration": 22,
        "start_time": "2023-05-17T11:07:20.885Z"
      },
      {
        "duration": 135,
        "start_time": "2023-05-17T11:07:42.376Z"
      },
      {
        "duration": 26,
        "start_time": "2023-05-17T11:07:42.990Z"
      },
      {
        "duration": 100,
        "start_time": "2023-05-17T11:07:43.656Z"
      },
      {
        "duration": 34,
        "start_time": "2023-05-17T11:07:44.005Z"
      },
      {
        "duration": 56,
        "start_time": "2023-05-17T11:07:44.331Z"
      },
      {
        "duration": 4,
        "start_time": "2023-05-17T11:07:44.973Z"
      },
      {
        "duration": 6,
        "start_time": "2023-05-17T11:07:46.128Z"
      },
      {
        "duration": 14,
        "start_time": "2023-05-17T11:07:47.019Z"
      },
      {
        "duration": 7,
        "start_time": "2023-05-17T11:07:47.632Z"
      },
      {
        "duration": 14,
        "start_time": "2023-05-17T11:07:48.473Z"
      },
      {
        "duration": 33,
        "start_time": "2023-05-17T11:07:49.203Z"
      },
      {
        "duration": 20,
        "start_time": "2023-05-17T11:07:49.848Z"
      },
      {
        "duration": 12,
        "start_time": "2023-05-17T11:07:50.535Z"
      },
      {
        "duration": 63,
        "start_time": "2023-05-17T11:07:51.519Z"
      },
      {
        "duration": 10,
        "start_time": "2023-05-17T11:07:52.544Z"
      },
      {
        "duration": 81,
        "start_time": "2023-05-17T11:07:53.273Z"
      },
      {
        "duration": 15,
        "start_time": "2023-05-17T11:07:55.033Z"
      },
      {
        "duration": 147,
        "start_time": "2023-05-17T11:07:55.753Z"
      },
      {
        "duration": 5,
        "start_time": "2023-05-17T11:07:59.185Z"
      },
      {
        "duration": 11,
        "start_time": "2023-05-17T11:07:59.869Z"
      },
      {
        "duration": 25,
        "start_time": "2023-05-17T11:08:00.586Z"
      },
      {
        "duration": 2332,
        "start_time": "2023-05-17T11:08:01.458Z"
      },
      {
        "duration": 173,
        "start_time": "2023-05-17T11:08:09.883Z"
      },
      {
        "duration": 137,
        "start_time": "2023-05-17T11:09:24.304Z"
      },
      {
        "duration": 209,
        "start_time": "2023-05-17T11:09:44.574Z"
      },
      {
        "duration": 130,
        "start_time": "2023-05-17T11:11:58.712Z"
      },
      {
        "duration": 139,
        "start_time": "2023-05-17T11:12:38.407Z"
      },
      {
        "duration": 14,
        "start_time": "2023-05-17T11:12:59.047Z"
      },
      {
        "duration": 178,
        "start_time": "2023-05-17T11:13:21.374Z"
      },
      {
        "duration": 125,
        "start_time": "2023-05-17T11:13:37.812Z"
      },
      {
        "duration": 168,
        "start_time": "2023-05-17T11:13:46.742Z"
      },
      {
        "duration": 11,
        "start_time": "2023-05-17T11:14:47.197Z"
      },
      {
        "duration": 258,
        "start_time": "2023-05-17T11:15:03.208Z"
      },
      {
        "duration": 104,
        "start_time": "2023-05-17T11:15:32.002Z"
      },
      {
        "duration": 14,
        "start_time": "2023-05-17T11:15:32.618Z"
      },
      {
        "duration": 68,
        "start_time": "2023-05-17T11:15:33.146Z"
      },
      {
        "duration": 22,
        "start_time": "2023-05-17T11:15:33.402Z"
      },
      {
        "duration": 44,
        "start_time": "2023-05-17T11:15:33.691Z"
      },
      {
        "duration": 3,
        "start_time": "2023-05-17T11:15:34.242Z"
      },
      {
        "duration": 5,
        "start_time": "2023-05-17T11:15:35.347Z"
      },
      {
        "duration": 15,
        "start_time": "2023-05-17T11:15:36.186Z"
      },
      {
        "duration": 5,
        "start_time": "2023-05-17T11:15:36.699Z"
      },
      {
        "duration": 14,
        "start_time": "2023-05-17T11:15:37.283Z"
      },
      {
        "duration": 17,
        "start_time": "2023-05-17T11:15:37.835Z"
      },
      {
        "duration": 23,
        "start_time": "2023-05-17T11:15:38.355Z"
      },
      {
        "duration": 12,
        "start_time": "2023-05-17T11:15:38.883Z"
      },
      {
        "duration": 66,
        "start_time": "2023-05-17T11:15:39.708Z"
      },
      {
        "duration": 9,
        "start_time": "2023-05-17T11:15:40.587Z"
      },
      {
        "duration": 71,
        "start_time": "2023-05-17T11:15:41.195Z"
      },
      {
        "duration": 15,
        "start_time": "2023-05-17T11:15:42.212Z"
      },
      {
        "duration": 132,
        "start_time": "2023-05-17T11:15:42.516Z"
      },
      {
        "duration": 6,
        "start_time": "2023-05-17T11:15:43.780Z"
      },
      {
        "duration": 13,
        "start_time": "2023-05-17T11:15:44.380Z"
      },
      {
        "duration": 16,
        "start_time": "2023-05-17T11:15:44.717Z"
      },
      {
        "duration": 2115,
        "start_time": "2023-05-17T11:15:45.030Z"
      },
      {
        "duration": 158,
        "start_time": "2023-05-17T11:15:47.146Z"
      },
      {
        "duration": 320,
        "start_time": "2023-05-17T11:16:11.185Z"
      },
      {
        "duration": 128,
        "start_time": "2023-05-17T11:17:04.103Z"
      },
      {
        "duration": 134,
        "start_time": "2023-05-17T11:17:21.187Z"
      },
      {
        "duration": 184,
        "start_time": "2023-05-17T11:17:54.478Z"
      },
      {
        "duration": 132,
        "start_time": "2023-05-17T11:18:08.504Z"
      },
      {
        "duration": 163,
        "start_time": "2023-05-17T11:18:41.208Z"
      },
      {
        "duration": 5082,
        "start_time": "2023-05-17T11:19:31.690Z"
      },
      {
        "duration": 15,
        "start_time": "2023-05-17T11:19:36.774Z"
      },
      {
        "duration": 68,
        "start_time": "2023-05-17T11:19:36.791Z"
      },
      {
        "duration": 39,
        "start_time": "2023-05-17T11:19:36.861Z"
      },
      {
        "duration": 32,
        "start_time": "2023-05-17T11:19:36.902Z"
      },
      {
        "duration": 3,
        "start_time": "2023-05-17T11:19:36.936Z"
      },
      {
        "duration": 6,
        "start_time": "2023-05-17T11:19:37.690Z"
      },
      {
        "duration": 11,
        "start_time": "2023-05-17T11:19:38.738Z"
      },
      {
        "duration": 5,
        "start_time": "2023-05-17T11:19:39.387Z"
      },
      {
        "duration": 17,
        "start_time": "2023-05-17T11:19:39.996Z"
      },
      {
        "duration": 16,
        "start_time": "2023-05-17T11:19:40.715Z"
      },
      {
        "duration": 20,
        "start_time": "2023-05-17T11:19:41.499Z"
      },
      {
        "duration": 10,
        "start_time": "2023-05-17T11:19:42.290Z"
      },
      {
        "duration": 79,
        "start_time": "2023-05-17T11:19:43.628Z"
      },
      {
        "duration": 11,
        "start_time": "2023-05-17T11:19:45.051Z"
      },
      {
        "duration": 96,
        "start_time": "2023-05-17T11:19:45.684Z"
      },
      {
        "duration": 13,
        "start_time": "2023-05-17T11:19:46.944Z"
      },
      {
        "duration": 126,
        "start_time": "2023-05-17T11:19:47.755Z"
      },
      {
        "duration": 5,
        "start_time": "2023-05-17T11:19:51.771Z"
      },
      {
        "duration": 11,
        "start_time": "2023-05-17T11:19:52.509Z"
      },
      {
        "duration": 16,
        "start_time": "2023-05-17T11:19:52.876Z"
      },
      {
        "duration": 1970,
        "start_time": "2023-05-17T11:19:53.356Z"
      },
      {
        "duration": 316,
        "start_time": "2023-05-17T11:19:56.757Z"
      },
      {
        "duration": 142,
        "start_time": "2023-05-17T11:23:12.141Z"
      },
      {
        "duration": 138,
        "start_time": "2023-05-17T11:24:24.001Z"
      },
      {
        "duration": 135,
        "start_time": "2023-05-17T11:24:34.927Z"
      },
      {
        "duration": 17,
        "start_time": "2023-05-17T11:24:35.511Z"
      },
      {
        "duration": 70,
        "start_time": "2023-05-17T11:24:36.128Z"
      },
      {
        "duration": 28,
        "start_time": "2023-05-17T11:24:36.448Z"
      },
      {
        "duration": 47,
        "start_time": "2023-05-17T11:24:36.736Z"
      },
      {
        "duration": 2,
        "start_time": "2023-05-17T11:24:37.263Z"
      },
      {
        "duration": 4,
        "start_time": "2023-05-17T11:24:38.392Z"
      },
      {
        "duration": 15,
        "start_time": "2023-05-17T11:24:39.389Z"
      },
      {
        "duration": 5,
        "start_time": "2023-05-17T11:24:39.944Z"
      },
      {
        "duration": 16,
        "start_time": "2023-05-17T11:24:40.589Z"
      },
      {
        "duration": 18,
        "start_time": "2023-05-17T11:24:41.211Z"
      },
      {
        "duration": 21,
        "start_time": "2023-05-17T11:24:41.825Z"
      },
      {
        "duration": 12,
        "start_time": "2023-05-17T11:24:42.424Z"
      },
      {
        "duration": 55,
        "start_time": "2023-05-17T11:24:43.329Z"
      },
      {
        "duration": 9,
        "start_time": "2023-05-17T11:24:44.193Z"
      },
      {
        "duration": 106,
        "start_time": "2023-05-17T11:24:44.921Z"
      },
      {
        "duration": 15,
        "start_time": "2023-05-17T11:24:45.907Z"
      },
      {
        "duration": 136,
        "start_time": "2023-05-17T11:24:46.217Z"
      },
      {
        "duration": 5,
        "start_time": "2023-05-17T11:24:47.546Z"
      },
      {
        "duration": 11,
        "start_time": "2023-05-17T11:24:48.204Z"
      },
      {
        "duration": 15,
        "start_time": "2023-05-17T11:24:48.649Z"
      },
      {
        "duration": 1850,
        "start_time": "2023-05-17T11:24:49.307Z"
      },
      {
        "duration": 128,
        "start_time": "2023-05-17T11:24:53.210Z"
      },
      {
        "duration": 141,
        "start_time": "2023-05-17T11:25:30.800Z"
      },
      {
        "duration": 79,
        "start_time": "2023-05-17T11:26:16.040Z"
      },
      {
        "duration": 8,
        "start_time": "2023-05-17T11:29:55.646Z"
      },
      {
        "duration": 730,
        "start_time": "2023-05-17T11:30:21.454Z"
      },
      {
        "duration": 20,
        "start_time": "2023-05-17T11:30:22.186Z"
      },
      {
        "duration": 73,
        "start_time": "2023-05-17T11:30:22.208Z"
      },
      {
        "duration": 21,
        "start_time": "2023-05-17T11:30:22.294Z"
      },
      {
        "duration": 31,
        "start_time": "2023-05-17T11:30:22.316Z"
      },
      {
        "duration": 3,
        "start_time": "2023-05-17T11:30:22.349Z"
      },
      {
        "duration": 13,
        "start_time": "2023-05-17T11:30:22.353Z"
      },
      {
        "duration": 27,
        "start_time": "2023-05-17T11:30:22.368Z"
      },
      {
        "duration": 5,
        "start_time": "2023-05-17T11:30:22.397Z"
      },
      {
        "duration": 35,
        "start_time": "2023-05-17T11:30:22.404Z"
      },
      {
        "duration": 21,
        "start_time": "2023-05-17T11:30:22.441Z"
      },
      {
        "duration": 27,
        "start_time": "2023-05-17T11:30:22.464Z"
      },
      {
        "duration": 15,
        "start_time": "2023-05-17T11:30:22.493Z"
      },
      {
        "duration": 51,
        "start_time": "2023-05-17T11:30:22.511Z"
      },
      {
        "duration": 8,
        "start_time": "2023-05-17T11:30:22.565Z"
      },
      {
        "duration": 76,
        "start_time": "2023-05-17T11:30:22.575Z"
      },
      {
        "duration": 12,
        "start_time": "2023-05-17T11:30:22.653Z"
      },
      {
        "duration": 142,
        "start_time": "2023-05-17T11:30:22.667Z"
      },
      {
        "duration": 5,
        "start_time": "2023-05-17T11:30:22.811Z"
      },
      {
        "duration": 17,
        "start_time": "2023-05-17T11:30:22.817Z"
      },
      {
        "duration": 14,
        "start_time": "2023-05-17T11:30:22.836Z"
      },
      {
        "duration": 2049,
        "start_time": "2023-05-17T11:30:22.851Z"
      },
      {
        "duration": 127,
        "start_time": "2023-05-17T11:30:24.902Z"
      },
      {
        "duration": 14,
        "start_time": "2023-05-17T11:30:25.031Z"
      },
      {
        "duration": 23,
        "start_time": "2023-05-17T11:30:25.046Z"
      },
      {
        "duration": 516,
        "start_time": "2023-05-17T11:30:25.070Z"
      },
      {
        "duration": 11,
        "start_time": "2023-05-17T11:30:25.595Z"
      },
      {
        "duration": 324,
        "start_time": "2023-05-17T11:30:25.609Z"
      },
      {
        "duration": 2,
        "start_time": "2023-05-17T11:30:25.935Z"
      },
      {
        "duration": 310,
        "start_time": "2023-05-17T11:30:25.939Z"
      },
      {
        "duration": 296,
        "start_time": "2023-05-17T11:30:26.250Z"
      },
      {
        "duration": 166,
        "start_time": "2023-05-17T11:30:26.548Z"
      },
      {
        "duration": 25,
        "start_time": "2023-05-17T11:30:26.716Z"
      },
      {
        "duration": 378,
        "start_time": "2023-05-17T11:30:26.742Z"
      },
      {
        "duration": 227,
        "start_time": "2023-05-17T11:30:27.121Z"
      },
      {
        "duration": 221,
        "start_time": "2023-05-17T11:30:27.350Z"
      },
      {
        "duration": 201,
        "start_time": "2023-05-17T11:30:27.573Z"
      },
      {
        "duration": 141,
        "start_time": "2023-05-17T11:30:27.776Z"
      },
      {
        "duration": 1042,
        "start_time": "2023-05-17T11:30:27.918Z"
      },
      {
        "duration": 351,
        "start_time": "2023-05-17T11:30:28.962Z"
      },
      {
        "duration": 574,
        "start_time": "2023-05-17T11:30:29.315Z"
      },
      {
        "duration": 203,
        "start_time": "2023-05-17T11:30:29.894Z"
      },
      {
        "duration": 152,
        "start_time": "2023-05-17T11:30:30.099Z"
      },
      {
        "duration": 132,
        "start_time": "2023-05-17T11:30:30.253Z"
      },
      {
        "duration": 309,
        "start_time": "2023-05-17T11:30:30.395Z"
      },
      {
        "duration": 145,
        "start_time": "2023-05-17T11:30:30.706Z"
      },
      {
        "duration": 164,
        "start_time": "2023-05-17T11:30:30.852Z"
      },
      {
        "duration": 195,
        "start_time": "2023-05-17T11:30:31.018Z"
      },
      {
        "duration": 25,
        "start_time": "2023-05-17T11:30:31.215Z"
      },
      {
        "duration": 185,
        "start_time": "2023-05-17T11:30:31.242Z"
      },
      {
        "duration": 323,
        "start_time": "2023-05-17T11:37:55.995Z"
      },
      {
        "duration": 268,
        "start_time": "2023-05-17T11:38:06.461Z"
      },
      {
        "duration": 1795,
        "start_time": "2023-05-17T11:43:19.508Z"
      },
      {
        "duration": 160,
        "start_time": "2023-05-17T11:43:37.454Z"
      },
      {
        "duration": 176,
        "start_time": "2023-05-17T11:51:19.283Z"
      },
      {
        "duration": 771,
        "start_time": "2023-05-17T11:51:49.341Z"
      },
      {
        "duration": 13,
        "start_time": "2023-05-17T11:53:15.496Z"
      },
      {
        "duration": 5,
        "start_time": "2023-05-17T11:53:21.657Z"
      },
      {
        "duration": 10,
        "start_time": "2023-05-17T11:53:30.191Z"
      },
      {
        "duration": 4,
        "start_time": "2023-05-17T11:53:37.019Z"
      },
      {
        "duration": 7,
        "start_time": "2023-05-17T11:53:53.097Z"
      },
      {
        "duration": 7,
        "start_time": "2023-05-17T11:53:57.694Z"
      },
      {
        "duration": 2245,
        "start_time": "2023-05-17T11:54:14.817Z"
      },
      {
        "duration": 31,
        "start_time": "2023-05-17T11:55:50.443Z"
      },
      {
        "duration": 23,
        "start_time": "2023-05-17T11:57:29.489Z"
      },
      {
        "duration": 99,
        "start_time": "2023-05-17T12:01:18.479Z"
      },
      {
        "duration": 18,
        "start_time": "2023-05-17T12:01:19.183Z"
      },
      {
        "duration": 73,
        "start_time": "2023-05-17T12:01:19.929Z"
      },
      {
        "duration": 20,
        "start_time": "2023-05-17T12:01:20.322Z"
      },
      {
        "duration": 30,
        "start_time": "2023-05-17T12:01:20.722Z"
      },
      {
        "duration": 5,
        "start_time": "2023-05-17T12:01:21.795Z"
      },
      {
        "duration": 7,
        "start_time": "2023-05-17T12:01:25.526Z"
      },
      {
        "duration": 17,
        "start_time": "2023-05-17T12:01:26.922Z"
      },
      {
        "duration": 6,
        "start_time": "2023-05-17T12:01:28.122Z"
      },
      {
        "duration": 17,
        "start_time": "2023-05-17T12:01:29.647Z"
      },
      {
        "duration": 33,
        "start_time": "2023-05-17T12:01:30.892Z"
      },
      {
        "duration": 31,
        "start_time": "2023-05-17T12:01:32.042Z"
      },
      {
        "duration": 13,
        "start_time": "2023-05-17T12:01:34.391Z"
      },
      {
        "duration": 51,
        "start_time": "2023-05-17T12:01:36.925Z"
      },
      {
        "duration": 9,
        "start_time": "2023-05-17T12:01:52.025Z"
      },
      {
        "duration": 75,
        "start_time": "2023-05-17T12:01:54.914Z"
      },
      {
        "duration": 12,
        "start_time": "2023-05-17T12:01:58.640Z"
      },
      {
        "duration": 117,
        "start_time": "2023-05-17T12:02:08.917Z"
      },
      {
        "duration": 5,
        "start_time": "2023-05-17T12:02:15.134Z"
      },
      {
        "duration": 24,
        "start_time": "2023-05-17T12:02:17.191Z"
      },
      {
        "duration": 16,
        "start_time": "2023-05-17T12:02:18.139Z"
      },
      {
        "duration": 2034,
        "start_time": "2023-05-17T12:02:19.721Z"
      },
      {
        "duration": 279,
        "start_time": "2023-05-17T12:05:30.510Z"
      },
      {
        "duration": 485,
        "start_time": "2023-05-17T12:06:08.627Z"
      },
      {
        "duration": 83,
        "start_time": "2023-05-17T12:06:42.394Z"
      },
      {
        "duration": 1689,
        "start_time": "2023-05-17T12:07:01.179Z"
      },
      {
        "duration": 18,
        "start_time": "2023-05-17T12:07:56.042Z"
      },
      {
        "duration": 2159,
        "start_time": "2023-05-17T12:08:09.050Z"
      },
      {
        "duration": 24,
        "start_time": "2023-05-17T12:08:15.128Z"
      },
      {
        "duration": 82,
        "start_time": "2023-05-17T12:09:33.883Z"
      },
      {
        "duration": 165,
        "start_time": "2023-05-17T12:10:47.572Z"
      },
      {
        "duration": 1613,
        "start_time": "2023-05-17T12:10:50.724Z"
      },
      {
        "duration": 96,
        "start_time": "2023-05-17T12:11:14.220Z"
      },
      {
        "duration": 20,
        "start_time": "2023-05-17T12:11:14.790Z"
      },
      {
        "duration": 89,
        "start_time": "2023-05-17T12:11:15.371Z"
      },
      {
        "duration": 21,
        "start_time": "2023-05-17T12:11:15.629Z"
      },
      {
        "duration": 41,
        "start_time": "2023-05-17T12:11:15.925Z"
      },
      {
        "duration": 3,
        "start_time": "2023-05-17T12:11:16.442Z"
      },
      {
        "duration": 6,
        "start_time": "2023-05-17T12:11:17.516Z"
      },
      {
        "duration": 16,
        "start_time": "2023-05-17T12:11:18.640Z"
      },
      {
        "duration": 6,
        "start_time": "2023-05-17T12:11:19.143Z"
      },
      {
        "duration": 13,
        "start_time": "2023-05-17T12:11:19.686Z"
      },
      {
        "duration": 15,
        "start_time": "2023-05-17T12:11:20.282Z"
      },
      {
        "duration": 23,
        "start_time": "2023-05-17T12:11:20.886Z"
      },
      {
        "duration": 11,
        "start_time": "2023-05-17T12:11:21.490Z"
      },
      {
        "duration": 48,
        "start_time": "2023-05-17T12:11:22.328Z"
      },
      {
        "duration": 9,
        "start_time": "2023-05-17T12:11:23.190Z"
      },
      {
        "duration": 89,
        "start_time": "2023-05-17T12:11:23.778Z"
      },
      {
        "duration": 16,
        "start_time": "2023-05-17T12:11:24.744Z"
      },
      {
        "duration": 115,
        "start_time": "2023-05-17T12:11:25.103Z"
      },
      {
        "duration": 5,
        "start_time": "2023-05-17T12:11:27.626Z"
      },
      {
        "duration": 14,
        "start_time": "2023-05-17T12:11:28.194Z"
      },
      {
        "duration": 15,
        "start_time": "2023-05-17T12:11:28.494Z"
      },
      {
        "duration": 2230,
        "start_time": "2023-05-17T12:11:28.730Z"
      },
      {
        "duration": 1559,
        "start_time": "2023-05-17T12:13:39.779Z"
      },
      {
        "duration": 1595,
        "start_time": "2023-05-17T12:14:19.479Z"
      },
      {
        "duration": 1771,
        "start_time": "2023-05-17T12:15:06.581Z"
      },
      {
        "duration": 129,
        "start_time": "2023-05-17T12:19:10.249Z"
      },
      {
        "duration": 137,
        "start_time": "2023-05-17T12:21:01.999Z"
      },
      {
        "duration": 961,
        "start_time": "2023-05-17T12:21:28.047Z"
      },
      {
        "duration": 14,
        "start_time": "2023-05-17T12:21:29.010Z"
      },
      {
        "duration": 85,
        "start_time": "2023-05-17T12:21:29.026Z"
      },
      {
        "duration": 21,
        "start_time": "2023-05-17T12:21:29.112Z"
      },
      {
        "duration": 30,
        "start_time": "2023-05-17T12:21:29.135Z"
      },
      {
        "duration": 3,
        "start_time": "2023-05-17T12:21:29.166Z"
      },
      {
        "duration": 35,
        "start_time": "2023-05-17T12:21:29.171Z"
      },
      {
        "duration": 21,
        "start_time": "2023-05-17T12:21:29.207Z"
      },
      {
        "duration": 4,
        "start_time": "2023-05-17T12:21:29.230Z"
      },
      {
        "duration": 16,
        "start_time": "2023-05-17T12:21:29.235Z"
      },
      {
        "duration": 14,
        "start_time": "2023-05-17T12:21:29.252Z"
      },
      {
        "duration": 18,
        "start_time": "2023-05-17T12:21:29.268Z"
      },
      {
        "duration": 10,
        "start_time": "2023-05-17T12:21:29.302Z"
      },
      {
        "duration": 49,
        "start_time": "2023-05-17T12:21:29.315Z"
      },
      {
        "duration": 8,
        "start_time": "2023-05-17T12:21:29.365Z"
      },
      {
        "duration": 73,
        "start_time": "2023-05-17T12:21:29.374Z"
      },
      {
        "duration": 12,
        "start_time": "2023-05-17T12:21:29.449Z"
      },
      {
        "duration": 148,
        "start_time": "2023-05-17T12:21:29.463Z"
      },
      {
        "duration": 5,
        "start_time": "2023-05-17T12:21:29.614Z"
      },
      {
        "duration": 12,
        "start_time": "2023-05-17T12:21:29.620Z"
      },
      {
        "duration": 21,
        "start_time": "2023-05-17T12:21:29.634Z"
      },
      {
        "duration": 2112,
        "start_time": "2023-05-17T12:21:29.656Z"
      },
      {
        "duration": 1612,
        "start_time": "2023-05-17T12:21:31.769Z"
      },
      {
        "duration": 155,
        "start_time": "2023-05-17T12:21:33.382Z"
      },
      {
        "duration": 129,
        "start_time": "2023-05-17T12:21:33.539Z"
      },
      {
        "duration": 14,
        "start_time": "2023-05-17T12:21:33.669Z"
      },
      {
        "duration": 38,
        "start_time": "2023-05-17T12:21:33.684Z"
      },
      {
        "duration": 533,
        "start_time": "2023-05-17T12:21:33.724Z"
      },
      {
        "duration": 11,
        "start_time": "2023-05-17T12:21:34.259Z"
      },
      {
        "duration": 374,
        "start_time": "2023-05-17T12:21:34.272Z"
      },
      {
        "duration": 3,
        "start_time": "2023-05-17T12:21:34.648Z"
      },
      {
        "duration": 375,
        "start_time": "2023-05-17T12:21:34.654Z"
      },
      {
        "duration": 294,
        "start_time": "2023-05-17T12:21:35.032Z"
      },
      {
        "duration": 157,
        "start_time": "2023-05-17T12:21:35.328Z"
      },
      {
        "duration": 39,
        "start_time": "2023-05-17T12:21:35.486Z"
      },
      {
        "duration": 297,
        "start_time": "2023-05-17T12:21:35.526Z"
      },
      {
        "duration": 362,
        "start_time": "2023-05-17T12:21:35.825Z"
      },
      {
        "duration": 246,
        "start_time": "2023-05-17T12:21:36.198Z"
      },
      {
        "duration": 235,
        "start_time": "2023-05-17T12:21:36.447Z"
      },
      {
        "duration": 144,
        "start_time": "2023-05-17T12:21:36.684Z"
      },
      {
        "duration": 990,
        "start_time": "2023-05-17T12:21:36.832Z"
      },
      {
        "duration": 339,
        "start_time": "2023-05-17T12:21:37.826Z"
      },
      {
        "duration": 562,
        "start_time": "2023-05-17T12:21:38.166Z"
      },
      {
        "duration": 217,
        "start_time": "2023-05-17T12:21:38.729Z"
      },
      {
        "duration": 159,
        "start_time": "2023-05-17T12:21:38.947Z"
      },
      {
        "duration": 120,
        "start_time": "2023-05-17T12:21:39.111Z"
      },
      {
        "duration": 196,
        "start_time": "2023-05-17T12:21:39.232Z"
      },
      {
        "duration": 152,
        "start_time": "2023-05-17T12:21:39.430Z"
      },
      {
        "duration": 161,
        "start_time": "2023-05-17T12:21:39.583Z"
      },
      {
        "duration": 165,
        "start_time": "2023-05-17T12:21:39.746Z"
      },
      {
        "duration": 27,
        "start_time": "2023-05-17T12:21:39.913Z"
      },
      {
        "duration": 183,
        "start_time": "2023-05-17T12:21:39.942Z"
      },
      {
        "duration": 411,
        "start_time": "2023-05-17T12:22:06.094Z"
      },
      {
        "duration": 193,
        "start_time": "2023-05-17T12:22:34.583Z"
      },
      {
        "duration": 128,
        "start_time": "2023-05-17T12:23:04.526Z"
      },
      {
        "duration": 152,
        "start_time": "2023-05-17T12:24:03.694Z"
      },
      {
        "duration": 223,
        "start_time": "2023-05-17T12:24:20.937Z"
      },
      {
        "duration": 228,
        "start_time": "2023-05-17T12:24:31.817Z"
      },
      {
        "duration": 227,
        "start_time": "2023-05-17T12:24:41.821Z"
      },
      {
        "duration": 303,
        "start_time": "2023-05-17T12:25:38.703Z"
      },
      {
        "duration": 589,
        "start_time": "2023-05-17T12:27:13.026Z"
      },
      {
        "duration": 304,
        "start_time": "2023-05-17T12:27:23.518Z"
      },
      {
        "duration": 232,
        "start_time": "2023-05-17T12:30:54.995Z"
      },
      {
        "duration": 155,
        "start_time": "2023-05-17T12:33:30.486Z"
      },
      {
        "duration": 143,
        "start_time": "2023-05-17T12:33:42.395Z"
      },
      {
        "duration": 215,
        "start_time": "2023-05-17T12:34:00.047Z"
      },
      {
        "duration": 137,
        "start_time": "2023-05-17T12:34:33.542Z"
      },
      {
        "duration": 178,
        "start_time": "2023-05-17T12:34:34.793Z"
      },
      {
        "duration": 144,
        "start_time": "2023-05-17T12:34:35.940Z"
      },
      {
        "duration": 28,
        "start_time": "2023-05-17T12:34:49.683Z"
      },
      {
        "duration": 159,
        "start_time": "2023-05-17T12:35:41.220Z"
      },
      {
        "duration": 43,
        "start_time": "2023-05-17T18:13:33.820Z"
      },
      {
        "duration": 1166,
        "start_time": "2023-05-17T18:13:51.241Z"
      },
      {
        "duration": 24,
        "start_time": "2023-05-17T18:13:52.410Z"
      },
      {
        "duration": 78,
        "start_time": "2023-05-17T18:13:53.026Z"
      },
      {
        "duration": 25,
        "start_time": "2023-05-17T18:13:53.780Z"
      },
      {
        "duration": 40,
        "start_time": "2023-05-17T18:13:54.366Z"
      },
      {
        "duration": 3,
        "start_time": "2023-05-17T18:13:55.674Z"
      },
      {
        "duration": 5,
        "start_time": "2023-05-17T18:13:58.210Z"
      },
      {
        "duration": 12,
        "start_time": "2023-05-17T18:14:01.711Z"
      },
      {
        "duration": 6,
        "start_time": "2023-05-17T18:14:07.420Z"
      },
      {
        "duration": 13,
        "start_time": "2023-05-17T18:14:08.431Z"
      },
      {
        "duration": 14,
        "start_time": "2023-05-17T18:14:12.767Z"
      },
      {
        "duration": 21,
        "start_time": "2023-05-17T18:14:19.034Z"
      },
      {
        "duration": 11,
        "start_time": "2023-05-17T18:14:23.117Z"
      },
      {
        "duration": 67,
        "start_time": "2023-05-17T18:14:25.548Z"
      },
      {
        "duration": 10,
        "start_time": "2023-05-17T18:14:31.617Z"
      },
      {
        "duration": 59,
        "start_time": "2023-05-17T18:14:36.825Z"
      },
      {
        "duration": 13,
        "start_time": "2023-05-17T18:14:39.080Z"
      },
      {
        "duration": 148,
        "start_time": "2023-05-17T18:14:41.083Z"
      },
      {
        "duration": 6,
        "start_time": "2023-05-17T18:15:06.512Z"
      },
      {
        "duration": 14,
        "start_time": "2023-05-17T18:15:07.917Z"
      },
      {
        "duration": 19,
        "start_time": "2023-05-17T18:15:08.518Z"
      },
      {
        "duration": 2301,
        "start_time": "2023-05-17T18:15:09.336Z"
      },
      {
        "duration": 1766,
        "start_time": "2023-05-17T18:15:14.652Z"
      },
      {
        "duration": 176,
        "start_time": "2023-05-17T18:15:18.174Z"
      },
      {
        "duration": 225,
        "start_time": "2023-05-17T18:23:01.921Z"
      },
      {
        "duration": 109,
        "start_time": "2023-05-17T18:23:30.039Z"
      },
      {
        "duration": 263,
        "start_time": "2023-05-17T18:24:24.146Z"
      },
      {
        "duration": 18,
        "start_time": "2023-05-17T18:24:42.637Z"
      },
      {
        "duration": 356,
        "start_time": "2023-05-17T18:24:55.136Z"
      },
      {
        "duration": 11,
        "start_time": "2023-05-17T18:24:57.616Z"
      },
      {
        "duration": 151,
        "start_time": "2023-05-17T18:26:38.923Z"
      },
      {
        "duration": 26,
        "start_time": "2023-05-17T18:27:08.517Z"
      },
      {
        "duration": 369,
        "start_time": "2023-05-17T18:29:11.044Z"
      },
      {
        "duration": 348,
        "start_time": "2023-05-17T18:29:30.436Z"
      },
      {
        "duration": 419,
        "start_time": "2023-05-17T18:30:08.849Z"
      },
      {
        "duration": 222,
        "start_time": "2023-05-17T18:30:59.928Z"
      },
      {
        "duration": 358,
        "start_time": "2023-05-17T18:31:27.250Z"
      },
      {
        "duration": 502,
        "start_time": "2023-05-17T18:31:30.764Z"
      },
      {
        "duration": 70,
        "start_time": "2023-05-17T18:31:31.268Z"
      },
      {
        "duration": 1329,
        "start_time": "2023-05-17T18:31:36.438Z"
      },
      {
        "duration": 898,
        "start_time": "2023-05-17T18:32:08.236Z"
      },
      {
        "duration": 203,
        "start_time": "2023-05-17T18:35:23.010Z"
      },
      {
        "duration": 793,
        "start_time": "2023-05-17T18:37:28.350Z"
      },
      {
        "duration": 14,
        "start_time": "2023-05-17T18:37:29.146Z"
      },
      {
        "duration": 95,
        "start_time": "2023-05-17T18:37:29.161Z"
      },
      {
        "duration": 22,
        "start_time": "2023-05-17T18:37:29.258Z"
      },
      {
        "duration": 60,
        "start_time": "2023-05-17T18:37:29.282Z"
      },
      {
        "duration": 3,
        "start_time": "2023-05-17T18:37:29.343Z"
      },
      {
        "duration": 15,
        "start_time": "2023-05-17T18:37:29.347Z"
      },
      {
        "duration": 80,
        "start_time": "2023-05-17T18:37:29.364Z"
      },
      {
        "duration": 9,
        "start_time": "2023-05-17T18:37:29.446Z"
      },
      {
        "duration": 46,
        "start_time": "2023-05-17T18:37:29.458Z"
      },
      {
        "duration": 49,
        "start_time": "2023-05-17T18:37:29.510Z"
      },
      {
        "duration": 44,
        "start_time": "2023-05-17T18:37:29.561Z"
      },
      {
        "duration": 75,
        "start_time": "2023-05-17T18:37:29.607Z"
      },
      {
        "duration": 82,
        "start_time": "2023-05-17T18:37:29.684Z"
      },
      {
        "duration": 8,
        "start_time": "2023-05-17T18:37:29.768Z"
      },
      {
        "duration": 103,
        "start_time": "2023-05-17T18:37:29.777Z"
      },
      {
        "duration": 12,
        "start_time": "2023-05-17T18:37:29.882Z"
      },
      {
        "duration": 169,
        "start_time": "2023-05-17T18:37:29.895Z"
      },
      {
        "duration": 5,
        "start_time": "2023-05-17T18:37:30.065Z"
      },
      {
        "duration": 35,
        "start_time": "2023-05-17T18:37:30.072Z"
      },
      {
        "duration": 50,
        "start_time": "2023-05-17T18:37:30.109Z"
      },
      {
        "duration": 2452,
        "start_time": "2023-05-17T18:37:30.161Z"
      },
      {
        "duration": 274,
        "start_time": "2023-05-17T18:37:32.615Z"
      },
      {
        "duration": 139,
        "start_time": "2023-05-17T18:37:32.891Z"
      },
      {
        "duration": 348,
        "start_time": "2023-05-17T18:37:33.031Z"
      },
      {
        "duration": 25,
        "start_time": "2023-05-17T18:37:33.381Z"
      },
      {
        "duration": 32,
        "start_time": "2023-05-17T18:37:33.408Z"
      },
      {
        "duration": 513,
        "start_time": "2023-05-17T18:37:33.443Z"
      },
      {
        "duration": 13,
        "start_time": "2023-05-17T18:37:33.958Z"
      },
      {
        "duration": 375,
        "start_time": "2023-05-17T18:37:33.973Z"
      },
      {
        "duration": 3,
        "start_time": "2023-05-17T18:37:34.350Z"
      },
      {
        "duration": 373,
        "start_time": "2023-05-17T18:37:34.354Z"
      },
      {
        "duration": 433,
        "start_time": "2023-05-17T18:37:34.729Z"
      },
      {
        "duration": 166,
        "start_time": "2023-05-17T18:37:35.163Z"
      },
      {
        "duration": 26,
        "start_time": "2023-05-17T18:37:35.331Z"
      },
      {
        "duration": 415,
        "start_time": "2023-05-17T18:37:35.359Z"
      },
      {
        "duration": 269,
        "start_time": "2023-05-17T18:37:35.776Z"
      },
      {
        "duration": 244,
        "start_time": "2023-05-17T18:37:36.046Z"
      },
      {
        "duration": 230,
        "start_time": "2023-05-17T18:37:36.291Z"
      },
      {
        "duration": 196,
        "start_time": "2023-05-17T18:37:36.523Z"
      },
      {
        "duration": 1111,
        "start_time": "2023-05-17T18:37:36.723Z"
      },
      {
        "duration": 344,
        "start_time": "2023-05-17T18:37:37.836Z"
      },
      {
        "duration": 747,
        "start_time": "2023-05-17T18:37:38.181Z"
      },
      {
        "duration": 210,
        "start_time": "2023-05-17T18:37:38.930Z"
      },
      {
        "duration": 163,
        "start_time": "2023-05-17T18:37:39.142Z"
      },
      {
        "duration": 156,
        "start_time": "2023-05-17T18:37:39.308Z"
      },
      {
        "duration": 248,
        "start_time": "2023-05-17T18:37:39.466Z"
      },
      {
        "duration": 153,
        "start_time": "2023-05-17T18:37:39.716Z"
      },
      {
        "duration": 199,
        "start_time": "2023-05-17T18:37:39.871Z"
      },
      {
        "duration": 174,
        "start_time": "2023-05-17T18:37:40.071Z"
      },
      {
        "duration": 234,
        "start_time": "2023-05-17T18:37:40.247Z"
      },
      {
        "duration": 201,
        "start_time": "2023-05-17T18:37:40.482Z"
      },
      {
        "duration": 5,
        "start_time": "2023-05-17T18:41:06.571Z"
      },
      {
        "duration": 1235,
        "start_time": "2023-05-17T18:41:33.841Z"
      },
      {
        "duration": 11,
        "start_time": "2023-05-17T18:42:11.162Z"
      },
      {
        "duration": 1381,
        "start_time": "2023-05-18T05:48:09.145Z"
      },
      {
        "duration": 72,
        "start_time": "2023-05-18T05:48:10.528Z"
      },
      {
        "duration": 129,
        "start_time": "2023-05-18T05:48:10.603Z"
      },
      {
        "duration": 80,
        "start_time": "2023-05-18T05:48:10.733Z"
      },
      {
        "duration": 88,
        "start_time": "2023-05-18T05:48:10.815Z"
      },
      {
        "duration": 2,
        "start_time": "2023-05-18T05:48:10.905Z"
      },
      {
        "duration": 5,
        "start_time": "2023-05-18T05:48:10.909Z"
      },
      {
        "duration": 25,
        "start_time": "2023-05-18T05:48:10.916Z"
      },
      {
        "duration": 7,
        "start_time": "2023-05-18T05:48:10.996Z"
      },
      {
        "duration": 41,
        "start_time": "2023-05-18T05:48:11.005Z"
      },
      {
        "duration": 61,
        "start_time": "2023-05-18T05:48:11.048Z"
      },
      {
        "duration": 100,
        "start_time": "2023-05-18T05:48:11.111Z"
      },
      {
        "duration": 24,
        "start_time": "2023-05-18T05:48:11.218Z"
      },
      {
        "duration": 115,
        "start_time": "2023-05-18T05:48:11.296Z"
      },
      {
        "duration": 9,
        "start_time": "2023-05-18T05:48:11.415Z"
      },
      {
        "duration": 201,
        "start_time": "2023-05-18T05:48:11.425Z"
      },
      {
        "duration": 67,
        "start_time": "2023-05-18T05:48:11.628Z"
      },
      {
        "duration": 402,
        "start_time": "2023-05-18T05:48:11.698Z"
      },
      {
        "duration": 7,
        "start_time": "2023-05-18T05:48:12.102Z"
      },
      {
        "duration": 81,
        "start_time": "2023-05-18T05:48:12.115Z"
      },
      {
        "duration": 22,
        "start_time": "2023-05-18T05:48:12.200Z"
      },
      {
        "duration": 5673,
        "start_time": "2023-05-18T05:48:12.224Z"
      },
      {
        "duration": 717,
        "start_time": "2023-05-18T05:48:17.899Z"
      },
      {
        "duration": 303,
        "start_time": "2023-05-18T05:48:18.618Z"
      },
      {
        "duration": 705,
        "start_time": "2023-05-18T05:48:18.924Z"
      },
      {
        "duration": 79,
        "start_time": "2023-05-18T05:48:19.630Z"
      },
      {
        "duration": 83,
        "start_time": "2023-05-18T05:48:19.711Z"
      },
      {
        "duration": 1102,
        "start_time": "2023-05-18T05:48:19.796Z"
      },
      {
        "duration": 15,
        "start_time": "2023-05-18T05:48:20.900Z"
      },
      {
        "duration": 1100,
        "start_time": "2023-05-18T05:48:20.919Z"
      },
      {
        "duration": 2,
        "start_time": "2023-05-18T05:48:22.021Z"
      },
      {
        "duration": 749,
        "start_time": "2023-05-18T05:48:22.025Z"
      },
      {
        "duration": 377,
        "start_time": "2023-05-18T05:48:22.776Z"
      },
      {
        "duration": 159,
        "start_time": "2023-05-18T05:48:23.155Z"
      },
      {
        "duration": 34,
        "start_time": "2023-05-18T05:48:23.316Z"
      },
      {
        "duration": 313,
        "start_time": "2023-05-18T05:48:23.352Z"
      },
      {
        "duration": 252,
        "start_time": "2023-05-18T05:48:23.666Z"
      },
      {
        "duration": 237,
        "start_time": "2023-05-18T05:48:23.919Z"
      },
      {
        "duration": 205,
        "start_time": "2023-05-18T05:48:24.158Z"
      },
      {
        "duration": 168,
        "start_time": "2023-05-18T05:48:24.365Z"
      },
      {
        "duration": 1051,
        "start_time": "2023-05-18T05:48:24.538Z"
      },
      {
        "duration": 365,
        "start_time": "2023-05-18T05:48:25.595Z"
      },
      {
        "duration": 749,
        "start_time": "2023-05-18T05:48:25.962Z"
      },
      {
        "duration": 207,
        "start_time": "2023-05-18T05:48:26.713Z"
      },
      {
        "duration": 168,
        "start_time": "2023-05-18T05:48:26.923Z"
      },
      {
        "duration": 171,
        "start_time": "2023-05-18T05:48:27.095Z"
      },
      {
        "duration": 218,
        "start_time": "2023-05-18T05:48:27.269Z"
      },
      {
        "duration": 138,
        "start_time": "2023-05-18T05:48:27.488Z"
      },
      {
        "duration": 158,
        "start_time": "2023-05-18T05:48:27.628Z"
      },
      {
        "duration": 146,
        "start_time": "2023-05-18T05:48:27.788Z"
      },
      {
        "duration": 293,
        "start_time": "2023-05-18T05:48:27.936Z"
      },
      {
        "duration": 226,
        "start_time": "2023-05-18T05:48:28.231Z"
      },
      {
        "duration": 18,
        "start_time": "2023-05-18T05:56:59.189Z"
      },
      {
        "duration": 112,
        "start_time": "2023-05-18T05:57:02.847Z"
      }
    ],
    "colab": {
      "provenance": [],
      "toc_visible": true
    },
    "kernelspec": {
      "display_name": "Python 3 (ipykernel)",
      "language": "python",
      "name": "python3"
    },
    "language_info": {
      "codemirror_mode": {
        "name": "ipython",
        "version": 3
      },
      "file_extension": ".py",
      "mimetype": "text/x-python",
      "name": "python",
      "nbconvert_exporter": "python",
      "pygments_lexer": "ipython3",
      "version": "3.9.5"
    },
    "toc": {
      "base_numbering": 1,
      "nav_menu": {},
      "number_sections": true,
      "sideBar": true,
      "skip_h1_title": true,
      "title_cell": "Table of Contents",
      "title_sidebar": "Contents",
      "toc_cell": false,
      "toc_position": {},
      "toc_section_display": true,
      "toc_window_display": false
    }
  },
  "nbformat": 4,
  "nbformat_minor": 0
}