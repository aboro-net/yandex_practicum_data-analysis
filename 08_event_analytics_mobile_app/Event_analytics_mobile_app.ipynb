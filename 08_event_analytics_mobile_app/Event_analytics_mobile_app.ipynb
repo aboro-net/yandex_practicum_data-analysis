{
  "cells": [
    {
      "cell_type": "markdown",
      "metadata": {
        "id": "DWW7qNY2EZZG"
      },
      "source": [
        "# Сборный проект 2"
      ]
    },
    {
      "cell_type": "markdown",
      "metadata": {
        "id": "PmKx28XoErJs"
      },
      "source": [
        "**Описание проекта**\n",
        "\n",
        "Вы работаете в стартапе, который продаёт продукты питания. Нужно разобраться, как ведут себя пользователи вашего мобильного приложения.\n",
        "Изучите воронку продаж. Узнайте, как пользователи доходят до покупки. Сколько пользователей доходит до покупки, а сколько — «застревает» на предыдущих шагах? На каких именно?\n",
        "\n",
        "После этого исследуйте результаты A/A/B-эксперимента. Дизайнеры захотели поменять шрифты во всём приложении, а менеджеры испугались, что пользователям будет непривычно. Договорились принять решение по результатам A/A/B-теста. Пользователей разбили на 3 группы: 2 контрольные со старыми шрифтами и одну экспериментальную — с новыми. Выясните, какой шрифт лучше.\n",
        "\n",
        "**Описание данных**\n",
        "\n",
        "Каждая запись в логе — это действие пользователя, или событие.\n",
        "*   EventName — название события;\n",
        "*   DeviceIDHash — уникальный идентификатор пользователя;\n",
        "*   EventTimestamp — время события;\n",
        "*   ExpId — номер эксперимента: 246 и 247 — контрольные группы, а 248 — экспериментальная."
      ]
    },
    {
      "cell_type": "markdown",
      "metadata": {
        "id": "eXaRu0miMoFd"
      },
      "source": [
        "**План проекта**\n",
        "* Проведем предобработку данных\n",
        "* Изучим результаты экспериментов\n",
        "* Проверим пересекаются ли наши выборки для групп А/А/В\n",
        "* Проверим корректность отбора групп на примере А/А теста\n",
        "* Проверим статистическую значимость изменений на результатах А/В эксперимента\n",
        "* Сделаем выводы"
      ]
    },
    {
      "cell_type": "code",
      "execution_count": null,
      "metadata": {
        "id": "kw4myzvjDsLr"
      },
      "outputs": [],
      "source": [
        "import numpy as np\n",
        "import pandas as pd\n",
        "import re\n",
        "import math\n",
        "import matplotlib.pyplot as plt\n",
        "import seaborn as sns\n",
        "from scipy import stats as st\n",
        "from datetime import datetime as dt"
      ]
    },
    {
      "cell_type": "code",
      "execution_count": null,
      "metadata": {
        "id": "ax3vOyfxGf0d"
      },
      "outputs": [],
      "source": [
        "# Настройки\n",
        "# отображение всех колонок таблиц\n",
        "pd.set_option('display.max_columns', None)\n",
        "# ширина колонок при выводе\n",
        "pd.set_option('display.max_colwidth', 1000)"
      ]
    },
    {
      "cell_type": "markdown",
      "metadata": {
        "id": "ls6XQ7xgGmHw"
      },
      "source": [
        "## Загрузка данных\n",
        "\n",
        "\n",
        "\n"
      ]
    },
    {
      "cell_type": "code",
      "execution_count": null,
      "metadata": {
        "id": "VOCeSZV7GrLC"
      },
      "outputs": [],
      "source": [
        "try:\n",
        "    df = pd.read_csv('/datasets/logs_exp.csv', sep='\\t')\n",
        "except:\n",
        "    df = pd.read_csv('https://code.s3.yandex.net/datasets/logs_exp.csv', sep='\\t')"
      ]
    },
    {
      "cell_type": "code",
      "execution_count": null,
      "metadata": {
        "colab": {
          "base_uri": "https://localhost:8080/",
          "height": 1000
        },
        "id": "QXoBn8CmHMUr",
        "outputId": "028cbe7a-4b48-4755-f24c-6d1a9584fcd4"
      },
      "outputs": [
        {
          "name": "stdout",
          "output_type": "stream",
          "text": [
            "<class 'pandas.core.frame.DataFrame'>\n",
            "RangeIndex: 244126 entries, 0 to 244125\n",
            "Data columns (total 4 columns):\n",
            " #   Column          Non-Null Count   Dtype \n",
            "---  ------          --------------   ----- \n",
            " 0   EventName       244126 non-null  object\n",
            " 1   DeviceIDHash    244126 non-null  int64 \n",
            " 2   EventTimestamp  244126 non-null  int64 \n",
            " 3   ExpId           244126 non-null  int64 \n",
            "dtypes: int64(3), object(1)\n",
            "memory usage: 7.5+ MB\n",
            "None\n",
            "--------------------------------------------------\n"
          ]
        },
        {
          "data": {
            "text/html": [
              "<div>\n",
              "<style scoped>\n",
              "    .dataframe tbody tr th:only-of-type {\n",
              "        vertical-align: middle;\n",
              "    }\n",
              "\n",
              "    .dataframe tbody tr th {\n",
              "        vertical-align: top;\n",
              "    }\n",
              "\n",
              "    .dataframe thead th {\n",
              "        text-align: right;\n",
              "    }\n",
              "</style>\n",
              "<table border=\"1\" class=\"dataframe\">\n",
              "  <thead>\n",
              "    <tr style=\"text-align: right;\">\n",
              "      <th></th>\n",
              "      <th>EventName</th>\n",
              "      <th>DeviceIDHash</th>\n",
              "      <th>EventTimestamp</th>\n",
              "      <th>ExpId</th>\n",
              "    </tr>\n",
              "  </thead>\n",
              "  <tbody>\n",
              "    <tr>\n",
              "      <th>188009</th>\n",
              "      <td>CartScreenAppear</td>\n",
              "      <td>7984672678297688740</td>\n",
              "      <td>1565084187</td>\n",
              "      <td>247</td>\n",
              "    </tr>\n",
              "    <tr>\n",
              "      <th>226404</th>\n",
              "      <td>CartScreenAppear</td>\n",
              "      <td>1069864342136599505</td>\n",
              "      <td>1565178927</td>\n",
              "      <td>248</td>\n",
              "    </tr>\n",
              "    <tr>\n",
              "      <th>37947</th>\n",
              "      <td>MainScreenAppear</td>\n",
              "      <td>6101206401239346585</td>\n",
              "      <td>1564693604</td>\n",
              "      <td>247</td>\n",
              "    </tr>\n",
              "    <tr>\n",
              "      <th>118675</th>\n",
              "      <td>OffersScreenAppear</td>\n",
              "      <td>2747842226053192632</td>\n",
              "      <td>1564914345</td>\n",
              "      <td>247</td>\n",
              "    </tr>\n",
              "    <tr>\n",
              "      <th>227888</th>\n",
              "      <td>CartScreenAppear</td>\n",
              "      <td>5124270451384794915</td>\n",
              "      <td>1565181826</td>\n",
              "      <td>248</td>\n",
              "    </tr>\n",
              "    <tr>\n",
              "      <th>200426</th>\n",
              "      <td>MainScreenAppear</td>\n",
              "      <td>2285920690243309957</td>\n",
              "      <td>1565104795</td>\n",
              "      <td>247</td>\n",
              "    </tr>\n",
              "    <tr>\n",
              "      <th>93785</th>\n",
              "      <td>OffersScreenAppear</td>\n",
              "      <td>1710404069179158243</td>\n",
              "      <td>1564840300</td>\n",
              "      <td>246</td>\n",
              "    </tr>\n",
              "    <tr>\n",
              "      <th>62740</th>\n",
              "      <td>MainScreenAppear</td>\n",
              "      <td>1057369804972986385</td>\n",
              "      <td>1564758977</td>\n",
              "      <td>246</td>\n",
              "    </tr>\n",
              "    <tr>\n",
              "      <th>121571</th>\n",
              "      <td>PaymentScreenSuccessful</td>\n",
              "      <td>7225488958072414056</td>\n",
              "      <td>1564918670</td>\n",
              "      <td>247</td>\n",
              "    </tr>\n",
              "    <tr>\n",
              "      <th>35623</th>\n",
              "      <td>CartScreenAppear</td>\n",
              "      <td>5180016769043519762</td>\n",
              "      <td>1564687041</td>\n",
              "      <td>247</td>\n",
              "    </tr>\n",
              "  </tbody>\n",
              "</table>\n",
              "</div>"
            ],
            "text/plain": [
              "                      EventName         DeviceIDHash  EventTimestamp  ExpId\n",
              "188009         CartScreenAppear  7984672678297688740      1565084187    247\n",
              "226404         CartScreenAppear  1069864342136599505      1565178927    248\n",
              "37947          MainScreenAppear  6101206401239346585      1564693604    247\n",
              "118675       OffersScreenAppear  2747842226053192632      1564914345    247\n",
              "227888         CartScreenAppear  5124270451384794915      1565181826    248\n",
              "200426         MainScreenAppear  2285920690243309957      1565104795    247\n",
              "93785        OffersScreenAppear  1710404069179158243      1564840300    246\n",
              "62740          MainScreenAppear  1057369804972986385      1564758977    246\n",
              "121571  PaymentScreenSuccessful  7225488958072414056      1564918670    247\n",
              "35623          CartScreenAppear  5180016769043519762      1564687041    247"
            ]
          },
          "metadata": {},
          "output_type": "display_data"
        },
        {
          "name": "stdout",
          "output_type": "stream",
          "text": [
            "--------------------------------------------------\n",
            "Количество дубликатов в датафрейме: 413 ~ 0.17 %\n",
            "--------------------------------------------------\n",
            "Наличие пропусков\n",
            "EventName         0\n",
            "DeviceIDHash      0\n",
            "EventTimestamp    0\n",
            "ExpId             0\n",
            "dtype: int64\n",
            "--------------------------------------------------\n",
            "Статистические данные датафрейма\n"
          ]
        },
        {
          "data": {
            "text/html": [
              "<div>\n",
              "<style scoped>\n",
              "    .dataframe tbody tr th:only-of-type {\n",
              "        vertical-align: middle;\n",
              "    }\n",
              "\n",
              "    .dataframe tbody tr th {\n",
              "        vertical-align: top;\n",
              "    }\n",
              "\n",
              "    .dataframe thead th {\n",
              "        text-align: right;\n",
              "    }\n",
              "</style>\n",
              "<table border=\"1\" class=\"dataframe\">\n",
              "  <thead>\n",
              "    <tr style=\"text-align: right;\">\n",
              "      <th></th>\n",
              "      <th>DeviceIDHash</th>\n",
              "      <th>EventTimestamp</th>\n",
              "      <th>ExpId</th>\n",
              "    </tr>\n",
              "  </thead>\n",
              "  <tbody>\n",
              "    <tr>\n",
              "      <th>count</th>\n",
              "      <td>2.441260e+05</td>\n",
              "      <td>2.441260e+05</td>\n",
              "      <td>244126.000000</td>\n",
              "    </tr>\n",
              "    <tr>\n",
              "      <th>mean</th>\n",
              "      <td>4.627568e+18</td>\n",
              "      <td>1.564914e+09</td>\n",
              "      <td>247.022296</td>\n",
              "    </tr>\n",
              "    <tr>\n",
              "      <th>std</th>\n",
              "      <td>2.642425e+18</td>\n",
              "      <td>1.771343e+05</td>\n",
              "      <td>0.824434</td>\n",
              "    </tr>\n",
              "    <tr>\n",
              "      <th>min</th>\n",
              "      <td>6.888747e+15</td>\n",
              "      <td>1.564030e+09</td>\n",
              "      <td>246.000000</td>\n",
              "    </tr>\n",
              "    <tr>\n",
              "      <th>25%</th>\n",
              "      <td>2.372212e+18</td>\n",
              "      <td>1.564757e+09</td>\n",
              "      <td>246.000000</td>\n",
              "    </tr>\n",
              "    <tr>\n",
              "      <th>50%</th>\n",
              "      <td>4.623192e+18</td>\n",
              "      <td>1.564919e+09</td>\n",
              "      <td>247.000000</td>\n",
              "    </tr>\n",
              "    <tr>\n",
              "      <th>75%</th>\n",
              "      <td>6.932517e+18</td>\n",
              "      <td>1.565075e+09</td>\n",
              "      <td>248.000000</td>\n",
              "    </tr>\n",
              "    <tr>\n",
              "      <th>max</th>\n",
              "      <td>9.222603e+18</td>\n",
              "      <td>1.565213e+09</td>\n",
              "      <td>248.000000</td>\n",
              "    </tr>\n",
              "  </tbody>\n",
              "</table>\n",
              "</div>"
            ],
            "text/plain": [
              "       DeviceIDHash  EventTimestamp          ExpId\n",
              "count  2.441260e+05    2.441260e+05  244126.000000\n",
              "mean   4.627568e+18    1.564914e+09     247.022296\n",
              "std    2.642425e+18    1.771343e+05       0.824434\n",
              "min    6.888747e+15    1.564030e+09     246.000000\n",
              "25%    2.372212e+18    1.564757e+09     246.000000\n",
              "50%    4.623192e+18    1.564919e+09     247.000000\n",
              "75%    6.932517e+18    1.565075e+09     248.000000\n",
              "max    9.222603e+18    1.565213e+09     248.000000"
            ]
          },
          "metadata": {},
          "output_type": "display_data"
        }
      ],
      "source": [
        "# вывода информации о датафрейме\n",
        "print(df.info())\n",
        "print('-' * 50)\n",
        "display(df.sample(10))\n",
        "print('-' * 50)\n",
        "print('Количество дубликатов в датафрейме:', df.duplicated().sum(), '~', \\\n",
        "      round(df.duplicated().sum()/df.shape[0] * 100, 2 ), '%')\n",
        "print('-' * 50)\n",
        "print('Наличие пропусков')\n",
        "print(df.isna().sum())\n",
        "print('-' * 50)\n",
        "print('Статистические данные датафрейма')\n",
        "display(df.describe())"
      ]
    },
    {
      "cell_type": "markdown",
      "metadata": {
        "id": "HqShSKsLLk8Z"
      },
      "source": [
        "## Предобработка данных"
      ]
    },
    {
      "cell_type": "code",
      "execution_count": null,
      "metadata": {
        "colab": {
          "base_uri": "https://localhost:8080/"
        },
        "id": "hqV-x9M8H3XV",
        "outputId": "92342f89-e221-42f0-f522-2325ead4d206"
      },
      "outputs": [
        {
          "data": {
            "text/plain": [
              "Index(['event_name', 'device_id', 'event_time', 'exp_id'], dtype='object')"
            ]
          },
          "execution_count": 5,
          "metadata": {},
          "output_type": "execute_result"
        }
      ],
      "source": [
        "# приведем названия столбцов к \"змеиному\" стилю\n",
        "df = df.rename(columns={'EventName':'event_name',\n",
        "                        'DeviceIDHash':'device_id',\n",
        "                        'EventTimestamp':'event_time',\n",
        "                        'ExpId':'exp_id'})\n",
        "df.columns"
      ]
    },
    {
      "cell_type": "code",
      "execution_count": null,
      "metadata": {
        "id": "_jUr-H2qTrqT"
      },
      "outputs": [],
      "source": [
        "# удаляем дубликаты\n",
        "df = df.drop_duplicates()"
      ]
    },
    {
      "cell_type": "markdown",
      "metadata": {
        "id": "vjpfo9c-8-cA"
      },
      "source": [
        "Время в столбце \"event_timestamp\" упазано в Unix-вормате. Сконвертируем его и  разделим на столбцы даты и времени:"
      ]
    },
    {
      "cell_type": "code",
      "execution_count": null,
      "metadata": {
        "colab": {
          "base_uri": "https://localhost:8080/",
          "height": 464
        },
        "id": "gFi2FKNZNHhZ",
        "outputId": "9dc7046c-e794-44af-e4f3-5d570e1e1801"
      },
      "outputs": [
        {
          "name": "stdout",
          "output_type": "stream",
          "text": [
            "<class 'pandas.core.frame.DataFrame'>\n",
            "Int64Index: 243713 entries, 0 to 244125\n",
            "Data columns (total 6 columns):\n",
            " #   Column      Non-Null Count   Dtype         \n",
            "---  ------      --------------   -----         \n",
            " 0   event_name  243713 non-null  object        \n",
            " 1   device_id   243713 non-null  int64         \n",
            " 2   event_time  243713 non-null  datetime64[ns]\n",
            " 3   exp_id      243713 non-null  int64         \n",
            " 4   date        243713 non-null  datetime64[ns]\n",
            " 5   time        243713 non-null  object        \n",
            "dtypes: datetime64[ns](2), int64(2), object(2)\n",
            "memory usage: 13.0+ MB\n",
            "None\n"
          ]
        },
        {
          "data": {
            "text/html": [
              "<div>\n",
              "<style scoped>\n",
              "    .dataframe tbody tr th:only-of-type {\n",
              "        vertical-align: middle;\n",
              "    }\n",
              "\n",
              "    .dataframe tbody tr th {\n",
              "        vertical-align: top;\n",
              "    }\n",
              "\n",
              "    .dataframe thead th {\n",
              "        text-align: right;\n",
              "    }\n",
              "</style>\n",
              "<table border=\"1\" class=\"dataframe\">\n",
              "  <thead>\n",
              "    <tr style=\"text-align: right;\">\n",
              "      <th></th>\n",
              "      <th>event_name</th>\n",
              "      <th>device_id</th>\n",
              "      <th>event_time</th>\n",
              "      <th>exp_id</th>\n",
              "      <th>date</th>\n",
              "      <th>time</th>\n",
              "    </tr>\n",
              "  </thead>\n",
              "  <tbody>\n",
              "    <tr>\n",
              "      <th>0</th>\n",
              "      <td>MainScreenAppear</td>\n",
              "      <td>4575588528974610257</td>\n",
              "      <td>2019-07-25 04:43:36</td>\n",
              "      <td>246</td>\n",
              "      <td>2019-07-25</td>\n",
              "      <td>04:43:36</td>\n",
              "    </tr>\n",
              "    <tr>\n",
              "      <th>1</th>\n",
              "      <td>MainScreenAppear</td>\n",
              "      <td>7416695313311560658</td>\n",
              "      <td>2019-07-25 11:11:42</td>\n",
              "      <td>246</td>\n",
              "      <td>2019-07-25</td>\n",
              "      <td>11:11:42</td>\n",
              "    </tr>\n",
              "    <tr>\n",
              "      <th>2</th>\n",
              "      <td>PaymentScreenSuccessful</td>\n",
              "      <td>3518123091307005509</td>\n",
              "      <td>2019-07-25 11:28:47</td>\n",
              "      <td>248</td>\n",
              "      <td>2019-07-25</td>\n",
              "      <td>11:28:47</td>\n",
              "    </tr>\n",
              "    <tr>\n",
              "      <th>3</th>\n",
              "      <td>CartScreenAppear</td>\n",
              "      <td>3518123091307005509</td>\n",
              "      <td>2019-07-25 11:28:47</td>\n",
              "      <td>248</td>\n",
              "      <td>2019-07-25</td>\n",
              "      <td>11:28:47</td>\n",
              "    </tr>\n",
              "    <tr>\n",
              "      <th>4</th>\n",
              "      <td>PaymentScreenSuccessful</td>\n",
              "      <td>6217807653094995999</td>\n",
              "      <td>2019-07-25 11:48:42</td>\n",
              "      <td>248</td>\n",
              "      <td>2019-07-25</td>\n",
              "      <td>11:48:42</td>\n",
              "    </tr>\n",
              "  </tbody>\n",
              "</table>\n",
              "</div>"
            ],
            "text/plain": [
              "                event_name            device_id          event_time  exp_id  \\\n",
              "0         MainScreenAppear  4575588528974610257 2019-07-25 04:43:36     246   \n",
              "1         MainScreenAppear  7416695313311560658 2019-07-25 11:11:42     246   \n",
              "2  PaymentScreenSuccessful  3518123091307005509 2019-07-25 11:28:47     248   \n",
              "3         CartScreenAppear  3518123091307005509 2019-07-25 11:28:47     248   \n",
              "4  PaymentScreenSuccessful  6217807653094995999 2019-07-25 11:48:42     248   \n",
              "\n",
              "        date      time  \n",
              "0 2019-07-25  04:43:36  \n",
              "1 2019-07-25  11:11:42  \n",
              "2 2019-07-25  11:28:47  \n",
              "3 2019-07-25  11:28:47  \n",
              "4 2019-07-25  11:48:42  "
            ]
          },
          "metadata": {},
          "output_type": "display_data"
        }
      ],
      "source": [
        "# приведем тип данных\n",
        "df['event_time'] = pd.to_datetime(df['event_time'], unit='s')\n",
        "# добавим столбцы даты и времени\n",
        "df[\"date\"] = df[\"event_time\"].dt.date\n",
        "df['date'] = pd.to_datetime(df['date'])\n",
        "df[\"time\"] = df[\"event_time\"].dt.time\n",
        "\n",
        "print(df.info())\n",
        "display(df.head())"
      ]
    },
    {
      "cell_type": "markdown",
      "metadata": {
        "id": "sou8DNSbJj6E"
      },
      "source": [
        "### Итоги загрузки и предобработки данных\n",
        "*   в датафрейм 'df' загрузили данные из детасета 'logs_exp.csv'\n",
        "*   в данных отсутствуют пропуски\n",
        "*   удалили явные дубликаты: 413 (около 0.17%)\n",
        "*   скорректирровали названия столбцов\n",
        "*   привели типы данных\n",
        "*   разделили значения в столбце 'event_time' на 'date' и 'time' в соответствующих столбцах\n",
        "\n",
        "\n",
        "\n"
      ]
    },
    {
      "cell_type": "markdown",
      "metadata": {
        "id": "PEiMD0sHAN_6"
      },
      "source": [
        "## Изучим и проверим данные"
      ]
    },
    {
      "cell_type": "code",
      "execution_count": null,
      "metadata": {
        "colab": {
          "base_uri": "https://localhost:8080/"
        },
        "id": "AGMl69XG954B",
        "outputId": "29551924-1bd9-446b-805c-4e831f10d2a9"
      },
      "outputs": [
        {
          "name": "stdout",
          "output_type": "stream",
          "text": [
            "Общее количество событий в логе: 243713\n",
            "--------------------------------------------------\n",
            "Количество уникальных событий: 5\n",
            "--------------------------------------------------\n",
            "Количество по типу событий:\n",
            "MainScreenAppear           119101\n",
            "OffersScreenAppear          46808\n",
            "CartScreenAppear            42668\n",
            "PaymentScreenSuccessful     34118\n",
            "Tutorial                     1018\n",
            "Name: event_name, dtype: int64\n",
            "--------------------------------------------------\n",
            "Количество пользователей в логе: 7551\n",
            "--------------------------------------------------\n",
            "В среднем на одного пользователя приходится событий: 32.3\n",
            "--------------------------------------------------\n",
            "Период проведения эксперимента:\n",
            "   начало периода - 2019-07-25 00:00:00\n",
            "   конец периода - 2019-08-07 00:00:00\n"
          ]
        }
      ],
      "source": [
        "print('Общее количество событий в логе:', df['event_name'].count())\n",
        "print('-' * 50)\n",
        "print('Количество уникальных событий:', len(df['event_name'].unique()))\n",
        "print('-' * 50)\n",
        "print('Количество по типу событий:')\n",
        "print(df['event_name'].value_counts())\n",
        "print('-' * 50)\n",
        "print('Количество пользователей в логе:', df['device_id'].nunique())\n",
        "print('-' * 50)\n",
        "user_event_mean = round((df.groupby('device_id')['event_name'].count()).mean(), 1)\n",
        "print('В среднем на одного пользователя приходится событий:', user_event_mean)\n",
        "print('-' * 50)\n",
        "print('Период проведения эксперимента:')\n",
        "print('   начало периода -', df['date'].min())\n",
        "print('   конец периода -', df['date'].max())"
      ]
    },
    {
      "cell_type": "code",
      "execution_count": null,
      "metadata": {
        "colab": {
          "base_uri": "https://localhost:8080/",
          "height": 386
        },
        "id": "AxPMZDHrGKM4",
        "outputId": "40709529-0ef9-4462-b3aa-59d4939861a4"
      },
      "outputs": [
        {
          "data": {
            "image/png": "[encoded data removed]",
            "text/plain": [
              "<Figure size 576x216 with 1 Axes>"
            ]
          },
          "metadata": {
            "needs_background": "light"
          },
          "output_type": "display_data"
        }
      ],
      "source": [
        "# построим гистограмму по датам\n",
        "plt.figure(figsize=(8,3))\n",
        "sns.histplot(df['date'])\n",
        "plt.title('Гистограмма по датам')\n",
        "plt.ylabel('Количество событий')\n",
        "plt.xticks(rotation = 45)\n",
        "plt.show()"
      ]
    },
    {
      "cell_type": "markdown",
      "metadata": {
        "id": "_QNOu7czIk2d"
      },
      "source": [
        "Гистограмма показывает что данные не за весь период являются полными.\n",
        "Выберем данные начиная с 2019-08-01."
      ]
    },
    {
      "cell_type": "code",
      "execution_count": null,
      "metadata": {
        "colab": {
          "base_uri": "https://localhost:8080/"
        },
        "id": "iJDdhso-GftB",
        "outputId": "db36ac72-1206-4d33-b9ab-60cf0a8d967a"
      },
      "outputs": [
        {
          "name": "stdout",
          "output_type": "stream",
          "text": [
            "В результате сокращения выбранного периода отбросили:\n",
            "2826 событий ~ 1.16 %\n",
            "17 пользователей ~ 0.23 %\n"
          ]
        }
      ],
      "source": [
        "df_exp=df.drop(df[df['date'] < '2019-08-01'].index)\n",
        "print('В результате сокращения выбранного периода отбросили:')\n",
        "print(df['event_name'].value_counts().sum() - df_exp['event_name'].value_counts().sum(), 'событий ~', \\\n",
        "      round((1 - df_exp['event_name'].value_counts().sum() / df['event_name'].value_counts().sum()) * 100, 2), '%')\n",
        "print(df['device_id'].nunique() - df_exp['device_id'].nunique(), 'пользователей ~', \\\n",
        "      round((1 - df_exp['device_id'].nunique() / df['device_id'].nunique()) * 100, 2), '%')"
      ]
    },
    {
      "cell_type": "code",
      "execution_count": null,
      "metadata": {
        "colab": {
          "base_uri": "https://localhost:8080/",
          "height": 206
        },
        "id": "oWTBfdwEJ-Hl",
        "outputId": "159ad68e-aa20-43c0-8a5d-24c66c9fa1b6"
      },
      "outputs": [
        {
          "data": {
            "text/html": [
              "<div>\n",
              "<style scoped>\n",
              "    .dataframe tbody tr th:only-of-type {\n",
              "        vertical-align: middle;\n",
              "    }\n",
              "\n",
              "    .dataframe tbody tr th {\n",
              "        vertical-align: top;\n",
              "    }\n",
              "\n",
              "    .dataframe thead tr th {\n",
              "        text-align: left;\n",
              "    }\n",
              "\n",
              "    .dataframe thead tr:last-of-type th {\n",
              "        text-align: right;\n",
              "    }\n",
              "</style>\n",
              "<table border=\"1\" class=\"dataframe\">\n",
              "  <thead>\n",
              "    <tr>\n",
              "      <th></th>\n",
              "      <th colspan=\"2\" halign=\"left\">device_id</th>\n",
              "    </tr>\n",
              "    <tr>\n",
              "      <th></th>\n",
              "      <th>count</th>\n",
              "      <th>nunique</th>\n",
              "    </tr>\n",
              "    <tr>\n",
              "      <th>exp_id</th>\n",
              "      <th></th>\n",
              "      <th></th>\n",
              "    </tr>\n",
              "  </thead>\n",
              "  <tbody>\n",
              "    <tr>\n",
              "      <th>246</th>\n",
              "      <td>79302</td>\n",
              "      <td>2484</td>\n",
              "    </tr>\n",
              "    <tr>\n",
              "      <th>247</th>\n",
              "      <td>77022</td>\n",
              "      <td>2513</td>\n",
              "    </tr>\n",
              "    <tr>\n",
              "      <th>248</th>\n",
              "      <td>84563</td>\n",
              "      <td>2537</td>\n",
              "    </tr>\n",
              "  </tbody>\n",
              "</table>\n",
              "</div>"
            ],
            "text/plain": [
              "       device_id        \n",
              "           count nunique\n",
              "exp_id                  \n",
              "246        79302    2484\n",
              "247        77022    2513\n",
              "248        84563    2537"
            ]
          },
          "execution_count": 11,
          "metadata": {},
          "output_type": "execute_result"
        }
      ],
      "source": [
        "# количество пользователей в каждом эксперименте\n",
        "df_exp.groupby('exp_id').agg({'device_id': ['count', 'nunique']})"
      ]
    },
    {
      "cell_type": "markdown",
      "metadata": {
        "id": "g1WyzVrJYibB"
      },
      "source": [
        "### Вывод\n",
        "*   в результате изучения выделили 5 типов событий:\n",
        " *   MainScreenAppear - главный экран\n",
        " *   OffersScreenAppear - экран предложения товаров\n",
        " *   CartScreenAppear - корзина\n",
        " *   PaymentScreenSuccessful - страница успешной оплаты\n",
        " *   Tutorial - руководство, обучающая страница.\n",
        "*   из-за неполных данных скорректировали изучаемы период. В результате корректировки отбросили 2826 событий (~ 1.16%) и 17 пользователей (~ 0.23%)\n",
        "*   проверили количество уникальных пользователей в каждой группе эксперимента"
      ]
    },
    {
      "cell_type": "markdown",
      "metadata": {
        "id": "fWoUBaxTYaOE"
      },
      "source": [
        "## Изучим воронку событий"
      ]
    },
    {
      "cell_type": "markdown",
      "metadata": {
        "id": "WHZCPnnBYyOX"
      },
      "source": [
        "### События логах\n"
      ]
    },
    {
      "cell_type": "code",
      "execution_count": null,
      "metadata": {
        "colab": {
          "base_uri": "https://localhost:8080/",
          "height": 146
        },
        "id": "Sr1DWrkjWLJv",
        "outputId": "dd4075d8-0b57-4b43-d63d-acaa069dc7b3"
      },
      "outputs": [
        {
          "data": {
            "text/plain": [
              "event_name\n",
              "MainScreenAppear           117328\n",
              "OffersScreenAppear          46333\n",
              "CartScreenAppear            42303\n",
              "PaymentScreenSuccessful     33918\n",
              "Tutorial                     1005\n",
              "Name: device_id, dtype: int64"
            ]
          },
          "metadata": {},
          "output_type": "display_data"
        }
      ],
      "source": [
        "display(df_exp.groupby('event_name')['device_id'].count().sort_values(ascending = False))"
      ]
    },
    {
      "cell_type": "markdown",
      "metadata": {
        "id": "C_pzjrzPs0oV"
      },
      "source": [
        "### Посчитаем сколько пользователей совершали каждое из событий и долю пользователей, которые хоть раз совершали событие.\n"
      ]
    },
    {
      "cell_type": "code",
      "execution_count": null,
      "metadata": {
        "colab": {
          "base_uri": "https://localhost:8080/",
          "height": 206
        },
        "id": "ks4iVN1YpC88",
        "outputId": "db8bd999-1465-4aa9-9737-fd8f3e65d223"
      },
      "outputs": [
        {
          "data": {
            "text/html": [
              "<div>\n",
              "<style scoped>\n",
              "    .dataframe tbody tr th:only-of-type {\n",
              "        vertical-align: middle;\n",
              "    }\n",
              "\n",
              "    .dataframe tbody tr th {\n",
              "        vertical-align: top;\n",
              "    }\n",
              "\n",
              "    .dataframe thead th {\n",
              "        text-align: right;\n",
              "    }\n",
              "</style>\n",
              "<table border=\"1\" class=\"dataframe\">\n",
              "  <thead>\n",
              "    <tr style=\"text-align: right;\">\n",
              "      <th></th>\n",
              "      <th>index</th>\n",
              "      <th>event</th>\n",
              "      <th>events_count</th>\n",
              "      <th>users_unique</th>\n",
              "      <th>users_per</th>\n",
              "    </tr>\n",
              "  </thead>\n",
              "  <tbody>\n",
              "    <tr>\n",
              "      <th>0</th>\n",
              "      <td>1</td>\n",
              "      <td>MainScreenAppear</td>\n",
              "      <td>117328</td>\n",
              "      <td>7419</td>\n",
              "      <td>98.47</td>\n",
              "    </tr>\n",
              "    <tr>\n",
              "      <th>1</th>\n",
              "      <td>2</td>\n",
              "      <td>OffersScreenAppear</td>\n",
              "      <td>46333</td>\n",
              "      <td>4593</td>\n",
              "      <td>60.96</td>\n",
              "    </tr>\n",
              "    <tr>\n",
              "      <th>2</th>\n",
              "      <td>0</td>\n",
              "      <td>CartScreenAppear</td>\n",
              "      <td>42303</td>\n",
              "      <td>3734</td>\n",
              "      <td>49.56</td>\n",
              "    </tr>\n",
              "    <tr>\n",
              "      <th>3</th>\n",
              "      <td>3</td>\n",
              "      <td>PaymentScreenSuccessful</td>\n",
              "      <td>33918</td>\n",
              "      <td>3539</td>\n",
              "      <td>46.97</td>\n",
              "    </tr>\n",
              "    <tr>\n",
              "      <th>4</th>\n",
              "      <td>4</td>\n",
              "      <td>Tutorial</td>\n",
              "      <td>1005</td>\n",
              "      <td>840</td>\n",
              "      <td>11.15</td>\n",
              "    </tr>\n",
              "  </tbody>\n",
              "</table>\n",
              "</div>"
            ],
            "text/plain": [
              "   index                    event  events_count  users_unique  users_per\n",
              "0      1         MainScreenAppear        117328          7419      98.47\n",
              "1      2       OffersScreenAppear         46333          4593      60.96\n",
              "2      0         CartScreenAppear         42303          3734      49.56\n",
              "3      3  PaymentScreenSuccessful         33918          3539      46.97\n",
              "4      4                 Tutorial          1005           840      11.15"
            ]
          },
          "metadata": {},
          "output_type": "display_data"
        }
      ],
      "source": [
        "# группируем логи по событию, определим количество посещений событий и число уникальных пользователей\n",
        "event_users = df_exp.pivot_table(index=['event_name'], values='device_id', aggfunc={'nunique','count'}).reset_index()\n",
        "# переименуем столбцы\n",
        "event_users.columns = ['event', 'events_count', 'users_unique']\n",
        "# добавим столбец с долей пользователей, которые хоть раз совершали событие\n",
        "event_users['users_per'] = round(event_users['users_unique'] / df_exp['device_id'].nunique() * 100, 2)\n",
        "# отсортируем таблицу по доле пользователей\n",
        "event_users = event_users.sort_values(by = 'users_per', ascending = False).reset_index()\n",
        "display(event_users)"
      ]
    },
    {
      "cell_type": "markdown",
      "metadata": {
        "id": "LvgGnE_tl4Nq"
      },
      "source": [
        "События происходят в следующем порядке:\n",
        "\n",
        "1.   MainScreenAppear (главный экран)\n",
        "2.   OffersScreenAppear (экран предложения)\n",
        "3.   CartScreenAppear (корзина)\n",
        "4.   PaymentScreenSuccessful (страница успешной оплаты).\n",
        "\n",
        "Большинство пользователей не воспользовались Tutorial (руководством). Это событие из цепочки событий можно исключить."
      ]
    },
    {
      "cell_type": "code",
      "execution_count": null,
      "metadata": {
        "id": "4_yxw7vsPaL4"
      },
      "outputs": [],
      "source": [
        "#event_users = event_users[event_users['event'] != 'Tutorial']"
      ]
    },
    {
      "cell_type": "markdown",
      "metadata": {
        "id": "LPw-QUSBm17q"
      },
      "source": [
        "По воронке событий посчитаем, какая доля пользователей проходит на следующий шаг воронки (от числа пользователей на предыдущем).\n"
      ]
    },
    {
      "cell_type": "code",
      "execution_count": null,
      "metadata": {
        "colab": {
          "base_uri": "https://localhost:8080/",
          "height": 206
        },
        "id": "GdCrKvxRdbjn",
        "outputId": "92007da6-1c2e-4487-c9fb-d6a5279c4f70"
      },
      "outputs": [
        {
          "data": {
            "text/html": [
              "<div>\n",
              "<style scoped>\n",
              "    .dataframe tbody tr th:only-of-type {\n",
              "        vertical-align: middle;\n",
              "    }\n",
              "\n",
              "    .dataframe tbody tr th {\n",
              "        vertical-align: top;\n",
              "    }\n",
              "\n",
              "    .dataframe thead th {\n",
              "        text-align: right;\n",
              "    }\n",
              "</style>\n",
              "<table border=\"1\" class=\"dataframe\">\n",
              "  <thead>\n",
              "    <tr style=\"text-align: right;\">\n",
              "      <th></th>\n",
              "      <th>index</th>\n",
              "      <th>event</th>\n",
              "      <th>events_count</th>\n",
              "      <th>users_unique</th>\n",
              "      <th>users_per</th>\n",
              "      <th>conv_per</th>\n",
              "    </tr>\n",
              "  </thead>\n",
              "  <tbody>\n",
              "    <tr>\n",
              "      <th>0</th>\n",
              "      <td>1</td>\n",
              "      <td>MainScreenAppear</td>\n",
              "      <td>117328</td>\n",
              "      <td>7419</td>\n",
              "      <td>98.47</td>\n",
              "      <td>100.00</td>\n",
              "    </tr>\n",
              "    <tr>\n",
              "      <th>1</th>\n",
              "      <td>2</td>\n",
              "      <td>OffersScreenAppear</td>\n",
              "      <td>46333</td>\n",
              "      <td>4593</td>\n",
              "      <td>60.96</td>\n",
              "      <td>61.91</td>\n",
              "    </tr>\n",
              "    <tr>\n",
              "      <th>2</th>\n",
              "      <td>0</td>\n",
              "      <td>CartScreenAppear</td>\n",
              "      <td>42303</td>\n",
              "      <td>3734</td>\n",
              "      <td>49.56</td>\n",
              "      <td>81.30</td>\n",
              "    </tr>\n",
              "    <tr>\n",
              "      <th>3</th>\n",
              "      <td>3</td>\n",
              "      <td>PaymentScreenSuccessful</td>\n",
              "      <td>33918</td>\n",
              "      <td>3539</td>\n",
              "      <td>46.97</td>\n",
              "      <td>94.77</td>\n",
              "    </tr>\n",
              "    <tr>\n",
              "      <th>4</th>\n",
              "      <td>4</td>\n",
              "      <td>Tutorial</td>\n",
              "      <td>1005</td>\n",
              "      <td>840</td>\n",
              "      <td>11.15</td>\n",
              "      <td>23.74</td>\n",
              "    </tr>\n",
              "  </tbody>\n",
              "</table>\n",
              "</div>"
            ],
            "text/plain": [
              "   index                    event  events_count  users_unique  users_per  \\\n",
              "0      1         MainScreenAppear        117328          7419      98.47   \n",
              "1      2       OffersScreenAppear         46333          4593      60.96   \n",
              "2      0         CartScreenAppear         42303          3734      49.56   \n",
              "3      3  PaymentScreenSuccessful         33918          3539      46.97   \n",
              "4      4                 Tutorial          1005           840      11.15   \n",
              "\n",
              "   conv_per  \n",
              "0    100.00  \n",
              "1     61.91  \n",
              "2     81.30  \n",
              "3     94.77  \n",
              "4     23.74  "
            ]
          },
          "metadata": {},
          "output_type": "display_data"
        }
      ],
      "source": [
        "event_users['conv_per'] = round((event_users['users_per'] / event_users['users_per'].shift(1,fill_value = event_users['users_per'].max())) * 100, 2)\n",
        "display(event_users)"
      ]
    },
    {
      "cell_type": "code",
      "execution_count": null,
      "metadata": {
        "colab": {
          "base_uri": "https://localhost:8080/",
          "height": 206
        },
        "id": "vt6EfmthtkF_",
        "outputId": "43d7145d-ece9-4bab-a1a1-166d0c6e4eb8"
      },
      "outputs": [
        {
          "data": {
            "text/html": [
              "<div>\n",
              "<style scoped>\n",
              "    .dataframe tbody tr th:only-of-type {\n",
              "        vertical-align: middle;\n",
              "    }\n",
              "\n",
              "    .dataframe tbody tr th {\n",
              "        vertical-align: top;\n",
              "    }\n",
              "\n",
              "    .dataframe thead th {\n",
              "        text-align: right;\n",
              "    }\n",
              "</style>\n",
              "<table border=\"1\" class=\"dataframe\">\n",
              "  <thead>\n",
              "    <tr style=\"text-align: right;\">\n",
              "      <th></th>\n",
              "      <th>index</th>\n",
              "      <th>event</th>\n",
              "      <th>events_count</th>\n",
              "      <th>users_unique</th>\n",
              "      <th>users_per</th>\n",
              "      <th>conv_per</th>\n",
              "      <th>conv_per_del</th>\n",
              "    </tr>\n",
              "  </thead>\n",
              "  <tbody>\n",
              "    <tr>\n",
              "      <th>0</th>\n",
              "      <td>1</td>\n",
              "      <td>MainScreenAppear</td>\n",
              "      <td>117328</td>\n",
              "      <td>7419</td>\n",
              "      <td>98.47</td>\n",
              "      <td>100.00</td>\n",
              "      <td>0.00</td>\n",
              "    </tr>\n",
              "    <tr>\n",
              "      <th>1</th>\n",
              "      <td>2</td>\n",
              "      <td>OffersScreenAppear</td>\n",
              "      <td>46333</td>\n",
              "      <td>4593</td>\n",
              "      <td>60.96</td>\n",
              "      <td>61.91</td>\n",
              "      <td>-38.09</td>\n",
              "    </tr>\n",
              "    <tr>\n",
              "      <th>2</th>\n",
              "      <td>0</td>\n",
              "      <td>CartScreenAppear</td>\n",
              "      <td>42303</td>\n",
              "      <td>3734</td>\n",
              "      <td>49.56</td>\n",
              "      <td>81.30</td>\n",
              "      <td>19.39</td>\n",
              "    </tr>\n",
              "    <tr>\n",
              "      <th>3</th>\n",
              "      <td>3</td>\n",
              "      <td>PaymentScreenSuccessful</td>\n",
              "      <td>33918</td>\n",
              "      <td>3539</td>\n",
              "      <td>46.97</td>\n",
              "      <td>94.77</td>\n",
              "      <td>13.47</td>\n",
              "    </tr>\n",
              "    <tr>\n",
              "      <th>4</th>\n",
              "      <td>4</td>\n",
              "      <td>Tutorial</td>\n",
              "      <td>1005</td>\n",
              "      <td>840</td>\n",
              "      <td>11.15</td>\n",
              "      <td>23.74</td>\n",
              "      <td>-71.03</td>\n",
              "    </tr>\n",
              "  </tbody>\n",
              "</table>\n",
              "</div>"
            ],
            "text/plain": [
              "   index                    event  events_count  users_unique  users_per  \\\n",
              "0      1         MainScreenAppear        117328          7419      98.47   \n",
              "1      2       OffersScreenAppear         46333          4593      60.96   \n",
              "2      0         CartScreenAppear         42303          3734      49.56   \n",
              "3      3  PaymentScreenSuccessful         33918          3539      46.97   \n",
              "4      4                 Tutorial          1005           840      11.15   \n",
              "\n",
              "   conv_per  conv_per_del  \n",
              "0    100.00          0.00  \n",
              "1     61.91        -38.09  \n",
              "2     81.30         19.39  \n",
              "3     94.77         13.47  \n",
              "4     23.74        -71.03  "
            ]
          },
          "metadata": {},
          "output_type": "display_data"
        }
      ],
      "source": [
        "# в столбце 'conv_per_del' посчитаем разницу в потере пользователей между шагами воронки\n",
        "event_users['conv_per_del'] = (event_users['conv_per'] - event_users['conv_per'].shift(1,fill_value = event_users['conv_per'].max()))\n",
        "display(event_users)"
      ]
    },
    {
      "cell_type": "code",
      "execution_count": null,
      "metadata": {
        "colab": {
          "base_uri": "https://localhost:8080/"
        },
        "id": "bm_FLXyUnN_g",
        "outputId": "1fc5fc4b-fd09-4543-e544-b186f919906c"
      },
      "outputs": [
        {
          "name": "stdout",
          "output_type": "stream",
          "text": [
            "Доля пользователей доходит от первого события до оплаты: 47.7 %\n"
          ]
        }
      ],
      "source": [
        "print('Доля пользователей доходит от первого события до оплаты:', \\\n",
        "      round(event_users[event_users['event'] == 'PaymentScreenSuccessful']['users_unique'][3] / \\\n",
        "            event_users[event_users['event'] == 'MainScreenAppear']['users_unique'][0] * 100, 2),'%')"
      ]
    },
    {
      "cell_type": "markdown",
      "metadata": {
        "id": "Dcf_CEbszusq"
      },
      "source": [
        "### Вывод\n",
        "*   в результате изучения воронки определили порядок возникновения событий воронки и выпадающее событие 'Tutorial'\n",
        "*   47.7% проходят путь от главного экрана до успешнолй оплаты товара\n",
        "*   больше всего пользователей (38%) теряется на шаге перехода от главной страницы до страницы показа товара"
      ]
    },
    {
      "cell_type": "markdown",
      "metadata": {
        "id": "JFlWmF-718zh"
      },
      "source": [
        "## Изучение результатов эксперимента"
      ]
    },
    {
      "cell_type": "code",
      "execution_count": null,
      "metadata": {
        "colab": {
          "base_uri": "https://localhost:8080/",
          "height": 143
        },
        "id": "hHGlDFex2bHr",
        "outputId": "f32b663f-0672-4668-fa98-18dfaa101fb3"
      },
      "outputs": [
        {
          "data": {
            "text/html": [
              "<div>\n",
              "<style scoped>\n",
              "    .dataframe tbody tr th:only-of-type {\n",
              "        vertical-align: middle;\n",
              "    }\n",
              "\n",
              "    .dataframe tbody tr th {\n",
              "        vertical-align: top;\n",
              "    }\n",
              "\n",
              "    .dataframe thead th {\n",
              "        text-align: right;\n",
              "    }\n",
              "</style>\n",
              "<table border=\"1\" class=\"dataframe\">\n",
              "  <thead>\n",
              "    <tr style=\"text-align: right;\">\n",
              "      <th></th>\n",
              "      <th>group_id</th>\n",
              "      <th>unique_users_amount</th>\n",
              "    </tr>\n",
              "  </thead>\n",
              "  <tbody>\n",
              "    <tr>\n",
              "      <th>0</th>\n",
              "      <td>246</td>\n",
              "      <td>2484</td>\n",
              "    </tr>\n",
              "    <tr>\n",
              "      <th>1</th>\n",
              "      <td>247</td>\n",
              "      <td>2513</td>\n",
              "    </tr>\n",
              "    <tr>\n",
              "      <th>2</th>\n",
              "      <td>248</td>\n",
              "      <td>2537</td>\n",
              "    </tr>\n",
              "  </tbody>\n",
              "</table>\n",
              "</div>"
            ],
            "text/plain": [
              "   group_id  unique_users_amount\n",
              "0       246                 2484\n",
              "1       247                 2513\n",
              "2       248                 2537"
            ]
          },
          "execution_count": 18,
          "metadata": {},
          "output_type": "execute_result"
        }
      ],
      "source": [
        "# количество пользователей в каждой экспериментальной группе\n",
        "users_by_groups = df_exp.pivot_table(index=['exp_id'], values='device_id', aggfunc={'nunique'}).reset_index()\n",
        "users_by_groups.columns = ['group_id', 'unique_users_amount']\n",
        "users_by_groups"
      ]
    },
    {
      "cell_type": "markdown",
      "metadata": {
        "id": "PTH8IHPLMoFp"
      },
      "source": [
        "<div class=\"alert alert-block alert-info\">\n",
        "    \n",
        "Добавил проверку ниже.\n",
        "    \n",
        "</div>"
      ]
    },
    {
      "cell_type": "code",
      "execution_count": null,
      "metadata": {
        "id": "AQIEPKF3MoFp",
        "outputId": "b28fc738-9393-48d6-a39a-657472c37b20"
      },
      "outputs": [
        {
          "name": "stdout",
          "output_type": "stream",
          "text": [
            "Количество пользователей входящие более чем в одну группу: 0\n"
          ]
        }
      ],
      "source": [
        "# проверка на принадлежность пользователя только к одной группе\n",
        "uniq_user_group = df_exp.groupby('device_id').agg({'exp_id':'nunique'})\n",
        "print('Количество пользователей входящие более чем в одну группу:',\\\n",
        "      uniq_user_group[uniq_user_group['exp_id'] > 1]['exp_id'].count())"
      ]
    },
    {
      "cell_type": "markdown",
      "metadata": {
        "id": "6dq8hyND8Xr4"
      },
      "source": [
        "### Статистическая значимость между контрольными группами A/A"
      ]
    },
    {
      "cell_type": "code",
      "execution_count": null,
      "metadata": {
        "colab": {
          "base_uri": "https://localhost:8080/",
          "height": 206
        },
        "id": "AeY25KJKuIrD",
        "outputId": "a77485c4-a0b5-4163-d3fc-b6623364d95d"
      },
      "outputs": [
        {
          "data": {
            "text/html": [
              "<div>\n",
              "<style scoped>\n",
              "    .dataframe tbody tr th:only-of-type {\n",
              "        vertical-align: middle;\n",
              "    }\n",
              "\n",
              "    .dataframe tbody tr th {\n",
              "        vertical-align: top;\n",
              "    }\n",
              "\n",
              "    .dataframe thead th {\n",
              "        text-align: right;\n",
              "    }\n",
              "</style>\n",
              "<table border=\"1\" class=\"dataframe\">\n",
              "  <thead>\n",
              "    <tr style=\"text-align: right;\">\n",
              "      <th></th>\n",
              "      <th>index</th>\n",
              "      <th>event_name</th>\n",
              "      <th>246</th>\n",
              "      <th>247</th>\n",
              "      <th>248</th>\n",
              "    </tr>\n",
              "  </thead>\n",
              "  <tbody>\n",
              "    <tr>\n",
              "      <th>0</th>\n",
              "      <td>1</td>\n",
              "      <td>MainScreenAppear</td>\n",
              "      <td>2450</td>\n",
              "      <td>2476</td>\n",
              "      <td>2493</td>\n",
              "    </tr>\n",
              "    <tr>\n",
              "      <th>1</th>\n",
              "      <td>2</td>\n",
              "      <td>OffersScreenAppear</td>\n",
              "      <td>1542</td>\n",
              "      <td>1520</td>\n",
              "      <td>1531</td>\n",
              "    </tr>\n",
              "    <tr>\n",
              "      <th>2</th>\n",
              "      <td>0</td>\n",
              "      <td>CartScreenAppear</td>\n",
              "      <td>1266</td>\n",
              "      <td>1238</td>\n",
              "      <td>1230</td>\n",
              "    </tr>\n",
              "    <tr>\n",
              "      <th>3</th>\n",
              "      <td>3</td>\n",
              "      <td>PaymentScreenSuccessful</td>\n",
              "      <td>1200</td>\n",
              "      <td>1158</td>\n",
              "      <td>1181</td>\n",
              "    </tr>\n",
              "    <tr>\n",
              "      <th>4</th>\n",
              "      <td>4</td>\n",
              "      <td>Tutorial</td>\n",
              "      <td>278</td>\n",
              "      <td>283</td>\n",
              "      <td>279</td>\n",
              "    </tr>\n",
              "  </tbody>\n",
              "</table>\n",
              "</div>"
            ],
            "text/plain": [
              "   index               event_name   246   247   248\n",
              "0      1         MainScreenAppear  2450  2476  2493\n",
              "1      2       OffersScreenAppear  1542  1520  1531\n",
              "2      0         CartScreenAppear  1266  1238  1230\n",
              "3      3  PaymentScreenSuccessful  1200  1158  1181\n",
              "4      4                 Tutorial   278   283   279"
            ]
          },
          "metadata": {},
          "output_type": "display_data"
        }
      ],
      "source": [
        "# посчитаем число пользователей, совершивших событие в каждой из контрольных групп\n",
        "events_groups = df_exp.pivot_table(index=['event_name'], values='device_id', columns='exp_id', aggfunc={'nunique'}).reset_index()\n",
        "# переименуем столбцы\n",
        "events_groups.columns = ['event_name', '246', '247', '248']\n",
        "events_groups = events_groups.sort_values(by='248', ascending=False).reset_index()\n",
        "display(events_groups)"
      ]
    },
    {
      "cell_type": "markdown",
      "metadata": {
        "id": "ROCvQJs48014"
      },
      "source": [
        "Гипотеза:\n",
        "\n",
        "*   H0: статистически значимой разницы между группами 246 и 247 нет.\n",
        "*   H1: существует значительная разница между пропорциями в группах 246 и 247.\n"
      ]
    },
    {
      "cell_type": "markdown",
      "metadata": {
        "id": "hFddT51v-Qgy"
      },
      "source": [
        "При проверке гипотез о равенстве среднего будем применять метод Z-тест (z-критерий Фишера), т.к. будем проводить сравнения двух независимых выборок большого размера. Критический уровень статистической значимости примем равным 5%. Создадим функцию с применением поправки Бонферрони:"
      ]
    },
    {
      "cell_type": "code",
      "execution_count": null,
      "metadata": {
        "id": "fllzc8Yo8ft4"
      },
      "outputs": [],
      "source": [
        "def find_stat_value(group1, group2, event, alpha):\n",
        "    successes1=0\n",
        "    trials1=0\n",
        "\n",
        "    for group in group1:\n",
        "      successes1 += events_groups[events_groups.event_name == event][str(group)].iloc[0]\n",
        "      trials1 += users_by_groups[users_by_groups.group_id == group]['unique_users_amount'].iloc[0]\n",
        "\n",
        "    successes2 = events_groups[events_groups.event_name == event][str(group2)].iloc[0]\n",
        "    trials2 = users_by_groups[users_by_groups.group_id == group2]['unique_users_amount'].iloc[0]\n",
        "\n",
        "    # пропорция успехов в первой группе:\n",
        "    p1 = successes1/trials1\n",
        "    # пропорция успехов во второй группе:\n",
        "    p2 = successes2/trials2\n",
        "    # пропорция успехов в комбинированном датасете:\n",
        "    p_combined = (successes1 + successes2) / (trials1 + trials2)\n",
        "    # разница пропорций в датасетах\n",
        "    difference = p1 - p2\n",
        "    # считаем статистику в ст.отклонениях стандартного нормального распределения\n",
        "    z_value = difference / math.sqrt(p_combined * (1 - p_combined) * (1/trials1 + 1/trials2))\n",
        "    # задаем стандартное нормальное распределение (среднее 0, ст.отклонение 1)\n",
        "    distr = st.norm(0, 1)\n",
        "\n",
        "    # введём переменную для названия группы\n",
        "    group_name = ' + '.join(str(x) for x in group1)\n",
        "\n",
        "    p_value = 1 - distr.cdf(z_value)\n",
        "\n",
        "    print('p-значение =', round(p_value, 4), 'при alpha =', alpha )\n",
        "\n",
        "    # применим поправку Бонферрони для множестенных сравнений в кол-ве 4 штук.\n",
        "    bonferroni_alpha = alpha / 20\n",
        "\n",
        "    if (p_value < bonferroni_alpha):\n",
        "        print(\"Результат:\", \"Нулевая гипотеза отвергнута: между группами\", group_name, \"и\", group2, \"в событии\", event, \"есть значимая разница\")\n",
        "    else:\n",
        "        print(\"Результат:\", \"Нулевая гипотеза не отвергнута: между группами\", group_name, \"и\", group2, \"в событии\", event, \"нет оснований считать пропорции разными\")\n",
        "\n",
        "    print('-' * 50)"
      ]
    },
    {
      "cell_type": "markdown",
      "metadata": {
        "id": "_8-1O4nAnxBT"
      },
      "source": [
        "Передадим функции названия групп в цикле перебора списка событий"
      ]
    },
    {
      "cell_type": "code",
      "execution_count": null,
      "metadata": {
        "colab": {
          "base_uri": "https://localhost:8080/"
        },
        "id": "Vf3Sw7S9Cd1i",
        "outputId": "35a6180d-faaa-43e9-d43e-bfbadae3704c"
      },
      "outputs": [
        {
          "name": "stdout",
          "output_type": "stream",
          "text": [
            "p-значение = 0.3785 при alpha = 0.05\n",
            "Результат: Нулевая гипотеза не отвергнута: между группами 246 и 247 в событии MainScreenAppear нет оснований считать пропорции разными\n",
            "--------------------------------------------------\n",
            "p-значение = 0.124 при alpha = 0.05\n",
            "Результат: Нулевая гипотеза не отвергнута: между группами 246 и 247 в событии OffersScreenAppear нет оснований считать пропорции разными\n",
            "--------------------------------------------------\n",
            "p-значение = 0.1144 при alpha = 0.05\n",
            "Результат: Нулевая гипотеза не отвергнута: между группами 246 и 247 в событии CartScreenAppear нет оснований считать пропорции разными\n",
            "--------------------------------------------------\n",
            "p-значение = 0.0573 при alpha = 0.05\n",
            "Результат: Нулевая гипотеза не отвергнута: между группами 246 и 247 в событии PaymentScreenSuccessful нет оснований считать пропорции разными\n",
            "--------------------------------------------------\n",
            "p-значение = 0.5312 при alpha = 0.05\n",
            "Результат: Нулевая гипотеза не отвергнута: между группами 246 и 247 в событии Tutorial нет оснований считать пропорции разными\n",
            "--------------------------------------------------\n"
          ]
        }
      ],
      "source": [
        "for i in events_groups.event_name.unique():\n",
        "    find_stat_value([246], 247, i, 0.05)"
      ]
    },
    {
      "cell_type": "markdown",
      "metadata": {
        "id": "DF01TWGAnWCu"
      },
      "source": [
        "### Вывод\n",
        "Гипотеза о равенстве пропорций двух контрольных групп для А/А-эксперимента подтвердилась, статистические критерии не нашли разницу между выборками 246 и 247."
      ]
    },
    {
      "cell_type": "markdown",
      "metadata": {
        "id": "yDmQ2YcoXsEN"
      },
      "source": [
        "### Статистическая значимость между контрольными и тестовой группами\n",
        "Проверим гипотезы для группы с изменённым шрифтом. Сравним результаты с каждой из контрольных групп в отдельности и с объединённой контрольной группой"
      ]
    },
    {
      "cell_type": "markdown",
      "metadata": {
        "id": "s6P3ap9dogaB"
      },
      "source": [
        "Гипотеза:\n",
        "\n",
        "*  H0: статистически значимой разницы между группами 246 и 248 нет.\n",
        "*  H1: существует значительная разница между пропорциями в группах 246 и 248."
      ]
    },
    {
      "cell_type": "code",
      "execution_count": null,
      "metadata": {
        "colab": {
          "base_uri": "https://localhost:8080/"
        },
        "id": "wPa7_NCdnVFG",
        "outputId": "2c898719-84c2-449e-b620-51e64b39ba41"
      },
      "outputs": [
        {
          "name": "stdout",
          "output_type": "stream",
          "text": [
            "p-значение = 0.1475 при alpha = 0.05\n",
            "Результат: Нулевая гипотеза не отвергнута: между группами 246 и 248 в событии MainScreenAppear нет оснований считать пропорции разными\n",
            "--------------------------------------------------\n",
            "p-значение = 0.1042 при alpha = 0.05\n",
            "Результат: Нулевая гипотеза не отвергнута: между группами 246 и 248 в событии OffersScreenAppear нет оснований считать пропорции разными\n",
            "--------------------------------------------------\n",
            "p-значение = 0.0392 при alpha = 0.05\n",
            "Результат: Нулевая гипотеза не отвергнута: между группами 246 и 248 в событии CartScreenAppear нет оснований считать пропорции разными\n",
            "--------------------------------------------------\n",
            "p-значение = 0.1061 при alpha = 0.05\n",
            "Результат: Нулевая гипотеза не отвергнута: между группами 246 и 248 в событии PaymentScreenSuccessful нет оснований считать пропорции разными\n",
            "--------------------------------------------------\n",
            "p-значение = 0.4132 при alpha = 0.05\n",
            "Результат: Нулевая гипотеза не отвергнута: между группами 246 и 248 в событии Tutorial нет оснований считать пропорции разными\n",
            "--------------------------------------------------\n"
          ]
        }
      ],
      "source": [
        "for i in events_groups.event_name.unique():\n",
        "    find_stat_value([246], 248, i, 0.05)"
      ]
    },
    {
      "cell_type": "markdown",
      "metadata": {
        "id": "VECn8Q7ouse-"
      },
      "source": [
        "Гипотеза:\n",
        "\n",
        "*  H0: статистически значимой разницы между группами 247 и 248 нет.\n",
        "*  H1: существует значительная разница между пропорциями в группах 247 и 248."
      ]
    },
    {
      "cell_type": "code",
      "execution_count": null,
      "metadata": {
        "colab": {
          "base_uri": "https://localhost:8080/"
        },
        "id": "EZ5q2odIU4Hz",
        "outputId": "9c776246-9560-4a2c-82eb-f90deccb9dcb"
      },
      "outputs": [
        {
          "name": "stdout",
          "output_type": "stream",
          "text": [
            "p-значение = 0.2294 при alpha = 0.05\n",
            "Результат: Нулевая гипотеза не отвергнута: между группами 247 и 248 в событии MainScreenAppear нет оснований считать пропорции разными\n",
            "--------------------------------------------------\n",
            "p-значение = 0.4599 при alpha = 0.05\n",
            "Результат: Нулевая гипотеза не отвергнута: между группами 247 и 248 в событии OffersScreenAppear нет оснований считать пропорции разными\n",
            "--------------------------------------------------\n",
            "p-значение = 0.2893 при alpha = 0.05\n",
            "Результат: Нулевая гипотеза не отвергнута: между группами 247 и 248 в событии CartScreenAppear нет оснований считать пропорции разными\n",
            "--------------------------------------------------\n",
            "p-значение = 0.6313 при alpha = 0.05\n",
            "Результат: Нулевая гипотеза не отвергнута: между группами 247 и 248 в событии PaymentScreenSuccessful нет оснований считать пропорции разными\n",
            "--------------------------------------------------\n",
            "p-значение = 0.3827 при alpha = 0.05\n",
            "Результат: Нулевая гипотеза не отвергнута: между группами 247 и 248 в событии Tutorial нет оснований считать пропорции разными\n",
            "--------------------------------------------------\n"
          ]
        }
      ],
      "source": [
        "for i in events_groups.event_name.unique():\n",
        "    find_stat_value([247], 248, i, 0.05)"
      ]
    },
    {
      "cell_type": "markdown",
      "metadata": {
        "id": "QRHWF_qG0CiB"
      },
      "source": [
        "Гипотеза:\n",
        "*  H0: статистически значимой разницы между объединенными группами 246 + 247 и 248 нет.\n",
        "*  H1: существует значительная разница между пропорциями в объединенной группе  246+247 и 248."
      ]
    },
    {
      "cell_type": "code",
      "execution_count": null,
      "metadata": {
        "colab": {
          "base_uri": "https://localhost:8080/"
        },
        "id": "fpLh3U9ZscxJ",
        "outputId": "5630c59a-4a61-4ec6-95f4-6e09ea9fd919"
      },
      "outputs": [
        {
          "name": "stdout",
          "output_type": "stream",
          "text": [
            "p-значение = 0.1471 при alpha = 0.05\n",
            "Результат: Нулевая гипотеза не отвергнута: между группами 246 + 247 и 248 в событии MainScreenAppear нет оснований считать пропорции разными\n",
            "--------------------------------------------------\n",
            "p-значение = 0.2171 при alpha = 0.05\n",
            "Результат: Нулевая гипотеза не отвергнута: между группами 246 + 247 и 248 в событии OffersScreenAppear нет оснований считать пропорции разными\n",
            "--------------------------------------------------\n",
            "p-значение = 0.0909 при alpha = 0.05\n",
            "Результат: Нулевая гипотеза не отвергнута: между группами 246 + 247 и 248 в событии CartScreenAppear нет оснований считать пропорции разными\n",
            "--------------------------------------------------\n",
            "p-значение = 0.3002 при alpha = 0.05\n",
            "Результат: Нулевая гипотеза не отвергнута: между группами 246 + 247 и 248 в событии PaymentScreenSuccessful нет оснований считать пропорции разными\n",
            "--------------------------------------------------\n",
            "p-значение = 0.3824 при alpha = 0.05\n",
            "Результат: Нулевая гипотеза не отвергнута: между группами 246 + 247 и 248 в событии Tutorial нет оснований считать пропорции разными\n",
            "--------------------------------------------------\n"
          ]
        }
      ],
      "source": [
        "for i in events_groups.event_name.unique():\n",
        "    find_stat_value([246,247], 248, i, 0.05)"
      ]
    },
    {
      "cell_type": "markdown",
      "metadata": {
        "id": "Xv4Z20KVZFsU"
      },
      "source": [
        "### Вывод\n",
        "Гипотеза о равенстве пропорций 2-х групп для А/В-эксперимента подтвердилась, статистические критерии не нашли разницу между выборками групп 246, 247 и экспериментальной 248."
      ]
    },
    {
      "cell_type": "markdown",
      "metadata": {
        "id": "CVDO_iMZaKXA"
      },
      "source": [
        "## Анализ тестовой группы со скорректированным уровнем значимости\n",
        "Проверим гипотезы c увеличенным значением уровня значимости alpha = 0.1. При анализе результатов теста будем иметь ввиду, что при повышении значения alpha увеличивается вероятность ошибки 1-го рода, принять ошибочное предположение, то есть найти различие между группами, там где его на самом деле нет."
      ]
    },
    {
      "cell_type": "code",
      "execution_count": null,
      "metadata": {
        "colab": {
          "base_uri": "https://localhost:8080/"
        },
        "id": "dexKemnUtkk-",
        "outputId": "7f8715cb-214e-4f93-c983-fd8361a04508"
      },
      "outputs": [
        {
          "name": "stdout",
          "output_type": "stream",
          "text": [
            "p-значение = 0.1475 при alpha = 0.1\n",
            "Результат: Нулевая гипотеза не отвергнута: между группами 246 и 248 в событии MainScreenAppear нет оснований считать пропорции разными\n",
            "--------------------------------------------------\n",
            "p-значение = 0.1042 при alpha = 0.1\n",
            "Результат: Нулевая гипотеза не отвергнута: между группами 246 и 248 в событии OffersScreenAppear нет оснований считать пропорции разными\n",
            "--------------------------------------------------\n",
            "p-значение = 0.0392 при alpha = 0.1\n",
            "Результат: Нулевая гипотеза не отвергнута: между группами 246 и 248 в событии CartScreenAppear нет оснований считать пропорции разными\n",
            "--------------------------------------------------\n",
            "p-значение = 0.1061 при alpha = 0.1\n",
            "Результат: Нулевая гипотеза не отвергнута: между группами 246 и 248 в событии PaymentScreenSuccessful нет оснований считать пропорции разными\n",
            "--------------------------------------------------\n",
            "p-значение = 0.4132 при alpha = 0.1\n",
            "Результат: Нулевая гипотеза не отвергнута: между группами 246 и 248 в событии Tutorial нет оснований считать пропорции разными\n",
            "--------------------------------------------------\n"
          ]
        }
      ],
      "source": [
        "for i in events_groups.event_name.unique():\n",
        "    find_stat_value([246], 248, i, 0.1)"
      ]
    },
    {
      "cell_type": "code",
      "execution_count": null,
      "metadata": {
        "colab": {
          "base_uri": "https://localhost:8080/"
        },
        "id": "372K2MOjdKgU",
        "outputId": "15cb9364-ab5c-48de-e0b9-b44b8170c716"
      },
      "outputs": [
        {
          "name": "stdout",
          "output_type": "stream",
          "text": [
            "p-значение = 0.2294 при alpha = 0.1\n",
            "Результат: Нулевая гипотеза не отвергнута: между группами 247 и 248 в событии MainScreenAppear нет оснований считать пропорции разными\n",
            "--------------------------------------------------\n",
            "p-значение = 0.4599 при alpha = 0.1\n",
            "Результат: Нулевая гипотеза не отвергнута: между группами 247 и 248 в событии OffersScreenAppear нет оснований считать пропорции разными\n",
            "--------------------------------------------------\n",
            "p-значение = 0.2893 при alpha = 0.1\n",
            "Результат: Нулевая гипотеза не отвергнута: между группами 247 и 248 в событии CartScreenAppear нет оснований считать пропорции разными\n",
            "--------------------------------------------------\n",
            "p-значение = 0.6313 при alpha = 0.1\n",
            "Результат: Нулевая гипотеза не отвергнута: между группами 247 и 248 в событии PaymentScreenSuccessful нет оснований считать пропорции разными\n",
            "--------------------------------------------------\n",
            "p-значение = 0.3827 при alpha = 0.1\n",
            "Результат: Нулевая гипотеза не отвергнута: между группами 247 и 248 в событии Tutorial нет оснований считать пропорции разными\n",
            "--------------------------------------------------\n"
          ]
        }
      ],
      "source": [
        "for i in events_groups.event_name.unique():\n",
        "    find_stat_value([247], 248, i, 0.1)"
      ]
    },
    {
      "cell_type": "markdown",
      "metadata": {
        "id": "HoNgqlpzdivh"
      },
      "source": [
        "Увеличение alpha не изменило результатов проверки гипотез - разница между группами по прежнему не выявлена."
      ]
    },
    {
      "cell_type": "markdown",
      "metadata": {
        "id": "VMria3ls3sXA"
      },
      "source": [
        "## Общий вывод\n",
        "*  В результате исследования мы изучили набор логов, за период с 25.07.19 по 07.08.19\n",
        "* В результате предобработки данных были удалены 413 дубликатов (около 0.17%),\n",
        "* После изучения данных:\n",
        " * Количество пользователей в логе: 7551\n",
        " * В среднем на одного пользователя приходится 32 события\n",
        " * выявили отсутсвие полных данные в начале периода и скорректировали период: с 01.08.19 по 07.08.19\n",
        "* Определили количество и последовательность событий:\n",
        " * MainScreenAppear - главный экран\n",
        " * OffersScreenAppear - экран предложения товаров\n",
        " * CartScreenAppear - корзина\n",
        " * PaymentScreenSuccessful - страница успешной оплаты\n",
        " * и выпадающее событие 'Tutorial'\n",
        "*  При исследовании воронки событий выяснили, что почти половина первоначальных пользователей проходит весь путь и попадает на страницу успешной оплаты - 47.7% всех пользователей, видящих главную страницу.\n",
        "* Больше всего пользователей (38%) теряется на шаге перехода от главной страницы до страницы показа товара\n",
        "* Чтобы ответить на вопрос об эффективности изменений шрифта в приложении, провели 20 проверок статистических гипотез о равенстве пропорций 2-х контрольных и 1-й экспериментальной групп (с уровнем значимости 0.05) и ни одна из проверок не выявила значимой разницы.\n",
        "\n",
        "* Результаты данного A/A/B-теста показывают, что изменение шрифта во всём приложении на поведение пользователей никак не повлияло."
      ]
    }
  ],
  "metadata": {
    "ExecuteTimeLog": [
      {
        "duration": 1074,
        "start_time": "2023-08-12T18:38:26.904Z"
      },
      {
        "duration": 3,
        "start_time": "2023-08-12T18:38:27.980Z"
      },
      {
        "duration": 150,
        "start_time": "2023-08-12T18:38:27.984Z"
      },
      {
        "duration": 185,
        "start_time": "2023-08-12T18:38:28.135Z"
      },
      {
        "duration": 7,
        "start_time": "2023-08-12T18:38:28.322Z"
      },
      {
        "duration": 70,
        "start_time": "2023-08-12T18:38:28.330Z"
      },
      {
        "duration": 201,
        "start_time": "2023-08-12T18:38:28.402Z"
      },
      {
        "duration": 58,
        "start_time": "2023-08-12T18:38:28.605Z"
      },
      {
        "duration": 983,
        "start_time": "2023-08-12T18:38:28.664Z"
      },
      {
        "duration": 118,
        "start_time": "2023-08-12T18:38:29.649Z"
      },
      {
        "duration": 49,
        "start_time": "2023-08-12T18:38:29.769Z"
      },
      {
        "duration": 20,
        "start_time": "2023-08-12T18:38:29.819Z"
      },
      {
        "duration": 89,
        "start_time": "2023-08-12T18:38:29.841Z"
      },
      {
        "duration": 3,
        "start_time": "2023-08-12T18:38:29.932Z"
      },
      {
        "duration": 19,
        "start_time": "2023-08-12T18:38:29.936Z"
      },
      {
        "duration": 22,
        "start_time": "2023-08-12T18:38:29.957Z"
      },
      {
        "duration": 46,
        "start_time": "2023-08-12T18:38:29.980Z"
      },
      {
        "duration": 87,
        "start_time": "2023-08-12T18:38:30.027Z"
      },
      {
        "duration": 91,
        "start_time": "2023-08-12T18:38:30.115Z"
      },
      {
        "duration": 7,
        "start_time": "2023-08-12T18:38:30.207Z"
      },
      {
        "duration": 73,
        "start_time": "2023-08-12T18:38:30.215Z"
      },
      {
        "duration": 41,
        "start_time": "2023-08-12T18:38:30.290Z"
      },
      {
        "duration": 34,
        "start_time": "2023-08-12T18:38:30.333Z"
      },
      {
        "duration": 46,
        "start_time": "2023-08-12T18:38:30.368Z"
      },
      {
        "duration": 49,
        "start_time": "2023-08-12T18:38:30.416Z"
      },
      {
        "duration": 42,
        "start_time": "2023-08-12T18:38:30.467Z"
      },
      {
        "duration": 50,
        "start_time": "2023-08-12T19:15:36.638Z"
      },
      {
        "duration": 1352,
        "start_time": "2023-08-12T19:15:56.937Z"
      },
      {
        "duration": 2,
        "start_time": "2023-08-12T19:15:58.291Z"
      },
      {
        "duration": 744,
        "start_time": "2023-08-12T19:15:58.295Z"
      },
      {
        "duration": 187,
        "start_time": "2023-08-12T19:15:59.041Z"
      },
      {
        "duration": 6,
        "start_time": "2023-08-12T19:15:59.230Z"
      },
      {
        "duration": 76,
        "start_time": "2023-08-12T19:15:59.238Z"
      },
      {
        "duration": 234,
        "start_time": "2023-08-12T19:15:59.316Z"
      },
      {
        "duration": 73,
        "start_time": "2023-08-12T19:15:59.552Z"
      },
      {
        "duration": 1153,
        "start_time": "2023-08-12T19:15:59.626Z"
      },
      {
        "duration": 140,
        "start_time": "2023-08-12T19:16:00.781Z"
      },
      {
        "duration": 57,
        "start_time": "2023-08-12T19:16:00.923Z"
      },
      {
        "duration": 24,
        "start_time": "2023-08-12T19:16:00.983Z"
      },
      {
        "duration": 92,
        "start_time": "2023-08-12T19:16:01.008Z"
      },
      {
        "duration": 2,
        "start_time": "2023-08-12T19:16:01.102Z"
      },
      {
        "duration": 33,
        "start_time": "2023-08-12T19:16:01.106Z"
      },
      {
        "duration": 53,
        "start_time": "2023-08-12T19:16:01.141Z"
      },
      {
        "duration": 46,
        "start_time": "2023-08-12T19:16:01.196Z"
      },
      {
        "duration": 76,
        "start_time": "2023-08-12T19:16:01.244Z"
      },
      {
        "duration": 77,
        "start_time": "2023-08-12T19:16:01.322Z"
      },
      {
        "duration": 36,
        "start_time": "2023-08-12T19:16:48.486Z"
      },
      {
        "duration": 42,
        "start_time": "2023-08-12T19:22:51.875Z"
      },
      {
        "duration": 44,
        "start_time": "2023-08-12T19:25:10.458Z"
      },
      {
        "duration": 51,
        "start_time": "2023-08-12T19:25:24.050Z"
      },
      {
        "duration": 36,
        "start_time": "2023-08-12T19:26:25.113Z"
      },
      {
        "duration": 1457,
        "start_time": "2023-08-12T19:27:24.561Z"
      },
      {
        "duration": 48,
        "start_time": "2023-08-12T19:28:04.819Z"
      },
      {
        "duration": 45,
        "start_time": "2023-08-12T19:28:32.441Z"
      },
      {
        "duration": 36,
        "start_time": "2023-08-12T19:28:53.958Z"
      },
      {
        "duration": 41,
        "start_time": "2023-08-12T19:29:25.955Z"
      },
      {
        "duration": 97,
        "start_time": "2023-08-12T19:30:06.019Z"
      },
      {
        "duration": 34,
        "start_time": "2023-08-12T19:30:33.636Z"
      },
      {
        "duration": 32,
        "start_time": "2023-08-12T19:31:03.532Z"
      },
      {
        "duration": 1231,
        "start_time": "2023-08-12T19:35:01.659Z"
      },
      {
        "duration": 3,
        "start_time": "2023-08-12T19:35:02.892Z"
      },
      {
        "duration": 218,
        "start_time": "2023-08-12T19:35:02.897Z"
      },
      {
        "duration": 210,
        "start_time": "2023-08-12T19:35:03.117Z"
      },
      {
        "duration": 8,
        "start_time": "2023-08-12T19:35:03.329Z"
      },
      {
        "duration": 104,
        "start_time": "2023-08-12T19:35:03.338Z"
      },
      {
        "duration": 223,
        "start_time": "2023-08-12T19:35:03.444Z"
      },
      {
        "duration": 74,
        "start_time": "2023-08-12T19:35:03.668Z"
      },
      {
        "duration": 1171,
        "start_time": "2023-08-12T19:35:03.744Z"
      },
      {
        "duration": 149,
        "start_time": "2023-08-12T19:35:04.918Z"
      },
      {
        "duration": 55,
        "start_time": "2023-08-12T19:35:05.069Z"
      },
      {
        "duration": 20,
        "start_time": "2023-08-12T19:35:05.126Z"
      },
      {
        "duration": 111,
        "start_time": "2023-08-12T19:35:05.147Z"
      },
      {
        "duration": 3,
        "start_time": "2023-08-12T19:35:05.259Z"
      },
      {
        "duration": 38,
        "start_time": "2023-08-12T19:35:05.263Z"
      },
      {
        "duration": 38,
        "start_time": "2023-08-12T19:35:05.302Z"
      },
      {
        "duration": 21,
        "start_time": "2023-08-12T19:35:05.342Z"
      },
      {
        "duration": 79,
        "start_time": "2023-08-12T19:35:05.365Z"
      },
      {
        "duration": 46,
        "start_time": "2023-08-12T19:35:05.445Z"
      },
      {
        "duration": 104,
        "start_time": "2023-08-12T19:35:05.492Z"
      },
      {
        "duration": 7,
        "start_time": "2023-08-12T19:35:05.598Z"
      },
      {
        "duration": 74,
        "start_time": "2023-08-12T19:35:05.606Z"
      },
      {
        "duration": 28,
        "start_time": "2023-08-12T19:35:05.682Z"
      },
      {
        "duration": 39,
        "start_time": "2023-08-12T19:35:05.712Z"
      },
      {
        "duration": 47,
        "start_time": "2023-08-12T19:35:05.753Z"
      },
      {
        "duration": 30,
        "start_time": "2023-08-12T19:35:05.802Z"
      },
      {
        "duration": 54,
        "start_time": "2023-08-12T19:35:05.834Z"
      },
      {
        "duration": 1058,
        "start_time": "2023-08-13T01:59:40.614Z"
      },
      {
        "duration": 3,
        "start_time": "2023-08-13T01:59:41.674Z"
      },
      {
        "duration": 149,
        "start_time": "2023-08-13T01:59:41.679Z"
      },
      {
        "duration": 196,
        "start_time": "2023-08-13T01:59:41.830Z"
      },
      {
        "duration": 9,
        "start_time": "2023-08-13T01:59:42.028Z"
      },
      {
        "duration": 78,
        "start_time": "2023-08-13T01:59:42.038Z"
      },
      {
        "duration": 208,
        "start_time": "2023-08-13T01:59:42.118Z"
      },
      {
        "duration": 74,
        "start_time": "2023-08-13T01:59:42.327Z"
      },
      {
        "duration": 980,
        "start_time": "2023-08-13T01:59:42.403Z"
      },
      {
        "duration": 123,
        "start_time": "2023-08-13T01:59:43.387Z"
      },
      {
        "duration": 43,
        "start_time": "2023-08-13T01:59:43.512Z"
      },
      {
        "duration": 23,
        "start_time": "2023-08-13T01:59:43.557Z"
      },
      {
        "duration": 73,
        "start_time": "2023-08-13T01:59:43.600Z"
      },
      {
        "duration": 2,
        "start_time": "2023-08-13T01:59:43.675Z"
      },
      {
        "duration": 26,
        "start_time": "2023-08-13T01:59:43.679Z"
      },
      {
        "duration": 11,
        "start_time": "2023-08-13T01:59:43.706Z"
      },
      {
        "duration": 21,
        "start_time": "2023-08-13T01:59:43.719Z"
      },
      {
        "duration": 50,
        "start_time": "2023-08-13T01:59:43.742Z"
      },
      {
        "duration": 37,
        "start_time": "2023-08-13T01:59:43.794Z"
      },
      {
        "duration": 83,
        "start_time": "2023-08-13T01:59:43.832Z"
      },
      {
        "duration": 8,
        "start_time": "2023-08-13T01:59:43.917Z"
      },
      {
        "duration": 33,
        "start_time": "2023-08-13T01:59:43.926Z"
      },
      {
        "duration": 40,
        "start_time": "2023-08-13T01:59:43.961Z"
      },
      {
        "duration": 23,
        "start_time": "2023-08-13T01:59:44.003Z"
      },
      {
        "duration": 51,
        "start_time": "2023-08-13T01:59:44.027Z"
      },
      {
        "duration": 27,
        "start_time": "2023-08-13T01:59:44.079Z"
      },
      {
        "duration": 21,
        "start_time": "2023-08-13T01:59:44.108Z"
      },
      {
        "duration": 1056,
        "start_time": "2023-08-13T02:03:16.355Z"
      },
      {
        "duration": 3,
        "start_time": "2023-08-13T02:03:17.412Z"
      },
      {
        "duration": 164,
        "start_time": "2023-08-13T02:03:17.417Z"
      },
      {
        "duration": 192,
        "start_time": "2023-08-13T02:03:17.583Z"
      },
      {
        "duration": 8,
        "start_time": "2023-08-13T02:03:17.778Z"
      },
      {
        "duration": 98,
        "start_time": "2023-08-13T02:03:17.800Z"
      },
      {
        "duration": 201,
        "start_time": "2023-08-13T02:03:17.899Z"
      },
      {
        "duration": 72,
        "start_time": "2023-08-13T02:03:18.102Z"
      },
      {
        "duration": 982,
        "start_time": "2023-08-13T02:03:18.176Z"
      },
      {
        "duration": 115,
        "start_time": "2023-08-13T02:03:19.160Z"
      },
      {
        "duration": 55,
        "start_time": "2023-08-13T02:03:19.276Z"
      },
      {
        "duration": 21,
        "start_time": "2023-08-13T02:03:19.333Z"
      },
      {
        "duration": 79,
        "start_time": "2023-08-13T02:03:19.356Z"
      },
      {
        "duration": 2,
        "start_time": "2023-08-13T02:03:19.437Z"
      },
      {
        "duration": 24,
        "start_time": "2023-08-13T02:03:19.440Z"
      },
      {
        "duration": 23,
        "start_time": "2023-08-13T02:03:19.465Z"
      },
      {
        "duration": 8,
        "start_time": "2023-08-13T02:03:19.490Z"
      },
      {
        "duration": 46,
        "start_time": "2023-08-13T02:03:19.499Z"
      },
      {
        "duration": 33,
        "start_time": "2023-08-13T02:03:19.547Z"
      },
      {
        "duration": 81,
        "start_time": "2023-08-13T02:03:19.582Z"
      },
      {
        "duration": 6,
        "start_time": "2023-08-13T02:03:19.665Z"
      },
      {
        "duration": 43,
        "start_time": "2023-08-13T02:03:19.672Z"
      },
      {
        "duration": 23,
        "start_time": "2023-08-13T02:03:19.717Z"
      },
      {
        "duration": 25,
        "start_time": "2023-08-13T02:03:19.742Z"
      },
      {
        "duration": 60,
        "start_time": "2023-08-13T02:03:19.768Z"
      },
      {
        "duration": 22,
        "start_time": "2023-08-13T02:03:19.829Z"
      },
      {
        "duration": 48,
        "start_time": "2023-08-13T02:03:19.853Z"
      }
    ],
    "colab": {
      "provenance": []
    },
    "kernelspec": {
      "display_name": "Python 3 (ipykernel)",
      "language": "python",
      "name": "python3"
    },
    "language_info": {
      "codemirror_mode": {
        "name": "ipython",
        "version": 3
      },
      "file_extension": ".py",
      "mimetype": "text/x-python",
      "name": "python",
      "nbconvert_exporter": "python",
      "pygments_lexer": "ipython3",
      "version": "3.9.5"
    },
    "toc": {
      "base_numbering": 1,
      "nav_menu": {},
      "number_sections": true,
      "sideBar": true,
      "skip_h1_title": true,
      "title_cell": "Table of Contents",
      "title_sidebar": "Contents",
      "toc_cell": false,
      "toc_position": {},
      "toc_section_display": true,
      "toc_window_display": false
    }
  },
  "nbformat": 4,
  "nbformat_minor": 0
}